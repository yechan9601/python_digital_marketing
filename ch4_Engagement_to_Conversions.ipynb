{
  "nbformat": 4,
  "nbformat_minor": 0,
  "metadata": {
    "colab": {
      "provenance": [],
      "toc_visible": true,
      "authorship_tag": "ABX9TyNfhpL/Bh7Y85WMEgFI7J3r",
      "include_colab_link": true
    },
    "kernelspec": {
      "name": "python3",
      "display_name": "Python 3"
    },
    "language_info": {
      "name": "python"
    }
  },
  "cells": [
    {
      "cell_type": "markdown",
      "metadata": {
        "id": "view-in-github",
        "colab_type": "text"
      },
      "source": [
        "<a href=\"https://colab.research.google.com/github/yechan9601/python_digital_marketing/blob/main/ch4_Engagement_to_Conversions.ipynb\" target=\"_parent\"><img src=\"https://colab.research.google.com/assets/colab-badge.svg\" alt=\"Open In Colab\"/></a>"
      ]
    },
    {
      "cell_type": "markdown",
      "source": [
        "21801073 / JooYechan\n",
        "\n",
        "hands-on data science for marketing, ch4, p114"
      ],
      "metadata": {
        "id": "Rmb0jNxaY1zg"
      }
    },
    {
      "cell_type": "code",
      "source": [
        "from google.colab import drive\n",
        "drive.mount('/gdrive', force_remount=True)  # 구글드라이브 연동"
      ],
      "metadata": {
        "colab": {
          "base_uri": "https://localhost:8080/"
        },
        "id": "T-6ZLCAFb4QY",
        "outputId": "5e1361f3-b936-42fc-e29a-9248e78467c4"
      },
      "execution_count": null,
      "outputs": [
        {
          "output_type": "stream",
          "name": "stdout",
          "text": [
            "Mounted at /gdrive\n"
          ]
        }
      ]
    },
    {
      "cell_type": "code",
      "source": [
        "from google.colab import files\n",
        "uploaded = files.upload() # csv 파일 업로드"
      ],
      "metadata": {
        "colab": {
          "base_uri": "https://localhost:8080/",
          "height": 74
        },
        "id": "RsUGhDd0cnFy",
        "outputId": "f38230c6-789e-4d8d-a207-5908039fb699"
      },
      "execution_count": null,
      "outputs": [
        {
          "output_type": "display_data",
          "data": {
            "text/plain": [
              "<IPython.core.display.HTML object>"
            ],
            "text/html": [
              "\n",
              "     <input type=\"file\" id=\"files-43401ca4-f589-46b7-862b-3d7abdbe76b2\" name=\"files[]\" multiple disabled\n",
              "        style=\"border:none\" />\n",
              "     <output id=\"result-43401ca4-f589-46b7-862b-3d7abdbe76b2\">\n",
              "      Upload widget is only available when the cell has been executed in the\n",
              "      current browser session. Please rerun this cell to enable.\n",
              "      </output>\n",
              "      <script>// Copyright 2017 Google LLC\n",
              "//\n",
              "// Licensed under the Apache License, Version 2.0 (the \"License\");\n",
              "// you may not use this file except in compliance with the License.\n",
              "// You may obtain a copy of the License at\n",
              "//\n",
              "//      http://www.apache.org/licenses/LICENSE-2.0\n",
              "//\n",
              "// Unless required by applicable law or agreed to in writing, software\n",
              "// distributed under the License is distributed on an \"AS IS\" BASIS,\n",
              "// WITHOUT WARRANTIES OR CONDITIONS OF ANY KIND, either express or implied.\n",
              "// See the License for the specific language governing permissions and\n",
              "// limitations under the License.\n",
              "\n",
              "/**\n",
              " * @fileoverview Helpers for google.colab Python module.\n",
              " */\n",
              "(function(scope) {\n",
              "function span(text, styleAttributes = {}) {\n",
              "  const element = document.createElement('span');\n",
              "  element.textContent = text;\n",
              "  for (const key of Object.keys(styleAttributes)) {\n",
              "    element.style[key] = styleAttributes[key];\n",
              "  }\n",
              "  return element;\n",
              "}\n",
              "\n",
              "// Max number of bytes which will be uploaded at a time.\n",
              "const MAX_PAYLOAD_SIZE = 100 * 1024;\n",
              "\n",
              "function _uploadFiles(inputId, outputId) {\n",
              "  const steps = uploadFilesStep(inputId, outputId);\n",
              "  const outputElement = document.getElementById(outputId);\n",
              "  // Cache steps on the outputElement to make it available for the next call\n",
              "  // to uploadFilesContinue from Python.\n",
              "  outputElement.steps = steps;\n",
              "\n",
              "  return _uploadFilesContinue(outputId);\n",
              "}\n",
              "\n",
              "// This is roughly an async generator (not supported in the browser yet),\n",
              "// where there are multiple asynchronous steps and the Python side is going\n",
              "// to poll for completion of each step.\n",
              "// This uses a Promise to block the python side on completion of each step,\n",
              "// then passes the result of the previous step as the input to the next step.\n",
              "function _uploadFilesContinue(outputId) {\n",
              "  const outputElement = document.getElementById(outputId);\n",
              "  const steps = outputElement.steps;\n",
              "\n",
              "  const next = steps.next(outputElement.lastPromiseValue);\n",
              "  return Promise.resolve(next.value.promise).then((value) => {\n",
              "    // Cache the last promise value to make it available to the next\n",
              "    // step of the generator.\n",
              "    outputElement.lastPromiseValue = value;\n",
              "    return next.value.response;\n",
              "  });\n",
              "}\n",
              "\n",
              "/**\n",
              " * Generator function which is called between each async step of the upload\n",
              " * process.\n",
              " * @param {string} inputId Element ID of the input file picker element.\n",
              " * @param {string} outputId Element ID of the output display.\n",
              " * @return {!Iterable<!Object>} Iterable of next steps.\n",
              " */\n",
              "function* uploadFilesStep(inputId, outputId) {\n",
              "  const inputElement = document.getElementById(inputId);\n",
              "  inputElement.disabled = false;\n",
              "\n",
              "  const outputElement = document.getElementById(outputId);\n",
              "  outputElement.innerHTML = '';\n",
              "\n",
              "  const pickedPromise = new Promise((resolve) => {\n",
              "    inputElement.addEventListener('change', (e) => {\n",
              "      resolve(e.target.files);\n",
              "    });\n",
              "  });\n",
              "\n",
              "  const cancel = document.createElement('button');\n",
              "  inputElement.parentElement.appendChild(cancel);\n",
              "  cancel.textContent = 'Cancel upload';\n",
              "  const cancelPromise = new Promise((resolve) => {\n",
              "    cancel.onclick = () => {\n",
              "      resolve(null);\n",
              "    };\n",
              "  });\n",
              "\n",
              "  // Wait for the user to pick the files.\n",
              "  const files = yield {\n",
              "    promise: Promise.race([pickedPromise, cancelPromise]),\n",
              "    response: {\n",
              "      action: 'starting',\n",
              "    }\n",
              "  };\n",
              "\n",
              "  cancel.remove();\n",
              "\n",
              "  // Disable the input element since further picks are not allowed.\n",
              "  inputElement.disabled = true;\n",
              "\n",
              "  if (!files) {\n",
              "    return {\n",
              "      response: {\n",
              "        action: 'complete',\n",
              "      }\n",
              "    };\n",
              "  }\n",
              "\n",
              "  for (const file of files) {\n",
              "    const li = document.createElement('li');\n",
              "    li.append(span(file.name, {fontWeight: 'bold'}));\n",
              "    li.append(span(\n",
              "        `(${file.type || 'n/a'}) - ${file.size} bytes, ` +\n",
              "        `last modified: ${\n",
              "            file.lastModifiedDate ? file.lastModifiedDate.toLocaleDateString() :\n",
              "                                    'n/a'} - `));\n",
              "    const percent = span('0% done');\n",
              "    li.appendChild(percent);\n",
              "\n",
              "    outputElement.appendChild(li);\n",
              "\n",
              "    const fileDataPromise = new Promise((resolve) => {\n",
              "      const reader = new FileReader();\n",
              "      reader.onload = (e) => {\n",
              "        resolve(e.target.result);\n",
              "      };\n",
              "      reader.readAsArrayBuffer(file);\n",
              "    });\n",
              "    // Wait for the data to be ready.\n",
              "    let fileData = yield {\n",
              "      promise: fileDataPromise,\n",
              "      response: {\n",
              "        action: 'continue',\n",
              "      }\n",
              "    };\n",
              "\n",
              "    // Use a chunked sending to avoid message size limits. See b/62115660.\n",
              "    let position = 0;\n",
              "    do {\n",
              "      const length = Math.min(fileData.byteLength - position, MAX_PAYLOAD_SIZE);\n",
              "      const chunk = new Uint8Array(fileData, position, length);\n",
              "      position += length;\n",
              "\n",
              "      const base64 = btoa(String.fromCharCode.apply(null, chunk));\n",
              "      yield {\n",
              "        response: {\n",
              "          action: 'append',\n",
              "          file: file.name,\n",
              "          data: base64,\n",
              "        },\n",
              "      };\n",
              "\n",
              "      let percentDone = fileData.byteLength === 0 ?\n",
              "          100 :\n",
              "          Math.round((position / fileData.byteLength) * 100);\n",
              "      percent.textContent = `${percentDone}% done`;\n",
              "\n",
              "    } while (position < fileData.byteLength);\n",
              "  }\n",
              "\n",
              "  // All done.\n",
              "  yield {\n",
              "    response: {\n",
              "      action: 'complete',\n",
              "    }\n",
              "  };\n",
              "}\n",
              "\n",
              "scope.google = scope.google || {};\n",
              "scope.google.colab = scope.google.colab || {};\n",
              "scope.google.colab._files = {\n",
              "  _uploadFiles,\n",
              "  _uploadFilesContinue,\n",
              "};\n",
              "})(self);\n",
              "</script> "
            ]
          },
          "metadata": {}
        },
        {
          "output_type": "stream",
          "name": "stdout",
          "text": [
            "Saving bank-full.csv to bank-full.csv\n"
          ]
        }
      ]
    },
    {
      "cell_type": "code",
      "source": [
        "%matplotlib inline"
      ],
      "metadata": {
        "id": "jpTaCauNY8Yf"
      },
      "execution_count": null,
      "outputs": []
    },
    {
      "cell_type": "code",
      "source": [
        "import matplotlib.pyplot as plt\n",
        "import pandas as pd"
      ],
      "metadata": {
        "id": "r-fcNWdSY_uB"
      },
      "execution_count": null,
      "outputs": []
    },
    {
      "cell_type": "markdown",
      "source": [
        "# 1. Loading Data\n",
        "\n",
        "https://archive.ics.uci.edu/ml/datasets/Bank+marketing"
      ],
      "metadata": {
        "id": "DJ7osrVDZD__"
      }
    },
    {
      "cell_type": "markdown",
      "source": [
        "\n",
        "\n",
        "[링크 텍스트](https://archive.ics.uci.edu/ml/datasets/Bank+marketing)\n"
      ],
      "metadata": {
        "id": "wZzuKzvhZRdR"
      }
    },
    {
      "cell_type": "code",
      "source": [
        "df = pd.read_csv('bank-full.csv', sep=\";\")"
      ],
      "metadata": {
        "id": "iv86I_A5ZYpV"
      },
      "execution_count": null,
      "outputs": []
    },
    {
      "cell_type": "markdown",
      "source": [
        "Attribute Information:\n",
        "\n",
        "Input variables:\n",
        "# bank client data:\n",
        "1 - age (numeric)\n",
        "2 - job : type of job (categorical: 'admin.','blue-collar','entrepreneur','housemaid','management','retired','self-employed','services','student','technician','unemployed','unknown')\n",
        "3 - marital : marital status (categorical: 'divorced','married','single','unknown'; note: 'divorced' means divorced or widowed)\n",
        "4 - education (categorical: 'basic.4y','basic.6y','basic.9y','high.school','illiterate','professional.course','university.degree','unknown')\n",
        "5 - default: has credit in default? (categorical: 'no','yes','unknown')\n",
        "6 - housing: has housing loan? (categorical: 'no','yes','unknown')\n",
        "7 - loan: has personal loan? (categorical: 'no','yes','unknown')\n",
        "# related with the last contact of the current campaign:\n",
        "8 - contact: contact communication type (categorical: 'cellular','telephone') \n",
        "9 - month: last contact month of year (categorical: 'jan', 'feb', 'mar', ..., 'nov', 'dec')\n",
        "10 - day_of_week: last contact day of the week (categorical: 'mon','tue','wed','thu','fri')\n",
        "11 - duration: last contact duration, in seconds (numeric). Important note: this attribute highly affects the output target (e.g., if duration=0 then y='no'). Yet, the duration is not known before a call is performed. Also, after the end of the call y is obviously known. Thus, this input should only be included for benchmark purposes and should be discarded if the intention is to have a realistic predictive model.\n",
        "# other attributes:\n",
        "12 - campaign: number of contacts performed during this campaign and for this client (numeric, includes last contact)\n",
        "13 - pdays: number of days that passed by after the client was last contacted from a previous campaign (numeric; 999 means client was not previously contacted)\n",
        "14 - previous: number of contacts performed before this campaign and for this client (numeric)\n",
        "15 - poutcome: outcome of the previous marketing campaign (categorical: 'failure','nonexistent','success')\n",
        "# social and economic context attributes\n",
        "16 - emp.var.rate: employment variation rate - quarterly indicator (numeric)\n",
        "17 - cons.price.idx: consumer price index - monthly indicator (numeric) \n",
        "18 - cons.conf.idx: consumer confidence index - monthly indicator (numeric) \n",
        "19 - euribor3m: euribor 3 month rate - daily indicator (numeric)\n",
        "20 - nr.employed: number of employees - quarterly indicator (numeric)\n",
        "\n",
        "Output variable (desired target):\n",
        "21 - y - has the client subscribed a term deposit? (binary: 'yes','no')"
      ],
      "metadata": {
        "id": "kW7ZGje3e-IO"
      }
    },
    {
      "cell_type": "code",
      "source": [
        "df.shape"
      ],
      "metadata": {
        "colab": {
          "base_uri": "https://localhost:8080/"
        },
        "id": "gU1l_xIaZpmc",
        "outputId": "0f1434fa-a75f-401f-c281-6fd71ea458af"
      },
      "execution_count": null,
      "outputs": [
        {
          "output_type": "execute_result",
          "data": {
            "text/plain": [
              "(45211, 17)"
            ]
          },
          "metadata": {},
          "execution_count": 26
        }
      ]
    },
    {
      "cell_type": "code",
      "source": [
        "df.head()"
      ],
      "metadata": {
        "colab": {
          "base_uri": "https://localhost:8080/",
          "height": 270
        },
        "id": "J86vwFBWZqsl",
        "outputId": "597d0e2b-4c06-410e-faa2-afb85b492eed"
      },
      "execution_count": null,
      "outputs": [
        {
          "output_type": "execute_result",
          "data": {
            "text/plain": [
              "   age           job  marital  education default  balance housing loan  \\\n",
              "0   58    management  married   tertiary      no     2143     yes   no   \n",
              "1   44    technician   single  secondary      no       29     yes   no   \n",
              "2   33  entrepreneur  married  secondary      no        2     yes  yes   \n",
              "3   47   blue-collar  married    unknown      no     1506     yes   no   \n",
              "4   33       unknown   single    unknown      no        1      no   no   \n",
              "\n",
              "   contact  day month  duration  campaign  pdays  previous poutcome   y  \n",
              "0  unknown    5   may       261         1     -1         0  unknown  no  \n",
              "1  unknown    5   may       151         1     -1         0  unknown  no  \n",
              "2  unknown    5   may        76         1     -1         0  unknown  no  \n",
              "3  unknown    5   may        92         1     -1         0  unknown  no  \n",
              "4  unknown    5   may       198         1     -1         0  unknown  no  "
            ],
            "text/html": [
              "\n",
              "  <div id=\"df-be7caa4c-e79f-43b1-9ed4-cb061248a02b\">\n",
              "    <div class=\"colab-df-container\">\n",
              "      <div>\n",
              "<style scoped>\n",
              "    .dataframe tbody tr th:only-of-type {\n",
              "        vertical-align: middle;\n",
              "    }\n",
              "\n",
              "    .dataframe tbody tr th {\n",
              "        vertical-align: top;\n",
              "    }\n",
              "\n",
              "    .dataframe thead th {\n",
              "        text-align: right;\n",
              "    }\n",
              "</style>\n",
              "<table border=\"1\" class=\"dataframe\">\n",
              "  <thead>\n",
              "    <tr style=\"text-align: right;\">\n",
              "      <th></th>\n",
              "      <th>age</th>\n",
              "      <th>job</th>\n",
              "      <th>marital</th>\n",
              "      <th>education</th>\n",
              "      <th>default</th>\n",
              "      <th>balance</th>\n",
              "      <th>housing</th>\n",
              "      <th>loan</th>\n",
              "      <th>contact</th>\n",
              "      <th>day</th>\n",
              "      <th>month</th>\n",
              "      <th>duration</th>\n",
              "      <th>campaign</th>\n",
              "      <th>pdays</th>\n",
              "      <th>previous</th>\n",
              "      <th>poutcome</th>\n",
              "      <th>y</th>\n",
              "    </tr>\n",
              "  </thead>\n",
              "  <tbody>\n",
              "    <tr>\n",
              "      <th>0</th>\n",
              "      <td>58</td>\n",
              "      <td>management</td>\n",
              "      <td>married</td>\n",
              "      <td>tertiary</td>\n",
              "      <td>no</td>\n",
              "      <td>2143</td>\n",
              "      <td>yes</td>\n",
              "      <td>no</td>\n",
              "      <td>unknown</td>\n",
              "      <td>5</td>\n",
              "      <td>may</td>\n",
              "      <td>261</td>\n",
              "      <td>1</td>\n",
              "      <td>-1</td>\n",
              "      <td>0</td>\n",
              "      <td>unknown</td>\n",
              "      <td>no</td>\n",
              "    </tr>\n",
              "    <tr>\n",
              "      <th>1</th>\n",
              "      <td>44</td>\n",
              "      <td>technician</td>\n",
              "      <td>single</td>\n",
              "      <td>secondary</td>\n",
              "      <td>no</td>\n",
              "      <td>29</td>\n",
              "      <td>yes</td>\n",
              "      <td>no</td>\n",
              "      <td>unknown</td>\n",
              "      <td>5</td>\n",
              "      <td>may</td>\n",
              "      <td>151</td>\n",
              "      <td>1</td>\n",
              "      <td>-1</td>\n",
              "      <td>0</td>\n",
              "      <td>unknown</td>\n",
              "      <td>no</td>\n",
              "    </tr>\n",
              "    <tr>\n",
              "      <th>2</th>\n",
              "      <td>33</td>\n",
              "      <td>entrepreneur</td>\n",
              "      <td>married</td>\n",
              "      <td>secondary</td>\n",
              "      <td>no</td>\n",
              "      <td>2</td>\n",
              "      <td>yes</td>\n",
              "      <td>yes</td>\n",
              "      <td>unknown</td>\n",
              "      <td>5</td>\n",
              "      <td>may</td>\n",
              "      <td>76</td>\n",
              "      <td>1</td>\n",
              "      <td>-1</td>\n",
              "      <td>0</td>\n",
              "      <td>unknown</td>\n",
              "      <td>no</td>\n",
              "    </tr>\n",
              "    <tr>\n",
              "      <th>3</th>\n",
              "      <td>47</td>\n",
              "      <td>blue-collar</td>\n",
              "      <td>married</td>\n",
              "      <td>unknown</td>\n",
              "      <td>no</td>\n",
              "      <td>1506</td>\n",
              "      <td>yes</td>\n",
              "      <td>no</td>\n",
              "      <td>unknown</td>\n",
              "      <td>5</td>\n",
              "      <td>may</td>\n",
              "      <td>92</td>\n",
              "      <td>1</td>\n",
              "      <td>-1</td>\n",
              "      <td>0</td>\n",
              "      <td>unknown</td>\n",
              "      <td>no</td>\n",
              "    </tr>\n",
              "    <tr>\n",
              "      <th>4</th>\n",
              "      <td>33</td>\n",
              "      <td>unknown</td>\n",
              "      <td>single</td>\n",
              "      <td>unknown</td>\n",
              "      <td>no</td>\n",
              "      <td>1</td>\n",
              "      <td>no</td>\n",
              "      <td>no</td>\n",
              "      <td>unknown</td>\n",
              "      <td>5</td>\n",
              "      <td>may</td>\n",
              "      <td>198</td>\n",
              "      <td>1</td>\n",
              "      <td>-1</td>\n",
              "      <td>0</td>\n",
              "      <td>unknown</td>\n",
              "      <td>no</td>\n",
              "    </tr>\n",
              "  </tbody>\n",
              "</table>\n",
              "</div>\n",
              "      <button class=\"colab-df-convert\" onclick=\"convertToInteractive('df-be7caa4c-e79f-43b1-9ed4-cb061248a02b')\"\n",
              "              title=\"Convert this dataframe to an interactive table.\"\n",
              "              style=\"display:none;\">\n",
              "        \n",
              "  <svg xmlns=\"http://www.w3.org/2000/svg\" height=\"24px\"viewBox=\"0 0 24 24\"\n",
              "       width=\"24px\">\n",
              "    <path d=\"M0 0h24v24H0V0z\" fill=\"none\"/>\n",
              "    <path d=\"M18.56 5.44l.94 2.06.94-2.06 2.06-.94-2.06-.94-.94-2.06-.94 2.06-2.06.94zm-11 1L8.5 8.5l.94-2.06 2.06-.94-2.06-.94L8.5 2.5l-.94 2.06-2.06.94zm10 10l.94 2.06.94-2.06 2.06-.94-2.06-.94-.94-2.06-.94 2.06-2.06.94z\"/><path d=\"M17.41 7.96l-1.37-1.37c-.4-.4-.92-.59-1.43-.59-.52 0-1.04.2-1.43.59L10.3 9.45l-7.72 7.72c-.78.78-.78 2.05 0 2.83L4 21.41c.39.39.9.59 1.41.59.51 0 1.02-.2 1.41-.59l7.78-7.78 2.81-2.81c.8-.78.8-2.07 0-2.86zM5.41 20L4 18.59l7.72-7.72 1.47 1.35L5.41 20z\"/>\n",
              "  </svg>\n",
              "      </button>\n",
              "      \n",
              "  <style>\n",
              "    .colab-df-container {\n",
              "      display:flex;\n",
              "      flex-wrap:wrap;\n",
              "      gap: 12px;\n",
              "    }\n",
              "\n",
              "    .colab-df-convert {\n",
              "      background-color: #E8F0FE;\n",
              "      border: none;\n",
              "      border-radius: 50%;\n",
              "      cursor: pointer;\n",
              "      display: none;\n",
              "      fill: #1967D2;\n",
              "      height: 32px;\n",
              "      padding: 0 0 0 0;\n",
              "      width: 32px;\n",
              "    }\n",
              "\n",
              "    .colab-df-convert:hover {\n",
              "      background-color: #E2EBFA;\n",
              "      box-shadow: 0px 1px 2px rgba(60, 64, 67, 0.3), 0px 1px 3px 1px rgba(60, 64, 67, 0.15);\n",
              "      fill: #174EA6;\n",
              "    }\n",
              "\n",
              "    [theme=dark] .colab-df-convert {\n",
              "      background-color: #3B4455;\n",
              "      fill: #D2E3FC;\n",
              "    }\n",
              "\n",
              "    [theme=dark] .colab-df-convert:hover {\n",
              "      background-color: #434B5C;\n",
              "      box-shadow: 0px 1px 3px 1px rgba(0, 0, 0, 0.15);\n",
              "      filter: drop-shadow(0px 1px 2px rgba(0, 0, 0, 0.3));\n",
              "      fill: #FFFFFF;\n",
              "    }\n",
              "  </style>\n",
              "\n",
              "      <script>\n",
              "        const buttonEl =\n",
              "          document.querySelector('#df-be7caa4c-e79f-43b1-9ed4-cb061248a02b button.colab-df-convert');\n",
              "        buttonEl.style.display =\n",
              "          google.colab.kernel.accessAllowed ? 'block' : 'none';\n",
              "\n",
              "        async function convertToInteractive(key) {\n",
              "          const element = document.querySelector('#df-be7caa4c-e79f-43b1-9ed4-cb061248a02b');\n",
              "          const dataTable =\n",
              "            await google.colab.kernel.invokeFunction('convertToInteractive',\n",
              "                                                     [key], {});\n",
              "          if (!dataTable) return;\n",
              "\n",
              "          const docLinkHtml = 'Like what you see? Visit the ' +\n",
              "            '<a target=\"_blank\" href=https://colab.research.google.com/notebooks/data_table.ipynb>data table notebook</a>'\n",
              "            + ' to learn more about interactive tables.';\n",
              "          element.innerHTML = '';\n",
              "          dataTable['output_type'] = 'display_data';\n",
              "          await google.colab.output.renderOutput(dataTable, element);\n",
              "          const docLink = document.createElement('div');\n",
              "          docLink.innerHTML = docLinkHtml;\n",
              "          element.appendChild(docLink);\n",
              "        }\n",
              "      </script>\n",
              "    </div>\n",
              "  </div>\n",
              "  "
            ]
          },
          "metadata": {},
          "execution_count": 27
        }
      ]
    },
    {
      "cell_type": "code",
      "source": [
        "df['conversion']=df['y'].apply(lambda x: 0 if x == 'no' else 1) # conversion column added.\n",
        "# (y: 정기예금 가입 여부)"
      ],
      "metadata": {
        "id": "tzd65uVVZ43K"
      },
      "execution_count": null,
      "outputs": []
    },
    {
      "cell_type": "code",
      "source": [
        "df.head()"
      ],
      "metadata": {
        "colab": {
          "base_uri": "https://localhost:8080/",
          "height": 270
        },
        "id": "sQqizluxf2pK",
        "outputId": "a83d4114-1715-408d-b94c-73809d9e0d4c"
      },
      "execution_count": null,
      "outputs": [
        {
          "output_type": "execute_result",
          "data": {
            "text/plain": [
              "   age           job  marital  education default  balance housing loan  \\\n",
              "0   58    management  married   tertiary      no     2143     yes   no   \n",
              "1   44    technician   single  secondary      no       29     yes   no   \n",
              "2   33  entrepreneur  married  secondary      no        2     yes  yes   \n",
              "3   47   blue-collar  married    unknown      no     1506     yes   no   \n",
              "4   33       unknown   single    unknown      no        1      no   no   \n",
              "\n",
              "   contact  day month  duration  campaign  pdays  previous poutcome   y  \\\n",
              "0  unknown    5   may       261         1     -1         0  unknown  no   \n",
              "1  unknown    5   may       151         1     -1         0  unknown  no   \n",
              "2  unknown    5   may        76         1     -1         0  unknown  no   \n",
              "3  unknown    5   may        92         1     -1         0  unknown  no   \n",
              "4  unknown    5   may       198         1     -1         0  unknown  no   \n",
              "\n",
              "   conversion  \n",
              "0           0  \n",
              "1           0  \n",
              "2           0  \n",
              "3           0  \n",
              "4           0  "
            ],
            "text/html": [
              "\n",
              "  <div id=\"df-da6f4289-cd59-4334-8e97-3b9ac4fc3e67\">\n",
              "    <div class=\"colab-df-container\">\n",
              "      <div>\n",
              "<style scoped>\n",
              "    .dataframe tbody tr th:only-of-type {\n",
              "        vertical-align: middle;\n",
              "    }\n",
              "\n",
              "    .dataframe tbody tr th {\n",
              "        vertical-align: top;\n",
              "    }\n",
              "\n",
              "    .dataframe thead th {\n",
              "        text-align: right;\n",
              "    }\n",
              "</style>\n",
              "<table border=\"1\" class=\"dataframe\">\n",
              "  <thead>\n",
              "    <tr style=\"text-align: right;\">\n",
              "      <th></th>\n",
              "      <th>age</th>\n",
              "      <th>job</th>\n",
              "      <th>marital</th>\n",
              "      <th>education</th>\n",
              "      <th>default</th>\n",
              "      <th>balance</th>\n",
              "      <th>housing</th>\n",
              "      <th>loan</th>\n",
              "      <th>contact</th>\n",
              "      <th>day</th>\n",
              "      <th>month</th>\n",
              "      <th>duration</th>\n",
              "      <th>campaign</th>\n",
              "      <th>pdays</th>\n",
              "      <th>previous</th>\n",
              "      <th>poutcome</th>\n",
              "      <th>y</th>\n",
              "      <th>conversion</th>\n",
              "    </tr>\n",
              "  </thead>\n",
              "  <tbody>\n",
              "    <tr>\n",
              "      <th>0</th>\n",
              "      <td>58</td>\n",
              "      <td>management</td>\n",
              "      <td>married</td>\n",
              "      <td>tertiary</td>\n",
              "      <td>no</td>\n",
              "      <td>2143</td>\n",
              "      <td>yes</td>\n",
              "      <td>no</td>\n",
              "      <td>unknown</td>\n",
              "      <td>5</td>\n",
              "      <td>may</td>\n",
              "      <td>261</td>\n",
              "      <td>1</td>\n",
              "      <td>-1</td>\n",
              "      <td>0</td>\n",
              "      <td>unknown</td>\n",
              "      <td>no</td>\n",
              "      <td>0</td>\n",
              "    </tr>\n",
              "    <tr>\n",
              "      <th>1</th>\n",
              "      <td>44</td>\n",
              "      <td>technician</td>\n",
              "      <td>single</td>\n",
              "      <td>secondary</td>\n",
              "      <td>no</td>\n",
              "      <td>29</td>\n",
              "      <td>yes</td>\n",
              "      <td>no</td>\n",
              "      <td>unknown</td>\n",
              "      <td>5</td>\n",
              "      <td>may</td>\n",
              "      <td>151</td>\n",
              "      <td>1</td>\n",
              "      <td>-1</td>\n",
              "      <td>0</td>\n",
              "      <td>unknown</td>\n",
              "      <td>no</td>\n",
              "      <td>0</td>\n",
              "    </tr>\n",
              "    <tr>\n",
              "      <th>2</th>\n",
              "      <td>33</td>\n",
              "      <td>entrepreneur</td>\n",
              "      <td>married</td>\n",
              "      <td>secondary</td>\n",
              "      <td>no</td>\n",
              "      <td>2</td>\n",
              "      <td>yes</td>\n",
              "      <td>yes</td>\n",
              "      <td>unknown</td>\n",
              "      <td>5</td>\n",
              "      <td>may</td>\n",
              "      <td>76</td>\n",
              "      <td>1</td>\n",
              "      <td>-1</td>\n",
              "      <td>0</td>\n",
              "      <td>unknown</td>\n",
              "      <td>no</td>\n",
              "      <td>0</td>\n",
              "    </tr>\n",
              "    <tr>\n",
              "      <th>3</th>\n",
              "      <td>47</td>\n",
              "      <td>blue-collar</td>\n",
              "      <td>married</td>\n",
              "      <td>unknown</td>\n",
              "      <td>no</td>\n",
              "      <td>1506</td>\n",
              "      <td>yes</td>\n",
              "      <td>no</td>\n",
              "      <td>unknown</td>\n",
              "      <td>5</td>\n",
              "      <td>may</td>\n",
              "      <td>92</td>\n",
              "      <td>1</td>\n",
              "      <td>-1</td>\n",
              "      <td>0</td>\n",
              "      <td>unknown</td>\n",
              "      <td>no</td>\n",
              "      <td>0</td>\n",
              "    </tr>\n",
              "    <tr>\n",
              "      <th>4</th>\n",
              "      <td>33</td>\n",
              "      <td>unknown</td>\n",
              "      <td>single</td>\n",
              "      <td>unknown</td>\n",
              "      <td>no</td>\n",
              "      <td>1</td>\n",
              "      <td>no</td>\n",
              "      <td>no</td>\n",
              "      <td>unknown</td>\n",
              "      <td>5</td>\n",
              "      <td>may</td>\n",
              "      <td>198</td>\n",
              "      <td>1</td>\n",
              "      <td>-1</td>\n",
              "      <td>0</td>\n",
              "      <td>unknown</td>\n",
              "      <td>no</td>\n",
              "      <td>0</td>\n",
              "    </tr>\n",
              "  </tbody>\n",
              "</table>\n",
              "</div>\n",
              "      <button class=\"colab-df-convert\" onclick=\"convertToInteractive('df-da6f4289-cd59-4334-8e97-3b9ac4fc3e67')\"\n",
              "              title=\"Convert this dataframe to an interactive table.\"\n",
              "              style=\"display:none;\">\n",
              "        \n",
              "  <svg xmlns=\"http://www.w3.org/2000/svg\" height=\"24px\"viewBox=\"0 0 24 24\"\n",
              "       width=\"24px\">\n",
              "    <path d=\"M0 0h24v24H0V0z\" fill=\"none\"/>\n",
              "    <path d=\"M18.56 5.44l.94 2.06.94-2.06 2.06-.94-2.06-.94-.94-2.06-.94 2.06-2.06.94zm-11 1L8.5 8.5l.94-2.06 2.06-.94-2.06-.94L8.5 2.5l-.94 2.06-2.06.94zm10 10l.94 2.06.94-2.06 2.06-.94-2.06-.94-.94-2.06-.94 2.06-2.06.94z\"/><path d=\"M17.41 7.96l-1.37-1.37c-.4-.4-.92-.59-1.43-.59-.52 0-1.04.2-1.43.59L10.3 9.45l-7.72 7.72c-.78.78-.78 2.05 0 2.83L4 21.41c.39.39.9.59 1.41.59.51 0 1.02-.2 1.41-.59l7.78-7.78 2.81-2.81c.8-.78.8-2.07 0-2.86zM5.41 20L4 18.59l7.72-7.72 1.47 1.35L5.41 20z\"/>\n",
              "  </svg>\n",
              "      </button>\n",
              "      \n",
              "  <style>\n",
              "    .colab-df-container {\n",
              "      display:flex;\n",
              "      flex-wrap:wrap;\n",
              "      gap: 12px;\n",
              "    }\n",
              "\n",
              "    .colab-df-convert {\n",
              "      background-color: #E8F0FE;\n",
              "      border: none;\n",
              "      border-radius: 50%;\n",
              "      cursor: pointer;\n",
              "      display: none;\n",
              "      fill: #1967D2;\n",
              "      height: 32px;\n",
              "      padding: 0 0 0 0;\n",
              "      width: 32px;\n",
              "    }\n",
              "\n",
              "    .colab-df-convert:hover {\n",
              "      background-color: #E2EBFA;\n",
              "      box-shadow: 0px 1px 2px rgba(60, 64, 67, 0.3), 0px 1px 3px 1px rgba(60, 64, 67, 0.15);\n",
              "      fill: #174EA6;\n",
              "    }\n",
              "\n",
              "    [theme=dark] .colab-df-convert {\n",
              "      background-color: #3B4455;\n",
              "      fill: #D2E3FC;\n",
              "    }\n",
              "\n",
              "    [theme=dark] .colab-df-convert:hover {\n",
              "      background-color: #434B5C;\n",
              "      box-shadow: 0px 1px 3px 1px rgba(0, 0, 0, 0.15);\n",
              "      filter: drop-shadow(0px 1px 2px rgba(0, 0, 0, 0.3));\n",
              "      fill: #FFFFFF;\n",
              "    }\n",
              "  </style>\n",
              "\n",
              "      <script>\n",
              "        const buttonEl =\n",
              "          document.querySelector('#df-da6f4289-cd59-4334-8e97-3b9ac4fc3e67 button.colab-df-convert');\n",
              "        buttonEl.style.display =\n",
              "          google.colab.kernel.accessAllowed ? 'block' : 'none';\n",
              "\n",
              "        async function convertToInteractive(key) {\n",
              "          const element = document.querySelector('#df-da6f4289-cd59-4334-8e97-3b9ac4fc3e67');\n",
              "          const dataTable =\n",
              "            await google.colab.kernel.invokeFunction('convertToInteractive',\n",
              "                                                     [key], {});\n",
              "          if (!dataTable) return;\n",
              "\n",
              "          const docLinkHtml = 'Like what you see? Visit the ' +\n",
              "            '<a target=\"_blank\" href=https://colab.research.google.com/notebooks/data_table.ipynb>data table notebook</a>'\n",
              "            + ' to learn more about interactive tables.';\n",
              "          element.innerHTML = '';\n",
              "          dataTable['output_type'] = 'display_data';\n",
              "          await google.colab.output.renderOutput(dataTable, element);\n",
              "          const docLink = document.createElement('div');\n",
              "          docLink.innerHTML = docLinkHtml;\n",
              "          element.appendChild(docLink);\n",
              "        }\n",
              "      </script>\n",
              "    </div>\n",
              "  </div>\n",
              "  "
            ]
          },
          "metadata": {},
          "execution_count": 29
        }
      ]
    },
    {
      "cell_type": "markdown",
      "source": [
        "# 2. Data Analysis"
      ],
      "metadata": {
        "id": "zoVz-hLEgJKv"
      }
    },
    {
      "cell_type": "code",
      "source": [
        "list(df.columns)"
      ],
      "metadata": {
        "colab": {
          "base_uri": "https://localhost:8080/"
        },
        "id": "oF5px0GGf7pT",
        "outputId": "79f347db-5b26-47c8-e43e-be9e14cec032"
      },
      "execution_count": null,
      "outputs": [
        {
          "output_type": "execute_result",
          "data": {
            "text/plain": [
              "['age',\n",
              " 'job',\n",
              " 'marital',\n",
              " 'education',\n",
              " 'default',\n",
              " 'balance',\n",
              " 'housing',\n",
              " 'loan',\n",
              " 'contact',\n",
              " 'day',\n",
              " 'month',\n",
              " 'duration',\n",
              " 'campaign',\n",
              " 'pdays',\n",
              " 'previous',\n",
              " 'poutcome',\n",
              " 'y',\n",
              " 'conversion']"
            ]
          },
          "metadata": {},
          "execution_count": 30
        }
      ]
    },
    {
      "cell_type": "markdown",
      "source": [
        "## Conversion Rate"
      ],
      "metadata": {
        "id": "XGsfLxaqgZF6"
      }
    },
    {
      "cell_type": "code",
      "source": [
        "conversion_rate_df=pd.DataFrame(\n",
        "    df.groupby('conversion').count()['y'] / df.shape[0] * 100.0\n",
        ")\n",
        "# conversion 그룹별로(0 또는 1) 전체 행 개수와 나누어 비율을 나타내는 데이터프레임."
      ],
      "metadata": {
        "id": "TCaJj0kxgWVj"
      },
      "execution_count": null,
      "outputs": []
    },
    {
      "cell_type": "code",
      "source": [
        "conversion_rate_df"
      ],
      "metadata": {
        "colab": {
          "base_uri": "https://localhost:8080/",
          "height": 143
        },
        "id": "nJFaheULgkbp",
        "outputId": "5a4c4834-5061-4b1d-de1b-8422ef7924a5"
      },
      "execution_count": null,
      "outputs": [
        {
          "output_type": "execute_result",
          "data": {
            "text/plain": [
              "                   y\n",
              "conversion          \n",
              "0           88.30152\n",
              "1           11.69848"
            ],
            "text/html": [
              "\n",
              "  <div id=\"df-4a54808a-79b5-47b9-8b3b-8f090785a707\">\n",
              "    <div class=\"colab-df-container\">\n",
              "      <div>\n",
              "<style scoped>\n",
              "    .dataframe tbody tr th:only-of-type {\n",
              "        vertical-align: middle;\n",
              "    }\n",
              "\n",
              "    .dataframe tbody tr th {\n",
              "        vertical-align: top;\n",
              "    }\n",
              "\n",
              "    .dataframe thead th {\n",
              "        text-align: right;\n",
              "    }\n",
              "</style>\n",
              "<table border=\"1\" class=\"dataframe\">\n",
              "  <thead>\n",
              "    <tr style=\"text-align: right;\">\n",
              "      <th></th>\n",
              "      <th>y</th>\n",
              "    </tr>\n",
              "    <tr>\n",
              "      <th>conversion</th>\n",
              "      <th></th>\n",
              "    </tr>\n",
              "  </thead>\n",
              "  <tbody>\n",
              "    <tr>\n",
              "      <th>0</th>\n",
              "      <td>88.30152</td>\n",
              "    </tr>\n",
              "    <tr>\n",
              "      <th>1</th>\n",
              "      <td>11.69848</td>\n",
              "    </tr>\n",
              "  </tbody>\n",
              "</table>\n",
              "</div>\n",
              "      <button class=\"colab-df-convert\" onclick=\"convertToInteractive('df-4a54808a-79b5-47b9-8b3b-8f090785a707')\"\n",
              "              title=\"Convert this dataframe to an interactive table.\"\n",
              "              style=\"display:none;\">\n",
              "        \n",
              "  <svg xmlns=\"http://www.w3.org/2000/svg\" height=\"24px\"viewBox=\"0 0 24 24\"\n",
              "       width=\"24px\">\n",
              "    <path d=\"M0 0h24v24H0V0z\" fill=\"none\"/>\n",
              "    <path d=\"M18.56 5.44l.94 2.06.94-2.06 2.06-.94-2.06-.94-.94-2.06-.94 2.06-2.06.94zm-11 1L8.5 8.5l.94-2.06 2.06-.94-2.06-.94L8.5 2.5l-.94 2.06-2.06.94zm10 10l.94 2.06.94-2.06 2.06-.94-2.06-.94-.94-2.06-.94 2.06-2.06.94z\"/><path d=\"M17.41 7.96l-1.37-1.37c-.4-.4-.92-.59-1.43-.59-.52 0-1.04.2-1.43.59L10.3 9.45l-7.72 7.72c-.78.78-.78 2.05 0 2.83L4 21.41c.39.39.9.59 1.41.59.51 0 1.02-.2 1.41-.59l7.78-7.78 2.81-2.81c.8-.78.8-2.07 0-2.86zM5.41 20L4 18.59l7.72-7.72 1.47 1.35L5.41 20z\"/>\n",
              "  </svg>\n",
              "      </button>\n",
              "      \n",
              "  <style>\n",
              "    .colab-df-container {\n",
              "      display:flex;\n",
              "      flex-wrap:wrap;\n",
              "      gap: 12px;\n",
              "    }\n",
              "\n",
              "    .colab-df-convert {\n",
              "      background-color: #E8F0FE;\n",
              "      border: none;\n",
              "      border-radius: 50%;\n",
              "      cursor: pointer;\n",
              "      display: none;\n",
              "      fill: #1967D2;\n",
              "      height: 32px;\n",
              "      padding: 0 0 0 0;\n",
              "      width: 32px;\n",
              "    }\n",
              "\n",
              "    .colab-df-convert:hover {\n",
              "      background-color: #E2EBFA;\n",
              "      box-shadow: 0px 1px 2px rgba(60, 64, 67, 0.3), 0px 1px 3px 1px rgba(60, 64, 67, 0.15);\n",
              "      fill: #174EA6;\n",
              "    }\n",
              "\n",
              "    [theme=dark] .colab-df-convert {\n",
              "      background-color: #3B4455;\n",
              "      fill: #D2E3FC;\n",
              "    }\n",
              "\n",
              "    [theme=dark] .colab-df-convert:hover {\n",
              "      background-color: #434B5C;\n",
              "      box-shadow: 0px 1px 3px 1px rgba(0, 0, 0, 0.15);\n",
              "      filter: drop-shadow(0px 1px 2px rgba(0, 0, 0, 0.3));\n",
              "      fill: #FFFFFF;\n",
              "    }\n",
              "  </style>\n",
              "\n",
              "      <script>\n",
              "        const buttonEl =\n",
              "          document.querySelector('#df-4a54808a-79b5-47b9-8b3b-8f090785a707 button.colab-df-convert');\n",
              "        buttonEl.style.display =\n",
              "          google.colab.kernel.accessAllowed ? 'block' : 'none';\n",
              "\n",
              "        async function convertToInteractive(key) {\n",
              "          const element = document.querySelector('#df-4a54808a-79b5-47b9-8b3b-8f090785a707');\n",
              "          const dataTable =\n",
              "            await google.colab.kernel.invokeFunction('convertToInteractive',\n",
              "                                                     [key], {});\n",
              "          if (!dataTable) return;\n",
              "\n",
              "          const docLinkHtml = 'Like what you see? Visit the ' +\n",
              "            '<a target=\"_blank\" href=https://colab.research.google.com/notebooks/data_table.ipynb>data table notebook</a>'\n",
              "            + ' to learn more about interactive tables.';\n",
              "          element.innerHTML = '';\n",
              "          dataTable['output_type'] = 'display_data';\n",
              "          await google.colab.output.renderOutput(dataTable, element);\n",
              "          const docLink = document.createElement('div');\n",
              "          docLink.innerHTML = docLinkHtml;\n",
              "          element.appendChild(docLink);\n",
              "        }\n",
              "      </script>\n",
              "    </div>\n",
              "  </div>\n",
              "  "
            ]
          },
          "metadata": {},
          "execution_count": 32
        }
      ]
    },
    {
      "cell_type": "code",
      "source": [
        "conversion_rate_df.T"
      ],
      "metadata": {
        "colab": {
          "base_uri": "https://localhost:8080/",
          "height": 81
        },
        "id": "-EXylv-Zg4xy",
        "outputId": "d5b9a1c5-39bc-4e5e-a2b5-41b0a15565f4"
      },
      "execution_count": null,
      "outputs": [
        {
          "output_type": "execute_result",
          "data": {
            "text/plain": [
              "conversion         0         1\n",
              "y           88.30152  11.69848"
            ],
            "text/html": [
              "\n",
              "  <div id=\"df-9a62c8f7-3b47-49d6-9dbf-df5d3b4185a8\">\n",
              "    <div class=\"colab-df-container\">\n",
              "      <div>\n",
              "<style scoped>\n",
              "    .dataframe tbody tr th:only-of-type {\n",
              "        vertical-align: middle;\n",
              "    }\n",
              "\n",
              "    .dataframe tbody tr th {\n",
              "        vertical-align: top;\n",
              "    }\n",
              "\n",
              "    .dataframe thead th {\n",
              "        text-align: right;\n",
              "    }\n",
              "</style>\n",
              "<table border=\"1\" class=\"dataframe\">\n",
              "  <thead>\n",
              "    <tr style=\"text-align: right;\">\n",
              "      <th>conversion</th>\n",
              "      <th>0</th>\n",
              "      <th>1</th>\n",
              "    </tr>\n",
              "  </thead>\n",
              "  <tbody>\n",
              "    <tr>\n",
              "      <th>y</th>\n",
              "      <td>88.30152</td>\n",
              "      <td>11.69848</td>\n",
              "    </tr>\n",
              "  </tbody>\n",
              "</table>\n",
              "</div>\n",
              "      <button class=\"colab-df-convert\" onclick=\"convertToInteractive('df-9a62c8f7-3b47-49d6-9dbf-df5d3b4185a8')\"\n",
              "              title=\"Convert this dataframe to an interactive table.\"\n",
              "              style=\"display:none;\">\n",
              "        \n",
              "  <svg xmlns=\"http://www.w3.org/2000/svg\" height=\"24px\"viewBox=\"0 0 24 24\"\n",
              "       width=\"24px\">\n",
              "    <path d=\"M0 0h24v24H0V0z\" fill=\"none\"/>\n",
              "    <path d=\"M18.56 5.44l.94 2.06.94-2.06 2.06-.94-2.06-.94-.94-2.06-.94 2.06-2.06.94zm-11 1L8.5 8.5l.94-2.06 2.06-.94-2.06-.94L8.5 2.5l-.94 2.06-2.06.94zm10 10l.94 2.06.94-2.06 2.06-.94-2.06-.94-.94-2.06-.94 2.06-2.06.94z\"/><path d=\"M17.41 7.96l-1.37-1.37c-.4-.4-.92-.59-1.43-.59-.52 0-1.04.2-1.43.59L10.3 9.45l-7.72 7.72c-.78.78-.78 2.05 0 2.83L4 21.41c.39.39.9.59 1.41.59.51 0 1.02-.2 1.41-.59l7.78-7.78 2.81-2.81c.8-.78.8-2.07 0-2.86zM5.41 20L4 18.59l7.72-7.72 1.47 1.35L5.41 20z\"/>\n",
              "  </svg>\n",
              "      </button>\n",
              "      \n",
              "  <style>\n",
              "    .colab-df-container {\n",
              "      display:flex;\n",
              "      flex-wrap:wrap;\n",
              "      gap: 12px;\n",
              "    }\n",
              "\n",
              "    .colab-df-convert {\n",
              "      background-color: #E8F0FE;\n",
              "      border: none;\n",
              "      border-radius: 50%;\n",
              "      cursor: pointer;\n",
              "      display: none;\n",
              "      fill: #1967D2;\n",
              "      height: 32px;\n",
              "      padding: 0 0 0 0;\n",
              "      width: 32px;\n",
              "    }\n",
              "\n",
              "    .colab-df-convert:hover {\n",
              "      background-color: #E2EBFA;\n",
              "      box-shadow: 0px 1px 2px rgba(60, 64, 67, 0.3), 0px 1px 3px 1px rgba(60, 64, 67, 0.15);\n",
              "      fill: #174EA6;\n",
              "    }\n",
              "\n",
              "    [theme=dark] .colab-df-convert {\n",
              "      background-color: #3B4455;\n",
              "      fill: #D2E3FC;\n",
              "    }\n",
              "\n",
              "    [theme=dark] .colab-df-convert:hover {\n",
              "      background-color: #434B5C;\n",
              "      box-shadow: 0px 1px 3px 1px rgba(0, 0, 0, 0.15);\n",
              "      filter: drop-shadow(0px 1px 2px rgba(0, 0, 0, 0.3));\n",
              "      fill: #FFFFFF;\n",
              "    }\n",
              "  </style>\n",
              "\n",
              "      <script>\n",
              "        const buttonEl =\n",
              "          document.querySelector('#df-9a62c8f7-3b47-49d6-9dbf-df5d3b4185a8 button.colab-df-convert');\n",
              "        buttonEl.style.display =\n",
              "          google.colab.kernel.accessAllowed ? 'block' : 'none';\n",
              "\n",
              "        async function convertToInteractive(key) {\n",
              "          const element = document.querySelector('#df-9a62c8f7-3b47-49d6-9dbf-df5d3b4185a8');\n",
              "          const dataTable =\n",
              "            await google.colab.kernel.invokeFunction('convertToInteractive',\n",
              "                                                     [key], {});\n",
              "          if (!dataTable) return;\n",
              "\n",
              "          const docLinkHtml = 'Like what you see? Visit the ' +\n",
              "            '<a target=\"_blank\" href=https://colab.research.google.com/notebooks/data_table.ipynb>data table notebook</a>'\n",
              "            + ' to learn more about interactive tables.';\n",
              "          element.innerHTML = '';\n",
              "          dataTable['output_type'] = 'display_data';\n",
              "          await google.colab.output.renderOutput(dataTable, element);\n",
              "          const docLink = document.createElement('div');\n",
              "          docLink.innerHTML = docLinkHtml;\n",
              "          element.appendChild(docLink);\n",
              "        }\n",
              "      </script>\n",
              "    </div>\n",
              "  </div>\n",
              "  "
            ]
          },
          "metadata": {},
          "execution_count": 33
        }
      ]
    },
    {
      "cell_type": "markdown",
      "source": [
        "## Conversion Rates by Marital Status"
      ],
      "metadata": {
        "id": "RCi6vP0UhsiL"
      }
    },
    {
      "cell_type": "code",
      "source": [
        "conversion_rate_by_marital = df.groupby(\n",
        "    by='marital'\n",
        ")['conversion'].sum() / df.groupby(\n",
        "    by='marital'\n",
        ")['conversion'].count() * 100.0\n",
        "# marital 여부에 따른 그룹별 conversion rate를 나타내는 데이터프레임."
      ],
      "metadata": {
        "id": "PEk94ysdhq-n"
      },
      "execution_count": null,
      "outputs": []
    },
    {
      "cell_type": "code",
      "source": [
        "conversion_rate_by_marital"
      ],
      "metadata": {
        "colab": {
          "base_uri": "https://localhost:8080/"
        },
        "id": "kpyjBNwAh2gk",
        "outputId": "8d1c0b5d-2ae1-4ed4-b592-7957ad1b7fe2"
      },
      "execution_count": null,
      "outputs": [
        {
          "output_type": "execute_result",
          "data": {
            "text/plain": [
              "marital\n",
              "divorced    11.945458\n",
              "married     10.123466\n",
              "single      14.949179\n",
              "Name: conversion, dtype: float64"
            ]
          },
          "metadata": {},
          "execution_count": 37
        }
      ]
    },
    {
      "cell_type": "code",
      "source": [
        "ax = conversion_rate_by_marital.plot(\n",
        "  kind = 'bar',\n",
        "  color='skyblue',\n",
        "  grid=True,\n",
        "  figsize=(10, 7),\n",
        "  title='Conversion Rates by Marital Status'\n",
        ")\n",
        "\n",
        "ax.set_xlabel('Marital Status')\n",
        "ax.set_ylabel('conversion rate (%)')\n",
        "\n",
        "plt.show()"
      ],
      "metadata": {
        "colab": {
          "base_uri": "https://localhost:8080/",
          "height": 491
        },
        "id": "Zd0vflo9iB0j",
        "outputId": "e37e6eef-5cb1-42e7-cdc6-70be28d42183"
      },
      "execution_count": null,
      "outputs": [
        {
          "output_type": "display_data",
          "data": {
            "text/plain": [
              "<Figure size 720x504 with 1 Axes>"
            ],
            "image/png": "[encoded data removed]"
          },
          "metadata": {
            "needs_background": "light"
          }
        }
      ]
    },
    {
      "cell_type": "markdown",
      "source": [
        "## Conversion Rates by Job"
      ],
      "metadata": {
        "id": "TGs6lS3Sizpt"
      }
    },
    {
      "cell_type": "code",
      "source": [
        "conversion_rate_by_job = df.groupby(\n",
        "    by='job'\n",
        ")['conversion'].sum() / df.groupby(\n",
        "    by='job'\n",
        ")['conversion'].count() * 100.0"
      ],
      "metadata": {
        "id": "btJbE7zmixOv"
      },
      "execution_count": null,
      "outputs": []
    },
    {
      "cell_type": "code",
      "source": [
        "conversion_rate_by_job"
      ],
      "metadata": {
        "colab": {
          "base_uri": "https://localhost:8080/"
        },
        "id": "08NdQvsejBD0",
        "outputId": "9fb783cb-ea31-470e-cadb-16f66607c83c"
      },
      "execution_count": null,
      "outputs": [
        {
          "output_type": "execute_result",
          "data": {
            "text/plain": [
              "job\n",
              "admin.           12.202669\n",
              "blue-collar       7.274969\n",
              "entrepreneur      8.271688\n",
              "housemaid         8.790323\n",
              "management       13.755551\n",
              "retired          22.791519\n",
              "self-employed    11.842939\n",
              "services          8.883004\n",
              "student          28.678038\n",
              "technician       11.056996\n",
              "unemployed       15.502686\n",
              "unknown          11.805556\n",
              "Name: conversion, dtype: float64"
            ]
          },
          "metadata": {},
          "execution_count": 40
        }
      ]
    },
    {
      "cell_type": "code",
      "source": [
        "ax = conversion_rate_by_job.plot(\n",
        "  kind = 'barh',\n",
        "  color='skyblue',\n",
        "  grid=True,\n",
        "  figsize=(10, 7),\n",
        "  title='Conversion Rates by Job'\n",
        ")\n",
        "\n",
        "ax.set_xlabel('conversion rate (%)')\n",
        "ax.set_ylabel('Job')\n",
        "\n",
        "plt.show()"
      ],
      "metadata": {
        "colab": {
          "base_uri": "https://localhost:8080/",
          "height": 458
        },
        "id": "PXIbMA2QjCzv",
        "outputId": "aa798d3b-71ee-48b9-f351-1f56553dd1a7"
      },
      "execution_count": null,
      "outputs": [
        {
          "output_type": "display_data",
          "data": {
            "text/plain": [
              "<Figure size 720x504 with 1 Axes>"
            ],
            "image/png": "[encoded data removed]"
          },
          "metadata": {
            "needs_background": "light"
          }
        }
      ]
    },
    {
      "cell_type": "markdown",
      "source": [
        "## Default Rates by Conversions\n",
        "default: 채무불이행, 체납"
      ],
      "metadata": {
        "id": "Y23QNlyQjVLd"
      }
    },
    {
      "cell_type": "code",
      "source": [
        "default_by_conversion_df = pd.pivot_table(\n",
        "    df,\n",
        "    values='y', # len 집계함수로 사용할 데이터\n",
        "    index='default', # 행\n",
        "    columns='conversion', # 열\n",
        "    aggfunc=len\n",
        ")"
      ],
      "metadata": {
        "id": "zN2n9xw4jP4f"
      },
      "execution_count": null,
      "outputs": []
    },
    {
      "cell_type": "code",
      "source": [
        "default_by_conversion_df # 채무를 정상적으로 이행한 사람이 conversion이 더 높다. (합리적이다)"
      ],
      "metadata": {
        "colab": {
          "base_uri": "https://localhost:8080/",
          "height": 143
        },
        "id": "iVc4aLHfjw8Y",
        "outputId": "9520c26c-8ba4-4115-e3bb-f7745c0613ee"
      },
      "execution_count": null,
      "outputs": [
        {
          "output_type": "execute_result",
          "data": {
            "text/plain": [
              "conversion      0     1\n",
              "default                \n",
              "no          39159  5237\n",
              "yes           763    52"
            ],
            "text/html": [
              "\n",
              "  <div id=\"df-2bd361a7-9688-47a3-8ddd-5223597b8405\">\n",
              "    <div class=\"colab-df-container\">\n",
              "      <div>\n",
              "<style scoped>\n",
              "    .dataframe tbody tr th:only-of-type {\n",
              "        vertical-align: middle;\n",
              "    }\n",
              "\n",
              "    .dataframe tbody tr th {\n",
              "        vertical-align: top;\n",
              "    }\n",
              "\n",
              "    .dataframe thead th {\n",
              "        text-align: right;\n",
              "    }\n",
              "</style>\n",
              "<table border=\"1\" class=\"dataframe\">\n",
              "  <thead>\n",
              "    <tr style=\"text-align: right;\">\n",
              "      <th>conversion</th>\n",
              "      <th>0</th>\n",
              "      <th>1</th>\n",
              "    </tr>\n",
              "    <tr>\n",
              "      <th>default</th>\n",
              "      <th></th>\n",
              "      <th></th>\n",
              "    </tr>\n",
              "  </thead>\n",
              "  <tbody>\n",
              "    <tr>\n",
              "      <th>no</th>\n",
              "      <td>39159</td>\n",
              "      <td>5237</td>\n",
              "    </tr>\n",
              "    <tr>\n",
              "      <th>yes</th>\n",
              "      <td>763</td>\n",
              "      <td>52</td>\n",
              "    </tr>\n",
              "  </tbody>\n",
              "</table>\n",
              "</div>\n",
              "      <button class=\"colab-df-convert\" onclick=\"convertToInteractive('df-2bd361a7-9688-47a3-8ddd-5223597b8405')\"\n",
              "              title=\"Convert this dataframe to an interactive table.\"\n",
              "              style=\"display:none;\">\n",
              "        \n",
              "  <svg xmlns=\"http://www.w3.org/2000/svg\" height=\"24px\"viewBox=\"0 0 24 24\"\n",
              "       width=\"24px\">\n",
              "    <path d=\"M0 0h24v24H0V0z\" fill=\"none\"/>\n",
              "    <path d=\"M18.56 5.44l.94 2.06.94-2.06 2.06-.94-2.06-.94-.94-2.06-.94 2.06-2.06.94zm-11 1L8.5 8.5l.94-2.06 2.06-.94-2.06-.94L8.5 2.5l-.94 2.06-2.06.94zm10 10l.94 2.06.94-2.06 2.06-.94-2.06-.94-.94-2.06-.94 2.06-2.06.94z\"/><path d=\"M17.41 7.96l-1.37-1.37c-.4-.4-.92-.59-1.43-.59-.52 0-1.04.2-1.43.59L10.3 9.45l-7.72 7.72c-.78.78-.78 2.05 0 2.83L4 21.41c.39.39.9.59 1.41.59.51 0 1.02-.2 1.41-.59l7.78-7.78 2.81-2.81c.8-.78.8-2.07 0-2.86zM5.41 20L4 18.59l7.72-7.72 1.47 1.35L5.41 20z\"/>\n",
              "  </svg>\n",
              "      </button>\n",
              "      \n",
              "  <style>\n",
              "    .colab-df-container {\n",
              "      display:flex;\n",
              "      flex-wrap:wrap;\n",
              "      gap: 12px;\n",
              "    }\n",
              "\n",
              "    .colab-df-convert {\n",
              "      background-color: #E8F0FE;\n",
              "      border: none;\n",
              "      border-radius: 50%;\n",
              "      cursor: pointer;\n",
              "      display: none;\n",
              "      fill: #1967D2;\n",
              "      height: 32px;\n",
              "      padding: 0 0 0 0;\n",
              "      width: 32px;\n",
              "    }\n",
              "\n",
              "    .colab-df-convert:hover {\n",
              "      background-color: #E2EBFA;\n",
              "      box-shadow: 0px 1px 2px rgba(60, 64, 67, 0.3), 0px 1px 3px 1px rgba(60, 64, 67, 0.15);\n",
              "      fill: #174EA6;\n",
              "    }\n",
              "\n",
              "    [theme=dark] .colab-df-convert {\n",
              "      background-color: #3B4455;\n",
              "      fill: #D2E3FC;\n",
              "    }\n",
              "\n",
              "    [theme=dark] .colab-df-convert:hover {\n",
              "      background-color: #434B5C;\n",
              "      box-shadow: 0px 1px 3px 1px rgba(0, 0, 0, 0.15);\n",
              "      filter: drop-shadow(0px 1px 2px rgba(0, 0, 0, 0.3));\n",
              "      fill: #FFFFFF;\n",
              "    }\n",
              "  </style>\n",
              "\n",
              "      <script>\n",
              "        const buttonEl =\n",
              "          document.querySelector('#df-2bd361a7-9688-47a3-8ddd-5223597b8405 button.colab-df-convert');\n",
              "        buttonEl.style.display =\n",
              "          google.colab.kernel.accessAllowed ? 'block' : 'none';\n",
              "\n",
              "        async function convertToInteractive(key) {\n",
              "          const element = document.querySelector('#df-2bd361a7-9688-47a3-8ddd-5223597b8405');\n",
              "          const dataTable =\n",
              "            await google.colab.kernel.invokeFunction('convertToInteractive',\n",
              "                                                     [key], {});\n",
              "          if (!dataTable) return;\n",
              "\n",
              "          const docLinkHtml = 'Like what you see? Visit the ' +\n",
              "            '<a target=\"_blank\" href=https://colab.research.google.com/notebooks/data_table.ipynb>data table notebook</a>'\n",
              "            + ' to learn more about interactive tables.';\n",
              "          element.innerHTML = '';\n",
              "          dataTable['output_type'] = 'display_data';\n",
              "          await google.colab.output.renderOutput(dataTable, element);\n",
              "          const docLink = document.createElement('div');\n",
              "          docLink.innerHTML = docLinkHtml;\n",
              "          element.appendChild(docLink);\n",
              "        }\n",
              "      </script>\n",
              "    </div>\n",
              "  </div>\n",
              "  "
            ]
          },
          "metadata": {},
          "execution_count": 46
        }
      ]
    },
    {
      "cell_type": "code",
      "source": [
        "default_by_conversion_df.columns = ['non_conversions', 'conversions']"
      ],
      "metadata": {
        "id": "fJymU6t0jykc"
      },
      "execution_count": null,
      "outputs": []
    },
    {
      "cell_type": "code",
      "source": [
        "default_by_conversion_df"
      ],
      "metadata": {
        "colab": {
          "base_uri": "https://localhost:8080/",
          "height": 143
        },
        "id": "XKGULQCykXu4",
        "outputId": "9f3558f8-7cb5-4223-d836-5a8d7e0f4a70"
      },
      "execution_count": null,
      "outputs": [
        {
          "output_type": "execute_result",
          "data": {
            "text/plain": [
              "         non_conversions  conversions\n",
              "default                              \n",
              "no                 39159         5237\n",
              "yes                  763           52"
            ],
            "text/html": [
              "\n",
              "  <div id=\"df-59ffee9b-a230-4ae2-b451-87b339489670\">\n",
              "    <div class=\"colab-df-container\">\n",
              "      <div>\n",
              "<style scoped>\n",
              "    .dataframe tbody tr th:only-of-type {\n",
              "        vertical-align: middle;\n",
              "    }\n",
              "\n",
              "    .dataframe tbody tr th {\n",
              "        vertical-align: top;\n",
              "    }\n",
              "\n",
              "    .dataframe thead th {\n",
              "        text-align: right;\n",
              "    }\n",
              "</style>\n",
              "<table border=\"1\" class=\"dataframe\">\n",
              "  <thead>\n",
              "    <tr style=\"text-align: right;\">\n",
              "      <th></th>\n",
              "      <th>non_conversions</th>\n",
              "      <th>conversions</th>\n",
              "    </tr>\n",
              "    <tr>\n",
              "      <th>default</th>\n",
              "      <th></th>\n",
              "      <th></th>\n",
              "    </tr>\n",
              "  </thead>\n",
              "  <tbody>\n",
              "    <tr>\n",
              "      <th>no</th>\n",
              "      <td>39159</td>\n",
              "      <td>5237</td>\n",
              "    </tr>\n",
              "    <tr>\n",
              "      <th>yes</th>\n",
              "      <td>763</td>\n",
              "      <td>52</td>\n",
              "    </tr>\n",
              "  </tbody>\n",
              "</table>\n",
              "</div>\n",
              "      <button class=\"colab-df-convert\" onclick=\"convertToInteractive('df-59ffee9b-a230-4ae2-b451-87b339489670')\"\n",
              "              title=\"Convert this dataframe to an interactive table.\"\n",
              "              style=\"display:none;\">\n",
              "        \n",
              "  <svg xmlns=\"http://www.w3.org/2000/svg\" height=\"24px\"viewBox=\"0 0 24 24\"\n",
              "       width=\"24px\">\n",
              "    <path d=\"M0 0h24v24H0V0z\" fill=\"none\"/>\n",
              "    <path d=\"M18.56 5.44l.94 2.06.94-2.06 2.06-.94-2.06-.94-.94-2.06-.94 2.06-2.06.94zm-11 1L8.5 8.5l.94-2.06 2.06-.94-2.06-.94L8.5 2.5l-.94 2.06-2.06.94zm10 10l.94 2.06.94-2.06 2.06-.94-2.06-.94-.94-2.06-.94 2.06-2.06.94z\"/><path d=\"M17.41 7.96l-1.37-1.37c-.4-.4-.92-.59-1.43-.59-.52 0-1.04.2-1.43.59L10.3 9.45l-7.72 7.72c-.78.78-.78 2.05 0 2.83L4 21.41c.39.39.9.59 1.41.59.51 0 1.02-.2 1.41-.59l7.78-7.78 2.81-2.81c.8-.78.8-2.07 0-2.86zM5.41 20L4 18.59l7.72-7.72 1.47 1.35L5.41 20z\"/>\n",
              "  </svg>\n",
              "      </button>\n",
              "      \n",
              "  <style>\n",
              "    .colab-df-container {\n",
              "      display:flex;\n",
              "      flex-wrap:wrap;\n",
              "      gap: 12px;\n",
              "    }\n",
              "\n",
              "    .colab-df-convert {\n",
              "      background-color: #E8F0FE;\n",
              "      border: none;\n",
              "      border-radius: 50%;\n",
              "      cursor: pointer;\n",
              "      display: none;\n",
              "      fill: #1967D2;\n",
              "      height: 32px;\n",
              "      padding: 0 0 0 0;\n",
              "      width: 32px;\n",
              "    }\n",
              "\n",
              "    .colab-df-convert:hover {\n",
              "      background-color: #E2EBFA;\n",
              "      box-shadow: 0px 1px 2px rgba(60, 64, 67, 0.3), 0px 1px 3px 1px rgba(60, 64, 67, 0.15);\n",
              "      fill: #174EA6;\n",
              "    }\n",
              "\n",
              "    [theme=dark] .colab-df-convert {\n",
              "      background-color: #3B4455;\n",
              "      fill: #D2E3FC;\n",
              "    }\n",
              "\n",
              "    [theme=dark] .colab-df-convert:hover {\n",
              "      background-color: #434B5C;\n",
              "      box-shadow: 0px 1px 3px 1px rgba(0, 0, 0, 0.15);\n",
              "      filter: drop-shadow(0px 1px 2px rgba(0, 0, 0, 0.3));\n",
              "      fill: #FFFFFF;\n",
              "    }\n",
              "  </style>\n",
              "\n",
              "      <script>\n",
              "        const buttonEl =\n",
              "          document.querySelector('#df-59ffee9b-a230-4ae2-b451-87b339489670 button.colab-df-convert');\n",
              "        buttonEl.style.display =\n",
              "          google.colab.kernel.accessAllowed ? 'block' : 'none';\n",
              "\n",
              "        async function convertToInteractive(key) {\n",
              "          const element = document.querySelector('#df-59ffee9b-a230-4ae2-b451-87b339489670');\n",
              "          const dataTable =\n",
              "            await google.colab.kernel.invokeFunction('convertToInteractive',\n",
              "                                                     [key], {});\n",
              "          if (!dataTable) return;\n",
              "\n",
              "          const docLinkHtml = 'Like what you see? Visit the ' +\n",
              "            '<a target=\"_blank\" href=https://colab.research.google.com/notebooks/data_table.ipynb>data table notebook</a>'\n",
              "            + ' to learn more about interactive tables.';\n",
              "          element.innerHTML = '';\n",
              "          dataTable['output_type'] = 'display_data';\n",
              "          await google.colab.output.renderOutput(dataTable, element);\n",
              "          const docLink = document.createElement('div');\n",
              "          docLink.innerHTML = docLinkHtml;\n",
              "          element.appendChild(docLink);\n",
              "        }\n",
              "      </script>\n",
              "    </div>\n",
              "  </div>\n",
              "  "
            ]
          },
          "metadata": {},
          "execution_count": 48
        }
      ]
    },
    {
      "cell_type": "code",
      "source": [
        "default_by_conversion_df.plot(\n",
        "    kind='pie',\n",
        "    figsize=(15, 7),\n",
        "    startangle=90,\n",
        "    subplots=True,\n",
        "    autopct=lambda x: '%0.1f%%' % x\n",
        ")\n",
        "\n",
        "plt.show()"
      ],
      "metadata": {
        "colab": {
          "base_uri": "https://localhost:8080/",
          "height": 407
        },
        "id": "l4b9CMBskZ3h",
        "outputId": "cb20fb46-dbc1-45db-ebc4-47abd9138724"
      },
      "execution_count": null,
      "outputs": [
        {
          "output_type": "display_data",
          "data": {
            "text/plain": [
              "<Figure size 1080x504 with 2 Axes>"
            ],
            "image/png": "[encoded data removed]"
          },
          "metadata": {}
        }
      ]
    },
    {
      "cell_type": "markdown",
      "source": [
        "## Bank Balance by Conversions"
      ],
      "metadata": {
        "id": "7wJ_amUHlQJO"
      }
    },
    {
      "cell_type": "code",
      "source": [
        "ax = df[['conversion', 'balance']].boxplot(\n",
        "    by='conversion',\n",
        "    showfliers=True,\n",
        "    figsize=(10, 7)\n",
        ")\n",
        "\n",
        "ax.set_xlabel('Conversion')\n",
        "ax.set_ylabel('Average Bank Balance')\n",
        "ax.set_title('Average Bank Balance Distributions by Conversion')\n",
        "\n",
        "plt.suptitle(\"\")\n",
        "plt.show()"
      ],
      "metadata": {
        "colab": {
          "base_uri": "https://localhost:8080/",
          "height": 512
        },
        "id": "6Ma6TwRvkll7",
        "outputId": "8ca514d9-a184-4ebb-b452-c8befcad8dae"
      },
      "execution_count": null,
      "outputs": [
        {
          "output_type": "stream",
          "name": "stderr",
          "text": [
            "/usr/local/lib/python3.7/dist-packages/matplotlib/cbook/__init__.py:1376: VisibleDeprecationWarning: Creating an ndarray from ragged nested sequences (which is a list-or-tuple of lists-or-tuples-or ndarrays with different lengths or shapes) is deprecated. If you meant to do this, you must specify 'dtype=object' when creating the ndarray.\n",
            "  X = np.atleast_1d(X.T if isinstance(X, np.ndarray) else np.asarray(X))\n"
          ]
        },
        {
          "output_type": "display_data",
          "data": {
            "text/plain": [
              "<Figure size 720x504 with 1 Axes>"
            ],
            "image/png": "[encoded data removed]"
          },
          "metadata": {
            "needs_background": "light"
          }
        }
      ]
    },
    {
      "cell_type": "code",
      "source": [
        "ax = df[['conversion', 'balance']].boxplot(\n",
        "    by='conversion',\n",
        "    showfliers=False,\n",
        "    figsize=(10, 7)\n",
        ")\n",
        "\n",
        "ax.set_xlabel('Conversion')\n",
        "ax.set_ylabel('Average Bank Balance')\n",
        "ax.set_title('Average Bank Balance Distributions by Conversion')\n",
        "\n",
        "plt.suptitle(\"\")\n",
        "plt.show()"
      ],
      "metadata": {
        "colab": {
          "base_uri": "https://localhost:8080/",
          "height": 512
        },
        "id": "myZ4C7FPlgYA",
        "outputId": "7e2c0708-22d1-456a-f67b-f83a1b92cba7"
      },
      "execution_count": null,
      "outputs": [
        {
          "output_type": "stream",
          "name": "stderr",
          "text": [
            "/usr/local/lib/python3.7/dist-packages/matplotlib/cbook/__init__.py:1376: VisibleDeprecationWarning: Creating an ndarray from ragged nested sequences (which is a list-or-tuple of lists-or-tuples-or ndarrays with different lengths or shapes) is deprecated. If you meant to do this, you must specify 'dtype=object' when creating the ndarray.\n",
            "  X = np.atleast_1d(X.T if isinstance(X, np.ndarray) else np.asarray(X))\n"
          ]
        },
        {
          "output_type": "display_data",
          "data": {
            "text/plain": [
              "<Figure size 720x504 with 1 Axes>"
            ],
            "image/png": "[encoded data removed]"
          },
          "metadata": {
            "needs_background": "light"
          }
        }
      ]
    },
    {
      "cell_type": "code",
      "source": [
        "conversions_by_num_contacts = df.groupby(\n",
        "    by='campaign'\n",
        ")['conversion'].sum() / df.groupby(\n",
        "    by='campaign'\n",
        ")['conversion'].count() * 100.0"
      ],
      "metadata": {
        "id": "KwqWePS1lqNH"
      },
      "execution_count": null,
      "outputs": []
    },
    {
      "cell_type": "code",
      "source": [
        "ax = conversions_by_num_contacts.plot(\n",
        "    kind='bar',\n",
        "    figsize=(10, 7),\n",
        "    title='Conversion Rates by Number of Contacts',\n",
        "    grid=True,\n",
        "    color='skyblue'\n",
        ")\n",
        "\n",
        "ax.set_xlabel('Number of Contacts')\n",
        "ax.set_ylabel('Conversion Rate (%)')\n",
        "\n",
        "plt.show()"
      ],
      "metadata": {
        "colab": {
          "base_uri": "https://localhost:8080/",
          "height": 461
        },
        "id": "6Yl1Y1nSl0O5",
        "outputId": "9d71dc61-af77-4036-bbad-8ff368081cf4"
      },
      "execution_count": null,
      "outputs": [
        {
          "output_type": "display_data",
          "data": {
            "text/plain": [
              "<Figure size 720x504 with 1 Axes>"
            ],
            "image/png": "[encoded data removed]"
          },
          "metadata": {
            "needs_background": "light"
          }
        }
      ]
    },
    {
      "cell_type": "markdown",
      "source": [
        "# 3. Encoding Categorical Variables"
      ],
      "metadata": {
        "id": "k1SsDaQbmiQX"
      }
    },
    {
      "cell_type": "markdown",
      "source": [
        "범주형 Attribute들을 머신러닝에 사용하기 위해서는, 해당되는 범주형 데이터들을 수치화시켜주어야 한다. "
      ],
      "metadata": {
        "id": "jFUcZ0JjslAS"
      }
    },
    {
      "cell_type": "code",
      "source": [
        "list(df.columns)"
      ],
      "metadata": {
        "colab": {
          "base_uri": "https://localhost:8080/"
        },
        "id": "AFhQrN5AmEMk",
        "outputId": "f5abb2d6-c068-433e-e99f-90c7aed798d4"
      },
      "execution_count": null,
      "outputs": [
        {
          "output_type": "execute_result",
          "data": {
            "text/plain": [
              "['age',\n",
              " 'job',\n",
              " 'marital',\n",
              " 'education',\n",
              " 'default',\n",
              " 'balance',\n",
              " 'housing',\n",
              " 'loan',\n",
              " 'contact',\n",
              " 'day',\n",
              " 'month',\n",
              " 'duration',\n",
              " 'campaign',\n",
              " 'pdays',\n",
              " 'previous',\n",
              " 'poutcome',\n",
              " 'y',\n",
              " 'conversion']"
            ]
          },
          "metadata": {},
          "execution_count": 58
        }
      ]
    },
    {
      "cell_type": "code",
      "source": [
        "df.describe()"
      ],
      "metadata": {
        "colab": {
          "base_uri": "https://localhost:8080/",
          "height": 364
        },
        "id": "nWKaNaxRmnbc",
        "outputId": "786ceaba-4b5f-492a-b7d0-1b20abe7f2c0"
      },
      "execution_count": null,
      "outputs": [
        {
          "output_type": "execute_result",
          "data": {
            "text/plain": [
              "                age        balance           day      duration      campaign  \\\n",
              "count  45211.000000   45211.000000  45211.000000  45211.000000  45211.000000   \n",
              "mean      40.936210    1362.272058     15.806419    258.163080      2.763841   \n",
              "std       10.618762    3044.765829      8.322476    257.527812      3.098021   \n",
              "min       18.000000   -8019.000000      1.000000      0.000000      1.000000   \n",
              "25%       33.000000      72.000000      8.000000    103.000000      1.000000   \n",
              "50%       39.000000     448.000000     16.000000    180.000000      2.000000   \n",
              "75%       48.000000    1428.000000     21.000000    319.000000      3.000000   \n",
              "max       95.000000  102127.000000     31.000000   4918.000000     63.000000   \n",
              "\n",
              "              pdays      previous    conversion  \n",
              "count  45211.000000  45211.000000  45211.000000  \n",
              "mean      40.197828      0.580323      0.116985  \n",
              "std      100.128746      2.303441      0.321406  \n",
              "min       -1.000000      0.000000      0.000000  \n",
              "25%       -1.000000      0.000000      0.000000  \n",
              "50%       -1.000000      0.000000      0.000000  \n",
              "75%       -1.000000      0.000000      0.000000  \n",
              "max      871.000000    275.000000      1.000000  "
            ],
            "text/html": [
              "\n",
              "  <div id=\"df-b267f05e-cfa4-4453-ba8d-93f8921581cf\">\n",
              "    <div class=\"colab-df-container\">\n",
              "      <div>\n",
              "<style scoped>\n",
              "    .dataframe tbody tr th:only-of-type {\n",
              "        vertical-align: middle;\n",
              "    }\n",
              "\n",
              "    .dataframe tbody tr th {\n",
              "        vertical-align: top;\n",
              "    }\n",
              "\n",
              "    .dataframe thead th {\n",
              "        text-align: right;\n",
              "    }\n",
              "</style>\n",
              "<table border=\"1\" class=\"dataframe\">\n",
              "  <thead>\n",
              "    <tr style=\"text-align: right;\">\n",
              "      <th></th>\n",
              "      <th>age</th>\n",
              "      <th>balance</th>\n",
              "      <th>day</th>\n",
              "      <th>duration</th>\n",
              "      <th>campaign</th>\n",
              "      <th>pdays</th>\n",
              "      <th>previous</th>\n",
              "      <th>conversion</th>\n",
              "    </tr>\n",
              "  </thead>\n",
              "  <tbody>\n",
              "    <tr>\n",
              "      <th>count</th>\n",
              "      <td>45211.000000</td>\n",
              "      <td>45211.000000</td>\n",
              "      <td>45211.000000</td>\n",
              "      <td>45211.000000</td>\n",
              "      <td>45211.000000</td>\n",
              "      <td>45211.000000</td>\n",
              "      <td>45211.000000</td>\n",
              "      <td>45211.000000</td>\n",
              "    </tr>\n",
              "    <tr>\n",
              "      <th>mean</th>\n",
              "      <td>40.936210</td>\n",
              "      <td>1362.272058</td>\n",
              "      <td>15.806419</td>\n",
              "      <td>258.163080</td>\n",
              "      <td>2.763841</td>\n",
              "      <td>40.197828</td>\n",
              "      <td>0.580323</td>\n",
              "      <td>0.116985</td>\n",
              "    </tr>\n",
              "    <tr>\n",
              "      <th>std</th>\n",
              "      <td>10.618762</td>\n",
              "      <td>3044.765829</td>\n",
              "      <td>8.322476</td>\n",
              "      <td>257.527812</td>\n",
              "      <td>3.098021</td>\n",
              "      <td>100.128746</td>\n",
              "      <td>2.303441</td>\n",
              "      <td>0.321406</td>\n",
              "    </tr>\n",
              "    <tr>\n",
              "      <th>min</th>\n",
              "      <td>18.000000</td>\n",
              "      <td>-8019.000000</td>\n",
              "      <td>1.000000</td>\n",
              "      <td>0.000000</td>\n",
              "      <td>1.000000</td>\n",
              "      <td>-1.000000</td>\n",
              "      <td>0.000000</td>\n",
              "      <td>0.000000</td>\n",
              "    </tr>\n",
              "    <tr>\n",
              "      <th>25%</th>\n",
              "      <td>33.000000</td>\n",
              "      <td>72.000000</td>\n",
              "      <td>8.000000</td>\n",
              "      <td>103.000000</td>\n",
              "      <td>1.000000</td>\n",
              "      <td>-1.000000</td>\n",
              "      <td>0.000000</td>\n",
              "      <td>0.000000</td>\n",
              "    </tr>\n",
              "    <tr>\n",
              "      <th>50%</th>\n",
              "      <td>39.000000</td>\n",
              "      <td>448.000000</td>\n",
              "      <td>16.000000</td>\n",
              "      <td>180.000000</td>\n",
              "      <td>2.000000</td>\n",
              "      <td>-1.000000</td>\n",
              "      <td>0.000000</td>\n",
              "      <td>0.000000</td>\n",
              "    </tr>\n",
              "    <tr>\n",
              "      <th>75%</th>\n",
              "      <td>48.000000</td>\n",
              "      <td>1428.000000</td>\n",
              "      <td>21.000000</td>\n",
              "      <td>319.000000</td>\n",
              "      <td>3.000000</td>\n",
              "      <td>-1.000000</td>\n",
              "      <td>0.000000</td>\n",
              "      <td>0.000000</td>\n",
              "    </tr>\n",
              "    <tr>\n",
              "      <th>max</th>\n",
              "      <td>95.000000</td>\n",
              "      <td>102127.000000</td>\n",
              "      <td>31.000000</td>\n",
              "      <td>4918.000000</td>\n",
              "      <td>63.000000</td>\n",
              "      <td>871.000000</td>\n",
              "      <td>275.000000</td>\n",
              "      <td>1.000000</td>\n",
              "    </tr>\n",
              "  </tbody>\n",
              "</table>\n",
              "</div>\n",
              "      <button class=\"colab-df-convert\" onclick=\"convertToInteractive('df-b267f05e-cfa4-4453-ba8d-93f8921581cf')\"\n",
              "              title=\"Convert this dataframe to an interactive table.\"\n",
              "              style=\"display:none;\">\n",
              "        \n",
              "  <svg xmlns=\"http://www.w3.org/2000/svg\" height=\"24px\"viewBox=\"0 0 24 24\"\n",
              "       width=\"24px\">\n",
              "    <path d=\"M0 0h24v24H0V0z\" fill=\"none\"/>\n",
              "    <path d=\"M18.56 5.44l.94 2.06.94-2.06 2.06-.94-2.06-.94-.94-2.06-.94 2.06-2.06.94zm-11 1L8.5 8.5l.94-2.06 2.06-.94-2.06-.94L8.5 2.5l-.94 2.06-2.06.94zm10 10l.94 2.06.94-2.06 2.06-.94-2.06-.94-.94-2.06-.94 2.06-2.06.94z\"/><path d=\"M17.41 7.96l-1.37-1.37c-.4-.4-.92-.59-1.43-.59-.52 0-1.04.2-1.43.59L10.3 9.45l-7.72 7.72c-.78.78-.78 2.05 0 2.83L4 21.41c.39.39.9.59 1.41.59.51 0 1.02-.2 1.41-.59l7.78-7.78 2.81-2.81c.8-.78.8-2.07 0-2.86zM5.41 20L4 18.59l7.72-7.72 1.47 1.35L5.41 20z\"/>\n",
              "  </svg>\n",
              "      </button>\n",
              "      \n",
              "  <style>\n",
              "    .colab-df-container {\n",
              "      display:flex;\n",
              "      flex-wrap:wrap;\n",
              "      gap: 12px;\n",
              "    }\n",
              "\n",
              "    .colab-df-convert {\n",
              "      background-color: #E8F0FE;\n",
              "      border: none;\n",
              "      border-radius: 50%;\n",
              "      cursor: pointer;\n",
              "      display: none;\n",
              "      fill: #1967D2;\n",
              "      height: 32px;\n",
              "      padding: 0 0 0 0;\n",
              "      width: 32px;\n",
              "    }\n",
              "\n",
              "    .colab-df-convert:hover {\n",
              "      background-color: #E2EBFA;\n",
              "      box-shadow: 0px 1px 2px rgba(60, 64, 67, 0.3), 0px 1px 3px 1px rgba(60, 64, 67, 0.15);\n",
              "      fill: #174EA6;\n",
              "    }\n",
              "\n",
              "    [theme=dark] .colab-df-convert {\n",
              "      background-color: #3B4455;\n",
              "      fill: #D2E3FC;\n",
              "    }\n",
              "\n",
              "    [theme=dark] .colab-df-convert:hover {\n",
              "      background-color: #434B5C;\n",
              "      box-shadow: 0px 1px 3px 1px rgba(0, 0, 0, 0.15);\n",
              "      filter: drop-shadow(0px 1px 2px rgba(0, 0, 0, 0.3));\n",
              "      fill: #FFFFFF;\n",
              "    }\n",
              "  </style>\n",
              "\n",
              "      <script>\n",
              "        const buttonEl =\n",
              "          document.querySelector('#df-b267f05e-cfa4-4453-ba8d-93f8921581cf button.colab-df-convert');\n",
              "        buttonEl.style.display =\n",
              "          google.colab.kernel.accessAllowed ? 'block' : 'none';\n",
              "\n",
              "        async function convertToInteractive(key) {\n",
              "          const element = document.querySelector('#df-b267f05e-cfa4-4453-ba8d-93f8921581cf');\n",
              "          const dataTable =\n",
              "            await google.colab.kernel.invokeFunction('convertToInteractive',\n",
              "                                                     [key], {});\n",
              "          if (!dataTable) return;\n",
              "\n",
              "          const docLinkHtml = 'Like what you see? Visit the ' +\n",
              "            '<a target=\"_blank\" href=https://colab.research.google.com/notebooks/data_table.ipynb>data table notebook</a>'\n",
              "            + ' to learn more about interactive tables.';\n",
              "          element.innerHTML = '';\n",
              "          dataTable['output_type'] = 'display_data';\n",
              "          await google.colab.output.renderOutput(dataTable, element);\n",
              "          const docLink = document.createElement('div');\n",
              "          docLink.innerHTML = docLinkHtml;\n",
              "          element.appendChild(docLink);\n",
              "        }\n",
              "      </script>\n",
              "    </div>\n",
              "  </div>\n",
              "  "
            ]
          },
          "metadata": {},
          "execution_count": 59
        }
      ]
    },
    {
      "cell_type": "code",
      "source": [
        "categorical_vars = [\n",
        "    'job',\n",
        "    'marital',\n",
        "    'education',\n",
        "    'default',\n",
        "    'housing',\n",
        "    'loan',\n",
        "    'contact',\n",
        "    'month'\n",
        "]"
      ],
      "metadata": {
        "id": "fn2xA2kfmpce"
      },
      "execution_count": null,
      "outputs": []
    },
    {
      "cell_type": "code",
      "source": [
        "df[categorical_vars].describe()"
      ],
      "metadata": {
        "colab": {
          "base_uri": "https://localhost:8080/",
          "height": 175
        },
        "id": "Ro7w-OAwmwDA",
        "outputId": "f60f6cd4-27a0-4677-e6ee-918264fb44b8"
      },
      "execution_count": null,
      "outputs": [
        {
          "output_type": "execute_result",
          "data": {
            "text/plain": [
              "                job  marital  education default housing   loan   contact  \\\n",
              "count         45211    45211      45211   45211   45211  45211     45211   \n",
              "unique           12        3          4       2       2      2         3   \n",
              "top     blue-collar  married  secondary      no     yes     no  cellular   \n",
              "freq           9732    27214      23202   44396   25130  37967     29285   \n",
              "\n",
              "        month  \n",
              "count   45211  \n",
              "unique     12  \n",
              "top       may  \n",
              "freq    13766  "
            ],
            "text/html": [
              "\n",
              "  <div id=\"df-cae3088c-89c5-41ea-bdf5-54afff1a86a2\">\n",
              "    <div class=\"colab-df-container\">\n",
              "      <div>\n",
              "<style scoped>\n",
              "    .dataframe tbody tr th:only-of-type {\n",
              "        vertical-align: middle;\n",
              "    }\n",
              "\n",
              "    .dataframe tbody tr th {\n",
              "        vertical-align: top;\n",
              "    }\n",
              "\n",
              "    .dataframe thead th {\n",
              "        text-align: right;\n",
              "    }\n",
              "</style>\n",
              "<table border=\"1\" class=\"dataframe\">\n",
              "  <thead>\n",
              "    <tr style=\"text-align: right;\">\n",
              "      <th></th>\n",
              "      <th>job</th>\n",
              "      <th>marital</th>\n",
              "      <th>education</th>\n",
              "      <th>default</th>\n",
              "      <th>housing</th>\n",
              "      <th>loan</th>\n",
              "      <th>contact</th>\n",
              "      <th>month</th>\n",
              "    </tr>\n",
              "  </thead>\n",
              "  <tbody>\n",
              "    <tr>\n",
              "      <th>count</th>\n",
              "      <td>45211</td>\n",
              "      <td>45211</td>\n",
              "      <td>45211</td>\n",
              "      <td>45211</td>\n",
              "      <td>45211</td>\n",
              "      <td>45211</td>\n",
              "      <td>45211</td>\n",
              "      <td>45211</td>\n",
              "    </tr>\n",
              "    <tr>\n",
              "      <th>unique</th>\n",
              "      <td>12</td>\n",
              "      <td>3</td>\n",
              "      <td>4</td>\n",
              "      <td>2</td>\n",
              "      <td>2</td>\n",
              "      <td>2</td>\n",
              "      <td>3</td>\n",
              "      <td>12</td>\n",
              "    </tr>\n",
              "    <tr>\n",
              "      <th>top</th>\n",
              "      <td>blue-collar</td>\n",
              "      <td>married</td>\n",
              "      <td>secondary</td>\n",
              "      <td>no</td>\n",
              "      <td>yes</td>\n",
              "      <td>no</td>\n",
              "      <td>cellular</td>\n",
              "      <td>may</td>\n",
              "    </tr>\n",
              "    <tr>\n",
              "      <th>freq</th>\n",
              "      <td>9732</td>\n",
              "      <td>27214</td>\n",
              "      <td>23202</td>\n",
              "      <td>44396</td>\n",
              "      <td>25130</td>\n",
              "      <td>37967</td>\n",
              "      <td>29285</td>\n",
              "      <td>13766</td>\n",
              "    </tr>\n",
              "  </tbody>\n",
              "</table>\n",
              "</div>\n",
              "      <button class=\"colab-df-convert\" onclick=\"convertToInteractive('df-cae3088c-89c5-41ea-bdf5-54afff1a86a2')\"\n",
              "              title=\"Convert this dataframe to an interactive table.\"\n",
              "              style=\"display:none;\">\n",
              "        \n",
              "  <svg xmlns=\"http://www.w3.org/2000/svg\" height=\"24px\"viewBox=\"0 0 24 24\"\n",
              "       width=\"24px\">\n",
              "    <path d=\"M0 0h24v24H0V0z\" fill=\"none\"/>\n",
              "    <path d=\"M18.56 5.44l.94 2.06.94-2.06 2.06-.94-2.06-.94-.94-2.06-.94 2.06-2.06.94zm-11 1L8.5 8.5l.94-2.06 2.06-.94-2.06-.94L8.5 2.5l-.94 2.06-2.06.94zm10 10l.94 2.06.94-2.06 2.06-.94-2.06-.94-.94-2.06-.94 2.06-2.06.94z\"/><path d=\"M17.41 7.96l-1.37-1.37c-.4-.4-.92-.59-1.43-.59-.52 0-1.04.2-1.43.59L10.3 9.45l-7.72 7.72c-.78.78-.78 2.05 0 2.83L4 21.41c.39.39.9.59 1.41.59.51 0 1.02-.2 1.41-.59l7.78-7.78 2.81-2.81c.8-.78.8-2.07 0-2.86zM5.41 20L4 18.59l7.72-7.72 1.47 1.35L5.41 20z\"/>\n",
              "  </svg>\n",
              "      </button>\n",
              "      \n",
              "  <style>\n",
              "    .colab-df-container {\n",
              "      display:flex;\n",
              "      flex-wrap:wrap;\n",
              "      gap: 12px;\n",
              "    }\n",
              "\n",
              "    .colab-df-convert {\n",
              "      background-color: #E8F0FE;\n",
              "      border: none;\n",
              "      border-radius: 50%;\n",
              "      cursor: pointer;\n",
              "      display: none;\n",
              "      fill: #1967D2;\n",
              "      height: 32px;\n",
              "      padding: 0 0 0 0;\n",
              "      width: 32px;\n",
              "    }\n",
              "\n",
              "    .colab-df-convert:hover {\n",
              "      background-color: #E2EBFA;\n",
              "      box-shadow: 0px 1px 2px rgba(60, 64, 67, 0.3), 0px 1px 3px 1px rgba(60, 64, 67, 0.15);\n",
              "      fill: #174EA6;\n",
              "    }\n",
              "\n",
              "    [theme=dark] .colab-df-convert {\n",
              "      background-color: #3B4455;\n",
              "      fill: #D2E3FC;\n",
              "    }\n",
              "\n",
              "    [theme=dark] .colab-df-convert:hover {\n",
              "      background-color: #434B5C;\n",
              "      box-shadow: 0px 1px 3px 1px rgba(0, 0, 0, 0.15);\n",
              "      filter: drop-shadow(0px 1px 2px rgba(0, 0, 0, 0.3));\n",
              "      fill: #FFFFFF;\n",
              "    }\n",
              "  </style>\n",
              "\n",
              "      <script>\n",
              "        const buttonEl =\n",
              "          document.querySelector('#df-cae3088c-89c5-41ea-bdf5-54afff1a86a2 button.colab-df-convert');\n",
              "        buttonEl.style.display =\n",
              "          google.colab.kernel.accessAllowed ? 'block' : 'none';\n",
              "\n",
              "        async function convertToInteractive(key) {\n",
              "          const element = document.querySelector('#df-cae3088c-89c5-41ea-bdf5-54afff1a86a2');\n",
              "          const dataTable =\n",
              "            await google.colab.kernel.invokeFunction('convertToInteractive',\n",
              "                                                     [key], {});\n",
              "          if (!dataTable) return;\n",
              "\n",
              "          const docLinkHtml = 'Like what you see? Visit the ' +\n",
              "            '<a target=\"_blank\" href=https://colab.research.google.com/notebooks/data_table.ipynb>data table notebook</a>'\n",
              "            + ' to learn more about interactive tables.';\n",
              "          element.innerHTML = '';\n",
              "          dataTable['output_type'] = 'display_data';\n",
              "          await google.colab.output.renderOutput(dataTable, element);\n",
              "          const docLink = document.createElement('div');\n",
              "          docLink.innerHTML = docLinkHtml;\n",
              "          element.appendChild(docLink);\n",
              "        }\n",
              "      </script>\n",
              "    </div>\n",
              "  </div>\n",
              "  "
            ]
          },
          "metadata": {},
          "execution_count": 61
        }
      ]
    },
    {
      "cell_type": "code",
      "source": [
        "df[categorical_vars].nunique() # 범주형 attribute 중 고유한 데이터 개수. "
      ],
      "metadata": {
        "colab": {
          "base_uri": "https://localhost:8080/"
        },
        "id": "JBq9UNylmzlU",
        "outputId": "7c266c87-9264-4bb2-f08e-bfdfafa76829"
      },
      "execution_count": null,
      "outputs": [
        {
          "output_type": "execute_result",
          "data": {
            "text/plain": [
              "job          12\n",
              "marital       3\n",
              "education     4\n",
              "default       2\n",
              "housing       2\n",
              "loan          2\n",
              "contact       3\n",
              "month        12\n",
              "dtype: int64"
            ]
          },
          "metadata": {},
          "execution_count": 63
        }
      ]
    },
    {
      "cell_type": "markdown",
      "source": [
        "## 'encoding 'month'"
      ],
      "metadata": {
        "id": "_r-viLWknWW-"
      }
    },
    {
      "cell_type": "code",
      "source": [
        "df['month'].unique()"
      ],
      "metadata": {
        "colab": {
          "base_uri": "https://localhost:8080/"
        },
        "id": "wuqbEv9rm7Vu",
        "outputId": "00b48c87-f78f-494c-c2a0-9caf13c5bc9e"
      },
      "execution_count": null,
      "outputs": [
        {
          "output_type": "execute_result",
          "data": {
            "text/plain": [
              "array(['may', 'jun', 'jul', 'aug', 'oct', 'nov', 'dec', 'jan', 'feb',\n",
              "       'mar', 'apr', 'sep'], dtype=object)"
            ]
          },
          "metadata": {},
          "execution_count": 64
        }
      ]
    },
    {
      "cell_type": "code",
      "source": [
        "df['month']"
      ],
      "metadata": {
        "colab": {
          "base_uri": "https://localhost:8080/"
        },
        "id": "1bDgLdzHoawW",
        "outputId": "35ae2ab9-2258-4e3a-f52b-9b171af16ac9"
      },
      "execution_count": null,
      "outputs": [
        {
          "output_type": "execute_result",
          "data": {
            "text/plain": [
              "0         5\n",
              "1         5\n",
              "2         5\n",
              "3         5\n",
              "4         5\n",
              "         ..\n",
              "45206    11\n",
              "45207    11\n",
              "45208    11\n",
              "45209    11\n",
              "45210    11\n",
              "Name: month, Length: 45211, dtype: int64"
            ]
          },
          "metadata": {},
          "execution_count": 70
        }
      ]
    },
    {
      "cell_type": "code",
      "source": [
        "months = ['jan', 'feb', 'mar', 'apr', 'may', 'jun', 'jul', 'aug', 'sep', 'oct', 'nov', 'dec']\n",
        "\n",
        "df['month'] = df['month'].apply(\n",
        "    lambda x: months.index(x)+1\n",
        ")"
      ],
      "metadata": {
        "id": "VA-3K9mdna85"
      },
      "execution_count": null,
      "outputs": []
    },
    {
      "cell_type": "code",
      "source": [
        "df['month'].unique()"
      ],
      "metadata": {
        "colab": {
          "base_uri": "https://localhost:8080/"
        },
        "id": "dM5dBZQGnu3b",
        "outputId": "20609119-9163-4555-f177-35ec0f12af64"
      },
      "execution_count": null,
      "outputs": [
        {
          "output_type": "execute_result",
          "data": {
            "text/plain": [
              "array([ 5,  6,  7,  8, 10, 11, 12,  1,  2,  3,  4,  9])"
            ]
          },
          "metadata": {},
          "execution_count": 68
        }
      ]
    },
    {
      "cell_type": "code",
      "source": [
        "df['month']"
      ],
      "metadata": {
        "colab": {
          "base_uri": "https://localhost:8080/"
        },
        "id": "iKykaWDRoUrh",
        "outputId": "74ea48c6-62e3-4908-fbfc-6acf5d77aed1"
      },
      "execution_count": null,
      "outputs": [
        {
          "output_type": "execute_result",
          "data": {
            "text/plain": [
              "0         5\n",
              "1         5\n",
              "2         5\n",
              "3         5\n",
              "4         5\n",
              "         ..\n",
              "45206    11\n",
              "45207    11\n",
              "45208    11\n",
              "45209    11\n",
              "45210    11\n",
              "Name: month, Length: 45211, dtype: int64"
            ]
          },
          "metadata": {},
          "execution_count": 69
        }
      ]
    },
    {
      "cell_type": "code",
      "source": [
        "df.groupby('month').count()['conversion'] # 월별 conversion 수"
      ],
      "metadata": {
        "colab": {
          "base_uri": "https://localhost:8080/"
        },
        "id": "pSfcSgiBnwz8",
        "outputId": "94065a0e-7c3e-4652-bfc4-13f7c7835fa2"
      },
      "execution_count": null,
      "outputs": [
        {
          "output_type": "execute_result",
          "data": {
            "text/plain": [
              "month\n",
              "1      1403\n",
              "2      2649\n",
              "3       477\n",
              "4      2932\n",
              "5     13766\n",
              "6      5341\n",
              "7      6895\n",
              "8      6247\n",
              "9       579\n",
              "10      738\n",
              "11     3970\n",
              "12      214\n",
              "Name: conversion, dtype: int64"
            ]
          },
          "metadata": {},
          "execution_count": 71
        }
      ]
    },
    {
      "cell_type": "markdown",
      "source": [
        "## encoding 'job'"
      ],
      "metadata": {
        "id": "DdQ_nYpVo8dw"
      }
    },
    {
      "cell_type": "code",
      "source": [
        "df['job'].unique()"
      ],
      "metadata": {
        "colab": {
          "base_uri": "https://localhost:8080/"
        },
        "id": "cCjofBVhn2io",
        "outputId": "de1a56f6-b228-47fd-c7c2-9dfb32ca3127"
      },
      "execution_count": null,
      "outputs": [
        {
          "output_type": "execute_result",
          "data": {
            "text/plain": [
              "array(['management', 'technician', 'entrepreneur', 'blue-collar',\n",
              "       'unknown', 'retired', 'admin.', 'services', 'self-employed',\n",
              "       'unemployed', 'housemaid', 'student'], dtype=object)"
            ]
          },
          "metadata": {},
          "execution_count": 72
        }
      ]
    },
    {
      "cell_type": "code",
      "source": [
        "jobs_encoded_df = pd.get_dummies(df['job'])\n",
        "jobs_encoded_df.columns = ['job_%s' % x for x in jobs_encoded_df.columns]"
      ],
      "metadata": {
        "id": "VYAxaeVipBPd"
      },
      "execution_count": null,
      "outputs": []
    },
    {
      "cell_type": "markdown",
      "source": [
        "- Pandas의 get_dummies 메서드\n",
        "    \n",
        "    링크: [https://devuna.tistory.com/67](https://devuna.tistory.com/67)\n",
        "    \n",
        "    머신러닝을 진행할 때 기계, 즉 컴퓨터가 이해할 수 있도록 모든 데이터를 수치화시키는 작업이 필요하다. 예를 들어, 숫자가 아닌 object형의 데이터가 있다면…[월, 화, 수, 목, 금] \n",
        "    \n",
        "    (*참고: categorical data가 두가지, 즉 binary라면 get_dummies() 사용할 필요없음!)\n",
        "    \n",
        "    1) 그렇다면, 먼저 수치형 데이터로 변환을 해준 뒤,\n",
        "    \n",
        "    2) 수치화된 데이터를 가변수화, pd.get_dummies() 를 사용하여 나타내준다.\n",
        "    \n",
        "    사용하는 이유는? 수치화 시켰을 시 수치 간 관계가 생기는데, 이를 없애주기 위함! (월 + 화 = 수요일?)"
      ],
      "metadata": {
        "id": "8mx6K5JApc4Q"
      }
    },
    {
      "cell_type": "code",
      "source": [
        "jobs_encoded_df.head()"
      ],
      "metadata": {
        "colab": {
          "base_uri": "https://localhost:8080/",
          "height": 288
        },
        "id": "7T3kvc6LpL_D",
        "outputId": "8e0f3250-9a0c-4398-b20b-2a4ef9a41d4f"
      },
      "execution_count": null,
      "outputs": [
        {
          "output_type": "execute_result",
          "data": {
            "text/plain": [
              "   job_admin.  job_blue-collar  job_entrepreneur  job_housemaid  \\\n",
              "0           0                0                 0              0   \n",
              "1           0                0                 0              0   \n",
              "2           0                0                 1              0   \n",
              "3           0                1                 0              0   \n",
              "4           0                0                 0              0   \n",
              "\n",
              "   job_management  job_retired  job_self-employed  job_services  job_student  \\\n",
              "0               1            0                  0             0            0   \n",
              "1               0            0                  0             0            0   \n",
              "2               0            0                  0             0            0   \n",
              "3               0            0                  0             0            0   \n",
              "4               0            0                  0             0            0   \n",
              "\n",
              "   job_technician  job_unemployed  job_unknown  \n",
              "0               0               0            0  \n",
              "1               1               0            0  \n",
              "2               0               0            0  \n",
              "3               0               0            0  \n",
              "4               0               0            1  "
            ],
            "text/html": [
              "\n",
              "  <div id=\"df-46885b2c-7dc6-403b-a0ce-f4ae2c1dce7b\">\n",
              "    <div class=\"colab-df-container\">\n",
              "      <div>\n",
              "<style scoped>\n",
              "    .dataframe tbody tr th:only-of-type {\n",
              "        vertical-align: middle;\n",
              "    }\n",
              "\n",
              "    .dataframe tbody tr th {\n",
              "        vertical-align: top;\n",
              "    }\n",
              "\n",
              "    .dataframe thead th {\n",
              "        text-align: right;\n",
              "    }\n",
              "</style>\n",
              "<table border=\"1\" class=\"dataframe\">\n",
              "  <thead>\n",
              "    <tr style=\"text-align: right;\">\n",
              "      <th></th>\n",
              "      <th>job_admin.</th>\n",
              "      <th>job_blue-collar</th>\n",
              "      <th>job_entrepreneur</th>\n",
              "      <th>job_housemaid</th>\n",
              "      <th>job_management</th>\n",
              "      <th>job_retired</th>\n",
              "      <th>job_self-employed</th>\n",
              "      <th>job_services</th>\n",
              "      <th>job_student</th>\n",
              "      <th>job_technician</th>\n",
              "      <th>job_unemployed</th>\n",
              "      <th>job_unknown</th>\n",
              "    </tr>\n",
              "  </thead>\n",
              "  <tbody>\n",
              "    <tr>\n",
              "      <th>0</th>\n",
              "      <td>0</td>\n",
              "      <td>0</td>\n",
              "      <td>0</td>\n",
              "      <td>0</td>\n",
              "      <td>1</td>\n",
              "      <td>0</td>\n",
              "      <td>0</td>\n",
              "      <td>0</td>\n",
              "      <td>0</td>\n",
              "      <td>0</td>\n",
              "      <td>0</td>\n",
              "      <td>0</td>\n",
              "    </tr>\n",
              "    <tr>\n",
              "      <th>1</th>\n",
              "      <td>0</td>\n",
              "      <td>0</td>\n",
              "      <td>0</td>\n",
              "      <td>0</td>\n",
              "      <td>0</td>\n",
              "      <td>0</td>\n",
              "      <td>0</td>\n",
              "      <td>0</td>\n",
              "      <td>0</td>\n",
              "      <td>1</td>\n",
              "      <td>0</td>\n",
              "      <td>0</td>\n",
              "    </tr>\n",
              "    <tr>\n",
              "      <th>2</th>\n",
              "      <td>0</td>\n",
              "      <td>0</td>\n",
              "      <td>1</td>\n",
              "      <td>0</td>\n",
              "      <td>0</td>\n",
              "      <td>0</td>\n",
              "      <td>0</td>\n",
              "      <td>0</td>\n",
              "      <td>0</td>\n",
              "      <td>0</td>\n",
              "      <td>0</td>\n",
              "      <td>0</td>\n",
              "    </tr>\n",
              "    <tr>\n",
              "      <th>3</th>\n",
              "      <td>0</td>\n",
              "      <td>1</td>\n",
              "      <td>0</td>\n",
              "      <td>0</td>\n",
              "      <td>0</td>\n",
              "      <td>0</td>\n",
              "      <td>0</td>\n",
              "      <td>0</td>\n",
              "      <td>0</td>\n",
              "      <td>0</td>\n",
              "      <td>0</td>\n",
              "      <td>0</td>\n",
              "    </tr>\n",
              "    <tr>\n",
              "      <th>4</th>\n",
              "      <td>0</td>\n",
              "      <td>0</td>\n",
              "      <td>0</td>\n",
              "      <td>0</td>\n",
              "      <td>0</td>\n",
              "      <td>0</td>\n",
              "      <td>0</td>\n",
              "      <td>0</td>\n",
              "      <td>0</td>\n",
              "      <td>0</td>\n",
              "      <td>0</td>\n",
              "      <td>1</td>\n",
              "    </tr>\n",
              "  </tbody>\n",
              "</table>\n",
              "</div>\n",
              "      <button class=\"colab-df-convert\" onclick=\"convertToInteractive('df-46885b2c-7dc6-403b-a0ce-f4ae2c1dce7b')\"\n",
              "              title=\"Convert this dataframe to an interactive table.\"\n",
              "              style=\"display:none;\">\n",
              "        \n",
              "  <svg xmlns=\"http://www.w3.org/2000/svg\" height=\"24px\"viewBox=\"0 0 24 24\"\n",
              "       width=\"24px\">\n",
              "    <path d=\"M0 0h24v24H0V0z\" fill=\"none\"/>\n",
              "    <path d=\"M18.56 5.44l.94 2.06.94-2.06 2.06-.94-2.06-.94-.94-2.06-.94 2.06-2.06.94zm-11 1L8.5 8.5l.94-2.06 2.06-.94-2.06-.94L8.5 2.5l-.94 2.06-2.06.94zm10 10l.94 2.06.94-2.06 2.06-.94-2.06-.94-.94-2.06-.94 2.06-2.06.94z\"/><path d=\"M17.41 7.96l-1.37-1.37c-.4-.4-.92-.59-1.43-.59-.52 0-1.04.2-1.43.59L10.3 9.45l-7.72 7.72c-.78.78-.78 2.05 0 2.83L4 21.41c.39.39.9.59 1.41.59.51 0 1.02-.2 1.41-.59l7.78-7.78 2.81-2.81c.8-.78.8-2.07 0-2.86zM5.41 20L4 18.59l7.72-7.72 1.47 1.35L5.41 20z\"/>\n",
              "  </svg>\n",
              "      </button>\n",
              "      \n",
              "  <style>\n",
              "    .colab-df-container {\n",
              "      display:flex;\n",
              "      flex-wrap:wrap;\n",
              "      gap: 12px;\n",
              "    }\n",
              "\n",
              "    .colab-df-convert {\n",
              "      background-color: #E8F0FE;\n",
              "      border: none;\n",
              "      border-radius: 50%;\n",
              "      cursor: pointer;\n",
              "      display: none;\n",
              "      fill: #1967D2;\n",
              "      height: 32px;\n",
              "      padding: 0 0 0 0;\n",
              "      width: 32px;\n",
              "    }\n",
              "\n",
              "    .colab-df-convert:hover {\n",
              "      background-color: #E2EBFA;\n",
              "      box-shadow: 0px 1px 2px rgba(60, 64, 67, 0.3), 0px 1px 3px 1px rgba(60, 64, 67, 0.15);\n",
              "      fill: #174EA6;\n",
              "    }\n",
              "\n",
              "    [theme=dark] .colab-df-convert {\n",
              "      background-color: #3B4455;\n",
              "      fill: #D2E3FC;\n",
              "    }\n",
              "\n",
              "    [theme=dark] .colab-df-convert:hover {\n",
              "      background-color: #434B5C;\n",
              "      box-shadow: 0px 1px 3px 1px rgba(0, 0, 0, 0.15);\n",
              "      filter: drop-shadow(0px 1px 2px rgba(0, 0, 0, 0.3));\n",
              "      fill: #FFFFFF;\n",
              "    }\n",
              "  </style>\n",
              "\n",
              "      <script>\n",
              "        const buttonEl =\n",
              "          document.querySelector('#df-46885b2c-7dc6-403b-a0ce-f4ae2c1dce7b button.colab-df-convert');\n",
              "        buttonEl.style.display =\n",
              "          google.colab.kernel.accessAllowed ? 'block' : 'none';\n",
              "\n",
              "        async function convertToInteractive(key) {\n",
              "          const element = document.querySelector('#df-46885b2c-7dc6-403b-a0ce-f4ae2c1dce7b');\n",
              "          const dataTable =\n",
              "            await google.colab.kernel.invokeFunction('convertToInteractive',\n",
              "                                                     [key], {});\n",
              "          if (!dataTable) return;\n",
              "\n",
              "          const docLinkHtml = 'Like what you see? Visit the ' +\n",
              "            '<a target=\"_blank\" href=https://colab.research.google.com/notebooks/data_table.ipynb>data table notebook</a>'\n",
              "            + ' to learn more about interactive tables.';\n",
              "          element.innerHTML = '';\n",
              "          dataTable['output_type'] = 'display_data';\n",
              "          await google.colab.output.renderOutput(dataTable, element);\n",
              "          const docLink = document.createElement('div');\n",
              "          docLink.innerHTML = docLinkHtml;\n",
              "          element.appendChild(docLink);\n",
              "        }\n",
              "      </script>\n",
              "    </div>\n",
              "  </div>\n",
              "  "
            ]
          },
          "metadata": {},
          "execution_count": 74
        }
      ]
    },
    {
      "cell_type": "code",
      "source": [
        "df = pd.concat([df, jobs_encoded_df], axis=1)\n",
        "df.head()"
      ],
      "metadata": {
        "colab": {
          "base_uri": "https://localhost:8080/",
          "height": 317
        },
        "id": "fDC9ezP7pf_p",
        "outputId": "35b915dc-9df4-46be-b148-037e7e73342d"
      },
      "execution_count": null,
      "outputs": [
        {
          "output_type": "execute_result",
          "data": {
            "text/plain": [
              "   age           job  marital  education default  balance housing loan  \\\n",
              "0   58    management  married   tertiary      no     2143     yes   no   \n",
              "1   44    technician   single  secondary      no       29     yes   no   \n",
              "2   33  entrepreneur  married  secondary      no        2     yes  yes   \n",
              "3   47   blue-collar  married    unknown      no     1506     yes   no   \n",
              "4   33       unknown   single    unknown      no        1      no   no   \n",
              "\n",
              "   contact  day  ...  job_entrepreneur  job_housemaid  job_management  \\\n",
              "0  unknown    5  ...                 0              0               1   \n",
              "1  unknown    5  ...                 0              0               0   \n",
              "2  unknown    5  ...                 1              0               0   \n",
              "3  unknown    5  ...                 0              0               0   \n",
              "4  unknown    5  ...                 0              0               0   \n",
              "\n",
              "   job_retired  job_self-employed job_services job_student  job_technician  \\\n",
              "0            0                  0            0           0               0   \n",
              "1            0                  0            0           0               1   \n",
              "2            0                  0            0           0               0   \n",
              "3            0                  0            0           0               0   \n",
              "4            0                  0            0           0               0   \n",
              "\n",
              "   job_unemployed  job_unknown  \n",
              "0               0            0  \n",
              "1               0            0  \n",
              "2               0            0  \n",
              "3               0            0  \n",
              "4               0            1  \n",
              "\n",
              "[5 rows x 30 columns]"
            ],
            "text/html": [
              "\n",
              "  <div id=\"df-5ada480b-a362-4ad9-80df-45da5189b2e4\">\n",
              "    <div class=\"colab-df-container\">\n",
              "      <div>\n",
              "<style scoped>\n",
              "    .dataframe tbody tr th:only-of-type {\n",
              "        vertical-align: middle;\n",
              "    }\n",
              "\n",
              "    .dataframe tbody tr th {\n",
              "        vertical-align: top;\n",
              "    }\n",
              "\n",
              "    .dataframe thead th {\n",
              "        text-align: right;\n",
              "    }\n",
              "</style>\n",
              "<table border=\"1\" class=\"dataframe\">\n",
              "  <thead>\n",
              "    <tr style=\"text-align: right;\">\n",
              "      <th></th>\n",
              "      <th>age</th>\n",
              "      <th>job</th>\n",
              "      <th>marital</th>\n",
              "      <th>education</th>\n",
              "      <th>default</th>\n",
              "      <th>balance</th>\n",
              "      <th>housing</th>\n",
              "      <th>loan</th>\n",
              "      <th>contact</th>\n",
              "      <th>day</th>\n",
              "      <th>...</th>\n",
              "      <th>job_entrepreneur</th>\n",
              "      <th>job_housemaid</th>\n",
              "      <th>job_management</th>\n",
              "      <th>job_retired</th>\n",
              "      <th>job_self-employed</th>\n",
              "      <th>job_services</th>\n",
              "      <th>job_student</th>\n",
              "      <th>job_technician</th>\n",
              "      <th>job_unemployed</th>\n",
              "      <th>job_unknown</th>\n",
              "    </tr>\n",
              "  </thead>\n",
              "  <tbody>\n",
              "    <tr>\n",
              "      <th>0</th>\n",
              "      <td>58</td>\n",
              "      <td>management</td>\n",
              "      <td>married</td>\n",
              "      <td>tertiary</td>\n",
              "      <td>no</td>\n",
              "      <td>2143</td>\n",
              "      <td>yes</td>\n",
              "      <td>no</td>\n",
              "      <td>unknown</td>\n",
              "      <td>5</td>\n",
              "      <td>...</td>\n",
              "      <td>0</td>\n",
              "      <td>0</td>\n",
              "      <td>1</td>\n",
              "      <td>0</td>\n",
              "      <td>0</td>\n",
              "      <td>0</td>\n",
              "      <td>0</td>\n",
              "      <td>0</td>\n",
              "      <td>0</td>\n",
              "      <td>0</td>\n",
              "    </tr>\n",
              "    <tr>\n",
              "      <th>1</th>\n",
              "      <td>44</td>\n",
              "      <td>technician</td>\n",
              "      <td>single</td>\n",
              "      <td>secondary</td>\n",
              "      <td>no</td>\n",
              "      <td>29</td>\n",
              "      <td>yes</td>\n",
              "      <td>no</td>\n",
              "      <td>unknown</td>\n",
              "      <td>5</td>\n",
              "      <td>...</td>\n",
              "      <td>0</td>\n",
              "      <td>0</td>\n",
              "      <td>0</td>\n",
              "      <td>0</td>\n",
              "      <td>0</td>\n",
              "      <td>0</td>\n",
              "      <td>0</td>\n",
              "      <td>1</td>\n",
              "      <td>0</td>\n",
              "      <td>0</td>\n",
              "    </tr>\n",
              "    <tr>\n",
              "      <th>2</th>\n",
              "      <td>33</td>\n",
              "      <td>entrepreneur</td>\n",
              "      <td>married</td>\n",
              "      <td>secondary</td>\n",
              "      <td>no</td>\n",
              "      <td>2</td>\n",
              "      <td>yes</td>\n",
              "      <td>yes</td>\n",
              "      <td>unknown</td>\n",
              "      <td>5</td>\n",
              "      <td>...</td>\n",
              "      <td>1</td>\n",
              "      <td>0</td>\n",
              "      <td>0</td>\n",
              "      <td>0</td>\n",
              "      <td>0</td>\n",
              "      <td>0</td>\n",
              "      <td>0</td>\n",
              "      <td>0</td>\n",
              "      <td>0</td>\n",
              "      <td>0</td>\n",
              "    </tr>\n",
              "    <tr>\n",
              "      <th>3</th>\n",
              "      <td>47</td>\n",
              "      <td>blue-collar</td>\n",
              "      <td>married</td>\n",
              "      <td>unknown</td>\n",
              "      <td>no</td>\n",
              "      <td>1506</td>\n",
              "      <td>yes</td>\n",
              "      <td>no</td>\n",
              "      <td>unknown</td>\n",
              "      <td>5</td>\n",
              "      <td>...</td>\n",
              "      <td>0</td>\n",
              "      <td>0</td>\n",
              "      <td>0</td>\n",
              "      <td>0</td>\n",
              "      <td>0</td>\n",
              "      <td>0</td>\n",
              "      <td>0</td>\n",
              "      <td>0</td>\n",
              "      <td>0</td>\n",
              "      <td>0</td>\n",
              "    </tr>\n",
              "    <tr>\n",
              "      <th>4</th>\n",
              "      <td>33</td>\n",
              "      <td>unknown</td>\n",
              "      <td>single</td>\n",
              "      <td>unknown</td>\n",
              "      <td>no</td>\n",
              "      <td>1</td>\n",
              "      <td>no</td>\n",
              "      <td>no</td>\n",
              "      <td>unknown</td>\n",
              "      <td>5</td>\n",
              "      <td>...</td>\n",
              "      <td>0</td>\n",
              "      <td>0</td>\n",
              "      <td>0</td>\n",
              "      <td>0</td>\n",
              "      <td>0</td>\n",
              "      <td>0</td>\n",
              "      <td>0</td>\n",
              "      <td>0</td>\n",
              "      <td>0</td>\n",
              "      <td>1</td>\n",
              "    </tr>\n",
              "  </tbody>\n",
              "</table>\n",
              "<p>5 rows × 30 columns</p>\n",
              "</div>\n",
              "      <button class=\"colab-df-convert\" onclick=\"convertToInteractive('df-5ada480b-a362-4ad9-80df-45da5189b2e4')\"\n",
              "              title=\"Convert this dataframe to an interactive table.\"\n",
              "              style=\"display:none;\">\n",
              "        \n",
              "  <svg xmlns=\"http://www.w3.org/2000/svg\" height=\"24px\"viewBox=\"0 0 24 24\"\n",
              "       width=\"24px\">\n",
              "    <path d=\"M0 0h24v24H0V0z\" fill=\"none\"/>\n",
              "    <path d=\"M18.56 5.44l.94 2.06.94-2.06 2.06-.94-2.06-.94-.94-2.06-.94 2.06-2.06.94zm-11 1L8.5 8.5l.94-2.06 2.06-.94-2.06-.94L8.5 2.5l-.94 2.06-2.06.94zm10 10l.94 2.06.94-2.06 2.06-.94-2.06-.94-.94-2.06-.94 2.06-2.06.94z\"/><path d=\"M17.41 7.96l-1.37-1.37c-.4-.4-.92-.59-1.43-.59-.52 0-1.04.2-1.43.59L10.3 9.45l-7.72 7.72c-.78.78-.78 2.05 0 2.83L4 21.41c.39.39.9.59 1.41.59.51 0 1.02-.2 1.41-.59l7.78-7.78 2.81-2.81c.8-.78.8-2.07 0-2.86zM5.41 20L4 18.59l7.72-7.72 1.47 1.35L5.41 20z\"/>\n",
              "  </svg>\n",
              "      </button>\n",
              "      \n",
              "  <style>\n",
              "    .colab-df-container {\n",
              "      display:flex;\n",
              "      flex-wrap:wrap;\n",
              "      gap: 12px;\n",
              "    }\n",
              "\n",
              "    .colab-df-convert {\n",
              "      background-color: #E8F0FE;\n",
              "      border: none;\n",
              "      border-radius: 50%;\n",
              "      cursor: pointer;\n",
              "      display: none;\n",
              "      fill: #1967D2;\n",
              "      height: 32px;\n",
              "      padding: 0 0 0 0;\n",
              "      width: 32px;\n",
              "    }\n",
              "\n",
              "    .colab-df-convert:hover {\n",
              "      background-color: #E2EBFA;\n",
              "      box-shadow: 0px 1px 2px rgba(60, 64, 67, 0.3), 0px 1px 3px 1px rgba(60, 64, 67, 0.15);\n",
              "      fill: #174EA6;\n",
              "    }\n",
              "\n",
              "    [theme=dark] .colab-df-convert {\n",
              "      background-color: #3B4455;\n",
              "      fill: #D2E3FC;\n",
              "    }\n",
              "\n",
              "    [theme=dark] .colab-df-convert:hover {\n",
              "      background-color: #434B5C;\n",
              "      box-shadow: 0px 1px 3px 1px rgba(0, 0, 0, 0.15);\n",
              "      filter: drop-shadow(0px 1px 2px rgba(0, 0, 0, 0.3));\n",
              "      fill: #FFFFFF;\n",
              "    }\n",
              "  </style>\n",
              "\n",
              "      <script>\n",
              "        const buttonEl =\n",
              "          document.querySelector('#df-5ada480b-a362-4ad9-80df-45da5189b2e4 button.colab-df-convert');\n",
              "        buttonEl.style.display =\n",
              "          google.colab.kernel.accessAllowed ? 'block' : 'none';\n",
              "\n",
              "        async function convertToInteractive(key) {\n",
              "          const element = document.querySelector('#df-5ada480b-a362-4ad9-80df-45da5189b2e4');\n",
              "          const dataTable =\n",
              "            await google.colab.kernel.invokeFunction('convertToInteractive',\n",
              "                                                     [key], {});\n",
              "          if (!dataTable) return;\n",
              "\n",
              "          const docLinkHtml = 'Like what you see? Visit the ' +\n",
              "            '<a target=\"_blank\" href=https://colab.research.google.com/notebooks/data_table.ipynb>data table notebook</a>'\n",
              "            + ' to learn more about interactive tables.';\n",
              "          element.innerHTML = '';\n",
              "          dataTable['output_type'] = 'display_data';\n",
              "          await google.colab.output.renderOutput(dataTable, element);\n",
              "          const docLink = document.createElement('div');\n",
              "          docLink.innerHTML = docLinkHtml;\n",
              "          element.appendChild(docLink);\n",
              "        }\n",
              "      </script>\n",
              "    </div>\n",
              "  </div>\n",
              "  "
            ]
          },
          "metadata": {},
          "execution_count": 75
        }
      ]
    },
    {
      "cell_type": "markdown",
      "source": [
        "## encoding 'marital'"
      ],
      "metadata": {
        "id": "oCxpVJIxpmlR"
      }
    },
    {
      "cell_type": "code",
      "source": [
        "marital_encoded_df = pd.get_dummies(df['marital'])\n",
        "marital_encoded_df.columns = ['marital_%s' % x for x in marital_encoded_df.columns]"
      ],
      "metadata": {
        "id": "bD4yOiZxplOC"
      },
      "execution_count": null,
      "outputs": []
    },
    {
      "cell_type": "code",
      "source": [
        "marital_encoded_df.head()"
      ],
      "metadata": {
        "colab": {
          "base_uri": "https://localhost:8080/",
          "height": 206
        },
        "id": "s6tKmMKXp-8R",
        "outputId": "677f34d9-2177-4f6f-88b2-c9c99f26a4d1"
      },
      "execution_count": null,
      "outputs": [
        {
          "output_type": "execute_result",
          "data": {
            "text/plain": [
              "   marital_divorced  marital_married  marital_single\n",
              "0                 0                1               0\n",
              "1                 0                0               1\n",
              "2                 0                1               0\n",
              "3                 0                1               0\n",
              "4                 0                0               1"
            ],
            "text/html": [
              "\n",
              "  <div id=\"df-76a23757-f832-4bb8-b76b-a235a8769bbd\">\n",
              "    <div class=\"colab-df-container\">\n",
              "      <div>\n",
              "<style scoped>\n",
              "    .dataframe tbody tr th:only-of-type {\n",
              "        vertical-align: middle;\n",
              "    }\n",
              "\n",
              "    .dataframe tbody tr th {\n",
              "        vertical-align: top;\n",
              "    }\n",
              "\n",
              "    .dataframe thead th {\n",
              "        text-align: right;\n",
              "    }\n",
              "</style>\n",
              "<table border=\"1\" class=\"dataframe\">\n",
              "  <thead>\n",
              "    <tr style=\"text-align: right;\">\n",
              "      <th></th>\n",
              "      <th>marital_divorced</th>\n",
              "      <th>marital_married</th>\n",
              "      <th>marital_single</th>\n",
              "    </tr>\n",
              "  </thead>\n",
              "  <tbody>\n",
              "    <tr>\n",
              "      <th>0</th>\n",
              "      <td>0</td>\n",
              "      <td>1</td>\n",
              "      <td>0</td>\n",
              "    </tr>\n",
              "    <tr>\n",
              "      <th>1</th>\n",
              "      <td>0</td>\n",
              "      <td>0</td>\n",
              "      <td>1</td>\n",
              "    </tr>\n",
              "    <tr>\n",
              "      <th>2</th>\n",
              "      <td>0</td>\n",
              "      <td>1</td>\n",
              "      <td>0</td>\n",
              "    </tr>\n",
              "    <tr>\n",
              "      <th>3</th>\n",
              "      <td>0</td>\n",
              "      <td>1</td>\n",
              "      <td>0</td>\n",
              "    </tr>\n",
              "    <tr>\n",
              "      <th>4</th>\n",
              "      <td>0</td>\n",
              "      <td>0</td>\n",
              "      <td>1</td>\n",
              "    </tr>\n",
              "  </tbody>\n",
              "</table>\n",
              "</div>\n",
              "      <button class=\"colab-df-convert\" onclick=\"convertToInteractive('df-76a23757-f832-4bb8-b76b-a235a8769bbd')\"\n",
              "              title=\"Convert this dataframe to an interactive table.\"\n",
              "              style=\"display:none;\">\n",
              "        \n",
              "  <svg xmlns=\"http://www.w3.org/2000/svg\" height=\"24px\"viewBox=\"0 0 24 24\"\n",
              "       width=\"24px\">\n",
              "    <path d=\"M0 0h24v24H0V0z\" fill=\"none\"/>\n",
              "    <path d=\"M18.56 5.44l.94 2.06.94-2.06 2.06-.94-2.06-.94-.94-2.06-.94 2.06-2.06.94zm-11 1L8.5 8.5l.94-2.06 2.06-.94-2.06-.94L8.5 2.5l-.94 2.06-2.06.94zm10 10l.94 2.06.94-2.06 2.06-.94-2.06-.94-.94-2.06-.94 2.06-2.06.94z\"/><path d=\"M17.41 7.96l-1.37-1.37c-.4-.4-.92-.59-1.43-.59-.52 0-1.04.2-1.43.59L10.3 9.45l-7.72 7.72c-.78.78-.78 2.05 0 2.83L4 21.41c.39.39.9.59 1.41.59.51 0 1.02-.2 1.41-.59l7.78-7.78 2.81-2.81c.8-.78.8-2.07 0-2.86zM5.41 20L4 18.59l7.72-7.72 1.47 1.35L5.41 20z\"/>\n",
              "  </svg>\n",
              "      </button>\n",
              "      \n",
              "  <style>\n",
              "    .colab-df-container {\n",
              "      display:flex;\n",
              "      flex-wrap:wrap;\n",
              "      gap: 12px;\n",
              "    }\n",
              "\n",
              "    .colab-df-convert {\n",
              "      background-color: #E8F0FE;\n",
              "      border: none;\n",
              "      border-radius: 50%;\n",
              "      cursor: pointer;\n",
              "      display: none;\n",
              "      fill: #1967D2;\n",
              "      height: 32px;\n",
              "      padding: 0 0 0 0;\n",
              "      width: 32px;\n",
              "    }\n",
              "\n",
              "    .colab-df-convert:hover {\n",
              "      background-color: #E2EBFA;\n",
              "      box-shadow: 0px 1px 2px rgba(60, 64, 67, 0.3), 0px 1px 3px 1px rgba(60, 64, 67, 0.15);\n",
              "      fill: #174EA6;\n",
              "    }\n",
              "\n",
              "    [theme=dark] .colab-df-convert {\n",
              "      background-color: #3B4455;\n",
              "      fill: #D2E3FC;\n",
              "    }\n",
              "\n",
              "    [theme=dark] .colab-df-convert:hover {\n",
              "      background-color: #434B5C;\n",
              "      box-shadow: 0px 1px 3px 1px rgba(0, 0, 0, 0.15);\n",
              "      filter: drop-shadow(0px 1px 2px rgba(0, 0, 0, 0.3));\n",
              "      fill: #FFFFFF;\n",
              "    }\n",
              "  </style>\n",
              "\n",
              "      <script>\n",
              "        const buttonEl =\n",
              "          document.querySelector('#df-76a23757-f832-4bb8-b76b-a235a8769bbd button.colab-df-convert');\n",
              "        buttonEl.style.display =\n",
              "          google.colab.kernel.accessAllowed ? 'block' : 'none';\n",
              "\n",
              "        async function convertToInteractive(key) {\n",
              "          const element = document.querySelector('#df-76a23757-f832-4bb8-b76b-a235a8769bbd');\n",
              "          const dataTable =\n",
              "            await google.colab.kernel.invokeFunction('convertToInteractive',\n",
              "                                                     [key], {});\n",
              "          if (!dataTable) return;\n",
              "\n",
              "          const docLinkHtml = 'Like what you see? Visit the ' +\n",
              "            '<a target=\"_blank\" href=https://colab.research.google.com/notebooks/data_table.ipynb>data table notebook</a>'\n",
              "            + ' to learn more about interactive tables.';\n",
              "          element.innerHTML = '';\n",
              "          dataTable['output_type'] = 'display_data';\n",
              "          await google.colab.output.renderOutput(dataTable, element);\n",
              "          const docLink = document.createElement('div');\n",
              "          docLink.innerHTML = docLinkHtml;\n",
              "          element.appendChild(docLink);\n",
              "        }\n",
              "      </script>\n",
              "    </div>\n",
              "  </div>\n",
              "  "
            ]
          },
          "metadata": {},
          "execution_count": 78
        }
      ]
    },
    {
      "cell_type": "code",
      "source": [
        "df = pd.concat([df, marital_encoded_df], axis=1)\n",
        "df.head()"
      ],
      "metadata": {
        "colab": {
          "base_uri": "https://localhost:8080/",
          "height": 317
        },
        "id": "83NUaYz3p_71",
        "outputId": "3be5a0df-4c64-437b-c9a6-1f6d0a191999"
      },
      "execution_count": null,
      "outputs": [
        {
          "output_type": "execute_result",
          "data": {
            "text/plain": [
              "   age           job  marital  education default  balance housing loan  \\\n",
              "0   58    management  married   tertiary      no     2143     yes   no   \n",
              "1   44    technician   single  secondary      no       29     yes   no   \n",
              "2   33  entrepreneur  married  secondary      no        2     yes  yes   \n",
              "3   47   blue-collar  married    unknown      no     1506     yes   no   \n",
              "4   33       unknown   single    unknown      no        1      no   no   \n",
              "\n",
              "   contact  day  ...  job_retired  job_self-employed  job_services  \\\n",
              "0  unknown    5  ...            0                  0             0   \n",
              "1  unknown    5  ...            0                  0             0   \n",
              "2  unknown    5  ...            0                  0             0   \n",
              "3  unknown    5  ...            0                  0             0   \n",
              "4  unknown    5  ...            0                  0             0   \n",
              "\n",
              "   job_student  job_technician job_unemployed job_unknown  marital_divorced  \\\n",
              "0            0               0              0           0                 0   \n",
              "1            0               1              0           0                 0   \n",
              "2            0               0              0           0                 0   \n",
              "3            0               0              0           0                 0   \n",
              "4            0               0              0           1                 0   \n",
              "\n",
              "   marital_married  marital_single  \n",
              "0                1               0  \n",
              "1                0               1  \n",
              "2                1               0  \n",
              "3                1               0  \n",
              "4                0               1  \n",
              "\n",
              "[5 rows x 33 columns]"
            ],
            "text/html": [
              "\n",
              "  <div id=\"df-7a48aaca-93a9-4aa7-ad2b-2c1f93caa8c0\">\n",
              "    <div class=\"colab-df-container\">\n",
              "      <div>\n",
              "<style scoped>\n",
              "    .dataframe tbody tr th:only-of-type {\n",
              "        vertical-align: middle;\n",
              "    }\n",
              "\n",
              "    .dataframe tbody tr th {\n",
              "        vertical-align: top;\n",
              "    }\n",
              "\n",
              "    .dataframe thead th {\n",
              "        text-align: right;\n",
              "    }\n",
              "</style>\n",
              "<table border=\"1\" class=\"dataframe\">\n",
              "  <thead>\n",
              "    <tr style=\"text-align: right;\">\n",
              "      <th></th>\n",
              "      <th>age</th>\n",
              "      <th>job</th>\n",
              "      <th>marital</th>\n",
              "      <th>education</th>\n",
              "      <th>default</th>\n",
              "      <th>balance</th>\n",
              "      <th>housing</th>\n",
              "      <th>loan</th>\n",
              "      <th>contact</th>\n",
              "      <th>day</th>\n",
              "      <th>...</th>\n",
              "      <th>job_retired</th>\n",
              "      <th>job_self-employed</th>\n",
              "      <th>job_services</th>\n",
              "      <th>job_student</th>\n",
              "      <th>job_technician</th>\n",
              "      <th>job_unemployed</th>\n",
              "      <th>job_unknown</th>\n",
              "      <th>marital_divorced</th>\n",
              "      <th>marital_married</th>\n",
              "      <th>marital_single</th>\n",
              "    </tr>\n",
              "  </thead>\n",
              "  <tbody>\n",
              "    <tr>\n",
              "      <th>0</th>\n",
              "      <td>58</td>\n",
              "      <td>management</td>\n",
              "      <td>married</td>\n",
              "      <td>tertiary</td>\n",
              "      <td>no</td>\n",
              "      <td>2143</td>\n",
              "      <td>yes</td>\n",
              "      <td>no</td>\n",
              "      <td>unknown</td>\n",
              "      <td>5</td>\n",
              "      <td>...</td>\n",
              "      <td>0</td>\n",
              "      <td>0</td>\n",
              "      <td>0</td>\n",
              "      <td>0</td>\n",
              "      <td>0</td>\n",
              "      <td>0</td>\n",
              "      <td>0</td>\n",
              "      <td>0</td>\n",
              "      <td>1</td>\n",
              "      <td>0</td>\n",
              "    </tr>\n",
              "    <tr>\n",
              "      <th>1</th>\n",
              "      <td>44</td>\n",
              "      <td>technician</td>\n",
              "      <td>single</td>\n",
              "      <td>secondary</td>\n",
              "      <td>no</td>\n",
              "      <td>29</td>\n",
              "      <td>yes</td>\n",
              "      <td>no</td>\n",
              "      <td>unknown</td>\n",
              "      <td>5</td>\n",
              "      <td>...</td>\n",
              "      <td>0</td>\n",
              "      <td>0</td>\n",
              "      <td>0</td>\n",
              "      <td>0</td>\n",
              "      <td>1</td>\n",
              "      <td>0</td>\n",
              "      <td>0</td>\n",
              "      <td>0</td>\n",
              "      <td>0</td>\n",
              "      <td>1</td>\n",
              "    </tr>\n",
              "    <tr>\n",
              "      <th>2</th>\n",
              "      <td>33</td>\n",
              "      <td>entrepreneur</td>\n",
              "      <td>married</td>\n",
              "      <td>secondary</td>\n",
              "      <td>no</td>\n",
              "      <td>2</td>\n",
              "      <td>yes</td>\n",
              "      <td>yes</td>\n",
              "      <td>unknown</td>\n",
              "      <td>5</td>\n",
              "      <td>...</td>\n",
              "      <td>0</td>\n",
              "      <td>0</td>\n",
              "      <td>0</td>\n",
              "      <td>0</td>\n",
              "      <td>0</td>\n",
              "      <td>0</td>\n",
              "      <td>0</td>\n",
              "      <td>0</td>\n",
              "      <td>1</td>\n",
              "      <td>0</td>\n",
              "    </tr>\n",
              "    <tr>\n",
              "      <th>3</th>\n",
              "      <td>47</td>\n",
              "      <td>blue-collar</td>\n",
              "      <td>married</td>\n",
              "      <td>unknown</td>\n",
              "      <td>no</td>\n",
              "      <td>1506</td>\n",
              "      <td>yes</td>\n",
              "      <td>no</td>\n",
              "      <td>unknown</td>\n",
              "      <td>5</td>\n",
              "      <td>...</td>\n",
              "      <td>0</td>\n",
              "      <td>0</td>\n",
              "      <td>0</td>\n",
              "      <td>0</td>\n",
              "      <td>0</td>\n",
              "      <td>0</td>\n",
              "      <td>0</td>\n",
              "      <td>0</td>\n",
              "      <td>1</td>\n",
              "      <td>0</td>\n",
              "    </tr>\n",
              "    <tr>\n",
              "      <th>4</th>\n",
              "      <td>33</td>\n",
              "      <td>unknown</td>\n",
              "      <td>single</td>\n",
              "      <td>unknown</td>\n",
              "      <td>no</td>\n",
              "      <td>1</td>\n",
              "      <td>no</td>\n",
              "      <td>no</td>\n",
              "      <td>unknown</td>\n",
              "      <td>5</td>\n",
              "      <td>...</td>\n",
              "      <td>0</td>\n",
              "      <td>0</td>\n",
              "      <td>0</td>\n",
              "      <td>0</td>\n",
              "      <td>0</td>\n",
              "      <td>0</td>\n",
              "      <td>1</td>\n",
              "      <td>0</td>\n",
              "      <td>0</td>\n",
              "      <td>1</td>\n",
              "    </tr>\n",
              "  </tbody>\n",
              "</table>\n",
              "<p>5 rows × 33 columns</p>\n",
              "</div>\n",
              "      <button class=\"colab-df-convert\" onclick=\"convertToInteractive('df-7a48aaca-93a9-4aa7-ad2b-2c1f93caa8c0')\"\n",
              "              title=\"Convert this dataframe to an interactive table.\"\n",
              "              style=\"display:none;\">\n",
              "        \n",
              "  <svg xmlns=\"http://www.w3.org/2000/svg\" height=\"24px\"viewBox=\"0 0 24 24\"\n",
              "       width=\"24px\">\n",
              "    <path d=\"M0 0h24v24H0V0z\" fill=\"none\"/>\n",
              "    <path d=\"M18.56 5.44l.94 2.06.94-2.06 2.06-.94-2.06-.94-.94-2.06-.94 2.06-2.06.94zm-11 1L8.5 8.5l.94-2.06 2.06-.94-2.06-.94L8.5 2.5l-.94 2.06-2.06.94zm10 10l.94 2.06.94-2.06 2.06-.94-2.06-.94-.94-2.06-.94 2.06-2.06.94z\"/><path d=\"M17.41 7.96l-1.37-1.37c-.4-.4-.92-.59-1.43-.59-.52 0-1.04.2-1.43.59L10.3 9.45l-7.72 7.72c-.78.78-.78 2.05 0 2.83L4 21.41c.39.39.9.59 1.41.59.51 0 1.02-.2 1.41-.59l7.78-7.78 2.81-2.81c.8-.78.8-2.07 0-2.86zM5.41 20L4 18.59l7.72-7.72 1.47 1.35L5.41 20z\"/>\n",
              "  </svg>\n",
              "      </button>\n",
              "      \n",
              "  <style>\n",
              "    .colab-df-container {\n",
              "      display:flex;\n",
              "      flex-wrap:wrap;\n",
              "      gap: 12px;\n",
              "    }\n",
              "\n",
              "    .colab-df-convert {\n",
              "      background-color: #E8F0FE;\n",
              "      border: none;\n",
              "      border-radius: 50%;\n",
              "      cursor: pointer;\n",
              "      display: none;\n",
              "      fill: #1967D2;\n",
              "      height: 32px;\n",
              "      padding: 0 0 0 0;\n",
              "      width: 32px;\n",
              "    }\n",
              "\n",
              "    .colab-df-convert:hover {\n",
              "      background-color: #E2EBFA;\n",
              "      box-shadow: 0px 1px 2px rgba(60, 64, 67, 0.3), 0px 1px 3px 1px rgba(60, 64, 67, 0.15);\n",
              "      fill: #174EA6;\n",
              "    }\n",
              "\n",
              "    [theme=dark] .colab-df-convert {\n",
              "      background-color: #3B4455;\n",
              "      fill: #D2E3FC;\n",
              "    }\n",
              "\n",
              "    [theme=dark] .colab-df-convert:hover {\n",
              "      background-color: #434B5C;\n",
              "      box-shadow: 0px 1px 3px 1px rgba(0, 0, 0, 0.15);\n",
              "      filter: drop-shadow(0px 1px 2px rgba(0, 0, 0, 0.3));\n",
              "      fill: #FFFFFF;\n",
              "    }\n",
              "  </style>\n",
              "\n",
              "      <script>\n",
              "        const buttonEl =\n",
              "          document.querySelector('#df-7a48aaca-93a9-4aa7-ad2b-2c1f93caa8c0 button.colab-df-convert');\n",
              "        buttonEl.style.display =\n",
              "          google.colab.kernel.accessAllowed ? 'block' : 'none';\n",
              "\n",
              "        async function convertToInteractive(key) {\n",
              "          const element = document.querySelector('#df-7a48aaca-93a9-4aa7-ad2b-2c1f93caa8c0');\n",
              "          const dataTable =\n",
              "            await google.colab.kernel.invokeFunction('convertToInteractive',\n",
              "                                                     [key], {});\n",
              "          if (!dataTable) return;\n",
              "\n",
              "          const docLinkHtml = 'Like what you see? Visit the ' +\n",
              "            '<a target=\"_blank\" href=https://colab.research.google.com/notebooks/data_table.ipynb>data table notebook</a>'\n",
              "            + ' to learn more about interactive tables.';\n",
              "          element.innerHTML = '';\n",
              "          dataTable['output_type'] = 'display_data';\n",
              "          await google.colab.output.renderOutput(dataTable, element);\n",
              "          const docLink = document.createElement('div');\n",
              "          docLink.innerHTML = docLinkHtml;\n",
              "          element.appendChild(docLink);\n",
              "        }\n",
              "      </script>\n",
              "    </div>\n",
              "  </div>\n",
              "  "
            ]
          },
          "metadata": {},
          "execution_count": 79
        }
      ]
    },
    {
      "cell_type": "markdown",
      "source": [
        "## encoding 'housing'"
      ],
      "metadata": {
        "id": "HKG-uJa6qqYy"
      }
    },
    {
      "cell_type": "code",
      "source": [
        "df['housing'].unique()"
      ],
      "metadata": {
        "colab": {
          "base_uri": "https://localhost:8080/"
        },
        "id": "yTIfmNQ9qPrk",
        "outputId": "93d6c6bc-97bf-4515-d584-29b9afe2048d"
      },
      "execution_count": null,
      "outputs": [
        {
          "output_type": "execute_result",
          "data": {
            "text/plain": [
              "array(['yes', 'no'], dtype=object)"
            ]
          },
          "metadata": {},
          "execution_count": 80
        }
      ]
    },
    {
      "cell_type": "code",
      "source": [
        "df['housing'] = df['housing'].apply(lambda x: 1 if x == 'yes' else 0) \n",
        "# binary이기 때문에 get_dummies() 사용할 필요 x"
      ],
      "metadata": {
        "id": "p42vAFSgqzuW"
      },
      "execution_count": null,
      "outputs": []
    },
    {
      "cell_type": "markdown",
      "source": [
        "## encoding 'loan'"
      ],
      "metadata": {
        "id": "4Kd7z3ozrAx6"
      }
    },
    {
      "cell_type": "code",
      "source": [
        "df['loan'].unique()"
      ],
      "metadata": {
        "colab": {
          "base_uri": "https://localhost:8080/"
        },
        "id": "nrJhGIO5q5-n",
        "outputId": "13982d6a-499c-491a-e9fb-a9058cccb71b"
      },
      "execution_count": null,
      "outputs": [
        {
          "output_type": "execute_result",
          "data": {
            "text/plain": [
              "array(['no', 'yes'], dtype=object)"
            ]
          },
          "metadata": {},
          "execution_count": 83
        }
      ]
    },
    {
      "cell_type": "code",
      "source": [
        "df['loan'] = df['loan'].apply(lambda x: 1 if x == 'yes' else 0)"
      ],
      "metadata": {
        "id": "cD0pNy5MrEy8"
      },
      "execution_count": null,
      "outputs": []
    },
    {
      "cell_type": "markdown",
      "source": [
        "# 4. Fitting Decision Trees"
      ],
      "metadata": {
        "id": "fGB_9YYBrNCB"
      }
    },
    {
      "cell_type": "code",
      "source": [
        "features = [\n",
        "    'age',\n",
        "    'balance',\n",
        "    'campaign',\n",
        "    'previous',\n",
        "    'housing',\n",
        "] + list(jobs_encoded_df.columns) + list(marital_encoded_df.columns)\n",
        "\n",
        "response_var = 'conversion'"
      ],
      "metadata": {
        "id": "RopLRQ2lrKVt"
      },
      "execution_count": null,
      "outputs": []
    },
    {
      "cell_type": "code",
      "source": [
        "features"
      ],
      "metadata": {
        "colab": {
          "base_uri": "https://localhost:8080/"
        },
        "id": "cbT2xIr8rbXC",
        "outputId": "8154d402-4ab9-4307-c5a1-5cdc8168a5ae"
      },
      "execution_count": null,
      "outputs": [
        {
          "output_type": "execute_result",
          "data": {
            "text/plain": [
              "['age',\n",
              " 'balance',\n",
              " 'campaign',\n",
              " 'previous',\n",
              " 'housing',\n",
              " 'job_admin.',\n",
              " 'job_blue-collar',\n",
              " 'job_entrepreneur',\n",
              " 'job_housemaid',\n",
              " 'job_management',\n",
              " 'job_retired',\n",
              " 'job_self-employed',\n",
              " 'job_services',\n",
              " 'job_student',\n",
              " 'job_technician',\n",
              " 'job_unemployed',\n",
              " 'job_unknown',\n",
              " 'marital_divorced',\n",
              " 'marital_married',\n",
              " 'marital_single']"
            ]
          },
          "metadata": {},
          "execution_count": 86
        }
      ]
    },
    {
      "cell_type": "code",
      "source": [
        "from sklearn import tree"
      ],
      "metadata": {
        "id": "14vV7rVyrcqV"
      },
      "execution_count": null,
      "outputs": []
    },
    {
      "cell_type": "code",
      "source": [
        "dt_model = tree.DecisionTreeClassifier(\n",
        "    max_depth=5\n",
        ")"
      ],
      "metadata": {
        "id": "1zaGtw9frfyj"
      },
      "execution_count": null,
      "outputs": []
    },
    {
      "cell_type": "code",
      "source": [
        "dt_model.fit(df[features], df[response_var])"
      ],
      "metadata": {
        "colab": {
          "base_uri": "https://localhost:8080/"
        },
        "id": "tbJLlzNQrjpu",
        "outputId": "ddc9cd19-d2c5-4b36-aa99-5c423617b361"
      },
      "execution_count": null,
      "outputs": [
        {
          "output_type": "execute_result",
          "data": {
            "text/plain": [
              "DecisionTreeClassifier(max_depth=5)"
            ]
          },
          "metadata": {},
          "execution_count": 89
        }
      ]
    },
    {
      "cell_type": "code",
      "source": [
        "dt_model.classes_"
      ],
      "metadata": {
        "colab": {
          "base_uri": "https://localhost:8080/"
        },
        "id": "mCllFDj7rnh8",
        "outputId": "058ae1ef-47e0-4271-ac17-bd189cf43730"
      },
      "execution_count": null,
      "outputs": [
        {
          "output_type": "execute_result",
          "data": {
            "text/plain": [
              "array([0, 1])"
            ]
          },
          "metadata": {},
          "execution_count": 90
        }
      ]
    },
    {
      "cell_type": "markdown",
      "source": [
        "# 5. Interpreting Decision Tree Model\n",
        "Extract the insights from the model"
      ],
      "metadata": {
        "id": "IrtqcoCBrzcv"
      }
    },
    {
      "cell_type": "code",
      "source": [
        "# conda install python-graphviz\n",
        "import graphviz"
      ],
      "metadata": {
        "id": "luU-LRRWrxQM"
      },
      "execution_count": null,
      "outputs": []
    },
    {
      "cell_type": "code",
      "source": [
        "dot_data = tree.export_graphviz(\n",
        "    dt_model, \n",
        "    out_file=None,\n",
        "    feature_names=features,\n",
        "    class_names=['0', '1'],\n",
        "    filled=True,\n",
        "    rounded=True,\n",
        "    special_characters=True\n",
        ")"
      ],
      "metadata": {
        "id": "bZH59J88r653"
      },
      "execution_count": null,
      "outputs": []
    },
    {
      "cell_type": "code",
      "source": [
        "graph = graphviz.Source(dot_data)"
      ],
      "metadata": {
        "id": "YTMPVNt9sFqW"
      },
      "execution_count": null,
      "outputs": []
    },
    {
      "cell_type": "code",
      "source": [
        "from IPython.core.display import display, HTML\n",
        "display(HTML(\"<style>text {font-size: 10px;}</style>\"))\n",
        "\n",
        "graph"
      ],
      "metadata": {
        "colab": {
          "base_uri": "https://localhost:8080/",
          "height": 937
        },
        "id": "AmrP3-DesKQq",
        "outputId": "9c96f893-2649-415c-d7b9-e86af21f722a"
      },
      "execution_count": null,
      "outputs": [
        {
          "output_type": "display_data",
          "data": {
            "text/plain": [
              "<IPython.core.display.HTML object>"
            ],
            "text/html": [
              "<style>text {font-size: 10px;}</style>"
            ]
          },
          "metadata": {}
        },
        {
          "output_type": "execute_result",
          "data": {
            "text/plain": [
              "<graphviz.files.Source at 0x7f94a72b3d90>"
            ],
            "image/svg+xml": "<?xml version=\"1.0\" encoding=\"UTF-8\" standalone=\"no\"?>\n<!DOCTYPE svg PUBLIC \"-//W3C//DTD SVG 1.1//EN\"\n \"http://www.w3.org/Graphics/SVG/1.1/DTD/svg11.dtd\">\n<!-- Generated by graphviz version 2.40.1 (20161225.0304)\n -->\n<!-- Title: Tree Pages: 1 -->\n<svg width=\"4149pt\" height=\"671pt\"\n viewBox=\"0.00 0.00 4148.50 671.00\" xmlns=\"http://www.w3.org/2000/svg\" xmlns:xlink=\"http://www.w3.org/1999/xlink\">\n<g id=\"graph0\" class=\"graph\" transform=\"scale(1 1) rotate(0) translate(4 667)\">\n<title>Tree</title>\n<polygon fill=\"#ffffff\" stroke=\"transparent\" points=\"-4,4 -4,-667 4144.5,-667 4144.5,4 -4,4\"/>\n<!-- 0 -->\n<g id=\"node1\" class=\"node\">\n<title>0</title>\n<path fill=\"#e89253\" stroke=\"#000000\" d=\"M2401.5,-663C2401.5,-663 2268.5,-663 2268.5,-663 2262.5,-663 2256.5,-657 2256.5,-651 2256.5,-651 2256.5,-592 2256.5,-592 2256.5,-586 2262.5,-580 2268.5,-580 2268.5,-580 2401.5,-580 2401.5,-580 2407.5,-580 2413.5,-586 2413.5,-592 2413.5,-592 2413.5,-651 2413.5,-651 2413.5,-657 2407.5,-663 2401.5,-663\"/>\n<text text-anchor=\"start\" x=\"2289.5\" y=\"-647.8\" font-family=\"Helvetica,sans-Serif\" font-size=\"14.00\" fill=\"#000000\">previous ≤ 0.5</text>\n<text text-anchor=\"start\" x=\"2297\" y=\"-632.8\" font-family=\"Helvetica,sans-Serif\" font-size=\"14.00\" fill=\"#000000\">gini = 0.207</text>\n<text text-anchor=\"start\" x=\"2279\" y=\"-617.8\" font-family=\"Helvetica,sans-Serif\" font-size=\"14.00\" fill=\"#000000\">samples = 45211</text>\n<text text-anchor=\"start\" x=\"2264.5\" y=\"-602.8\" font-family=\"Helvetica,sans-Serif\" font-size=\"14.00\" fill=\"#000000\">value = [39922, 5289]</text>\n<text text-anchor=\"start\" x=\"2306\" y=\"-587.8\" font-family=\"Helvetica,sans-Serif\" font-size=\"14.00\" fill=\"#000000\">class = 0</text>\n</g>\n<!-- 1 -->\n<g id=\"node2\" class=\"node\">\n<title>1</title>\n<path fill=\"#e88e4d\" stroke=\"#000000\" d=\"M1801.5,-544C1801.5,-544 1668.5,-544 1668.5,-544 1662.5,-544 1656.5,-538 1656.5,-532 1656.5,-532 1656.5,-473 1656.5,-473 1656.5,-467 1662.5,-461 1668.5,-461 1668.5,-461 1801.5,-461 1801.5,-461 1807.5,-461 1813.5,-467 1813.5,-473 1813.5,-473 1813.5,-532 1813.5,-532 1813.5,-538 1807.5,-544 1801.5,-544\"/>\n<text text-anchor=\"start\" x=\"1700.5\" y=\"-528.8\" font-family=\"Helvetica,sans-Serif\" font-size=\"14.00\" fill=\"#000000\">age ≤ 60.5</text>\n<text text-anchor=\"start\" x=\"1697\" y=\"-513.8\" font-family=\"Helvetica,sans-Serif\" font-size=\"14.00\" fill=\"#000000\">gini = 0.166</text>\n<text text-anchor=\"start\" x=\"1679\" y=\"-498.8\" font-family=\"Helvetica,sans-Serif\" font-size=\"14.00\" fill=\"#000000\">samples = 36954</text>\n<text text-anchor=\"start\" x=\"1664.5\" y=\"-483.8\" font-family=\"Helvetica,sans-Serif\" font-size=\"14.00\" fill=\"#000000\">value = [33570, 3384]</text>\n<text text-anchor=\"start\" x=\"1706\" y=\"-468.8\" font-family=\"Helvetica,sans-Serif\" font-size=\"14.00\" fill=\"#000000\">class = 0</text>\n</g>\n<!-- 0&#45;&gt;1 -->\n<g id=\"edge1\" class=\"edge\">\n<title>0&#45;&gt;1</title>\n<path fill=\"none\" stroke=\"#000000\" d=\"M2256.2522,-605.8817C2144.5742,-583.7322 1940.7902,-543.3151 1823.8448,-520.1209\"/>\n<polygon fill=\"#000000\" stroke=\"#000000\" points=\"1824.335,-516.65 1813.8451,-518.1376 1822.9731,-523.5163 1824.335,-516.65\"/>\n<text text-anchor=\"middle\" x=\"1827.7459\" y=\"-535.2166\" font-family=\"Helvetica,sans-Serif\" font-size=\"14.00\" fill=\"#000000\">True</text>\n</g>\n<!-- 30 -->\n<g id=\"node31\" class=\"node\">\n<title>30</title>\n<path fill=\"#eda774\" stroke=\"#000000\" d=\"M2605.5,-544C2605.5,-544 2480.5,-544 2480.5,-544 2474.5,-544 2468.5,-538 2468.5,-532 2468.5,-532 2468.5,-473 2468.5,-473 2468.5,-467 2474.5,-461 2480.5,-461 2480.5,-461 2605.5,-461 2605.5,-461 2611.5,-461 2617.5,-467 2617.5,-473 2617.5,-473 2617.5,-532 2617.5,-532 2617.5,-538 2611.5,-544 2605.5,-544\"/>\n<text text-anchor=\"start\" x=\"2508.5\" y=\"-528.8\" font-family=\"Helvetica,sans-Serif\" font-size=\"14.00\" fill=\"#000000\">age ≤ 59.5</text>\n<text text-anchor=\"start\" x=\"2505\" y=\"-513.8\" font-family=\"Helvetica,sans-Serif\" font-size=\"14.00\" fill=\"#000000\">gini = 0.355</text>\n<text text-anchor=\"start\" x=\"2491\" y=\"-498.8\" font-family=\"Helvetica,sans-Serif\" font-size=\"14.00\" fill=\"#000000\">samples = 8257</text>\n<text text-anchor=\"start\" x=\"2476.5\" y=\"-483.8\" font-family=\"Helvetica,sans-Serif\" font-size=\"14.00\" fill=\"#000000\">value = [6352, 1905]</text>\n<text text-anchor=\"start\" x=\"2514\" y=\"-468.8\" font-family=\"Helvetica,sans-Serif\" font-size=\"14.00\" fill=\"#000000\">class = 0</text>\n</g>\n<!-- 0&#45;&gt;30 -->\n<g id=\"edge30\" class=\"edge\">\n<title>0&#45;&gt;30</title>\n<path fill=\"none\" stroke=\"#000000\" d=\"M2407.7483,-579.8796C2425.007,-570.0056 2443.5315,-559.4075 2461.1645,-549.3193\"/>\n<polygon fill=\"#000000\" stroke=\"#000000\" points=\"2463.351,-552.1008 2470.2928,-544.0969 2459.8748,-546.0249 2463.351,-552.1008\"/>\n<text text-anchor=\"middle\" x=\"2463.7273\" y=\"-564.5194\" font-family=\"Helvetica,sans-Serif\" font-size=\"14.00\" fill=\"#000000\">False</text>\n</g>\n<!-- 2 -->\n<g id=\"node3\" class=\"node\">\n<title>2</title>\n<path fill=\"#e78d4c\" stroke=\"#000000\" d=\"M989.5,-425C989.5,-425 856.5,-425 856.5,-425 850.5,-425 844.5,-419 844.5,-413 844.5,-413 844.5,-354 844.5,-354 844.5,-348 850.5,-342 856.5,-342 856.5,-342 989.5,-342 989.5,-342 995.5,-342 1001.5,-348 1001.5,-354 1001.5,-354 1001.5,-413 1001.5,-413 1001.5,-419 995.5,-425 989.5,-425\"/>\n<text text-anchor=\"start\" x=\"860.5\" y=\"-409.8\" font-family=\"Helvetica,sans-Serif\" font-size=\"14.00\" fill=\"#000000\">marital_single ≤ 0.5</text>\n<text text-anchor=\"start\" x=\"885\" y=\"-394.8\" font-family=\"Helvetica,sans-Serif\" font-size=\"14.00\" fill=\"#000000\">gini = 0.157</text>\n<text text-anchor=\"start\" x=\"867\" y=\"-379.8\" font-family=\"Helvetica,sans-Serif\" font-size=\"14.00\" fill=\"#000000\">samples = 36202</text>\n<text text-anchor=\"start\" x=\"852.5\" y=\"-364.8\" font-family=\"Helvetica,sans-Serif\" font-size=\"14.00\" fill=\"#000000\">value = [33102, 3100]</text>\n<text text-anchor=\"start\" x=\"894\" y=\"-349.8\" font-family=\"Helvetica,sans-Serif\" font-size=\"14.00\" fill=\"#000000\">class = 0</text>\n</g>\n<!-- 1&#45;&gt;2 -->\n<g id=\"edge2\" class=\"edge\">\n<title>1&#45;&gt;2</title>\n<path fill=\"none\" stroke=\"#000000\" d=\"M1656.4042,-490.9817C1504.5154,-468.7221 1171.6041,-419.9334 1011.904,-396.529\"/>\n<polygon fill=\"#000000\" stroke=\"#000000\" points=\"1012.0409,-393.0118 1001.6391,-395.0247 1011.0259,-399.9378 1012.0409,-393.0118\"/>\n</g>\n<!-- 17 -->\n<g id=\"node18\" class=\"node\">\n<title>17</title>\n<path fill=\"#f5cdb1\" stroke=\"#000000\" d=\"M1802,-425C1802,-425 1668,-425 1668,-425 1662,-425 1656,-419 1656,-413 1656,-413 1656,-354 1656,-354 1656,-348 1662,-342 1668,-342 1668,-342 1802,-342 1802,-342 1808,-342 1814,-348 1814,-354 1814,-354 1814,-413 1814,-413 1814,-419 1808,-425 1802,-425\"/>\n<text text-anchor=\"start\" x=\"1664\" y=\"-409.8\" font-family=\"Helvetica,sans-Serif\" font-size=\"14.00\" fill=\"#000000\">marital_divorced ≤ 0.5</text>\n<text text-anchor=\"start\" x=\"1701.5\" y=\"-394.8\" font-family=\"Helvetica,sans-Serif\" font-size=\"14.00\" fill=\"#000000\">gini = 0.47</text>\n<text text-anchor=\"start\" x=\"1687\" y=\"-379.8\" font-family=\"Helvetica,sans-Serif\" font-size=\"14.00\" fill=\"#000000\">samples = 752</text>\n<text text-anchor=\"start\" x=\"1677\" y=\"-364.8\" font-family=\"Helvetica,sans-Serif\" font-size=\"14.00\" fill=\"#000000\">value = [468, 284]</text>\n<text text-anchor=\"start\" x=\"1706\" y=\"-349.8\" font-family=\"Helvetica,sans-Serif\" font-size=\"14.00\" fill=\"#000000\">class = 0</text>\n</g>\n<!-- 1&#45;&gt;17 -->\n<g id=\"edge17\" class=\"edge\">\n<title>1&#45;&gt;17</title>\n<path fill=\"none\" stroke=\"#000000\" d=\"M1735,-460.8796C1735,-452.6838 1735,-443.9891 1735,-435.5013\"/>\n<polygon fill=\"#000000\" stroke=\"#000000\" points=\"1738.5001,-435.298 1735,-425.2981 1731.5001,-435.2981 1738.5001,-435.298\"/>\n</g>\n<!-- 3 -->\n<g id=\"node4\" class=\"node\">\n<title>3</title>\n<path fill=\"#e78b48\" stroke=\"#000000\" d=\"M533.5,-306C533.5,-306 400.5,-306 400.5,-306 394.5,-306 388.5,-300 388.5,-294 388.5,-294 388.5,-235 388.5,-235 388.5,-229 394.5,-223 400.5,-223 400.5,-223 533.5,-223 533.5,-223 539.5,-223 545.5,-229 545.5,-235 545.5,-235 545.5,-294 545.5,-294 545.5,-300 539.5,-306 533.5,-306\"/>\n<text text-anchor=\"start\" x=\"415\" y=\"-290.8\" font-family=\"Helvetica,sans-Serif\" font-size=\"14.00\" fill=\"#000000\">balance ≤ 750.5</text>\n<text text-anchor=\"start\" x=\"429\" y=\"-275.8\" font-family=\"Helvetica,sans-Serif\" font-size=\"14.00\" fill=\"#000000\">gini = 0.133</text>\n<text text-anchor=\"start\" x=\"411\" y=\"-260.8\" font-family=\"Helvetica,sans-Serif\" font-size=\"14.00\" fill=\"#000000\">samples = 26018</text>\n<text text-anchor=\"start\" x=\"396.5\" y=\"-245.8\" font-family=\"Helvetica,sans-Serif\" font-size=\"14.00\" fill=\"#000000\">value = [24155, 1863]</text>\n<text text-anchor=\"start\" x=\"438\" y=\"-230.8\" font-family=\"Helvetica,sans-Serif\" font-size=\"14.00\" fill=\"#000000\">class = 0</text>\n</g>\n<!-- 2&#45;&gt;3 -->\n<g id=\"edge3\" class=\"edge\">\n<title>2&#45;&gt;3</title>\n<path fill=\"none\" stroke=\"#000000\" d=\"M844.3513,-362.9754C763.9674,-341.9981 639.3594,-309.4798 555.556,-287.61\"/>\n<polygon fill=\"#000000\" stroke=\"#000000\" points=\"556.3587,-284.2023 545.7989,-285.0637 554.591,-290.9755 556.3587,-284.2023\"/>\n</g>\n<!-- 10 -->\n<g id=\"node11\" class=\"node\">\n<title>10</title>\n<path fill=\"#e99254\" stroke=\"#000000\" d=\"M985.5,-306C985.5,-306 860.5,-306 860.5,-306 854.5,-306 848.5,-300 848.5,-294 848.5,-294 848.5,-235 848.5,-235 848.5,-229 854.5,-223 860.5,-223 860.5,-223 985.5,-223 985.5,-223 991.5,-223 997.5,-229 997.5,-235 997.5,-235 997.5,-294 997.5,-294 997.5,-300 991.5,-306 985.5,-306\"/>\n<text text-anchor=\"start\" x=\"888.5\" y=\"-290.8\" font-family=\"Helvetica,sans-Serif\" font-size=\"14.00\" fill=\"#000000\">age ≤ 29.5</text>\n<text text-anchor=\"start\" x=\"885\" y=\"-275.8\" font-family=\"Helvetica,sans-Serif\" font-size=\"14.00\" fill=\"#000000\">gini = 0.213</text>\n<text text-anchor=\"start\" x=\"867\" y=\"-260.8\" font-family=\"Helvetica,sans-Serif\" font-size=\"14.00\" fill=\"#000000\">samples = 10184</text>\n<text text-anchor=\"start\" x=\"856.5\" y=\"-245.8\" font-family=\"Helvetica,sans-Serif\" font-size=\"14.00\" fill=\"#000000\">value = [8947, 1237]</text>\n<text text-anchor=\"start\" x=\"894\" y=\"-230.8\" font-family=\"Helvetica,sans-Serif\" font-size=\"14.00\" fill=\"#000000\">class = 0</text>\n</g>\n<!-- 2&#45;&gt;10 -->\n<g id=\"edge10\" class=\"edge\">\n<title>2&#45;&gt;10</title>\n<path fill=\"none\" stroke=\"#000000\" d=\"M923,-341.8796C923,-333.6838 923,-324.9891 923,-316.5013\"/>\n<polygon fill=\"#000000\" stroke=\"#000000\" points=\"926.5001,-316.298 923,-306.2981 919.5001,-316.2981 926.5001,-316.298\"/>\n</g>\n<!-- 4 -->\n<g id=\"node5\" class=\"node\">\n<title>4</title>\n<path fill=\"#e78945\" stroke=\"#000000\" d=\"M290.5,-187C290.5,-187 165.5,-187 165.5,-187 159.5,-187 153.5,-181 153.5,-175 153.5,-175 153.5,-116 153.5,-116 153.5,-110 159.5,-104 165.5,-104 165.5,-104 290.5,-104 290.5,-104 296.5,-104 302.5,-110 302.5,-116 302.5,-116 302.5,-175 302.5,-175 302.5,-181 296.5,-187 290.5,-187\"/>\n<text text-anchor=\"start\" x=\"180\" y=\"-171.8\" font-family=\"Helvetica,sans-Serif\" font-size=\"14.00\" fill=\"#000000\">balance ≤ 60.5</text>\n<text text-anchor=\"start\" x=\"190\" y=\"-156.8\" font-family=\"Helvetica,sans-Serif\" font-size=\"14.00\" fill=\"#000000\">gini = 0.111</text>\n<text text-anchor=\"start\" x=\"172\" y=\"-141.8\" font-family=\"Helvetica,sans-Serif\" font-size=\"14.00\" fill=\"#000000\">samples = 16370</text>\n<text text-anchor=\"start\" x=\"161.5\" y=\"-126.8\" font-family=\"Helvetica,sans-Serif\" font-size=\"14.00\" fill=\"#000000\">value = [15400, 970]</text>\n<text text-anchor=\"start\" x=\"199\" y=\"-111.8\" font-family=\"Helvetica,sans-Serif\" font-size=\"14.00\" fill=\"#000000\">class = 0</text>\n</g>\n<!-- 3&#45;&gt;4 -->\n<g id=\"edge4\" class=\"edge\">\n<title>3&#45;&gt;4</title>\n<path fill=\"none\" stroke=\"#000000\" d=\"M388.4114,-225.3701C363.8134,-213.1226 336.5853,-199.5655 311.6517,-187.1508\"/>\n<polygon fill=\"#000000\" stroke=\"#000000\" points=\"313.0904,-183.9573 302.5786,-182.6333 309.9703,-190.2236 313.0904,-183.9573\"/>\n</g>\n<!-- 7 -->\n<g id=\"node8\" class=\"node\">\n<title>7</title>\n<path fill=\"#e88e4d\" stroke=\"#000000\" d=\"M525,-187C525,-187 409,-187 409,-187 403,-187 397,-181 397,-175 397,-175 397,-116 397,-116 397,-110 403,-104 409,-104 409,-104 525,-104 525,-104 531,-104 537,-110 537,-116 537,-116 537,-175 537,-175 537,-181 531,-187 525,-187\"/>\n<text text-anchor=\"start\" x=\"417\" y=\"-171.8\" font-family=\"Helvetica,sans-Serif\" font-size=\"14.00\" fill=\"#000000\">campaign ≤ 1.5</text>\n<text text-anchor=\"start\" x=\"429\" y=\"-156.8\" font-family=\"Helvetica,sans-Serif\" font-size=\"14.00\" fill=\"#000000\">gini = 0.168</text>\n<text text-anchor=\"start\" x=\"415\" y=\"-141.8\" font-family=\"Helvetica,sans-Serif\" font-size=\"14.00\" fill=\"#000000\">samples = 9648</text>\n<text text-anchor=\"start\" x=\"405\" y=\"-126.8\" font-family=\"Helvetica,sans-Serif\" font-size=\"14.00\" fill=\"#000000\">value = [8755, 893]</text>\n<text text-anchor=\"start\" x=\"438\" y=\"-111.8\" font-family=\"Helvetica,sans-Serif\" font-size=\"14.00\" fill=\"#000000\">class = 0</text>\n</g>\n<!-- 3&#45;&gt;7 -->\n<g id=\"edge7\" class=\"edge\">\n<title>3&#45;&gt;7</title>\n<path fill=\"none\" stroke=\"#000000\" d=\"M467,-222.8796C467,-214.6838 467,-205.9891 467,-197.5013\"/>\n<polygon fill=\"#000000\" stroke=\"#000000\" points=\"470.5001,-197.298 467,-187.2981 463.5001,-197.2981 470.5001,-197.298\"/>\n</g>\n<!-- 5 -->\n<g id=\"node6\" class=\"node\">\n<title>5</title>\n<path fill=\"#e68743\" stroke=\"#000000\" d=\"M128,-68C128,-68 12,-68 12,-68 6,-68 0,-62 0,-56 0,-56 0,-12 0,-12 0,-6 6,0 12,0 12,0 128,0 128,0 134,0 140,-6 140,-12 140,-12 140,-56 140,-56 140,-62 134,-68 128,-68\"/>\n<text text-anchor=\"start\" x=\"32\" y=\"-52.8\" font-family=\"Helvetica,sans-Serif\" font-size=\"14.00\" fill=\"#000000\">gini = 0.092</text>\n<text text-anchor=\"start\" x=\"18\" y=\"-37.8\" font-family=\"Helvetica,sans-Serif\" font-size=\"14.00\" fill=\"#000000\">samples = 6886</text>\n<text text-anchor=\"start\" x=\"8\" y=\"-22.8\" font-family=\"Helvetica,sans-Serif\" font-size=\"14.00\" fill=\"#000000\">value = [6554, 332]</text>\n<text text-anchor=\"start\" x=\"41\" y=\"-7.8\" font-family=\"Helvetica,sans-Serif\" font-size=\"14.00\" fill=\"#000000\">class = 0</text>\n</g>\n<!-- 4&#45;&gt;5 -->\n<g id=\"edge5\" class=\"edge\">\n<title>4&#45;&gt;5</title>\n<path fill=\"none\" stroke=\"#000000\" d=\"M169.1666,-103.9815C155.289,-94.1881 140.5216,-83.7668 126.7386,-74.0402\"/>\n<polygon fill=\"#000000\" stroke=\"#000000\" points=\"128.4892,-70.9918 118.3007,-68.0856 124.4531,-76.7111 128.4892,-70.9918\"/>\n</g>\n<!-- 6 -->\n<g id=\"node7\" class=\"node\">\n<title>6</title>\n<path fill=\"#e78a47\" stroke=\"#000000\" d=\"M286,-68C286,-68 170,-68 170,-68 164,-68 158,-62 158,-56 158,-56 158,-12 158,-12 158,-6 164,0 170,0 170,0 286,0 286,0 292,0 298,-6 298,-12 298,-12 298,-56 298,-56 298,-62 292,-68 286,-68\"/>\n<text text-anchor=\"start\" x=\"190\" y=\"-52.8\" font-family=\"Helvetica,sans-Serif\" font-size=\"14.00\" fill=\"#000000\">gini = 0.125</text>\n<text text-anchor=\"start\" x=\"176\" y=\"-37.8\" font-family=\"Helvetica,sans-Serif\" font-size=\"14.00\" fill=\"#000000\">samples = 9484</text>\n<text text-anchor=\"start\" x=\"166\" y=\"-22.8\" font-family=\"Helvetica,sans-Serif\" font-size=\"14.00\" fill=\"#000000\">value = [8846, 638]</text>\n<text text-anchor=\"start\" x=\"199\" y=\"-7.8\" font-family=\"Helvetica,sans-Serif\" font-size=\"14.00\" fill=\"#000000\">class = 0</text>\n</g>\n<!-- 4&#45;&gt;6 -->\n<g id=\"edge6\" class=\"edge\">\n<title>4&#45;&gt;6</title>\n<path fill=\"none\" stroke=\"#000000\" d=\"M228,-103.9815C228,-95.618 228,-86.7965 228,-78.3409\"/>\n<polygon fill=\"#000000\" stroke=\"#000000\" points=\"231.5001,-78.2636 228,-68.2637 224.5001,-78.2637 231.5001,-78.2636\"/>\n</g>\n<!-- 8 -->\n<g id=\"node9\" class=\"node\">\n<title>8</title>\n<path fill=\"#e89152\" stroke=\"#000000\" d=\"M444,-68C444,-68 328,-68 328,-68 322,-68 316,-62 316,-56 316,-56 316,-12 316,-12 316,-6 322,0 328,0 328,0 444,0 444,0 450,0 456,-6 456,-12 456,-12 456,-56 456,-56 456,-62 450,-68 444,-68\"/>\n<text text-anchor=\"start\" x=\"348\" y=\"-52.8\" font-family=\"Helvetica,sans-Serif\" font-size=\"14.00\" fill=\"#000000\">gini = 0.199</text>\n<text text-anchor=\"start\" x=\"334\" y=\"-37.8\" font-family=\"Helvetica,sans-Serif\" font-size=\"14.00\" fill=\"#000000\">samples = 3466</text>\n<text text-anchor=\"start\" x=\"324\" y=\"-22.8\" font-family=\"Helvetica,sans-Serif\" font-size=\"14.00\" fill=\"#000000\">value = [3078, 388]</text>\n<text text-anchor=\"start\" x=\"357\" y=\"-7.8\" font-family=\"Helvetica,sans-Serif\" font-size=\"14.00\" fill=\"#000000\">class = 0</text>\n</g>\n<!-- 7&#45;&gt;8 -->\n<g id=\"edge8\" class=\"edge\">\n<title>7&#45;&gt;8</title>\n<path fill=\"none\" stroke=\"#000000\" d=\"M436.8386,-103.9815C430.2955,-94.9747 423.3666,-85.4367 416.7992,-76.3965\"/>\n<polygon fill=\"#000000\" stroke=\"#000000\" points=\"419.6002,-74.2971 410.8911,-68.2637 413.9369,-78.4113 419.6002,-74.2971\"/>\n</g>\n<!-- 9 -->\n<g id=\"node10\" class=\"node\">\n<title>9</title>\n<path fill=\"#e78c4b\" stroke=\"#000000\" d=\"M602,-68C602,-68 486,-68 486,-68 480,-68 474,-62 474,-56 474,-56 474,-12 474,-12 474,-6 480,0 486,0 486,0 602,0 602,0 608,0 614,-6 614,-12 614,-12 614,-56 614,-56 614,-62 608,-68 602,-68\"/>\n<text text-anchor=\"start\" x=\"510.5\" y=\"-52.8\" font-family=\"Helvetica,sans-Serif\" font-size=\"14.00\" fill=\"#000000\">gini = 0.15</text>\n<text text-anchor=\"start\" x=\"492\" y=\"-37.8\" font-family=\"Helvetica,sans-Serif\" font-size=\"14.00\" fill=\"#000000\">samples = 6182</text>\n<text text-anchor=\"start\" x=\"482\" y=\"-22.8\" font-family=\"Helvetica,sans-Serif\" font-size=\"14.00\" fill=\"#000000\">value = [5677, 505]</text>\n<text text-anchor=\"start\" x=\"515\" y=\"-7.8\" font-family=\"Helvetica,sans-Serif\" font-size=\"14.00\" fill=\"#000000\">class = 0</text>\n</g>\n<!-- 7&#45;&gt;9 -->\n<g id=\"edge9\" class=\"edge\">\n<title>7&#45;&gt;9</title>\n<path fill=\"none\" stroke=\"#000000\" d=\"M495.672,-103.9815C501.8285,-95.0666 508.3443,-85.6313 514.5305,-76.6734\"/>\n<polygon fill=\"#000000\" stroke=\"#000000\" points=\"517.5355,-78.4811 520.3381,-68.2637 511.7755,-74.5034 517.5355,-78.4811\"/>\n</g>\n<!-- 11 -->\n<g id=\"node12\" class=\"node\">\n<title>11</title>\n<path fill=\"#ea9b62\" stroke=\"#000000\" d=\"M902,-187C902,-187 786,-187 786,-187 780,-187 774,-181 774,-175 774,-175 774,-116 774,-116 774,-110 780,-104 786,-104 786,-104 902,-104 902,-104 908,-104 914,-110 914,-116 914,-116 914,-175 914,-175 914,-181 908,-187 902,-187\"/>\n<text text-anchor=\"start\" x=\"796\" y=\"-171.8\" font-family=\"Helvetica,sans-Serif\" font-size=\"14.00\" fill=\"#000000\">balance ≤ 98.5</text>\n<text text-anchor=\"start\" x=\"806\" y=\"-156.8\" font-family=\"Helvetica,sans-Serif\" font-size=\"14.00\" fill=\"#000000\">gini = 0.285</text>\n<text text-anchor=\"start\" x=\"792\" y=\"-141.8\" font-family=\"Helvetica,sans-Serif\" font-size=\"14.00\" fill=\"#000000\">samples = 3022</text>\n<text text-anchor=\"start\" x=\"782\" y=\"-126.8\" font-family=\"Helvetica,sans-Serif\" font-size=\"14.00\" fill=\"#000000\">value = [2501, 521]</text>\n<text text-anchor=\"start\" x=\"815\" y=\"-111.8\" font-family=\"Helvetica,sans-Serif\" font-size=\"14.00\" fill=\"#000000\">class = 0</text>\n</g>\n<!-- 10&#45;&gt;11 -->\n<g id=\"edge11\" class=\"edge\">\n<title>10&#45;&gt;11</title>\n<path fill=\"none\" stroke=\"#000000\" d=\"M895.3696,-222.8796C889.57,-214.1434 883.3941,-204.8404 877.4092,-195.8253\"/>\n<polygon fill=\"#000000\" stroke=\"#000000\" points=\"880.1951,-193.6935 871.7483,-187.2981 874.3632,-197.5652 880.1951,-193.6935\"/>\n</g>\n<!-- 14 -->\n<g id=\"node15\" class=\"node\">\n<title>14</title>\n<path fill=\"#e88f4f\" stroke=\"#000000\" d=\"M1060,-187C1060,-187 944,-187 944,-187 938,-187 932,-181 932,-175 932,-175 932,-116 932,-116 932,-110 938,-104 944,-104 944,-104 1060,-104 1060,-104 1066,-104 1072,-110 1072,-116 1072,-116 1072,-175 1072,-175 1072,-181 1066,-187 1060,-187\"/>\n<text text-anchor=\"start\" x=\"946\" y=\"-171.8\" font-family=\"Helvetica,sans-Serif\" font-size=\"14.00\" fill=\"#000000\">balance ≤ 2535.5</text>\n<text text-anchor=\"start\" x=\"968.5\" y=\"-156.8\" font-family=\"Helvetica,sans-Serif\" font-size=\"14.00\" fill=\"#000000\">gini = 0.18</text>\n<text text-anchor=\"start\" x=\"950\" y=\"-141.8\" font-family=\"Helvetica,sans-Serif\" font-size=\"14.00\" fill=\"#000000\">samples = 7162</text>\n<text text-anchor=\"start\" x=\"940\" y=\"-126.8\" font-family=\"Helvetica,sans-Serif\" font-size=\"14.00\" fill=\"#000000\">value = [6446, 716]</text>\n<text text-anchor=\"start\" x=\"973\" y=\"-111.8\" font-family=\"Helvetica,sans-Serif\" font-size=\"14.00\" fill=\"#000000\">class = 0</text>\n</g>\n<!-- 10&#45;&gt;14 -->\n<g id=\"edge14\" class=\"edge\">\n<title>10&#45;&gt;14</title>\n<path fill=\"none\" stroke=\"#000000\" d=\"M950.6304,-222.8796C956.43,-214.1434 962.6059,-204.8404 968.5908,-195.8253\"/>\n<polygon fill=\"#000000\" stroke=\"#000000\" points=\"971.6368,-197.5652 974.2517,-187.2981 965.8049,-193.6935 971.6368,-197.5652\"/>\n</g>\n<!-- 12 -->\n<g id=\"node13\" class=\"node\">\n<title>12</title>\n<path fill=\"#e89050\" stroke=\"#000000\" d=\"M744,-68C744,-68 644,-68 644,-68 638,-68 632,-62 632,-56 632,-56 632,-12 632,-12 632,-6 638,0 644,0 644,0 744,0 744,0 750,0 756,-6 756,-12 756,-12 756,-56 756,-56 756,-62 750,-68 744,-68\"/>\n<text text-anchor=\"start\" x=\"656\" y=\"-52.8\" font-family=\"Helvetica,sans-Serif\" font-size=\"14.00\" fill=\"#000000\">gini = 0.188</text>\n<text text-anchor=\"start\" x=\"646\" y=\"-37.8\" font-family=\"Helvetica,sans-Serif\" font-size=\"14.00\" fill=\"#000000\">samples = 858</text>\n<text text-anchor=\"start\" x=\"640\" y=\"-22.8\" font-family=\"Helvetica,sans-Serif\" font-size=\"14.00\" fill=\"#000000\">value = [768, 90]</text>\n<text text-anchor=\"start\" x=\"665\" y=\"-7.8\" font-family=\"Helvetica,sans-Serif\" font-size=\"14.00\" fill=\"#000000\">class = 0</text>\n</g>\n<!-- 11&#45;&gt;12 -->\n<g id=\"edge12\" class=\"edge\">\n<title>11&#45;&gt;12</title>\n<path fill=\"none\" stroke=\"#000000\" d=\"M788.1455,-103.9815C775.1632,-94.3313 761.3606,-84.0714 748.4403,-74.4673\"/>\n<polygon fill=\"#000000\" stroke=\"#000000\" points=\"750.2083,-71.4204 740.0946,-68.2637 746.0322,-77.0384 750.2083,-71.4204\"/>\n</g>\n<!-- 13 -->\n<g id=\"node14\" class=\"node\">\n<title>13</title>\n<path fill=\"#eba06a\" stroke=\"#000000\" d=\"M902,-68C902,-68 786,-68 786,-68 780,-68 774,-62 774,-56 774,-56 774,-12 774,-12 774,-6 780,0 786,0 786,0 902,0 902,0 908,0 914,-6 914,-12 914,-12 914,-56 914,-56 914,-62 908,-68 902,-68\"/>\n<text text-anchor=\"start\" x=\"806\" y=\"-52.8\" font-family=\"Helvetica,sans-Serif\" font-size=\"14.00\" fill=\"#000000\">gini = 0.319</text>\n<text text-anchor=\"start\" x=\"792\" y=\"-37.8\" font-family=\"Helvetica,sans-Serif\" font-size=\"14.00\" fill=\"#000000\">samples = 2164</text>\n<text text-anchor=\"start\" x=\"782\" y=\"-22.8\" font-family=\"Helvetica,sans-Serif\" font-size=\"14.00\" fill=\"#000000\">value = [1733, 431]</text>\n<text text-anchor=\"start\" x=\"815\" y=\"-7.8\" font-family=\"Helvetica,sans-Serif\" font-size=\"14.00\" fill=\"#000000\">class = 0</text>\n</g>\n<!-- 11&#45;&gt;13 -->\n<g id=\"edge13\" class=\"edge\">\n<title>11&#45;&gt;13</title>\n<path fill=\"none\" stroke=\"#000000\" d=\"M844,-103.9815C844,-95.618 844,-86.7965 844,-78.3409\"/>\n<polygon fill=\"#000000\" stroke=\"#000000\" points=\"847.5001,-78.2636 844,-68.2637 840.5001,-78.2637 847.5001,-78.2636\"/>\n</g>\n<!-- 15 -->\n<g id=\"node16\" class=\"node\">\n<title>15</title>\n<path fill=\"#e88d4d\" stroke=\"#000000\" d=\"M1060,-68C1060,-68 944,-68 944,-68 938,-68 932,-62 932,-56 932,-56 932,-12 932,-12 932,-6 938,0 944,0 944,0 1060,0 1060,0 1066,0 1072,-6 1072,-12 1072,-12 1072,-56 1072,-56 1072,-62 1066,-68 1060,-68\"/>\n<text text-anchor=\"start\" x=\"964\" y=\"-52.8\" font-family=\"Helvetica,sans-Serif\" font-size=\"14.00\" fill=\"#000000\">gini = 0.163</text>\n<text text-anchor=\"start\" x=\"950\" y=\"-37.8\" font-family=\"Helvetica,sans-Serif\" font-size=\"14.00\" fill=\"#000000\">samples = 6094</text>\n<text text-anchor=\"start\" x=\"940\" y=\"-22.8\" font-family=\"Helvetica,sans-Serif\" font-size=\"14.00\" fill=\"#000000\">value = [5547, 547]</text>\n<text text-anchor=\"start\" x=\"973\" y=\"-7.8\" font-family=\"Helvetica,sans-Serif\" font-size=\"14.00\" fill=\"#000000\">class = 0</text>\n</g>\n<!-- 14&#45;&gt;15 -->\n<g id=\"edge15\" class=\"edge\">\n<title>14&#45;&gt;15</title>\n<path fill=\"none\" stroke=\"#000000\" d=\"M1002,-103.9815C1002,-95.618 1002,-86.7965 1002,-78.3409\"/>\n<polygon fill=\"#000000\" stroke=\"#000000\" points=\"1005.5001,-78.2636 1002,-68.2637 998.5001,-78.2637 1005.5001,-78.2636\"/>\n</g>\n<!-- 16 -->\n<g id=\"node17\" class=\"node\">\n<title>16</title>\n<path fill=\"#ea995e\" stroke=\"#000000\" d=\"M1210,-68C1210,-68 1102,-68 1102,-68 1096,-68 1090,-62 1090,-56 1090,-56 1090,-12 1090,-12 1090,-6 1096,0 1102,0 1102,0 1210,0 1210,0 1216,0 1222,-6 1222,-12 1222,-12 1222,-56 1222,-56 1222,-62 1216,-68 1210,-68\"/>\n<text text-anchor=\"start\" x=\"1118\" y=\"-52.8\" font-family=\"Helvetica,sans-Serif\" font-size=\"14.00\" fill=\"#000000\">gini = 0.266</text>\n<text text-anchor=\"start\" x=\"1104\" y=\"-37.8\" font-family=\"Helvetica,sans-Serif\" font-size=\"14.00\" fill=\"#000000\">samples = 1068</text>\n<text text-anchor=\"start\" x=\"1098\" y=\"-22.8\" font-family=\"Helvetica,sans-Serif\" font-size=\"14.00\" fill=\"#000000\">value = [899, 169]</text>\n<text text-anchor=\"start\" x=\"1127\" y=\"-7.8\" font-family=\"Helvetica,sans-Serif\" font-size=\"14.00\" fill=\"#000000\">class = 0</text>\n</g>\n<!-- 14&#45;&gt;16 -->\n<g id=\"edge16\" class=\"edge\">\n<title>14&#45;&gt;16</title>\n<path fill=\"none\" stroke=\"#000000\" d=\"M1059.3439,-103.9815C1072.7994,-94.2394 1087.1131,-83.8759 1100.4867,-74.193\"/>\n<polygon fill=\"#000000\" stroke=\"#000000\" points=\"1102.6289,-76.9632 1108.6762,-68.2637 1098.5237,-71.2933 1102.6289,-76.9632\"/>\n</g>\n<!-- 18 -->\n<g id=\"node19\" class=\"node\">\n<title>18</title>\n<path fill=\"#f3c5a3\" stroke=\"#000000\" d=\"M1663,-306C1663,-306 1535,-306 1535,-306 1529,-306 1523,-300 1523,-294 1523,-294 1523,-235 1523,-235 1523,-229 1529,-223 1535,-223 1535,-223 1663,-223 1663,-223 1669,-223 1675,-229 1675,-235 1675,-235 1675,-294 1675,-294 1675,-300 1669,-306 1663,-306\"/>\n<text text-anchor=\"start\" x=\"1531\" y=\"-290.8\" font-family=\"Helvetica,sans-Serif\" font-size=\"14.00\" fill=\"#000000\">marital_married ≤ 0.5</text>\n<text text-anchor=\"start\" x=\"1561\" y=\"-275.8\" font-family=\"Helvetica,sans-Serif\" font-size=\"14.00\" fill=\"#000000\">gini = 0.455</text>\n<text text-anchor=\"start\" x=\"1551\" y=\"-260.8\" font-family=\"Helvetica,sans-Serif\" font-size=\"14.00\" fill=\"#000000\">samples = 615</text>\n<text text-anchor=\"start\" x=\"1541\" y=\"-245.8\" font-family=\"Helvetica,sans-Serif\" font-size=\"14.00\" fill=\"#000000\">value = [400, 215]</text>\n<text text-anchor=\"start\" x=\"1570\" y=\"-230.8\" font-family=\"Helvetica,sans-Serif\" font-size=\"14.00\" fill=\"#000000\">class = 0</text>\n</g>\n<!-- 17&#45;&gt;18 -->\n<g id=\"edge18\" class=\"edge\">\n<title>17&#45;&gt;18</title>\n<path fill=\"none\" stroke=\"#000000\" d=\"M1687.4338,-341.8796C1676.8321,-332.6031 1665.4998,-322.6874 1654.6067,-313.1559\"/>\n<polygon fill=\"#000000\" stroke=\"#000000\" points=\"1656.5998,-310.2491 1646.7692,-306.2981 1651.9902,-315.5172 1656.5998,-310.2491\"/>\n</g>\n<!-- 25 -->\n<g id=\"node26\" class=\"node\">\n<title>25</title>\n<path fill=\"#fcfeff\" stroke=\"#000000\" d=\"M1898,-306C1898,-306 1752,-306 1752,-306 1746,-306 1740,-300 1740,-294 1740,-294 1740,-235 1740,-235 1740,-229 1746,-223 1752,-223 1752,-223 1898,-223 1898,-223 1904,-223 1910,-229 1910,-235 1910,-235 1910,-294 1910,-294 1910,-300 1904,-306 1898,-306\"/>\n<text text-anchor=\"start\" x=\"1748\" y=\"-290.8\" font-family=\"Helvetica,sans-Serif\" font-size=\"14.00\" fill=\"#000000\">job_self&#45;employed ≤ 0.5</text>\n<text text-anchor=\"start\" x=\"1795.5\" y=\"-275.8\" font-family=\"Helvetica,sans-Serif\" font-size=\"14.00\" fill=\"#000000\">gini = 0.5</text>\n<text text-anchor=\"start\" x=\"1777\" y=\"-260.8\" font-family=\"Helvetica,sans-Serif\" font-size=\"14.00\" fill=\"#000000\">samples = 137</text>\n<text text-anchor=\"start\" x=\"1775\" y=\"-245.8\" font-family=\"Helvetica,sans-Serif\" font-size=\"14.00\" fill=\"#000000\">value = [68, 69]</text>\n<text text-anchor=\"start\" x=\"1796\" y=\"-230.8\" font-family=\"Helvetica,sans-Serif\" font-size=\"14.00\" fill=\"#000000\">class = 1</text>\n</g>\n<!-- 17&#45;&gt;25 -->\n<g id=\"edge25\" class=\"edge\">\n<title>17&#45;&gt;25</title>\n<path fill=\"none\" stroke=\"#000000\" d=\"M1766.4776,-341.8796C1773.1529,-333.0534 1780.2658,-323.6485 1787.1496,-314.5466\"/>\n<polygon fill=\"#000000\" stroke=\"#000000\" points=\"1790.1474,-316.3852 1793.388,-306.2981 1784.5643,-312.1626 1790.1474,-316.3852\"/>\n</g>\n<!-- 19 -->\n<g id=\"node20\" class=\"node\">\n<title>19</title>\n<path fill=\"#ea995f\" stroke=\"#000000\" d=\"M1456.5,-187C1456.5,-187 1373.5,-187 1373.5,-187 1367.5,-187 1361.5,-181 1361.5,-175 1361.5,-175 1361.5,-116 1361.5,-116 1361.5,-110 1367.5,-104 1373.5,-104 1373.5,-104 1456.5,-104 1456.5,-104 1462.5,-104 1468.5,-110 1468.5,-116 1468.5,-116 1468.5,-175 1468.5,-175 1468.5,-181 1462.5,-187 1456.5,-187\"/>\n<text text-anchor=\"start\" x=\"1380.5\" y=\"-171.8\" font-family=\"Helvetica,sans-Serif\" font-size=\"14.00\" fill=\"#000000\">age ≤ 80.0</text>\n<text text-anchor=\"start\" x=\"1377\" y=\"-156.8\" font-family=\"Helvetica,sans-Serif\" font-size=\"14.00\" fill=\"#000000\">gini = 0.269</text>\n<text text-anchor=\"start\" x=\"1371\" y=\"-141.8\" font-family=\"Helvetica,sans-Serif\" font-size=\"14.00\" fill=\"#000000\">samples = 25</text>\n<text text-anchor=\"start\" x=\"1369.5\" y=\"-126.8\" font-family=\"Helvetica,sans-Serif\" font-size=\"14.00\" fill=\"#000000\">value = [21, 4]</text>\n<text text-anchor=\"start\" x=\"1386\" y=\"-111.8\" font-family=\"Helvetica,sans-Serif\" font-size=\"14.00\" fill=\"#000000\">class = 0</text>\n</g>\n<!-- 18&#45;&gt;19 -->\n<g id=\"edge19\" class=\"edge\">\n<title>18&#45;&gt;19</title>\n<path fill=\"none\" stroke=\"#000000\" d=\"M1534.6457,-222.8796C1516.0371,-210.8446 1495.7649,-197.7338 1477.2847,-185.782\"/>\n<polygon fill=\"#000000\" stroke=\"#000000\" points=\"1478.9508,-182.6913 1468.6532,-180.1996 1475.1494,-188.5692 1478.9508,-182.6913\"/>\n</g>\n<!-- 22 -->\n<g id=\"node23\" class=\"node\">\n<title>22</title>\n<path fill=\"#f3c7a7\" stroke=\"#000000\" d=\"M1653,-187C1653,-187 1545,-187 1545,-187 1539,-187 1533,-181 1533,-175 1533,-175 1533,-116 1533,-116 1533,-110 1539,-104 1545,-104 1545,-104 1653,-104 1653,-104 1659,-104 1665,-110 1665,-116 1665,-116 1665,-175 1665,-175 1665,-181 1659,-187 1653,-187\"/>\n<text text-anchor=\"start\" x=\"1549\" y=\"-171.8\" font-family=\"Helvetica,sans-Serif\" font-size=\"14.00\" fill=\"#000000\">campaign ≤ 3.5</text>\n<text text-anchor=\"start\" x=\"1561\" y=\"-156.8\" font-family=\"Helvetica,sans-Serif\" font-size=\"14.00\" fill=\"#000000\">gini = 0.459</text>\n<text text-anchor=\"start\" x=\"1551\" y=\"-141.8\" font-family=\"Helvetica,sans-Serif\" font-size=\"14.00\" fill=\"#000000\">samples = 590</text>\n<text text-anchor=\"start\" x=\"1541\" y=\"-126.8\" font-family=\"Helvetica,sans-Serif\" font-size=\"14.00\" fill=\"#000000\">value = [379, 211]</text>\n<text text-anchor=\"start\" x=\"1570\" y=\"-111.8\" font-family=\"Helvetica,sans-Serif\" font-size=\"14.00\" fill=\"#000000\">class = 0</text>\n</g>\n<!-- 18&#45;&gt;22 -->\n<g id=\"edge22\" class=\"edge\">\n<title>18&#45;&gt;22</title>\n<path fill=\"none\" stroke=\"#000000\" d=\"M1599,-222.8796C1599,-214.6838 1599,-205.9891 1599,-197.5013\"/>\n<polygon fill=\"#000000\" stroke=\"#000000\" points=\"1602.5001,-197.298 1599,-187.2981 1595.5001,-197.2981 1602.5001,-197.298\"/>\n</g>\n<!-- 20 -->\n<g id=\"node21\" class=\"node\">\n<title>20</title>\n<path fill=\"#e88e4d\" stroke=\"#000000\" d=\"M1335.5,-68C1335.5,-68 1252.5,-68 1252.5,-68 1246.5,-68 1240.5,-62 1240.5,-56 1240.5,-56 1240.5,-12 1240.5,-12 1240.5,-6 1246.5,0 1252.5,0 1252.5,0 1335.5,0 1335.5,0 1341.5,0 1347.5,-6 1347.5,-12 1347.5,-12 1347.5,-56 1347.5,-56 1347.5,-62 1341.5,-68 1335.5,-68\"/>\n<text text-anchor=\"start\" x=\"1256\" y=\"-52.8\" font-family=\"Helvetica,sans-Serif\" font-size=\"14.00\" fill=\"#000000\">gini = 0.165</text>\n<text text-anchor=\"start\" x=\"1250\" y=\"-37.8\" font-family=\"Helvetica,sans-Serif\" font-size=\"14.00\" fill=\"#000000\">samples = 22</text>\n<text text-anchor=\"start\" x=\"1248.5\" y=\"-22.8\" font-family=\"Helvetica,sans-Serif\" font-size=\"14.00\" fill=\"#000000\">value = [20, 2]</text>\n<text text-anchor=\"start\" x=\"1265\" y=\"-7.8\" font-family=\"Helvetica,sans-Serif\" font-size=\"14.00\" fill=\"#000000\">class = 0</text>\n</g>\n<!-- 19&#45;&gt;20 -->\n<g id=\"edge20\" class=\"edge\">\n<title>19&#45;&gt;20</title>\n<path fill=\"none\" stroke=\"#000000\" d=\"M1369.9441,-103.9815C1359.7709,-94.607 1348.9733,-84.6572 1338.8102,-75.2921\"/>\n<polygon fill=\"#000000\" stroke=\"#000000\" points=\"1340.9087,-72.4663 1331.183,-68.2637 1336.1651,-77.6141 1340.9087,-72.4663\"/>\n</g>\n<!-- 21 -->\n<g id=\"node22\" class=\"node\">\n<title>21</title>\n<path fill=\"#9ccef2\" stroke=\"#000000\" d=\"M1452.5,-68C1452.5,-68 1377.5,-68 1377.5,-68 1371.5,-68 1365.5,-62 1365.5,-56 1365.5,-56 1365.5,-12 1365.5,-12 1365.5,-6 1371.5,0 1377.5,0 1377.5,0 1452.5,0 1452.5,0 1458.5,0 1464.5,-6 1464.5,-12 1464.5,-12 1464.5,-56 1464.5,-56 1464.5,-62 1458.5,-68 1452.5,-68\"/>\n<text text-anchor=\"start\" x=\"1377\" y=\"-52.8\" font-family=\"Helvetica,sans-Serif\" font-size=\"14.00\" fill=\"#000000\">gini = 0.444</text>\n<text text-anchor=\"start\" x=\"1375.5\" y=\"-37.8\" font-family=\"Helvetica,sans-Serif\" font-size=\"14.00\" fill=\"#000000\">samples = 3</text>\n<text text-anchor=\"start\" x=\"1373.5\" y=\"-22.8\" font-family=\"Helvetica,sans-Serif\" font-size=\"14.00\" fill=\"#000000\">value = [1, 2]</text>\n<text text-anchor=\"start\" x=\"1386\" y=\"-7.8\" font-family=\"Helvetica,sans-Serif\" font-size=\"14.00\" fill=\"#000000\">class = 1</text>\n</g>\n<!-- 19&#45;&gt;21 -->\n<g id=\"edge21\" class=\"edge\">\n<title>19&#45;&gt;21</title>\n<path fill=\"none\" stroke=\"#000000\" d=\"M1415,-103.9815C1415,-95.618 1415,-86.7965 1415,-78.3409\"/>\n<polygon fill=\"#000000\" stroke=\"#000000\" points=\"1418.5001,-78.2636 1415,-68.2637 1411.5001,-78.2637 1418.5001,-78.2636\"/>\n</g>\n<!-- 23 -->\n<g id=\"node24\" class=\"node\">\n<title>23</title>\n<path fill=\"#f4ccae\" stroke=\"#000000\" d=\"M1603,-68C1603,-68 1495,-68 1495,-68 1489,-68 1483,-62 1483,-56 1483,-56 1483,-12 1483,-12 1483,-6 1489,0 1495,0 1495,0 1603,0 1603,0 1609,0 1615,-6 1615,-12 1615,-12 1615,-56 1615,-56 1615,-62 1609,-68 1603,-68\"/>\n<text text-anchor=\"start\" x=\"1511\" y=\"-52.8\" font-family=\"Helvetica,sans-Serif\" font-size=\"14.00\" fill=\"#000000\">gini = 0.467</text>\n<text text-anchor=\"start\" x=\"1501\" y=\"-37.8\" font-family=\"Helvetica,sans-Serif\" font-size=\"14.00\" fill=\"#000000\">samples = 513</text>\n<text text-anchor=\"start\" x=\"1491\" y=\"-22.8\" font-family=\"Helvetica,sans-Serif\" font-size=\"14.00\" fill=\"#000000\">value = [322, 191]</text>\n<text text-anchor=\"start\" x=\"1520\" y=\"-7.8\" font-family=\"Helvetica,sans-Serif\" font-size=\"14.00\" fill=\"#000000\">class = 0</text>\n</g>\n<!-- 22&#45;&gt;23 -->\n<g id=\"edge23\" class=\"edge\">\n<title>22&#45;&gt;23</title>\n<path fill=\"none\" stroke=\"#000000\" d=\"M1580.3818,-103.9815C1576.5078,-95.3423 1572.4145,-86.2144 1568.5094,-77.5059\"/>\n<polygon fill=\"#000000\" stroke=\"#000000\" points=\"1571.6503,-75.9561 1564.3649,-68.2637 1565.2631,-78.8204 1571.6503,-75.9561\"/>\n</g>\n<!-- 24 -->\n<g id=\"node25\" class=\"node\">\n<title>24</title>\n<path fill=\"#eead7e\" stroke=\"#000000\" d=\"M1737,-68C1737,-68 1645,-68 1645,-68 1639,-68 1633,-62 1633,-56 1633,-56 1633,-12 1633,-12 1633,-6 1639,0 1645,0 1645,0 1737,0 1737,0 1743,0 1749,-6 1749,-12 1749,-12 1749,-56 1749,-56 1749,-62 1743,-68 1737,-68\"/>\n<text text-anchor=\"start\" x=\"1653\" y=\"-52.8\" font-family=\"Helvetica,sans-Serif\" font-size=\"14.00\" fill=\"#000000\">gini = 0.385</text>\n<text text-anchor=\"start\" x=\"1647\" y=\"-37.8\" font-family=\"Helvetica,sans-Serif\" font-size=\"14.00\" fill=\"#000000\">samples = 77</text>\n<text text-anchor=\"start\" x=\"1641\" y=\"-22.8\" font-family=\"Helvetica,sans-Serif\" font-size=\"14.00\" fill=\"#000000\">value = [57, 20]</text>\n<text text-anchor=\"start\" x=\"1662\" y=\"-7.8\" font-family=\"Helvetica,sans-Serif\" font-size=\"14.00\" fill=\"#000000\">class = 0</text>\n</g>\n<!-- 22&#45;&gt;24 -->\n<g id=\"edge24\" class=\"edge\">\n<title>22&#45;&gt;24</title>\n<path fill=\"none\" stroke=\"#000000\" d=\"M1633.2574,-103.9815C1640.7649,-94.8828 1648.7196,-85.242 1656.2464,-76.1199\"/>\n<polygon fill=\"#000000\" stroke=\"#000000\" points=\"1659.0639,-78.2045 1662.7286,-68.2637 1653.6646,-73.7495 1659.0639,-78.2045\"/>\n</g>\n<!-- 26 -->\n<g id=\"node27\" class=\"node\">\n<title>26</title>\n<path fill=\"#fef9f6\" stroke=\"#000000\" d=\"M1871,-187C1871,-187 1779,-187 1779,-187 1773,-187 1767,-181 1767,-175 1767,-175 1767,-116 1767,-116 1767,-110 1773,-104 1779,-104 1779,-104 1871,-104 1871,-104 1877,-104 1883,-110 1883,-116 1883,-116 1883,-175 1883,-175 1883,-181 1877,-187 1871,-187\"/>\n<text text-anchor=\"start\" x=\"1790.5\" y=\"-171.8\" font-family=\"Helvetica,sans-Serif\" font-size=\"14.00\" fill=\"#000000\">age ≤ 83.5</text>\n<text text-anchor=\"start\" x=\"1795.5\" y=\"-156.8\" font-family=\"Helvetica,sans-Serif\" font-size=\"14.00\" fill=\"#000000\">gini = 0.5</text>\n<text text-anchor=\"start\" x=\"1777\" y=\"-141.8\" font-family=\"Helvetica,sans-Serif\" font-size=\"14.00\" fill=\"#000000\">samples = 133</text>\n<text text-anchor=\"start\" x=\"1775\" y=\"-126.8\" font-family=\"Helvetica,sans-Serif\" font-size=\"14.00\" fill=\"#000000\">value = [68, 65]</text>\n<text text-anchor=\"start\" x=\"1796\" y=\"-111.8\" font-family=\"Helvetica,sans-Serif\" font-size=\"14.00\" fill=\"#000000\">class = 0</text>\n</g>\n<!-- 25&#45;&gt;26 -->\n<g id=\"edge26\" class=\"edge\">\n<title>25&#45;&gt;26</title>\n<path fill=\"none\" stroke=\"#000000\" d=\"M1825,-222.8796C1825,-214.6838 1825,-205.9891 1825,-197.5013\"/>\n<polygon fill=\"#000000\" stroke=\"#000000\" points=\"1828.5001,-197.298 1825,-187.2981 1821.5001,-197.2981 1828.5001,-197.298\"/>\n</g>\n<!-- 29 -->\n<g id=\"node30\" class=\"node\">\n<title>29</title>\n<path fill=\"#399de5\" stroke=\"#000000\" d=\"M1988.5,-179.5C1988.5,-179.5 1913.5,-179.5 1913.5,-179.5 1907.5,-179.5 1901.5,-173.5 1901.5,-167.5 1901.5,-167.5 1901.5,-123.5 1901.5,-123.5 1901.5,-117.5 1907.5,-111.5 1913.5,-111.5 1913.5,-111.5 1988.5,-111.5 1988.5,-111.5 1994.5,-111.5 2000.5,-117.5 2000.5,-123.5 2000.5,-123.5 2000.5,-167.5 2000.5,-167.5 2000.5,-173.5 1994.5,-179.5 1988.5,-179.5\"/>\n<text text-anchor=\"start\" x=\"1921.5\" y=\"-164.3\" font-family=\"Helvetica,sans-Serif\" font-size=\"14.00\" fill=\"#000000\">gini = 0.0</text>\n<text text-anchor=\"start\" x=\"1911.5\" y=\"-149.3\" font-family=\"Helvetica,sans-Serif\" font-size=\"14.00\" fill=\"#000000\">samples = 4</text>\n<text text-anchor=\"start\" x=\"1909.5\" y=\"-134.3\" font-family=\"Helvetica,sans-Serif\" font-size=\"14.00\" fill=\"#000000\">value = [0, 4]</text>\n<text text-anchor=\"start\" x=\"1922\" y=\"-119.3\" font-family=\"Helvetica,sans-Serif\" font-size=\"14.00\" fill=\"#000000\">class = 1</text>\n</g>\n<!-- 25&#45;&gt;29 -->\n<g id=\"edge29\" class=\"edge\">\n<title>25&#45;&gt;29</title>\n<path fill=\"none\" stroke=\"#000000\" d=\"M1869.0687,-222.8796C1881.4102,-211.2237 1894.8202,-198.5587 1907.149,-186.9148\"/>\n<polygon fill=\"#000000\" stroke=\"#000000\" points=\"1909.7996,-189.2258 1914.6665,-179.8149 1904.9932,-184.1366 1909.7996,-189.2258\"/>\n</g>\n<!-- 27 -->\n<g id=\"node28\" class=\"node\">\n<title>27</title>\n<path fill=\"#fcf0e7\" stroke=\"#000000\" d=\"M1871,-68C1871,-68 1779,-68 1779,-68 1773,-68 1767,-62 1767,-56 1767,-56 1767,-12 1767,-12 1767,-6 1773,0 1779,0 1779,0 1871,0 1871,0 1877,0 1883,-6 1883,-12 1883,-12 1883,-56 1883,-56 1883,-62 1877,-68 1871,-68\"/>\n<text text-anchor=\"start\" x=\"1787\" y=\"-52.8\" font-family=\"Helvetica,sans-Serif\" font-size=\"14.00\" fill=\"#000000\">gini = 0.498</text>\n<text text-anchor=\"start\" x=\"1777\" y=\"-37.8\" font-family=\"Helvetica,sans-Serif\" font-size=\"14.00\" fill=\"#000000\">samples = 124</text>\n<text text-anchor=\"start\" x=\"1775\" y=\"-22.8\" font-family=\"Helvetica,sans-Serif\" font-size=\"14.00\" fill=\"#000000\">value = [66, 58]</text>\n<text text-anchor=\"start\" x=\"1796\" y=\"-7.8\" font-family=\"Helvetica,sans-Serif\" font-size=\"14.00\" fill=\"#000000\">class = 0</text>\n</g>\n<!-- 26&#45;&gt;27 -->\n<g id=\"edge27\" class=\"edge\">\n<title>26&#45;&gt;27</title>\n<path fill=\"none\" stroke=\"#000000\" d=\"M1825,-103.9815C1825,-95.618 1825,-86.7965 1825,-78.3409\"/>\n<polygon fill=\"#000000\" stroke=\"#000000\" points=\"1828.5001,-78.2636 1825,-68.2637 1821.5001,-78.2637 1828.5001,-78.2636\"/>\n</g>\n<!-- 28 -->\n<g id=\"node29\" class=\"node\">\n<title>28</title>\n<path fill=\"#72b9ec\" stroke=\"#000000\" d=\"M1988.5,-68C1988.5,-68 1913.5,-68 1913.5,-68 1907.5,-68 1901.5,-62 1901.5,-56 1901.5,-56 1901.5,-12 1901.5,-12 1901.5,-6 1907.5,0 1913.5,0 1913.5,0 1988.5,0 1988.5,0 1994.5,0 2000.5,-6 2000.5,-12 2000.5,-12 2000.5,-56 2000.5,-56 2000.5,-62 1994.5,-68 1988.5,-68\"/>\n<text text-anchor=\"start\" x=\"1913\" y=\"-52.8\" font-family=\"Helvetica,sans-Serif\" font-size=\"14.00\" fill=\"#000000\">gini = 0.346</text>\n<text text-anchor=\"start\" x=\"1911.5\" y=\"-37.8\" font-family=\"Helvetica,sans-Serif\" font-size=\"14.00\" fill=\"#000000\">samples = 9</text>\n<text text-anchor=\"start\" x=\"1909.5\" y=\"-22.8\" font-family=\"Helvetica,sans-Serif\" font-size=\"14.00\" fill=\"#000000\">value = [2, 7]</text>\n<text text-anchor=\"start\" x=\"1922\" y=\"-7.8\" font-family=\"Helvetica,sans-Serif\" font-size=\"14.00\" fill=\"#000000\">class = 1</text>\n</g>\n<!-- 26&#45;&gt;28 -->\n<g id=\"edge28\" class=\"edge\">\n<title>26&#45;&gt;28</title>\n<path fill=\"none\" stroke=\"#000000\" d=\"M1871.9177,-103.9815C1882.6152,-94.5151 1893.9756,-84.462 1904.6492,-75.0168\"/>\n<polygon fill=\"#000000\" stroke=\"#000000\" points=\"1907.1111,-77.5118 1912.2805,-68.2637 1902.4722,-72.2696 1907.1111,-77.5118\"/>\n</g>\n<!-- 31 -->\n<g id=\"node32\" class=\"node\">\n<title>31</title>\n<path fill=\"#eca36f\" stroke=\"#000000\" d=\"M2605.5,-425C2605.5,-425 2480.5,-425 2480.5,-425 2474.5,-425 2468.5,-419 2468.5,-413 2468.5,-413 2468.5,-354 2468.5,-354 2468.5,-348 2474.5,-342 2480.5,-342 2480.5,-342 2605.5,-342 2605.5,-342 2611.5,-342 2617.5,-348 2617.5,-354 2617.5,-354 2617.5,-413 2617.5,-413 2617.5,-419 2611.5,-425 2605.5,-425\"/>\n<text text-anchor=\"start\" x=\"2478\" y=\"-409.8\" font-family=\"Helvetica,sans-Serif\" font-size=\"14.00\" fill=\"#000000\">job_blue&#45;collar ≤ 0.5</text>\n<text text-anchor=\"start\" x=\"2505\" y=\"-394.8\" font-family=\"Helvetica,sans-Serif\" font-size=\"14.00\" fill=\"#000000\">gini = 0.336</text>\n<text text-anchor=\"start\" x=\"2491\" y=\"-379.8\" font-family=\"Helvetica,sans-Serif\" font-size=\"14.00\" fill=\"#000000\">samples = 7715</text>\n<text text-anchor=\"start\" x=\"2476.5\" y=\"-364.8\" font-family=\"Helvetica,sans-Serif\" font-size=\"14.00\" fill=\"#000000\">value = [6070, 1645]</text>\n<text text-anchor=\"start\" x=\"2514\" y=\"-349.8\" font-family=\"Helvetica,sans-Serif\" font-size=\"14.00\" fill=\"#000000\">class = 0</text>\n</g>\n<!-- 30&#45;&gt;31 -->\n<g id=\"edge31\" class=\"edge\">\n<title>30&#45;&gt;31</title>\n<path fill=\"none\" stroke=\"#000000\" d=\"M2543,-460.8796C2543,-452.6838 2543,-443.9891 2543,-435.5013\"/>\n<polygon fill=\"#000000\" stroke=\"#000000\" points=\"2546.5001,-435.298 2543,-425.2981 2539.5001,-435.2981 2546.5001,-435.298\"/>\n</g>\n<!-- 46 -->\n<g id=\"node47\" class=\"node\">\n<title>46</title>\n<path fill=\"#fdf5f0\" stroke=\"#000000\" d=\"M3433,-425C3433,-425 3325,-425 3325,-425 3319,-425 3313,-419 3313,-413 3313,-413 3313,-354 3313,-354 3313,-348 3319,-342 3325,-342 3325,-342 3433,-342 3433,-342 3439,-342 3445,-348 3445,-354 3445,-354 3445,-413 3445,-413 3445,-419 3439,-425 3433,-425\"/>\n<text text-anchor=\"start\" x=\"3329\" y=\"-409.8\" font-family=\"Helvetica,sans-Serif\" font-size=\"14.00\" fill=\"#000000\">campaign ≤ 1.5</text>\n<text text-anchor=\"start\" x=\"3341\" y=\"-394.8\" font-family=\"Helvetica,sans-Serif\" font-size=\"14.00\" fill=\"#000000\">gini = 0.499</text>\n<text text-anchor=\"start\" x=\"3331\" y=\"-379.8\" font-family=\"Helvetica,sans-Serif\" font-size=\"14.00\" fill=\"#000000\">samples = 542</text>\n<text text-anchor=\"start\" x=\"3321\" y=\"-364.8\" font-family=\"Helvetica,sans-Serif\" font-size=\"14.00\" fill=\"#000000\">value = [282, 260]</text>\n<text text-anchor=\"start\" x=\"3350\" y=\"-349.8\" font-family=\"Helvetica,sans-Serif\" font-size=\"14.00\" fill=\"#000000\">class = 0</text>\n</g>\n<!-- 30&#45;&gt;46 -->\n<g id=\"edge46\" class=\"edge\">\n<title>30&#45;&gt;46</title>\n<path fill=\"none\" stroke=\"#000000\" d=\"M2617.5569,-491.8872C2775.6639,-469.3816 3143.1456,-417.0726 3302.742,-394.3549\"/>\n<polygon fill=\"#000000\" stroke=\"#000000\" points=\"3303.5423,-397.7764 3312.9493,-392.902 3302.5558,-390.8462 3303.5423,-397.7764\"/>\n</g>\n<!-- 32 -->\n<g id=\"node33\" class=\"node\">\n<title>32</title>\n<path fill=\"#eda978\" stroke=\"#000000\" d=\"M2502.5,-306C2502.5,-306 2377.5,-306 2377.5,-306 2371.5,-306 2365.5,-300 2365.5,-294 2365.5,-294 2365.5,-235 2365.5,-235 2365.5,-229 2371.5,-223 2377.5,-223 2377.5,-223 2502.5,-223 2502.5,-223 2508.5,-223 2514.5,-229 2514.5,-235 2514.5,-235 2514.5,-294 2514.5,-294 2514.5,-300 2508.5,-306 2502.5,-306\"/>\n<text text-anchor=\"start\" x=\"2384\" y=\"-290.8\" font-family=\"Helvetica,sans-Serif\" font-size=\"14.00\" fill=\"#000000\">balance ≤ 1623.5</text>\n<text text-anchor=\"start\" x=\"2402\" y=\"-275.8\" font-family=\"Helvetica,sans-Serif\" font-size=\"14.00\" fill=\"#000000\">gini = 0.365</text>\n<text text-anchor=\"start\" x=\"2388\" y=\"-260.8\" font-family=\"Helvetica,sans-Serif\" font-size=\"14.00\" fill=\"#000000\">samples = 6115</text>\n<text text-anchor=\"start\" x=\"2373.5\" y=\"-245.8\" font-family=\"Helvetica,sans-Serif\" font-size=\"14.00\" fill=\"#000000\">value = [4646, 1469]</text>\n<text text-anchor=\"start\" x=\"2411\" y=\"-230.8\" font-family=\"Helvetica,sans-Serif\" font-size=\"14.00\" fill=\"#000000\">class = 0</text>\n</g>\n<!-- 31&#45;&gt;32 -->\n<g id=\"edge32\" class=\"edge\">\n<title>31&#45;&gt;32</title>\n<path fill=\"none\" stroke=\"#000000\" d=\"M2506.9756,-341.8796C2499.1802,-332.8733 2490.8633,-323.2644 2482.8356,-313.9897\"/>\n<polygon fill=\"#000000\" stroke=\"#000000\" points=\"2485.3691,-311.5686 2476.1782,-306.2981 2480.0763,-316.1498 2485.3691,-311.5686\"/>\n</g>\n<!-- 39 -->\n<g id=\"node40\" class=\"node\">\n<title>39</title>\n<path fill=\"#e89151\" stroke=\"#000000\" d=\"M2757,-306C2757,-306 2641,-306 2641,-306 2635,-306 2629,-300 2629,-294 2629,-294 2629,-235 2629,-235 2629,-229 2635,-223 2641,-223 2641,-223 2757,-223 2757,-223 2763,-223 2769,-229 2769,-235 2769,-235 2769,-294 2769,-294 2769,-300 2763,-306 2757,-306\"/>\n<text text-anchor=\"start\" x=\"2664.5\" y=\"-290.8\" font-family=\"Helvetica,sans-Serif\" font-size=\"14.00\" fill=\"#000000\">age ≤ 28.5</text>\n<text text-anchor=\"start\" x=\"2661\" y=\"-275.8\" font-family=\"Helvetica,sans-Serif\" font-size=\"14.00\" fill=\"#000000\">gini = 0.196</text>\n<text text-anchor=\"start\" x=\"2647\" y=\"-260.8\" font-family=\"Helvetica,sans-Serif\" font-size=\"14.00\" fill=\"#000000\">samples = 1600</text>\n<text text-anchor=\"start\" x=\"2637\" y=\"-245.8\" font-family=\"Helvetica,sans-Serif\" font-size=\"14.00\" fill=\"#000000\">value = [1424, 176]</text>\n<text text-anchor=\"start\" x=\"2670\" y=\"-230.8\" font-family=\"Helvetica,sans-Serif\" font-size=\"14.00\" fill=\"#000000\">class = 0</text>\n</g>\n<!-- 31&#45;&gt;39 -->\n<g id=\"edge39\" class=\"edge\">\n<title>31&#45;&gt;39</title>\n<path fill=\"none\" stroke=\"#000000\" d=\"M2597.5612,-341.8796C2610.0302,-332.368 2623.3802,-322.1843 2636.1648,-312.432\"/>\n<polygon fill=\"#000000\" stroke=\"#000000\" points=\"2638.6415,-314.9448 2644.4696,-306.0969 2634.396,-309.3792 2638.6415,-314.9448\"/>\n</g>\n<!-- 33 -->\n<g id=\"node34\" class=\"node\">\n<title>33</title>\n<path fill=\"#eca36f\" stroke=\"#000000\" d=\"M2281,-187C2281,-187 2165,-187 2165,-187 2159,-187 2153,-181 2153,-175 2153,-175 2153,-116 2153,-116 2153,-110 2159,-104 2165,-104 2165,-104 2281,-104 2281,-104 2287,-104 2293,-110 2293,-116 2293,-116 2293,-175 2293,-175 2293,-181 2287,-187 2281,-187\"/>\n<text text-anchor=\"start\" x=\"2188.5\" y=\"-171.8\" font-family=\"Helvetica,sans-Serif\" font-size=\"14.00\" fill=\"#000000\">age ≤ 24.5</text>\n<text text-anchor=\"start\" x=\"2185\" y=\"-156.8\" font-family=\"Helvetica,sans-Serif\" font-size=\"14.00\" fill=\"#000000\">gini = 0.337</text>\n<text text-anchor=\"start\" x=\"2171\" y=\"-141.8\" font-family=\"Helvetica,sans-Serif\" font-size=\"14.00\" fill=\"#000000\">samples = 4522</text>\n<text text-anchor=\"start\" x=\"2161\" y=\"-126.8\" font-family=\"Helvetica,sans-Serif\" font-size=\"14.00\" fill=\"#000000\">value = [3550, 972]</text>\n<text text-anchor=\"start\" x=\"2194\" y=\"-111.8\" font-family=\"Helvetica,sans-Serif\" font-size=\"14.00\" fill=\"#000000\">class = 0</text>\n</g>\n<!-- 32&#45;&gt;33 -->\n<g id=\"edge33\" class=\"edge\">\n<title>32&#45;&gt;33</title>\n<path fill=\"none\" stroke=\"#000000\" d=\"M2365.3209,-223.547C2344.8317,-212.3109 2322.5545,-200.0944 2301.8398,-188.7347\"/>\n<polygon fill=\"#000000\" stroke=\"#000000\" points=\"2303.5185,-185.6636 2293.0674,-183.9241 2300.1526,-191.8013 2303.5185,-185.6636\"/>\n</g>\n<!-- 36 -->\n<g id=\"node37\" class=\"node\">\n<title>36</title>\n<path fill=\"#f1ba93\" stroke=\"#000000\" d=\"M2498,-187C2498,-187 2382,-187 2382,-187 2376,-187 2370,-181 2370,-175 2370,-175 2370,-116 2370,-116 2370,-110 2376,-104 2382,-104 2382,-104 2498,-104 2498,-104 2504,-104 2510,-110 2510,-116 2510,-116 2510,-175 2510,-175 2510,-181 2504,-187 2498,-187\"/>\n<text text-anchor=\"start\" x=\"2384\" y=\"-171.8\" font-family=\"Helvetica,sans-Serif\" font-size=\"14.00\" fill=\"#000000\">balance ≤ 1625.5</text>\n<text text-anchor=\"start\" x=\"2402\" y=\"-156.8\" font-family=\"Helvetica,sans-Serif\" font-size=\"14.00\" fill=\"#000000\">gini = 0.429</text>\n<text text-anchor=\"start\" x=\"2388\" y=\"-141.8\" font-family=\"Helvetica,sans-Serif\" font-size=\"14.00\" fill=\"#000000\">samples = 1593</text>\n<text text-anchor=\"start\" x=\"2378\" y=\"-126.8\" font-family=\"Helvetica,sans-Serif\" font-size=\"14.00\" fill=\"#000000\">value = [1096, 497]</text>\n<text text-anchor=\"start\" x=\"2411\" y=\"-111.8\" font-family=\"Helvetica,sans-Serif\" font-size=\"14.00\" fill=\"#000000\">class = 0</text>\n</g>\n<!-- 32&#45;&gt;36 -->\n<g id=\"edge36\" class=\"edge\">\n<title>32&#45;&gt;36</title>\n<path fill=\"none\" stroke=\"#000000\" d=\"M2440,-222.8796C2440,-214.6838 2440,-205.9891 2440,-197.5013\"/>\n<polygon fill=\"#000000\" stroke=\"#000000\" points=\"2443.5001,-197.298 2440,-187.2981 2436.5001,-197.2981 2443.5001,-197.298\"/>\n</g>\n<!-- 34 -->\n<g id=\"node35\" class=\"node\">\n<title>34</title>\n<path fill=\"#fdf4ee\" stroke=\"#000000\" d=\"M2123,-68C2123,-68 2031,-68 2031,-68 2025,-68 2019,-62 2019,-56 2019,-56 2019,-12 2019,-12 2019,-6 2025,0 2031,0 2031,0 2123,0 2123,0 2129,0 2135,-6 2135,-12 2135,-12 2135,-56 2135,-56 2135,-62 2129,-68 2123,-68\"/>\n<text text-anchor=\"start\" x=\"2039\" y=\"-52.8\" font-family=\"Helvetica,sans-Serif\" font-size=\"14.00\" fill=\"#000000\">gini = 0.499</text>\n<text text-anchor=\"start\" x=\"2029\" y=\"-37.8\" font-family=\"Helvetica,sans-Serif\" font-size=\"14.00\" fill=\"#000000\">samples = 130</text>\n<text text-anchor=\"start\" x=\"2027\" y=\"-22.8\" font-family=\"Helvetica,sans-Serif\" font-size=\"14.00\" fill=\"#000000\">value = [68, 62]</text>\n<text text-anchor=\"start\" x=\"2048\" y=\"-7.8\" font-family=\"Helvetica,sans-Serif\" font-size=\"14.00\" fill=\"#000000\">class = 0</text>\n</g>\n<!-- 33&#45;&gt;34 -->\n<g id=\"edge34\" class=\"edge\">\n<title>33&#45;&gt;34</title>\n<path fill=\"none\" stroke=\"#000000\" d=\"M2168.635,-103.9815C2155.9989,-94.3313 2142.5644,-84.0714 2129.9885,-74.4673\"/>\n<polygon fill=\"#000000\" stroke=\"#000000\" points=\"2131.9372,-71.5515 2121.8654,-68.2637 2127.6886,-77.1148 2131.9372,-71.5515\"/>\n</g>\n<!-- 35 -->\n<g id=\"node36\" class=\"node\">\n<title>35</title>\n<path fill=\"#eca26d\" stroke=\"#000000\" d=\"M2281,-68C2281,-68 2165,-68 2165,-68 2159,-68 2153,-62 2153,-56 2153,-56 2153,-12 2153,-12 2153,-6 2159,0 2165,0 2165,0 2281,0 2281,0 2287,0 2293,-6 2293,-12 2293,-12 2293,-56 2293,-56 2293,-62 2287,-68 2281,-68\"/>\n<text text-anchor=\"start\" x=\"2185\" y=\"-52.8\" font-family=\"Helvetica,sans-Serif\" font-size=\"14.00\" fill=\"#000000\">gini = 0.329</text>\n<text text-anchor=\"start\" x=\"2171\" y=\"-37.8\" font-family=\"Helvetica,sans-Serif\" font-size=\"14.00\" fill=\"#000000\">samples = 4392</text>\n<text text-anchor=\"start\" x=\"2161\" y=\"-22.8\" font-family=\"Helvetica,sans-Serif\" font-size=\"14.00\" fill=\"#000000\">value = [3482, 910]</text>\n<text text-anchor=\"start\" x=\"2194\" y=\"-7.8\" font-family=\"Helvetica,sans-Serif\" font-size=\"14.00\" fill=\"#000000\">class = 0</text>\n</g>\n<!-- 33&#45;&gt;35 -->\n<g id=\"edge35\" class=\"edge\">\n<title>33&#45;&gt;35</title>\n<path fill=\"none\" stroke=\"#000000\" d=\"M2223,-103.9815C2223,-95.618 2223,-86.7965 2223,-78.3409\"/>\n<polygon fill=\"#000000\" stroke=\"#000000\" points=\"2226.5001,-78.2636 2223,-68.2637 2219.5001,-78.2637 2226.5001,-78.2636\"/>\n</g>\n<!-- 37 -->\n<g id=\"node38\" class=\"node\">\n<title>37</title>\n<path fill=\"#399de5\" stroke=\"#000000\" d=\"M2398.5,-68C2398.5,-68 2323.5,-68 2323.5,-68 2317.5,-68 2311.5,-62 2311.5,-56 2311.5,-56 2311.5,-12 2311.5,-12 2311.5,-6 2317.5,0 2323.5,0 2323.5,0 2398.5,0 2398.5,0 2404.5,0 2410.5,-6 2410.5,-12 2410.5,-12 2410.5,-56 2410.5,-56 2410.5,-62 2404.5,-68 2398.5,-68\"/>\n<text text-anchor=\"start\" x=\"2331.5\" y=\"-52.8\" font-family=\"Helvetica,sans-Serif\" font-size=\"14.00\" fill=\"#000000\">gini = 0.0</text>\n<text text-anchor=\"start\" x=\"2321.5\" y=\"-37.8\" font-family=\"Helvetica,sans-Serif\" font-size=\"14.00\" fill=\"#000000\">samples = 6</text>\n<text text-anchor=\"start\" x=\"2319.5\" y=\"-22.8\" font-family=\"Helvetica,sans-Serif\" font-size=\"14.00\" fill=\"#000000\">value = [0, 6]</text>\n<text text-anchor=\"start\" x=\"2332\" y=\"-7.8\" font-family=\"Helvetica,sans-Serif\" font-size=\"14.00\" fill=\"#000000\">class = 1</text>\n</g>\n<!-- 36&#45;&gt;37 -->\n<g id=\"edge37\" class=\"edge\">\n<title>36&#45;&gt;37</title>\n<path fill=\"none\" stroke=\"#000000\" d=\"M2410.5833,-103.9815C2404.2669,-95.0666 2397.5818,-85.6313 2391.2349,-76.6734\"/>\n<polygon fill=\"#000000\" stroke=\"#000000\" points=\"2393.9136,-74.3998 2385.2765,-68.2637 2388.2019,-78.4466 2393.9136,-74.3998\"/>\n</g>\n<!-- 38 -->\n<g id=\"node39\" class=\"node\">\n<title>38</title>\n<path fill=\"#f1b992\" stroke=\"#000000\" d=\"M2557,-68C2557,-68 2441,-68 2441,-68 2435,-68 2429,-62 2429,-56 2429,-56 2429,-12 2429,-12 2429,-6 2435,0 2441,0 2441,0 2557,0 2557,0 2563,0 2569,-6 2569,-12 2569,-12 2569,-56 2569,-56 2569,-62 2563,-68 2557,-68\"/>\n<text text-anchor=\"start\" x=\"2461\" y=\"-52.8\" font-family=\"Helvetica,sans-Serif\" font-size=\"14.00\" fill=\"#000000\">gini = 0.427</text>\n<text text-anchor=\"start\" x=\"2447\" y=\"-37.8\" font-family=\"Helvetica,sans-Serif\" font-size=\"14.00\" fill=\"#000000\">samples = 1587</text>\n<text text-anchor=\"start\" x=\"2437\" y=\"-22.8\" font-family=\"Helvetica,sans-Serif\" font-size=\"14.00\" fill=\"#000000\">value = [1096, 491]</text>\n<text text-anchor=\"start\" x=\"2470\" y=\"-7.8\" font-family=\"Helvetica,sans-Serif\" font-size=\"14.00\" fill=\"#000000\">class = 0</text>\n</g>\n<!-- 36&#45;&gt;38 -->\n<g id=\"edge38\" class=\"edge\">\n<title>36&#45;&gt;38</title>\n<path fill=\"none\" stroke=\"#000000\" d=\"M2461.9694,-103.9815C2466.5895,-95.2504 2471.4736,-86.0202 2476.126,-77.2281\"/>\n<polygon fill=\"#000000\" stroke=\"#000000\" points=\"2479.2859,-78.7395 2480.8694,-68.2637 2473.0987,-75.4655 2479.2859,-78.7395\"/>\n</g>\n<!-- 40 -->\n<g id=\"node41\" class=\"node\">\n<title>40</title>\n<path fill=\"#eda876\" stroke=\"#000000\" d=\"M2751,-187C2751,-187 2647,-187 2647,-187 2641,-187 2635,-181 2635,-175 2635,-175 2635,-116 2635,-116 2635,-110 2641,-104 2647,-104 2647,-104 2751,-104 2751,-104 2757,-104 2763,-110 2763,-116 2763,-116 2763,-175 2763,-175 2763,-181 2757,-187 2751,-187\"/>\n<text text-anchor=\"start\" x=\"2643\" y=\"-171.8\" font-family=\"Helvetica,sans-Serif\" font-size=\"14.00\" fill=\"#000000\">balance ≤ 1773.5</text>\n<text text-anchor=\"start\" x=\"2665.5\" y=\"-156.8\" font-family=\"Helvetica,sans-Serif\" font-size=\"14.00\" fill=\"#000000\">gini = 0.36</text>\n<text text-anchor=\"start\" x=\"2651\" y=\"-141.8\" font-family=\"Helvetica,sans-Serif\" font-size=\"14.00\" fill=\"#000000\">samples = 123</text>\n<text text-anchor=\"start\" x=\"2649\" y=\"-126.8\" font-family=\"Helvetica,sans-Serif\" font-size=\"14.00\" fill=\"#000000\">value = [94, 29]</text>\n<text text-anchor=\"start\" x=\"2670\" y=\"-111.8\" font-family=\"Helvetica,sans-Serif\" font-size=\"14.00\" fill=\"#000000\">class = 0</text>\n</g>\n<!-- 39&#45;&gt;40 -->\n<g id=\"edge40\" class=\"edge\">\n<title>39&#45;&gt;40</title>\n<path fill=\"none\" stroke=\"#000000\" d=\"M2699,-222.8796C2699,-214.6838 2699,-205.9891 2699,-197.5013\"/>\n<polygon fill=\"#000000\" stroke=\"#000000\" points=\"2702.5001,-197.298 2699,-187.2981 2695.5001,-197.2981 2702.5001,-197.298\"/>\n</g>\n<!-- 43 -->\n<g id=\"node44\" class=\"node\">\n<title>43</title>\n<path fill=\"#e88f4f\" stroke=\"#000000\" d=\"M2963,-187C2963,-187 2847,-187 2847,-187 2841,-187 2835,-181 2835,-175 2835,-175 2835,-116 2835,-116 2835,-110 2841,-104 2847,-104 2847,-104 2963,-104 2963,-104 2969,-104 2975,-110 2975,-116 2975,-116 2975,-175 2975,-175 2975,-181 2969,-187 2963,-187\"/>\n<text text-anchor=\"start\" x=\"2855\" y=\"-171.8\" font-family=\"Helvetica,sans-Serif\" font-size=\"14.00\" fill=\"#000000\">campaign ≤ 1.5</text>\n<text text-anchor=\"start\" x=\"2867\" y=\"-156.8\" font-family=\"Helvetica,sans-Serif\" font-size=\"14.00\" fill=\"#000000\">gini = 0.179</text>\n<text text-anchor=\"start\" x=\"2853\" y=\"-141.8\" font-family=\"Helvetica,sans-Serif\" font-size=\"14.00\" fill=\"#000000\">samples = 1477</text>\n<text text-anchor=\"start\" x=\"2843\" y=\"-126.8\" font-family=\"Helvetica,sans-Serif\" font-size=\"14.00\" fill=\"#000000\">value = [1330, 147]</text>\n<text text-anchor=\"start\" x=\"2876\" y=\"-111.8\" font-family=\"Helvetica,sans-Serif\" font-size=\"14.00\" fill=\"#000000\">class = 0</text>\n</g>\n<!-- 39&#45;&gt;43 -->\n<g id=\"edge43\" class=\"edge\">\n<title>39&#45;&gt;43</title>\n<path fill=\"none\" stroke=\"#000000\" d=\"M2769.0296,-224.046C2787.3558,-213.4595 2807.2387,-201.9738 2825.9971,-191.1376\"/>\n<polygon fill=\"#000000\" stroke=\"#000000\" points=\"2827.9058,-194.077 2834.8142,-186.0442 2824.4044,-188.0157 2827.9058,-194.077\"/>\n</g>\n<!-- 41 -->\n<g id=\"node42\" class=\"node\">\n<title>41</title>\n<path fill=\"#eb9f68\" stroke=\"#000000\" d=\"M2691,-68C2691,-68 2599,-68 2599,-68 2593,-68 2587,-62 2587,-56 2587,-56 2587,-12 2587,-12 2587,-6 2593,0 2599,0 2599,0 2691,0 2691,0 2697,0 2703,-6 2703,-12 2703,-12 2703,-56 2703,-56 2703,-62 2697,-68 2691,-68\"/>\n<text text-anchor=\"start\" x=\"2607\" y=\"-52.8\" font-family=\"Helvetica,sans-Serif\" font-size=\"14.00\" fill=\"#000000\">gini = 0.308</text>\n<text text-anchor=\"start\" x=\"2597\" y=\"-37.8\" font-family=\"Helvetica,sans-Serif\" font-size=\"14.00\" fill=\"#000000\">samples = 105</text>\n<text text-anchor=\"start\" x=\"2595\" y=\"-22.8\" font-family=\"Helvetica,sans-Serif\" font-size=\"14.00\" fill=\"#000000\">value = [85, 20]</text>\n<text text-anchor=\"start\" x=\"2616\" y=\"-7.8\" font-family=\"Helvetica,sans-Serif\" font-size=\"14.00\" fill=\"#000000\">class = 0</text>\n</g>\n<!-- 40&#45;&gt;41 -->\n<g id=\"edge41\" class=\"edge\">\n<title>40&#45;&gt;41</title>\n<path fill=\"none\" stroke=\"#000000\" d=\"M2678.8924,-103.9815C2674.7084,-95.3423 2670.2877,-86.2144 2666.0701,-77.5059\"/>\n<polygon fill=\"#000000\" stroke=\"#000000\" points=\"2669.1029,-75.7382 2661.5941,-68.2637 2662.8029,-78.7893 2669.1029,-75.7382\"/>\n</g>\n<!-- 42 -->\n<g id=\"node43\" class=\"node\">\n<title>42</title>\n<path fill=\"#ffffff\" stroke=\"#000000\" d=\"M2813,-68C2813,-68 2733,-68 2733,-68 2727,-68 2721,-62 2721,-56 2721,-56 2721,-12 2721,-12 2721,-6 2727,0 2733,0 2733,0 2813,0 2813,0 2819,0 2825,-6 2825,-12 2825,-12 2825,-56 2825,-56 2825,-62 2819,-68 2813,-68\"/>\n<text text-anchor=\"start\" x=\"2743.5\" y=\"-52.8\" font-family=\"Helvetica,sans-Serif\" font-size=\"14.00\" fill=\"#000000\">gini = 0.5</text>\n<text text-anchor=\"start\" x=\"2729\" y=\"-37.8\" font-family=\"Helvetica,sans-Serif\" font-size=\"14.00\" fill=\"#000000\">samples = 18</text>\n<text text-anchor=\"start\" x=\"2731.5\" y=\"-22.8\" font-family=\"Helvetica,sans-Serif\" font-size=\"14.00\" fill=\"#000000\">value = [9, 9]</text>\n<text text-anchor=\"start\" x=\"2744\" y=\"-7.8\" font-family=\"Helvetica,sans-Serif\" font-size=\"14.00\" fill=\"#000000\">class = 0</text>\n</g>\n<!-- 40&#45;&gt;42 -->\n<g id=\"edge42\" class=\"edge\">\n<title>40&#45;&gt;42</title>\n<path fill=\"none\" stroke=\"#000000\" d=\"M2726.5549,-103.9815C2732.4715,-95.0666 2738.7335,-85.6313 2744.6787,-76.6734\"/>\n<polygon fill=\"#000000\" stroke=\"#000000\" points=\"2747.6464,-78.5311 2750.26,-68.2637 2741.814,-74.6602 2747.6464,-78.5311\"/>\n</g>\n<!-- 44 -->\n<g id=\"node45\" class=\"node\">\n<title>44</title>\n<path fill=\"#e99457\" stroke=\"#000000\" d=\"M2955,-68C2955,-68 2855,-68 2855,-68 2849,-68 2843,-62 2843,-56 2843,-56 2843,-12 2843,-12 2843,-6 2849,0 2855,0 2855,0 2955,0 2955,0 2961,0 2967,-6 2967,-12 2967,-12 2967,-56 2967,-56 2967,-62 2961,-68 2955,-68\"/>\n<text text-anchor=\"start\" x=\"2867\" y=\"-52.8\" font-family=\"Helvetica,sans-Serif\" font-size=\"14.00\" fill=\"#000000\">gini = 0.229</text>\n<text text-anchor=\"start\" x=\"2857\" y=\"-37.8\" font-family=\"Helvetica,sans-Serif\" font-size=\"14.00\" fill=\"#000000\">samples = 645</text>\n<text text-anchor=\"start\" x=\"2851\" y=\"-22.8\" font-family=\"Helvetica,sans-Serif\" font-size=\"14.00\" fill=\"#000000\">value = [560, 85]</text>\n<text text-anchor=\"start\" x=\"2876\" y=\"-7.8\" font-family=\"Helvetica,sans-Serif\" font-size=\"14.00\" fill=\"#000000\">class = 0</text>\n</g>\n<!-- 43&#45;&gt;44 -->\n<g id=\"edge44\" class=\"edge\">\n<title>43&#45;&gt;44</title>\n<path fill=\"none\" stroke=\"#000000\" d=\"M2905,-103.9815C2905,-95.618 2905,-86.7965 2905,-78.3409\"/>\n<polygon fill=\"#000000\" stroke=\"#000000\" points=\"2908.5001,-78.2636 2905,-68.2637 2901.5001,-78.2637 2908.5001,-78.2636\"/>\n</g>\n<!-- 45 -->\n<g id=\"node46\" class=\"node\">\n<title>45</title>\n<path fill=\"#e78b49\" stroke=\"#000000\" d=\"M3097,-68C3097,-68 2997,-68 2997,-68 2991,-68 2985,-62 2985,-56 2985,-56 2985,-12 2985,-12 2985,-6 2991,0 2997,0 2997,0 3097,0 3097,0 3103,0 3109,-6 3109,-12 3109,-12 3109,-56 3109,-56 3109,-62 3103,-68 3097,-68\"/>\n<text text-anchor=\"start\" x=\"3009\" y=\"-52.8\" font-family=\"Helvetica,sans-Serif\" font-size=\"14.00\" fill=\"#000000\">gini = 0.138</text>\n<text text-anchor=\"start\" x=\"2999\" y=\"-37.8\" font-family=\"Helvetica,sans-Serif\" font-size=\"14.00\" fill=\"#000000\">samples = 832</text>\n<text text-anchor=\"start\" x=\"2993\" y=\"-22.8\" font-family=\"Helvetica,sans-Serif\" font-size=\"14.00\" fill=\"#000000\">value = [770, 62]</text>\n<text text-anchor=\"start\" x=\"3018\" y=\"-7.8\" font-family=\"Helvetica,sans-Serif\" font-size=\"14.00\" fill=\"#000000\">class = 0</text>\n</g>\n<!-- 43&#45;&gt;45 -->\n<g id=\"edge45\" class=\"edge\">\n<title>43&#45;&gt;45</title>\n<path fill=\"none\" stroke=\"#000000\" d=\"M2957.8756,-103.9815C2970.1655,-94.3313 2983.2319,-84.0714 2995.4632,-74.4673\"/>\n<polygon fill=\"#000000\" stroke=\"#000000\" points=\"2997.6602,-77.1923 3003.3638,-68.2637 2993.3371,-71.6867 2997.6602,-77.1923\"/>\n</g>\n<!-- 47 -->\n<g id=\"node48\" class=\"node\">\n<title>47</title>\n<path fill=\"#dcedfa\" stroke=\"#000000\" d=\"M3433,-306C3433,-306 3325,-306 3325,-306 3319,-306 3313,-300 3313,-294 3313,-294 3313,-235 3313,-235 3313,-229 3319,-223 3325,-223 3325,-223 3433,-223 3433,-223 3439,-223 3445,-229 3445,-235 3445,-235 3445,-294 3445,-294 3445,-300 3439,-306 3433,-306\"/>\n<text text-anchor=\"start\" x=\"3344.5\" y=\"-290.8\" font-family=\"Helvetica,sans-Serif\" font-size=\"14.00\" fill=\"#000000\">age ≤ 71.5</text>\n<text text-anchor=\"start\" x=\"3341\" y=\"-275.8\" font-family=\"Helvetica,sans-Serif\" font-size=\"14.00\" fill=\"#000000\">gini = 0.495</text>\n<text text-anchor=\"start\" x=\"3331\" y=\"-260.8\" font-family=\"Helvetica,sans-Serif\" font-size=\"14.00\" fill=\"#000000\">samples = 275</text>\n<text text-anchor=\"start\" x=\"3321\" y=\"-245.8\" font-family=\"Helvetica,sans-Serif\" font-size=\"14.00\" fill=\"#000000\">value = [124, 151]</text>\n<text text-anchor=\"start\" x=\"3350\" y=\"-230.8\" font-family=\"Helvetica,sans-Serif\" font-size=\"14.00\" fill=\"#000000\">class = 1</text>\n</g>\n<!-- 46&#45;&gt;47 -->\n<g id=\"edge47\" class=\"edge\">\n<title>46&#45;&gt;47</title>\n<path fill=\"none\" stroke=\"#000000\" d=\"M3379,-341.8796C3379,-333.6838 3379,-324.9891 3379,-316.5013\"/>\n<polygon fill=\"#000000\" stroke=\"#000000\" points=\"3382.5001,-316.298 3379,-306.2981 3375.5001,-316.2981 3382.5001,-316.298\"/>\n</g>\n<!-- 54 -->\n<g id=\"node55\" class=\"node\">\n<title>54</title>\n<path fill=\"#f7d8c2\" stroke=\"#000000\" d=\"M3809,-306C3809,-306 3701,-306 3701,-306 3695,-306 3689,-300 3689,-294 3689,-294 3689,-235 3689,-235 3689,-229 3695,-223 3701,-223 3701,-223 3809,-223 3809,-223 3815,-223 3821,-229 3821,-235 3821,-235 3821,-294 3821,-294 3821,-300 3815,-306 3809,-306\"/>\n<text text-anchor=\"start\" x=\"3707\" y=\"-290.8\" font-family=\"Helvetica,sans-Serif\" font-size=\"14.00\" fill=\"#000000\">balance ≤ 41.0</text>\n<text text-anchor=\"start\" x=\"3717\" y=\"-275.8\" font-family=\"Helvetica,sans-Serif\" font-size=\"14.00\" fill=\"#000000\">gini = 0.483</text>\n<text text-anchor=\"start\" x=\"3707\" y=\"-260.8\" font-family=\"Helvetica,sans-Serif\" font-size=\"14.00\" fill=\"#000000\">samples = 267</text>\n<text text-anchor=\"start\" x=\"3697\" y=\"-245.8\" font-family=\"Helvetica,sans-Serif\" font-size=\"14.00\" fill=\"#000000\">value = [158, 109]</text>\n<text text-anchor=\"start\" x=\"3726\" y=\"-230.8\" font-family=\"Helvetica,sans-Serif\" font-size=\"14.00\" fill=\"#000000\">class = 0</text>\n</g>\n<!-- 46&#45;&gt;54 -->\n<g id=\"edge54\" class=\"edge\">\n<title>46&#45;&gt;54</title>\n<path fill=\"none\" stroke=\"#000000\" d=\"M3445.3557,-362.4991C3510.7624,-341.7986 3610.5945,-310.2028 3679.1173,-288.5161\"/>\n<polygon fill=\"#000000\" stroke=\"#000000\" points=\"3680.5144,-291.7451 3688.9922,-285.3908 3678.4022,-285.0713 3680.5144,-291.7451\"/>\n</g>\n<!-- 48 -->\n<g id=\"node49\" class=\"node\">\n<title>48</title>\n<path fill=\"#fdfeff\" stroke=\"#000000\" d=\"M3358,-187C3358,-187 3230,-187 3230,-187 3224,-187 3218,-181 3218,-175 3218,-175 3218,-116 3218,-116 3218,-110 3224,-104 3230,-104 3230,-104 3358,-104 3358,-104 3364,-104 3370,-110 3370,-116 3370,-116 3370,-175 3370,-175 3370,-181 3364,-187 3358,-187\"/>\n<text text-anchor=\"start\" x=\"3226\" y=\"-171.8\" font-family=\"Helvetica,sans-Serif\" font-size=\"14.00\" fill=\"#000000\">job_housemaid ≤ 0.5</text>\n<text text-anchor=\"start\" x=\"3264.5\" y=\"-156.8\" font-family=\"Helvetica,sans-Serif\" font-size=\"14.00\" fill=\"#000000\">gini = 0.5</text>\n<text text-anchor=\"start\" x=\"3246\" y=\"-141.8\" font-family=\"Helvetica,sans-Serif\" font-size=\"14.00\" fill=\"#000000\">samples = 199</text>\n<text text-anchor=\"start\" x=\"3240\" y=\"-126.8\" font-family=\"Helvetica,sans-Serif\" font-size=\"14.00\" fill=\"#000000\">value = [99, 100]</text>\n<text text-anchor=\"start\" x=\"3265\" y=\"-111.8\" font-family=\"Helvetica,sans-Serif\" font-size=\"14.00\" fill=\"#000000\">class = 1</text>\n</g>\n<!-- 47&#45;&gt;48 -->\n<g id=\"edge48\" class=\"edge\">\n<title>47&#45;&gt;48</title>\n<path fill=\"none\" stroke=\"#000000\" d=\"M3349.2711,-222.8796C3342.9667,-214.0534 3336.249,-204.6485 3329.7476,-195.5466\"/>\n<polygon fill=\"#000000\" stroke=\"#000000\" points=\"3332.5163,-193.4011 3323.8558,-187.2981 3326.8201,-197.4698 3332.5163,-193.4011\"/>\n</g>\n<!-- 51 -->\n<g id=\"node52\" class=\"node\">\n<title>51</title>\n<path fill=\"#9acdf2\" stroke=\"#000000\" d=\"M3528,-187C3528,-187 3400,-187 3400,-187 3394,-187 3388,-181 3388,-175 3388,-175 3388,-116 3388,-116 3388,-110 3394,-104 3400,-104 3400,-104 3528,-104 3528,-104 3534,-104 3540,-110 3540,-116 3540,-116 3540,-175 3540,-175 3540,-181 3534,-187 3528,-187\"/>\n<text text-anchor=\"start\" x=\"3396\" y=\"-171.8\" font-family=\"Helvetica,sans-Serif\" font-size=\"14.00\" fill=\"#000000\">marital_married ≤ 0.5</text>\n<text text-anchor=\"start\" x=\"3426\" y=\"-156.8\" font-family=\"Helvetica,sans-Serif\" font-size=\"14.00\" fill=\"#000000\">gini = 0.441</text>\n<text text-anchor=\"start\" x=\"3420\" y=\"-141.8\" font-family=\"Helvetica,sans-Serif\" font-size=\"14.00\" fill=\"#000000\">samples = 76</text>\n<text text-anchor=\"start\" x=\"3414\" y=\"-126.8\" font-family=\"Helvetica,sans-Serif\" font-size=\"14.00\" fill=\"#000000\">value = [25, 51]</text>\n<text text-anchor=\"start\" x=\"3435\" y=\"-111.8\" font-family=\"Helvetica,sans-Serif\" font-size=\"14.00\" fill=\"#000000\">class = 1</text>\n</g>\n<!-- 47&#45;&gt;51 -->\n<g id=\"edge51\" class=\"edge\">\n<title>47&#45;&gt;51</title>\n<path fill=\"none\" stroke=\"#000000\" d=\"M3408.7289,-222.8796C3415.0333,-214.0534 3421.751,-204.6485 3428.2524,-195.5466\"/>\n<polygon fill=\"#000000\" stroke=\"#000000\" points=\"3431.1799,-197.4698 3434.1442,-187.2981 3425.4837,-193.4011 3431.1799,-197.4698\"/>\n</g>\n<!-- 49 -->\n<g id=\"node50\" class=\"node\">\n<title>49</title>\n<path fill=\"#f3f9fd\" stroke=\"#000000\" d=\"M3239,-68C3239,-68 3139,-68 3139,-68 3133,-68 3127,-62 3127,-56 3127,-56 3127,-12 3127,-12 3127,-6 3133,0 3139,0 3139,0 3239,0 3239,0 3245,0 3251,-6 3251,-12 3251,-12 3251,-56 3251,-56 3251,-62 3245,-68 3239,-68\"/>\n<text text-anchor=\"start\" x=\"3159.5\" y=\"-52.8\" font-family=\"Helvetica,sans-Serif\" font-size=\"14.00\" fill=\"#000000\">gini = 0.5</text>\n<text text-anchor=\"start\" x=\"3141\" y=\"-37.8\" font-family=\"Helvetica,sans-Serif\" font-size=\"14.00\" fill=\"#000000\">samples = 194</text>\n<text text-anchor=\"start\" x=\"3135\" y=\"-22.8\" font-family=\"Helvetica,sans-Serif\" font-size=\"14.00\" fill=\"#000000\">value = [94, 100]</text>\n<text text-anchor=\"start\" x=\"3160\" y=\"-7.8\" font-family=\"Helvetica,sans-Serif\" font-size=\"14.00\" fill=\"#000000\">class = 1</text>\n</g>\n<!-- 48&#45;&gt;49 -->\n<g id=\"edge49\" class=\"edge\">\n<title>48&#45;&gt;49</title>\n<path fill=\"none\" stroke=\"#000000\" d=\"M3254.9019,-103.9815C3246.1604,-94.6989 3236.8878,-84.8522 3228.1444,-75.5677\"/>\n<polygon fill=\"#000000\" stroke=\"#000000\" points=\"3230.67,-73.1443 3221.2662,-68.2637 3225.5739,-77.9433 3230.67,-73.1443\"/>\n</g>\n<!-- 50 -->\n<g id=\"node51\" class=\"node\">\n<title>50</title>\n<path fill=\"#e58139\" stroke=\"#000000\" d=\"M3356.5,-68C3356.5,-68 3281.5,-68 3281.5,-68 3275.5,-68 3269.5,-62 3269.5,-56 3269.5,-56 3269.5,-12 3269.5,-12 3269.5,-6 3275.5,0 3281.5,0 3281.5,0 3356.5,0 3356.5,0 3362.5,0 3368.5,-6 3368.5,-12 3368.5,-12 3368.5,-56 3368.5,-56 3368.5,-62 3362.5,-68 3356.5,-68\"/>\n<text text-anchor=\"start\" x=\"3289.5\" y=\"-52.8\" font-family=\"Helvetica,sans-Serif\" font-size=\"14.00\" fill=\"#000000\">gini = 0.0</text>\n<text text-anchor=\"start\" x=\"3279.5\" y=\"-37.8\" font-family=\"Helvetica,sans-Serif\" font-size=\"14.00\" fill=\"#000000\">samples = 5</text>\n<text text-anchor=\"start\" x=\"3277.5\" y=\"-22.8\" font-family=\"Helvetica,sans-Serif\" font-size=\"14.00\" fill=\"#000000\">value = [5, 0]</text>\n<text text-anchor=\"start\" x=\"3290\" y=\"-7.8\" font-family=\"Helvetica,sans-Serif\" font-size=\"14.00\" fill=\"#000000\">class = 0</text>\n</g>\n<!-- 48&#45;&gt;50 -->\n<g id=\"edge50\" class=\"edge\">\n<title>48&#45;&gt;50</title>\n<path fill=\"none\" stroke=\"#000000\" d=\"M3303.3091,-103.9815C3305.2049,-95.5261 3307.2057,-86.6026 3309.1206,-78.0623\"/>\n<polygon fill=\"#000000\" stroke=\"#000000\" points=\"3312.5449,-78.7872 3311.3176,-68.2637 3305.7144,-77.2556 3312.5449,-78.7872\"/>\n</g>\n<!-- 52 -->\n<g id=\"node53\" class=\"node\">\n<title>52</title>\n<path fill=\"#fbeade\" stroke=\"#000000\" d=\"M3479,-68C3479,-68 3399,-68 3399,-68 3393,-68 3387,-62 3387,-56 3387,-56 3387,-12 3387,-12 3387,-6 3393,0 3399,0 3399,0 3479,0 3479,0 3485,0 3491,-6 3491,-12 3491,-12 3491,-56 3491,-56 3491,-62 3485,-68 3479,-68\"/>\n<text text-anchor=\"start\" x=\"3401\" y=\"-52.8\" font-family=\"Helvetica,sans-Serif\" font-size=\"14.00\" fill=\"#000000\">gini = 0.496</text>\n<text text-anchor=\"start\" x=\"3395\" y=\"-37.8\" font-family=\"Helvetica,sans-Serif\" font-size=\"14.00\" fill=\"#000000\">samples = 11</text>\n<text text-anchor=\"start\" x=\"3397.5\" y=\"-22.8\" font-family=\"Helvetica,sans-Serif\" font-size=\"14.00\" fill=\"#000000\">value = [6, 5]</text>\n<text text-anchor=\"start\" x=\"3410\" y=\"-7.8\" font-family=\"Helvetica,sans-Serif\" font-size=\"14.00\" fill=\"#000000\">class = 0</text>\n</g>\n<!-- 51&#45;&gt;52 -->\n<g id=\"edge52\" class=\"edge\">\n<title>51&#45;&gt;52</title>\n<path fill=\"none\" stroke=\"#000000\" d=\"M3454.6909,-103.9815C3452.7951,-95.5261 3450.7943,-86.6026 3448.8794,-78.0623\"/>\n<polygon fill=\"#000000\" stroke=\"#000000\" points=\"3452.2856,-77.2556 3446.6824,-68.2637 3445.4551,-78.7872 3452.2856,-77.2556\"/>\n</g>\n<!-- 53 -->\n<g id=\"node54\" class=\"node\">\n<title>53</title>\n<path fill=\"#8bc5f0\" stroke=\"#000000\" d=\"M3613,-68C3613,-68 3521,-68 3521,-68 3515,-68 3509,-62 3509,-56 3509,-56 3509,-12 3509,-12 3509,-6 3515,0 3521,0 3521,0 3613,0 3613,0 3619,0 3625,-6 3625,-12 3625,-12 3625,-56 3625,-56 3625,-62 3619,-68 3613,-68\"/>\n<text text-anchor=\"start\" x=\"3529\" y=\"-52.8\" font-family=\"Helvetica,sans-Serif\" font-size=\"14.00\" fill=\"#000000\">gini = 0.414</text>\n<text text-anchor=\"start\" x=\"3523\" y=\"-37.8\" font-family=\"Helvetica,sans-Serif\" font-size=\"14.00\" fill=\"#000000\">samples = 65</text>\n<text text-anchor=\"start\" x=\"3517\" y=\"-22.8\" font-family=\"Helvetica,sans-Serif\" font-size=\"14.00\" fill=\"#000000\">value = [19, 46]</text>\n<text text-anchor=\"start\" x=\"3538\" y=\"-7.8\" font-family=\"Helvetica,sans-Serif\" font-size=\"14.00\" fill=\"#000000\">class = 1</text>\n</g>\n<!-- 51&#45;&gt;53 -->\n<g id=\"edge53\" class=\"edge\">\n<title>51&#45;&gt;53</title>\n<path fill=\"none\" stroke=\"#000000\" d=\"M3502.3534,-103.9815C3510.8434,-94.7908 3519.8443,-85.0472 3528.3463,-75.8436\"/>\n<polygon fill=\"#000000\" stroke=\"#000000\" points=\"3531.1337,-77.9842 3535.3484,-68.2637 3525.9919,-73.2343 3531.1337,-77.9842\"/>\n</g>\n<!-- 55 -->\n<g id=\"node56\" class=\"node\">\n<title>55</title>\n<path fill=\"#eb9c64\" stroke=\"#000000\" d=\"M3801,-187C3801,-187 3709,-187 3709,-187 3703,-187 3697,-181 3697,-175 3697,-175 3697,-116 3697,-116 3697,-110 3703,-104 3709,-104 3709,-104 3801,-104 3801,-104 3807,-104 3813,-110 3813,-116 3813,-116 3813,-175 3813,-175 3813,-181 3807,-187 3801,-187\"/>\n<text text-anchor=\"start\" x=\"3705\" y=\"-171.8\" font-family=\"Helvetica,sans-Serif\" font-size=\"14.00\" fill=\"#000000\">campaign ≤ 2.5</text>\n<text text-anchor=\"start\" x=\"3717\" y=\"-156.8\" font-family=\"Helvetica,sans-Serif\" font-size=\"14.00\" fill=\"#000000\">gini = 0.293</text>\n<text text-anchor=\"start\" x=\"3711\" y=\"-141.8\" font-family=\"Helvetica,sans-Serif\" font-size=\"14.00\" fill=\"#000000\">samples = 28</text>\n<text text-anchor=\"start\" x=\"3709.5\" y=\"-126.8\" font-family=\"Helvetica,sans-Serif\" font-size=\"14.00\" fill=\"#000000\">value = [23, 5]</text>\n<text text-anchor=\"start\" x=\"3726\" y=\"-111.8\" font-family=\"Helvetica,sans-Serif\" font-size=\"14.00\" fill=\"#000000\">class = 0</text>\n</g>\n<!-- 54&#45;&gt;55 -->\n<g id=\"edge55\" class=\"edge\">\n<title>54&#45;&gt;55</title>\n<path fill=\"none\" stroke=\"#000000\" d=\"M3755,-222.8796C3755,-214.6838 3755,-205.9891 3755,-197.5013\"/>\n<polygon fill=\"#000000\" stroke=\"#000000\" points=\"3758.5001,-197.298 3755,-187.2981 3751.5001,-197.2981 3758.5001,-197.298\"/>\n</g>\n<!-- 58 -->\n<g id=\"node59\" class=\"node\">\n<title>58</title>\n<path fill=\"#f9e2d2\" stroke=\"#000000\" d=\"M4011,-187C4011,-187 3903,-187 3903,-187 3897,-187 3891,-181 3891,-175 3891,-175 3891,-116 3891,-116 3891,-110 3897,-104 3903,-104 3903,-104 4011,-104 4011,-104 4017,-104 4023,-110 4023,-116 4023,-116 4023,-175 4023,-175 4023,-181 4017,-187 4011,-187\"/>\n<text text-anchor=\"start\" x=\"3922.5\" y=\"-171.8\" font-family=\"Helvetica,sans-Serif\" font-size=\"14.00\" fill=\"#000000\">age ≤ 90.5</text>\n<text text-anchor=\"start\" x=\"3919\" y=\"-156.8\" font-family=\"Helvetica,sans-Serif\" font-size=\"14.00\" fill=\"#000000\">gini = 0.492</text>\n<text text-anchor=\"start\" x=\"3909\" y=\"-141.8\" font-family=\"Helvetica,sans-Serif\" font-size=\"14.00\" fill=\"#000000\">samples = 239</text>\n<text text-anchor=\"start\" x=\"3899\" y=\"-126.8\" font-family=\"Helvetica,sans-Serif\" font-size=\"14.00\" fill=\"#000000\">value = [135, 104]</text>\n<text text-anchor=\"start\" x=\"3928\" y=\"-111.8\" font-family=\"Helvetica,sans-Serif\" font-size=\"14.00\" fill=\"#000000\">class = 0</text>\n</g>\n<!-- 54&#45;&gt;58 -->\n<g id=\"edge58\" class=\"edge\">\n<title>54&#45;&gt;58</title>\n<path fill=\"none\" stroke=\"#000000\" d=\"M3821.1424,-225.5349C3840.5869,-214.08 3861.9962,-201.4676 3881.9548,-189.7098\"/>\n<polygon fill=\"#000000\" stroke=\"#000000\" points=\"3883.8695,-192.6441 3890.709,-184.5526 3880.3164,-186.6128 3883.8695,-192.6441\"/>\n</g>\n<!-- 56 -->\n<g id=\"node57\" class=\"node\">\n<title>56</title>\n<path fill=\"#f2c09c\" stroke=\"#000000\" d=\"M3735,-68C3735,-68 3655,-68 3655,-68 3649,-68 3643,-62 3643,-56 3643,-56 3643,-12 3643,-12 3643,-6 3649,0 3655,0 3655,0 3735,0 3735,0 3741,0 3747,-6 3747,-12 3747,-12 3747,-56 3747,-56 3747,-62 3741,-68 3735,-68\"/>\n<text text-anchor=\"start\" x=\"3657\" y=\"-52.8\" font-family=\"Helvetica,sans-Serif\" font-size=\"14.00\" fill=\"#000000\">gini = 0.444</text>\n<text text-anchor=\"start\" x=\"3651\" y=\"-37.8\" font-family=\"Helvetica,sans-Serif\" font-size=\"14.00\" fill=\"#000000\">samples = 12</text>\n<text text-anchor=\"start\" x=\"3653.5\" y=\"-22.8\" font-family=\"Helvetica,sans-Serif\" font-size=\"14.00\" fill=\"#000000\">value = [8, 4]</text>\n<text text-anchor=\"start\" x=\"3666\" y=\"-7.8\" font-family=\"Helvetica,sans-Serif\" font-size=\"14.00\" fill=\"#000000\">class = 0</text>\n</g>\n<!-- 55&#45;&gt;56 -->\n<g id=\"edge56\" class=\"edge\">\n<title>55&#45;&gt;56</title>\n<path fill=\"none\" stroke=\"#000000\" d=\"M3732.6582,-103.9815C3727.9598,-95.2504 3722.9929,-86.0202 3718.2617,-77.2281\"/>\n<polygon fill=\"#000000\" stroke=\"#000000\" points=\"3721.2586,-75.4111 3713.4379,-68.2637 3715.0944,-78.7282 3721.2586,-75.4111\"/>\n</g>\n<!-- 57 -->\n<g id=\"node58\" class=\"node\">\n<title>57</title>\n<path fill=\"#e78946\" stroke=\"#000000\" d=\"M3860.5,-68C3860.5,-68 3777.5,-68 3777.5,-68 3771.5,-68 3765.5,-62 3765.5,-56 3765.5,-56 3765.5,-12 3765.5,-12 3765.5,-6 3771.5,0 3777.5,0 3777.5,0 3860.5,0 3860.5,0 3866.5,0 3872.5,-6 3872.5,-12 3872.5,-12 3872.5,-56 3872.5,-56 3872.5,-62 3866.5,-68 3860.5,-68\"/>\n<text text-anchor=\"start\" x=\"3781\" y=\"-52.8\" font-family=\"Helvetica,sans-Serif\" font-size=\"14.00\" fill=\"#000000\">gini = 0.117</text>\n<text text-anchor=\"start\" x=\"3775\" y=\"-37.8\" font-family=\"Helvetica,sans-Serif\" font-size=\"14.00\" fill=\"#000000\">samples = 16</text>\n<text text-anchor=\"start\" x=\"3773.5\" y=\"-22.8\" font-family=\"Helvetica,sans-Serif\" font-size=\"14.00\" fill=\"#000000\">value = [15, 1]</text>\n<text text-anchor=\"start\" x=\"3790\" y=\"-7.8\" font-family=\"Helvetica,sans-Serif\" font-size=\"14.00\" fill=\"#000000\">class = 0</text>\n</g>\n<!-- 55&#45;&gt;57 -->\n<g id=\"edge57\" class=\"edge\">\n<title>55&#45;&gt;57</title>\n<path fill=\"none\" stroke=\"#000000\" d=\"M3778.8312,-103.9815C3783.8956,-95.1585 3789.2525,-85.8258 3794.3468,-76.9506\"/>\n<polygon fill=\"#000000\" stroke=\"#000000\" points=\"3797.3903,-78.6789 3799.333,-68.2637 3791.3193,-75.1942 3797.3903,-78.6789\"/>\n</g>\n<!-- 59 -->\n<g id=\"node60\" class=\"node\">\n<title>59</title>\n<path fill=\"#f8dfcd\" stroke=\"#000000\" d=\"M4011,-68C4011,-68 3903,-68 3903,-68 3897,-68 3891,-62 3891,-56 3891,-56 3891,-12 3891,-12 3891,-6 3897,0 3903,0 3903,0 4011,0 4011,0 4017,0 4023,-6 4023,-12 4023,-12 4023,-56 4023,-56 4023,-62 4017,-68 4011,-68\"/>\n<text text-anchor=\"start\" x=\"3923.5\" y=\"-52.8\" font-family=\"Helvetica,sans-Serif\" font-size=\"14.00\" fill=\"#000000\">gini = 0.49</text>\n<text text-anchor=\"start\" x=\"3909\" y=\"-37.8\" font-family=\"Helvetica,sans-Serif\" font-size=\"14.00\" fill=\"#000000\">samples = 236</text>\n<text text-anchor=\"start\" x=\"3899\" y=\"-22.8\" font-family=\"Helvetica,sans-Serif\" font-size=\"14.00\" fill=\"#000000\">value = [135, 101]</text>\n<text text-anchor=\"start\" x=\"3928\" y=\"-7.8\" font-family=\"Helvetica,sans-Serif\" font-size=\"14.00\" fill=\"#000000\">class = 0</text>\n</g>\n<!-- 58&#45;&gt;59 -->\n<g id=\"edge59\" class=\"edge\">\n<title>58&#45;&gt;59</title>\n<path fill=\"none\" stroke=\"#000000\" d=\"M3957,-103.9815C3957,-95.618 3957,-86.7965 3957,-78.3409\"/>\n<polygon fill=\"#000000\" stroke=\"#000000\" points=\"3960.5001,-78.2636 3957,-68.2637 3953.5001,-78.2637 3960.5001,-78.2636\"/>\n</g>\n<!-- 60 -->\n<g id=\"node61\" class=\"node\">\n<title>60</title>\n<path fill=\"#399de5\" stroke=\"#000000\" d=\"M4128.5,-68C4128.5,-68 4053.5,-68 4053.5,-68 4047.5,-68 4041.5,-62 4041.5,-56 4041.5,-56 4041.5,-12 4041.5,-12 4041.5,-6 4047.5,0 4053.5,0 4053.5,0 4128.5,0 4128.5,0 4134.5,0 4140.5,-6 4140.5,-12 4140.5,-12 4140.5,-56 4140.5,-56 4140.5,-62 4134.5,-68 4128.5,-68\"/>\n<text text-anchor=\"start\" x=\"4061.5\" y=\"-52.8\" font-family=\"Helvetica,sans-Serif\" font-size=\"14.00\" fill=\"#000000\">gini = 0.0</text>\n<text text-anchor=\"start\" x=\"4051.5\" y=\"-37.8\" font-family=\"Helvetica,sans-Serif\" font-size=\"14.00\" fill=\"#000000\">samples = 3</text>\n<text text-anchor=\"start\" x=\"4049.5\" y=\"-22.8\" font-family=\"Helvetica,sans-Serif\" font-size=\"14.00\" fill=\"#000000\">value = [0, 3]</text>\n<text text-anchor=\"start\" x=\"4062\" y=\"-7.8\" font-family=\"Helvetica,sans-Serif\" font-size=\"14.00\" fill=\"#000000\">class = 1</text>\n</g>\n<!-- 58&#45;&gt;60 -->\n<g id=\"edge60\" class=\"edge\">\n<title>58&#45;&gt;60</title>\n<path fill=\"none\" stroke=\"#000000\" d=\"M4006.8967,-103.9815C4018.3838,-94.4232 4030.5897,-84.2668 4042.0367,-74.7419\"/>\n<polygon fill=\"#000000\" stroke=\"#000000\" points=\"4044.3739,-77.3503 4049.8221,-68.2637 4039.8965,-71.9695 4044.3739,-77.3503\"/>\n</g>\n</g>\n</svg>\n"
          },
          "metadata": {},
          "execution_count": 97
        }
      ]
    },
    {
      "cell_type": "code",
      "source": [],
      "metadata": {
        "id": "4kYJBfevsU0C"
      },
      "execution_count": null,
      "outputs": []
    }
  ]
}