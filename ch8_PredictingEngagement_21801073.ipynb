{
  "nbformat": 4,
  "nbformat_minor": 0,
  "metadata": {
    "colab": {
      "provenance": [],
      "toc_visible": true,
      "mount_file_id": "10mSmae2-pDXzo8p-44kWsxaFqN6jikuX",
      "authorship_tag": "ABX9TyOqmMzH4NHDuQ3Axj9W5Yoo",
      "include_colab_link": true
    },
    "kernelspec": {
      "name": "python3",
      "display_name": "Python 3"
    },
    "language_info": {
      "name": "python"
    },
    "accelerator": "GPU",
    "gpuClass": "standard"
  },
  "cells": [
    {
      "cell_type": "markdown",
      "metadata": {
        "id": "view-in-github",
        "colab_type": "text"
      },
      "source": [
        "<a href=\"https://colab.research.google.com/github/yechan9601/python_digital_marketing/blob/main/ch8_PredictingEngagement_21801073.ipynb\" target=\"_parent\"><img src=\"https://colab.research.google.com/assets/colab-badge.svg\" alt=\"Open In Colab\"/></a>"
      ]
    },
    {
      "cell_type": "markdown",
      "source": [
        "# 1. Load Data"
      ],
      "metadata": {
        "id": "PmlcPW-AM7yF"
      }
    },
    {
      "cell_type": "code",
      "execution_count": null,
      "metadata": {
        "id": "9SiMXzEl6faO"
      },
      "outputs": [],
      "source": [
        "%matplotlib inline\n",
        "import matplotlib.pyplot as plt\n",
        "import pandas as pd\n",
        "\n",
        "df = pd.read_csv('/content/drive/MyDrive/WA_Fn-UseC_-Marketing-Customer-Value-Analysis.csv')"
      ]
    },
    {
      "cell_type": "code",
      "source": [
        "df.shape"
      ],
      "metadata": {
        "colab": {
          "base_uri": "https://localhost:8080/"
        },
        "id": "kVagC5Nae1gs",
        "outputId": "31f9b747-e81c-463b-c117-ad1046fc6106"
      },
      "execution_count": null,
      "outputs": [
        {
          "output_type": "execute_result",
          "data": {
            "text/plain": [
              "(9134, 24)"
            ]
          },
          "metadata": {},
          "execution_count": 2
        }
      ]
    },
    {
      "cell_type": "code",
      "source": [
        "df.head()"
      ],
      "metadata": {
        "colab": {
          "base_uri": "https://localhost:8080/",
          "height": 438
        },
        "id": "si2Os8d4e2Ri",
        "outputId": "14be30c8-99d9-497b-d38f-9a910ee80517"
      },
      "execution_count": null,
      "outputs": [
        {
          "output_type": "execute_result",
          "data": {
            "text/plain": [
              "  Customer       State  Customer Lifetime Value Response  Coverage Education  \\\n",
              "0  BU79786  Washington              2763.519279       No     Basic  Bachelor   \n",
              "1  QZ44356     Arizona              6979.535903       No  Extended  Bachelor   \n",
              "2  AI49188      Nevada             12887.431650       No   Premium  Bachelor   \n",
              "3  WW63253  California              7645.861827       No     Basic  Bachelor   \n",
              "4  HB64268  Washington              2813.692575       No     Basic  Bachelor   \n",
              "\n",
              "  Effective To Date EmploymentStatus Gender  Income  ...  \\\n",
              "0           2/24/11         Employed      F   56274  ...   \n",
              "1           1/31/11       Unemployed      F       0  ...   \n",
              "2           2/19/11         Employed      F   48767  ...   \n",
              "3           1/20/11       Unemployed      M       0  ...   \n",
              "4            2/3/11         Employed      M   43836  ...   \n",
              "\n",
              "  Months Since Policy Inception Number of Open Complaints  Number of Policies  \\\n",
              "0                             5                         0                   1   \n",
              "1                            42                         0                   8   \n",
              "2                            38                         0                   2   \n",
              "3                            65                         0                   7   \n",
              "4                            44                         0                   1   \n",
              "\n",
              "      Policy Type        Policy  Renew Offer Type  Sales Channel  \\\n",
              "0  Corporate Auto  Corporate L3            Offer1          Agent   \n",
              "1   Personal Auto   Personal L3            Offer3          Agent   \n",
              "2   Personal Auto   Personal L3            Offer1          Agent   \n",
              "3  Corporate Auto  Corporate L2            Offer1    Call Center   \n",
              "4   Personal Auto   Personal L1            Offer1          Agent   \n",
              "\n",
              "  Total Claim Amount  Vehicle Class Vehicle Size  \n",
              "0         384.811147   Two-Door Car      Medsize  \n",
              "1        1131.464935  Four-Door Car      Medsize  \n",
              "2         566.472247   Two-Door Car      Medsize  \n",
              "3         529.881344            SUV      Medsize  \n",
              "4         138.130879  Four-Door Car      Medsize  \n",
              "\n",
              "[5 rows x 24 columns]"
            ],
            "text/html": [
              "\n",
              "  <div id=\"df-9ab02fdc-4189-414c-b0ef-2717ca18ccd0\">\n",
              "    <div class=\"colab-df-container\">\n",
              "      <div>\n",
              "<style scoped>\n",
              "    .dataframe tbody tr th:only-of-type {\n",
              "        vertical-align: middle;\n",
              "    }\n",
              "\n",
              "    .dataframe tbody tr th {\n",
              "        vertical-align: top;\n",
              "    }\n",
              "\n",
              "    .dataframe thead th {\n",
              "        text-align: right;\n",
              "    }\n",
              "</style>\n",
              "<table border=\"1\" class=\"dataframe\">\n",
              "  <thead>\n",
              "    <tr style=\"text-align: right;\">\n",
              "      <th></th>\n",
              "      <th>Customer</th>\n",
              "      <th>State</th>\n",
              "      <th>Customer Lifetime Value</th>\n",
              "      <th>Response</th>\n",
              "      <th>Coverage</th>\n",
              "      <th>Education</th>\n",
              "      <th>Effective To Date</th>\n",
              "      <th>EmploymentStatus</th>\n",
              "      <th>Gender</th>\n",
              "      <th>Income</th>\n",
              "      <th>...</th>\n",
              "      <th>Months Since Policy Inception</th>\n",
              "      <th>Number of Open Complaints</th>\n",
              "      <th>Number of Policies</th>\n",
              "      <th>Policy Type</th>\n",
              "      <th>Policy</th>\n",
              "      <th>Renew Offer Type</th>\n",
              "      <th>Sales Channel</th>\n",
              "      <th>Total Claim Amount</th>\n",
              "      <th>Vehicle Class</th>\n",
              "      <th>Vehicle Size</th>\n",
              "    </tr>\n",
              "  </thead>\n",
              "  <tbody>\n",
              "    <tr>\n",
              "      <th>0</th>\n",
              "      <td>BU79786</td>\n",
              "      <td>Washington</td>\n",
              "      <td>2763.519279</td>\n",
              "      <td>No</td>\n",
              "      <td>Basic</td>\n",
              "      <td>Bachelor</td>\n",
              "      <td>2/24/11</td>\n",
              "      <td>Employed</td>\n",
              "      <td>F</td>\n",
              "      <td>56274</td>\n",
              "      <td>...</td>\n",
              "      <td>5</td>\n",
              "      <td>0</td>\n",
              "      <td>1</td>\n",
              "      <td>Corporate Auto</td>\n",
              "      <td>Corporate L3</td>\n",
              "      <td>Offer1</td>\n",
              "      <td>Agent</td>\n",
              "      <td>384.811147</td>\n",
              "      <td>Two-Door Car</td>\n",
              "      <td>Medsize</td>\n",
              "    </tr>\n",
              "    <tr>\n",
              "      <th>1</th>\n",
              "      <td>QZ44356</td>\n",
              "      <td>Arizona</td>\n",
              "      <td>6979.535903</td>\n",
              "      <td>No</td>\n",
              "      <td>Extended</td>\n",
              "      <td>Bachelor</td>\n",
              "      <td>1/31/11</td>\n",
              "      <td>Unemployed</td>\n",
              "      <td>F</td>\n",
              "      <td>0</td>\n",
              "      <td>...</td>\n",
              "      <td>42</td>\n",
              "      <td>0</td>\n",
              "      <td>8</td>\n",
              "      <td>Personal Auto</td>\n",
              "      <td>Personal L3</td>\n",
              "      <td>Offer3</td>\n",
              "      <td>Agent</td>\n",
              "      <td>1131.464935</td>\n",
              "      <td>Four-Door Car</td>\n",
              "      <td>Medsize</td>\n",
              "    </tr>\n",
              "    <tr>\n",
              "      <th>2</th>\n",
              "      <td>AI49188</td>\n",
              "      <td>Nevada</td>\n",
              "      <td>12887.431650</td>\n",
              "      <td>No</td>\n",
              "      <td>Premium</td>\n",
              "      <td>Bachelor</td>\n",
              "      <td>2/19/11</td>\n",
              "      <td>Employed</td>\n",
              "      <td>F</td>\n",
              "      <td>48767</td>\n",
              "      <td>...</td>\n",
              "      <td>38</td>\n",
              "      <td>0</td>\n",
              "      <td>2</td>\n",
              "      <td>Personal Auto</td>\n",
              "      <td>Personal L3</td>\n",
              "      <td>Offer1</td>\n",
              "      <td>Agent</td>\n",
              "      <td>566.472247</td>\n",
              "      <td>Two-Door Car</td>\n",
              "      <td>Medsize</td>\n",
              "    </tr>\n",
              "    <tr>\n",
              "      <th>3</th>\n",
              "      <td>WW63253</td>\n",
              "      <td>California</td>\n",
              "      <td>7645.861827</td>\n",
              "      <td>No</td>\n",
              "      <td>Basic</td>\n",
              "      <td>Bachelor</td>\n",
              "      <td>1/20/11</td>\n",
              "      <td>Unemployed</td>\n",
              "      <td>M</td>\n",
              "      <td>0</td>\n",
              "      <td>...</td>\n",
              "      <td>65</td>\n",
              "      <td>0</td>\n",
              "      <td>7</td>\n",
              "      <td>Corporate Auto</td>\n",
              "      <td>Corporate L2</td>\n",
              "      <td>Offer1</td>\n",
              "      <td>Call Center</td>\n",
              "      <td>529.881344</td>\n",
              "      <td>SUV</td>\n",
              "      <td>Medsize</td>\n",
              "    </tr>\n",
              "    <tr>\n",
              "      <th>4</th>\n",
              "      <td>HB64268</td>\n",
              "      <td>Washington</td>\n",
              "      <td>2813.692575</td>\n",
              "      <td>No</td>\n",
              "      <td>Basic</td>\n",
              "      <td>Bachelor</td>\n",
              "      <td>2/3/11</td>\n",
              "      <td>Employed</td>\n",
              "      <td>M</td>\n",
              "      <td>43836</td>\n",
              "      <td>...</td>\n",
              "      <td>44</td>\n",
              "      <td>0</td>\n",
              "      <td>1</td>\n",
              "      <td>Personal Auto</td>\n",
              "      <td>Personal L1</td>\n",
              "      <td>Offer1</td>\n",
              "      <td>Agent</td>\n",
              "      <td>138.130879</td>\n",
              "      <td>Four-Door Car</td>\n",
              "      <td>Medsize</td>\n",
              "    </tr>\n",
              "  </tbody>\n",
              "</table>\n",
              "<p>5 rows × 24 columns</p>\n",
              "</div>\n",
              "      <button class=\"colab-df-convert\" onclick=\"convertToInteractive('df-9ab02fdc-4189-414c-b0ef-2717ca18ccd0')\"\n",
              "              title=\"Convert this dataframe to an interactive table.\"\n",
              "              style=\"display:none;\">\n",
              "        \n",
              "  <svg xmlns=\"http://www.w3.org/2000/svg\" height=\"24px\"viewBox=\"0 0 24 24\"\n",
              "       width=\"24px\">\n",
              "    <path d=\"M0 0h24v24H0V0z\" fill=\"none\"/>\n",
              "    <path d=\"M18.56 5.44l.94 2.06.94-2.06 2.06-.94-2.06-.94-.94-2.06-.94 2.06-2.06.94zm-11 1L8.5 8.5l.94-2.06 2.06-.94-2.06-.94L8.5 2.5l-.94 2.06-2.06.94zm10 10l.94 2.06.94-2.06 2.06-.94-2.06-.94-.94-2.06-.94 2.06-2.06.94z\"/><path d=\"M17.41 7.96l-1.37-1.37c-.4-.4-.92-.59-1.43-.59-.52 0-1.04.2-1.43.59L10.3 9.45l-7.72 7.72c-.78.78-.78 2.05 0 2.83L4 21.41c.39.39.9.59 1.41.59.51 0 1.02-.2 1.41-.59l7.78-7.78 2.81-2.81c.8-.78.8-2.07 0-2.86zM5.41 20L4 18.59l7.72-7.72 1.47 1.35L5.41 20z\"/>\n",
              "  </svg>\n",
              "      </button>\n",
              "      \n",
              "  <style>\n",
              "    .colab-df-container {\n",
              "      display:flex;\n",
              "      flex-wrap:wrap;\n",
              "      gap: 12px;\n",
              "    }\n",
              "\n",
              "    .colab-df-convert {\n",
              "      background-color: #E8F0FE;\n",
              "      border: none;\n",
              "      border-radius: 50%;\n",
              "      cursor: pointer;\n",
              "      display: none;\n",
              "      fill: #1967D2;\n",
              "      height: 32px;\n",
              "      padding: 0 0 0 0;\n",
              "      width: 32px;\n",
              "    }\n",
              "\n",
              "    .colab-df-convert:hover {\n",
              "      background-color: #E2EBFA;\n",
              "      box-shadow: 0px 1px 2px rgba(60, 64, 67, 0.3), 0px 1px 3px 1px rgba(60, 64, 67, 0.15);\n",
              "      fill: #174EA6;\n",
              "    }\n",
              "\n",
              "    [theme=dark] .colab-df-convert {\n",
              "      background-color: #3B4455;\n",
              "      fill: #D2E3FC;\n",
              "    }\n",
              "\n",
              "    [theme=dark] .colab-df-convert:hover {\n",
              "      background-color: #434B5C;\n",
              "      box-shadow: 0px 1px 3px 1px rgba(0, 0, 0, 0.15);\n",
              "      filter: drop-shadow(0px 1px 2px rgba(0, 0, 0, 0.3));\n",
              "      fill: #FFFFFF;\n",
              "    }\n",
              "  </style>\n",
              "\n",
              "      <script>\n",
              "        const buttonEl =\n",
              "          document.querySelector('#df-9ab02fdc-4189-414c-b0ef-2717ca18ccd0 button.colab-df-convert');\n",
              "        buttonEl.style.display =\n",
              "          google.colab.kernel.accessAllowed ? 'block' : 'none';\n",
              "\n",
              "        async function convertToInteractive(key) {\n",
              "          const element = document.querySelector('#df-9ab02fdc-4189-414c-b0ef-2717ca18ccd0');\n",
              "          const dataTable =\n",
              "            await google.colab.kernel.invokeFunction('convertToInteractive',\n",
              "                                                     [key], {});\n",
              "          if (!dataTable) return;\n",
              "\n",
              "          const docLinkHtml = 'Like what you see? Visit the ' +\n",
              "            '<a target=\"_blank\" href=https://colab.research.google.com/notebooks/data_table.ipynb>data table notebook</a>'\n",
              "            + ' to learn more about interactive tables.';\n",
              "          element.innerHTML = '';\n",
              "          dataTable['output_type'] = 'display_data';\n",
              "          await google.colab.output.renderOutput(dataTable, element);\n",
              "          const docLink = document.createElement('div');\n",
              "          docLink.innerHTML = docLinkHtml;\n",
              "          element.appendChild(docLink);\n",
              "        }\n",
              "      </script>\n",
              "    </div>\n",
              "  </div>\n",
              "  "
            ]
          },
          "metadata": {},
          "execution_count": 3
        }
      ]
    },
    {
      "cell_type": "code",
      "source": [
        "list(df.columns)"
      ],
      "metadata": {
        "colab": {
          "base_uri": "https://localhost:8080/"
        },
        "id": "tqtV1C_Oz8aV",
        "outputId": "0d24e03b-6436-4f73-abb3-1ac2559b46d0"
      },
      "execution_count": null,
      "outputs": [
        {
          "output_type": "execute_result",
          "data": {
            "text/plain": [
              "['Customer',\n",
              " 'State',\n",
              " 'Customer Lifetime Value',\n",
              " 'Response',\n",
              " 'Coverage',\n",
              " 'Education',\n",
              " 'Effective To Date',\n",
              " 'EmploymentStatus',\n",
              " 'Gender',\n",
              " 'Income',\n",
              " 'Location Code',\n",
              " 'Marital Status',\n",
              " 'Monthly Premium Auto',\n",
              " 'Months Since Last Claim',\n",
              " 'Months Since Policy Inception',\n",
              " 'Number of Open Complaints',\n",
              " 'Number of Policies',\n",
              " 'Policy Type',\n",
              " 'Policy',\n",
              " 'Renew Offer Type',\n",
              " 'Sales Channel',\n",
              " 'Total Claim Amount',\n",
              " 'Vehicle Class',\n",
              " 'Vehicle Size']"
            ]
          },
          "metadata": {},
          "execution_count": 4
        }
      ]
    },
    {
      "cell_type": "markdown",
      "source": [
        "# 2. Variable Encoding"
      ],
      "metadata": {
        "id": "aAyPwK8VNBBH"
      }
    },
    {
      "cell_type": "markdown",
      "source": [
        "## 2.1. Response Variable: Response"
      ],
      "metadata": {
        "id": "ylb8QUaBNE6W"
      }
    },
    {
      "cell_type": "code",
      "source": [
        "df['Engaged'] = df['Response'].apply(lambda x: 1 if x == 'Yes' else 0)"
      ],
      "metadata": {
        "id": "zzUWEa-Oe35t"
      },
      "execution_count": null,
      "outputs": []
    },
    {
      "cell_type": "code",
      "source": [
        "df['Engaged'].mean()  # 응답률 평균"
      ],
      "metadata": {
        "colab": {
          "base_uri": "https://localhost:8080/"
        },
        "id": "d_hXdmoxfRHM",
        "outputId": "c276436d-2b99-4e7a-ef4c-9ff74770589b"
      },
      "execution_count": null,
      "outputs": [
        {
          "output_type": "execute_result",
          "data": {
            "text/plain": [
              "0.14320122618786948"
            ]
          },
          "metadata": {},
          "execution_count": 6
        }
      ]
    },
    {
      "cell_type": "markdown",
      "source": [
        "100명중 14명 응답률"
      ],
      "metadata": {
        "id": "42k7_FLR0l7a"
      }
    },
    {
      "cell_type": "markdown",
      "source": [
        "## 2.2. Features"
      ],
      "metadata": {
        "id": "Zqs7UPxmNJhA"
      }
    },
    {
      "cell_type": "code",
      "source": [
        "df.describe()"
      ],
      "metadata": {
        "colab": {
          "base_uri": "https://localhost:8080/",
          "height": 396
        },
        "id": "OsTS0tQrfSvh",
        "outputId": "a6fee0b9-fddb-42aa-f76e-cc6acca18407"
      },
      "execution_count": null,
      "outputs": [
        {
          "output_type": "execute_result",
          "data": {
            "text/plain": [
              "       Customer Lifetime Value        Income  Monthly Premium Auto  \\\n",
              "count              9134.000000   9134.000000           9134.000000   \n",
              "mean               8004.940475  37657.380009             93.219291   \n",
              "std                6870.967608  30379.904734             34.407967   \n",
              "min                1898.007675      0.000000             61.000000   \n",
              "25%                3994.251794      0.000000             68.000000   \n",
              "50%                5780.182197  33889.500000             83.000000   \n",
              "75%                8962.167041  62320.000000            109.000000   \n",
              "max               83325.381190  99981.000000            298.000000   \n",
              "\n",
              "       Months Since Last Claim  Months Since Policy Inception  \\\n",
              "count              9134.000000                    9134.000000   \n",
              "mean                 15.097000                      48.064594   \n",
              "std                  10.073257                      27.905991   \n",
              "min                   0.000000                       0.000000   \n",
              "25%                   6.000000                      24.000000   \n",
              "50%                  14.000000                      48.000000   \n",
              "75%                  23.000000                      71.000000   \n",
              "max                  35.000000                      99.000000   \n",
              "\n",
              "       Number of Open Complaints  Number of Policies  Total Claim Amount  \\\n",
              "count                9134.000000         9134.000000         9134.000000   \n",
              "mean                    0.384388            2.966170          434.088794   \n",
              "std                     0.910384            2.390182          290.500092   \n",
              "min                     0.000000            1.000000            0.099007   \n",
              "25%                     0.000000            1.000000          272.258244   \n",
              "50%                     0.000000            2.000000          383.945434   \n",
              "75%                     0.000000            4.000000          547.514839   \n",
              "max                     5.000000            9.000000         2893.239678   \n",
              "\n",
              "           Engaged  \n",
              "count  9134.000000  \n",
              "mean      0.143201  \n",
              "std       0.350297  \n",
              "min       0.000000  \n",
              "25%       0.000000  \n",
              "50%       0.000000  \n",
              "75%       0.000000  \n",
              "max       1.000000  "
            ],
            "text/html": [
              "\n",
              "  <div id=\"df-2cbd1c23-e05a-4a8c-b8c9-40f269734b1c\">\n",
              "    <div class=\"colab-df-container\">\n",
              "      <div>\n",
              "<style scoped>\n",
              "    .dataframe tbody tr th:only-of-type {\n",
              "        vertical-align: middle;\n",
              "    }\n",
              "\n",
              "    .dataframe tbody tr th {\n",
              "        vertical-align: top;\n",
              "    }\n",
              "\n",
              "    .dataframe thead th {\n",
              "        text-align: right;\n",
              "    }\n",
              "</style>\n",
              "<table border=\"1\" class=\"dataframe\">\n",
              "  <thead>\n",
              "    <tr style=\"text-align: right;\">\n",
              "      <th></th>\n",
              "      <th>Customer Lifetime Value</th>\n",
              "      <th>Income</th>\n",
              "      <th>Monthly Premium Auto</th>\n",
              "      <th>Months Since Last Claim</th>\n",
              "      <th>Months Since Policy Inception</th>\n",
              "      <th>Number of Open Complaints</th>\n",
              "      <th>Number of Policies</th>\n",
              "      <th>Total Claim Amount</th>\n",
              "      <th>Engaged</th>\n",
              "    </tr>\n",
              "  </thead>\n",
              "  <tbody>\n",
              "    <tr>\n",
              "      <th>count</th>\n",
              "      <td>9134.000000</td>\n",
              "      <td>9134.000000</td>\n",
              "      <td>9134.000000</td>\n",
              "      <td>9134.000000</td>\n",
              "      <td>9134.000000</td>\n",
              "      <td>9134.000000</td>\n",
              "      <td>9134.000000</td>\n",
              "      <td>9134.000000</td>\n",
              "      <td>9134.000000</td>\n",
              "    </tr>\n",
              "    <tr>\n",
              "      <th>mean</th>\n",
              "      <td>8004.940475</td>\n",
              "      <td>37657.380009</td>\n",
              "      <td>93.219291</td>\n",
              "      <td>15.097000</td>\n",
              "      <td>48.064594</td>\n",
              "      <td>0.384388</td>\n",
              "      <td>2.966170</td>\n",
              "      <td>434.088794</td>\n",
              "      <td>0.143201</td>\n",
              "    </tr>\n",
              "    <tr>\n",
              "      <th>std</th>\n",
              "      <td>6870.967608</td>\n",
              "      <td>30379.904734</td>\n",
              "      <td>34.407967</td>\n",
              "      <td>10.073257</td>\n",
              "      <td>27.905991</td>\n",
              "      <td>0.910384</td>\n",
              "      <td>2.390182</td>\n",
              "      <td>290.500092</td>\n",
              "      <td>0.350297</td>\n",
              "    </tr>\n",
              "    <tr>\n",
              "      <th>min</th>\n",
              "      <td>1898.007675</td>\n",
              "      <td>0.000000</td>\n",
              "      <td>61.000000</td>\n",
              "      <td>0.000000</td>\n",
              "      <td>0.000000</td>\n",
              "      <td>0.000000</td>\n",
              "      <td>1.000000</td>\n",
              "      <td>0.099007</td>\n",
              "      <td>0.000000</td>\n",
              "    </tr>\n",
              "    <tr>\n",
              "      <th>25%</th>\n",
              "      <td>3994.251794</td>\n",
              "      <td>0.000000</td>\n",
              "      <td>68.000000</td>\n",
              "      <td>6.000000</td>\n",
              "      <td>24.000000</td>\n",
              "      <td>0.000000</td>\n",
              "      <td>1.000000</td>\n",
              "      <td>272.258244</td>\n",
              "      <td>0.000000</td>\n",
              "    </tr>\n",
              "    <tr>\n",
              "      <th>50%</th>\n",
              "      <td>5780.182197</td>\n",
              "      <td>33889.500000</td>\n",
              "      <td>83.000000</td>\n",
              "      <td>14.000000</td>\n",
              "      <td>48.000000</td>\n",
              "      <td>0.000000</td>\n",
              "      <td>2.000000</td>\n",
              "      <td>383.945434</td>\n",
              "      <td>0.000000</td>\n",
              "    </tr>\n",
              "    <tr>\n",
              "      <th>75%</th>\n",
              "      <td>8962.167041</td>\n",
              "      <td>62320.000000</td>\n",
              "      <td>109.000000</td>\n",
              "      <td>23.000000</td>\n",
              "      <td>71.000000</td>\n",
              "      <td>0.000000</td>\n",
              "      <td>4.000000</td>\n",
              "      <td>547.514839</td>\n",
              "      <td>0.000000</td>\n",
              "    </tr>\n",
              "    <tr>\n",
              "      <th>max</th>\n",
              "      <td>83325.381190</td>\n",
              "      <td>99981.000000</td>\n",
              "      <td>298.000000</td>\n",
              "      <td>35.000000</td>\n",
              "      <td>99.000000</td>\n",
              "      <td>5.000000</td>\n",
              "      <td>9.000000</td>\n",
              "      <td>2893.239678</td>\n",
              "      <td>1.000000</td>\n",
              "    </tr>\n",
              "  </tbody>\n",
              "</table>\n",
              "</div>\n",
              "      <button class=\"colab-df-convert\" onclick=\"convertToInteractive('df-2cbd1c23-e05a-4a8c-b8c9-40f269734b1c')\"\n",
              "              title=\"Convert this dataframe to an interactive table.\"\n",
              "              style=\"display:none;\">\n",
              "        \n",
              "  <svg xmlns=\"http://www.w3.org/2000/svg\" height=\"24px\"viewBox=\"0 0 24 24\"\n",
              "       width=\"24px\">\n",
              "    <path d=\"M0 0h24v24H0V0z\" fill=\"none\"/>\n",
              "    <path d=\"M18.56 5.44l.94 2.06.94-2.06 2.06-.94-2.06-.94-.94-2.06-.94 2.06-2.06.94zm-11 1L8.5 8.5l.94-2.06 2.06-.94-2.06-.94L8.5 2.5l-.94 2.06-2.06.94zm10 10l.94 2.06.94-2.06 2.06-.94-2.06-.94-.94-2.06-.94 2.06-2.06.94z\"/><path d=\"M17.41 7.96l-1.37-1.37c-.4-.4-.92-.59-1.43-.59-.52 0-1.04.2-1.43.59L10.3 9.45l-7.72 7.72c-.78.78-.78 2.05 0 2.83L4 21.41c.39.39.9.59 1.41.59.51 0 1.02-.2 1.41-.59l7.78-7.78 2.81-2.81c.8-.78.8-2.07 0-2.86zM5.41 20L4 18.59l7.72-7.72 1.47 1.35L5.41 20z\"/>\n",
              "  </svg>\n",
              "      </button>\n",
              "      \n",
              "  <style>\n",
              "    .colab-df-container {\n",
              "      display:flex;\n",
              "      flex-wrap:wrap;\n",
              "      gap: 12px;\n",
              "    }\n",
              "\n",
              "    .colab-df-convert {\n",
              "      background-color: #E8F0FE;\n",
              "      border: none;\n",
              "      border-radius: 50%;\n",
              "      cursor: pointer;\n",
              "      display: none;\n",
              "      fill: #1967D2;\n",
              "      height: 32px;\n",
              "      padding: 0 0 0 0;\n",
              "      width: 32px;\n",
              "    }\n",
              "\n",
              "    .colab-df-convert:hover {\n",
              "      background-color: #E2EBFA;\n",
              "      box-shadow: 0px 1px 2px rgba(60, 64, 67, 0.3), 0px 1px 3px 1px rgba(60, 64, 67, 0.15);\n",
              "      fill: #174EA6;\n",
              "    }\n",
              "\n",
              "    [theme=dark] .colab-df-convert {\n",
              "      background-color: #3B4455;\n",
              "      fill: #D2E3FC;\n",
              "    }\n",
              "\n",
              "    [theme=dark] .colab-df-convert:hover {\n",
              "      background-color: #434B5C;\n",
              "      box-shadow: 0px 1px 3px 1px rgba(0, 0, 0, 0.15);\n",
              "      filter: drop-shadow(0px 1px 2px rgba(0, 0, 0, 0.3));\n",
              "      fill: #FFFFFF;\n",
              "    }\n",
              "  </style>\n",
              "\n",
              "      <script>\n",
              "        const buttonEl =\n",
              "          document.querySelector('#df-2cbd1c23-e05a-4a8c-b8c9-40f269734b1c button.colab-df-convert');\n",
              "        buttonEl.style.display =\n",
              "          google.colab.kernel.accessAllowed ? 'block' : 'none';\n",
              "\n",
              "        async function convertToInteractive(key) {\n",
              "          const element = document.querySelector('#df-2cbd1c23-e05a-4a8c-b8c9-40f269734b1c');\n",
              "          const dataTable =\n",
              "            await google.colab.kernel.invokeFunction('convertToInteractive',\n",
              "                                                     [key], {});\n",
              "          if (!dataTable) return;\n",
              "\n",
              "          const docLinkHtml = 'Like what you see? Visit the ' +\n",
              "            '<a target=\"_blank\" href=https://colab.research.google.com/notebooks/data_table.ipynb>data table notebook</a>'\n",
              "            + ' to learn more about interactive tables.';\n",
              "          element.innerHTML = '';\n",
              "          dataTable['output_type'] = 'display_data';\n",
              "          await google.colab.output.renderOutput(dataTable, element);\n",
              "          const docLink = document.createElement('div');\n",
              "          docLink.innerHTML = docLinkHtml;\n",
              "          element.appendChild(docLink);\n",
              "        }\n",
              "      </script>\n",
              "    </div>\n",
              "  </div>\n",
              "  "
            ]
          },
          "metadata": {},
          "execution_count": 7
        }
      ]
    },
    {
      "cell_type": "markdown",
      "source": [
        "수치형 feature와 범주형 feature 나누기."
      ],
      "metadata": {
        "id": "BxSRbnfAMyru"
      }
    },
    {
      "cell_type": "code",
      "source": [
        "continuous_features = [\n",
        "    'Customer Lifetime Value', 'Income', 'Monthly Premium Auto', \n",
        "    'Months Since Last Claim', 'Months Since Policy Inception', 'Number of Open Complaints', \n",
        "    'Number of Policies', 'Total Claim Amount'\n",
        "]"
      ],
      "metadata": {
        "id": "qy8Y9V4efWTw"
      },
      "execution_count": null,
      "outputs": []
    },
    {
      "cell_type": "markdown",
      "source": [
        "## - Creating Dummy Variables"
      ],
      "metadata": {
        "id": "F2ZB0o6TNOa7"
      }
    },
    {
      "cell_type": "code",
      "source": [
        "columns_to_encode = [\n",
        "    'Sales Channel', 'Vehicle Size', 'Vehicle Class', 'Policy', 'Policy Type',\n",
        "    'EmploymentStatus', 'Marital Status', 'Education', 'Coverage'\n",
        "]\n",
        "\n",
        "categorical_features = []\n",
        "for col in columns_to_encode:\n",
        "  encoded_df = pd.get_dummies(df[col]) # 범주형 데이터를 수치화할 때, 관계성을 없애주기 위함\n",
        "  encoded_df.columns = [col.replace(' ', '.') + '.' + x for x in encoded_df.columns] # Attribute 이름에 범주형 변수이름을 append\n",
        "\n",
        "  categorical_features += list(encoded_df.columns) # 리스트에 해당 변수명들을 넣어주기\n",
        "\n",
        "  df = pd.concat([df, encoded_df], axis='columns') # 기존 데이터프레임에 인코딩된(get_dummies) 데이터프레임을 붙여주기"
      ],
      "metadata": {
        "id": "wk0xZxYH01We"
      },
      "execution_count": null,
      "outputs": []
    },
    {
      "cell_type": "markdown",
      "source": [
        "train과 test set의 accuracy, recall, precision이 왜 차이가 나는지 답할 것."
      ],
      "metadata": {
        "id": "i4tcgPp-3aBB"
      }
    },
    {
      "cell_type": "code",
      "source": [
        "encoded_df # for 반복문을 사용했으므로, columns_to_encode의 마지막 Attribute인 'Coverage' 범주형 데이터만 남아있는 것을 볼 수 있다."
      ],
      "metadata": {
        "id": "OIvWw-yF1RpV",
        "colab": {
          "base_uri": "https://localhost:8080/",
          "height": 424
        },
        "outputId": "4c51202c-c16b-483b-b221-6768bc9007c7"
      },
      "execution_count": null,
      "outputs": [
        {
          "output_type": "execute_result",
          "data": {
            "text/plain": [
              "      Coverage.Basic  Coverage.Extended  Coverage.Premium\n",
              "0                  1                  0                 0\n",
              "1                  0                  1                 0\n",
              "2                  0                  0                 1\n",
              "3                  1                  0                 0\n",
              "4                  1                  0                 0\n",
              "...              ...                ...               ...\n",
              "9129               1                  0                 0\n",
              "9130               0                  1                 0\n",
              "9131               0                  1                 0\n",
              "9132               0                  1                 0\n",
              "9133               0                  1                 0\n",
              "\n",
              "[9134 rows x 3 columns]"
            ],
            "text/html": [
              "\n",
              "  <div id=\"df-8debb741-abff-4f68-8dbd-0d0fda7bc0f5\">\n",
              "    <div class=\"colab-df-container\">\n",
              "      <div>\n",
              "<style scoped>\n",
              "    .dataframe tbody tr th:only-of-type {\n",
              "        vertical-align: middle;\n",
              "    }\n",
              "\n",
              "    .dataframe tbody tr th {\n",
              "        vertical-align: top;\n",
              "    }\n",
              "\n",
              "    .dataframe thead th {\n",
              "        text-align: right;\n",
              "    }\n",
              "</style>\n",
              "<table border=\"1\" class=\"dataframe\">\n",
              "  <thead>\n",
              "    <tr style=\"text-align: right;\">\n",
              "      <th></th>\n",
              "      <th>Coverage.Basic</th>\n",
              "      <th>Coverage.Extended</th>\n",
              "      <th>Coverage.Premium</th>\n",
              "    </tr>\n",
              "  </thead>\n",
              "  <tbody>\n",
              "    <tr>\n",
              "      <th>0</th>\n",
              "      <td>1</td>\n",
              "      <td>0</td>\n",
              "      <td>0</td>\n",
              "    </tr>\n",
              "    <tr>\n",
              "      <th>1</th>\n",
              "      <td>0</td>\n",
              "      <td>1</td>\n",
              "      <td>0</td>\n",
              "    </tr>\n",
              "    <tr>\n",
              "      <th>2</th>\n",
              "      <td>0</td>\n",
              "      <td>0</td>\n",
              "      <td>1</td>\n",
              "    </tr>\n",
              "    <tr>\n",
              "      <th>3</th>\n",
              "      <td>1</td>\n",
              "      <td>0</td>\n",
              "      <td>0</td>\n",
              "    </tr>\n",
              "    <tr>\n",
              "      <th>4</th>\n",
              "      <td>1</td>\n",
              "      <td>0</td>\n",
              "      <td>0</td>\n",
              "    </tr>\n",
              "    <tr>\n",
              "      <th>...</th>\n",
              "      <td>...</td>\n",
              "      <td>...</td>\n",
              "      <td>...</td>\n",
              "    </tr>\n",
              "    <tr>\n",
              "      <th>9129</th>\n",
              "      <td>1</td>\n",
              "      <td>0</td>\n",
              "      <td>0</td>\n",
              "    </tr>\n",
              "    <tr>\n",
              "      <th>9130</th>\n",
              "      <td>0</td>\n",
              "      <td>1</td>\n",
              "      <td>0</td>\n",
              "    </tr>\n",
              "    <tr>\n",
              "      <th>9131</th>\n",
              "      <td>0</td>\n",
              "      <td>1</td>\n",
              "      <td>0</td>\n",
              "    </tr>\n",
              "    <tr>\n",
              "      <th>9132</th>\n",
              "      <td>0</td>\n",
              "      <td>1</td>\n",
              "      <td>0</td>\n",
              "    </tr>\n",
              "    <tr>\n",
              "      <th>9133</th>\n",
              "      <td>0</td>\n",
              "      <td>1</td>\n",
              "      <td>0</td>\n",
              "    </tr>\n",
              "  </tbody>\n",
              "</table>\n",
              "<p>9134 rows × 3 columns</p>\n",
              "</div>\n",
              "      <button class=\"colab-df-convert\" onclick=\"convertToInteractive('df-8debb741-abff-4f68-8dbd-0d0fda7bc0f5')\"\n",
              "              title=\"Convert this dataframe to an interactive table.\"\n",
              "              style=\"display:none;\">\n",
              "        \n",
              "  <svg xmlns=\"http://www.w3.org/2000/svg\" height=\"24px\"viewBox=\"0 0 24 24\"\n",
              "       width=\"24px\">\n",
              "    <path d=\"M0 0h24v24H0V0z\" fill=\"none\"/>\n",
              "    <path d=\"M18.56 5.44l.94 2.06.94-2.06 2.06-.94-2.06-.94-.94-2.06-.94 2.06-2.06.94zm-11 1L8.5 8.5l.94-2.06 2.06-.94-2.06-.94L8.5 2.5l-.94 2.06-2.06.94zm10 10l.94 2.06.94-2.06 2.06-.94-2.06-.94-.94-2.06-.94 2.06-2.06.94z\"/><path d=\"M17.41 7.96l-1.37-1.37c-.4-.4-.92-.59-1.43-.59-.52 0-1.04.2-1.43.59L10.3 9.45l-7.72 7.72c-.78.78-.78 2.05 0 2.83L4 21.41c.39.39.9.59 1.41.59.51 0 1.02-.2 1.41-.59l7.78-7.78 2.81-2.81c.8-.78.8-2.07 0-2.86zM5.41 20L4 18.59l7.72-7.72 1.47 1.35L5.41 20z\"/>\n",
              "  </svg>\n",
              "      </button>\n",
              "      \n",
              "  <style>\n",
              "    .colab-df-container {\n",
              "      display:flex;\n",
              "      flex-wrap:wrap;\n",
              "      gap: 12px;\n",
              "    }\n",
              "\n",
              "    .colab-df-convert {\n",
              "      background-color: #E8F0FE;\n",
              "      border: none;\n",
              "      border-radius: 50%;\n",
              "      cursor: pointer;\n",
              "      display: none;\n",
              "      fill: #1967D2;\n",
              "      height: 32px;\n",
              "      padding: 0 0 0 0;\n",
              "      width: 32px;\n",
              "    }\n",
              "\n",
              "    .colab-df-convert:hover {\n",
              "      background-color: #E2EBFA;\n",
              "      box-shadow: 0px 1px 2px rgba(60, 64, 67, 0.3), 0px 1px 3px 1px rgba(60, 64, 67, 0.15);\n",
              "      fill: #174EA6;\n",
              "    }\n",
              "\n",
              "    [theme=dark] .colab-df-convert {\n",
              "      background-color: #3B4455;\n",
              "      fill: #D2E3FC;\n",
              "    }\n",
              "\n",
              "    [theme=dark] .colab-df-convert:hover {\n",
              "      background-color: #434B5C;\n",
              "      box-shadow: 0px 1px 3px 1px rgba(0, 0, 0, 0.15);\n",
              "      filter: drop-shadow(0px 1px 2px rgba(0, 0, 0, 0.3));\n",
              "      fill: #FFFFFF;\n",
              "    }\n",
              "  </style>\n",
              "\n",
              "      <script>\n",
              "        const buttonEl =\n",
              "          document.querySelector('#df-8debb741-abff-4f68-8dbd-0d0fda7bc0f5 button.colab-df-convert');\n",
              "        buttonEl.style.display =\n",
              "          google.colab.kernel.accessAllowed ? 'block' : 'none';\n",
              "\n",
              "        async function convertToInteractive(key) {\n",
              "          const element = document.querySelector('#df-8debb741-abff-4f68-8dbd-0d0fda7bc0f5');\n",
              "          const dataTable =\n",
              "            await google.colab.kernel.invokeFunction('convertToInteractive',\n",
              "                                                     [key], {});\n",
              "          if (!dataTable) return;\n",
              "\n",
              "          const docLinkHtml = 'Like what you see? Visit the ' +\n",
              "            '<a target=\"_blank\" href=https://colab.research.google.com/notebooks/data_table.ipynb>data table notebook</a>'\n",
              "            + ' to learn more about interactive tables.';\n",
              "          element.innerHTML = '';\n",
              "          dataTable['output_type'] = 'display_data';\n",
              "          await google.colab.output.renderOutput(dataTable, element);\n",
              "          const docLink = document.createElement('div');\n",
              "          docLink.innerHTML = docLinkHtml;\n",
              "          element.appendChild(docLink);\n",
              "        }\n",
              "      </script>\n",
              "    </div>\n",
              "  </div>\n",
              "  "
            ]
          },
          "metadata": {},
          "execution_count": 21
        }
      ]
    },
    {
      "cell_type": "code",
      "source": [
        "categorical_features"
      ],
      "metadata": {
        "colab": {
          "base_uri": "https://localhost:8080/"
        },
        "id": "d4l8svMAKFMI",
        "outputId": "0383fd27-3402-4b63-df7f-75db5775a9db"
      },
      "execution_count": null,
      "outputs": [
        {
          "output_type": "execute_result",
          "data": {
            "text/plain": [
              "['Sales.Channel.Agent',\n",
              " 'Sales.Channel.Branch',\n",
              " 'Sales.Channel.Call Center',\n",
              " 'Sales.Channel.Web',\n",
              " 'Vehicle.Size.Large',\n",
              " 'Vehicle.Size.Medsize',\n",
              " 'Vehicle.Size.Small',\n",
              " 'Vehicle.Class.Four-Door Car',\n",
              " 'Vehicle.Class.Luxury Car',\n",
              " 'Vehicle.Class.Luxury SUV',\n",
              " 'Vehicle.Class.SUV',\n",
              " 'Vehicle.Class.Sports Car',\n",
              " 'Vehicle.Class.Two-Door Car',\n",
              " 'Policy.Corporate L1',\n",
              " 'Policy.Corporate L2',\n",
              " 'Policy.Corporate L3',\n",
              " 'Policy.Personal L1',\n",
              " 'Policy.Personal L2',\n",
              " 'Policy.Personal L3',\n",
              " 'Policy.Special L1',\n",
              " 'Policy.Special L2',\n",
              " 'Policy.Special L3',\n",
              " 'Policy.Type.Corporate Auto',\n",
              " 'Policy.Type.Personal Auto',\n",
              " 'Policy.Type.Special Auto',\n",
              " 'EmploymentStatus.Disabled',\n",
              " 'EmploymentStatus.Employed',\n",
              " 'EmploymentStatus.Medical Leave',\n",
              " 'EmploymentStatus.Retired',\n",
              " 'EmploymentStatus.Unemployed',\n",
              " 'Marital.Status.Divorced',\n",
              " 'Marital.Status.Married',\n",
              " 'Marital.Status.Single',\n",
              " 'Education.Bachelor',\n",
              " 'Education.College',\n",
              " 'Education.Doctor',\n",
              " 'Education.High School or Below',\n",
              " 'Education.Master',\n",
              " 'Coverage.Basic',\n",
              " 'Coverage.Extended',\n",
              " 'Coverage.Premium']"
            ]
          },
          "metadata": {},
          "execution_count": 22
        }
      ]
    },
    {
      "cell_type": "code",
      "source": [
        "df # 데이터프레임에 인코딩된 범주형 특성명들이 추가된 것을 볼 수 있다"
      ],
      "metadata": {
        "colab": {
          "base_uri": "https://localhost:8080/",
          "height": 522
        },
        "id": "TEFufFruKnhE",
        "outputId": "e5c93270-06bf-42f1-e9ae-6a5ec9556938"
      },
      "execution_count": null,
      "outputs": [
        {
          "output_type": "execute_result",
          "data": {
            "text/plain": [
              "     Customer       State  Customer Lifetime Value Response  Coverage  \\\n",
              "0     BU79786  Washington              2763.519279       No     Basic   \n",
              "1     QZ44356     Arizona              6979.535903       No  Extended   \n",
              "2     AI49188      Nevada             12887.431650       No   Premium   \n",
              "3     WW63253  California              7645.861827       No     Basic   \n",
              "4     HB64268  Washington              2813.692575       No     Basic   \n",
              "...       ...         ...                      ...      ...       ...   \n",
              "9129  LA72316  California             23405.987980       No     Basic   \n",
              "9130  PK87824  California              3096.511217      Yes  Extended   \n",
              "9131  TD14365  California              8163.890428       No  Extended   \n",
              "9132  UP19263  California              7524.442436       No  Extended   \n",
              "9133  Y167826  California              2611.836866       No  Extended   \n",
              "\n",
              "     Education Effective To Date EmploymentStatus Gender  Income  ...  \\\n",
              "0     Bachelor           2/24/11         Employed      F   56274  ...   \n",
              "1     Bachelor           1/31/11       Unemployed      F       0  ...   \n",
              "2     Bachelor           2/19/11         Employed      F   48767  ...   \n",
              "3     Bachelor           1/20/11       Unemployed      M       0  ...   \n",
              "4     Bachelor            2/3/11         Employed      M   43836  ...   \n",
              "...        ...               ...              ...    ...     ...  ...   \n",
              "9129  Bachelor           2/10/11         Employed      M   71941  ...   \n",
              "9130   College           2/12/11         Employed      F   21604  ...   \n",
              "9131  Bachelor            2/6/11       Unemployed      M       0  ...   \n",
              "9132   College            2/3/11         Employed      M   21941  ...   \n",
              "9133   College           2/14/11       Unemployed      M       0  ...   \n",
              "\n",
              "     Marital.Status.Married Marital.Status.Single  Education.Bachelor  \\\n",
              "0                         1                     0                   1   \n",
              "1                         0                     1                   1   \n",
              "2                         1                     0                   1   \n",
              "3                         1                     0                   1   \n",
              "4                         0                     1                   1   \n",
              "...                     ...                   ...                 ...   \n",
              "9129                      1                     0                   1   \n",
              "9130                      0                     0                   0   \n",
              "9131                      0                     1                   1   \n",
              "9132                      1                     0                   0   \n",
              "9133                      0                     1                   0   \n",
              "\n",
              "      Education.College  Education.Doctor  Education.High School or Below  \\\n",
              "0                     0                 0                               0   \n",
              "1                     0                 0                               0   \n",
              "2                     0                 0                               0   \n",
              "3                     0                 0                               0   \n",
              "4                     0                 0                               0   \n",
              "...                 ...               ...                             ...   \n",
              "9129                  0                 0                               0   \n",
              "9130                  1                 0                               0   \n",
              "9131                  0                 0                               0   \n",
              "9132                  1                 0                               0   \n",
              "9133                  1                 0                               0   \n",
              "\n",
              "      Education.Master Coverage.Basic Coverage.Extended Coverage.Premium  \n",
              "0                    0              1                 0                0  \n",
              "1                    0              0                 1                0  \n",
              "2                    0              0                 0                1  \n",
              "3                    0              1                 0                0  \n",
              "4                    0              1                 0                0  \n",
              "...                ...            ...               ...              ...  \n",
              "9129                 0              1                 0                0  \n",
              "9130                 0              0                 1                0  \n",
              "9131                 0              0                 1                0  \n",
              "9132                 0              0                 1                0  \n",
              "9133                 0              0                 1                0  \n",
              "\n",
              "[9134 rows x 108 columns]"
            ],
            "text/html": [
              "\n",
              "  <div id=\"df-c5a099dc-3ca6-4b56-851b-d6d9f26d861f\">\n",
              "    <div class=\"colab-df-container\">\n",
              "      <div>\n",
              "<style scoped>\n",
              "    .dataframe tbody tr th:only-of-type {\n",
              "        vertical-align: middle;\n",
              "    }\n",
              "\n",
              "    .dataframe tbody tr th {\n",
              "        vertical-align: top;\n",
              "    }\n",
              "\n",
              "    .dataframe thead th {\n",
              "        text-align: right;\n",
              "    }\n",
              "</style>\n",
              "<table border=\"1\" class=\"dataframe\">\n",
              "  <thead>\n",
              "    <tr style=\"text-align: right;\">\n",
              "      <th></th>\n",
              "      <th>Customer</th>\n",
              "      <th>State</th>\n",
              "      <th>Customer Lifetime Value</th>\n",
              "      <th>Response</th>\n",
              "      <th>Coverage</th>\n",
              "      <th>Education</th>\n",
              "      <th>Effective To Date</th>\n",
              "      <th>EmploymentStatus</th>\n",
              "      <th>Gender</th>\n",
              "      <th>Income</th>\n",
              "      <th>...</th>\n",
              "      <th>Marital.Status.Married</th>\n",
              "      <th>Marital.Status.Single</th>\n",
              "      <th>Education.Bachelor</th>\n",
              "      <th>Education.College</th>\n",
              "      <th>Education.Doctor</th>\n",
              "      <th>Education.High School or Below</th>\n",
              "      <th>Education.Master</th>\n",
              "      <th>Coverage.Basic</th>\n",
              "      <th>Coverage.Extended</th>\n",
              "      <th>Coverage.Premium</th>\n",
              "    </tr>\n",
              "  </thead>\n",
              "  <tbody>\n",
              "    <tr>\n",
              "      <th>0</th>\n",
              "      <td>BU79786</td>\n",
              "      <td>Washington</td>\n",
              "      <td>2763.519279</td>\n",
              "      <td>No</td>\n",
              "      <td>Basic</td>\n",
              "      <td>Bachelor</td>\n",
              "      <td>2/24/11</td>\n",
              "      <td>Employed</td>\n",
              "      <td>F</td>\n",
              "      <td>56274</td>\n",
              "      <td>...</td>\n",
              "      <td>1</td>\n",
              "      <td>0</td>\n",
              "      <td>1</td>\n",
              "      <td>0</td>\n",
              "      <td>0</td>\n",
              "      <td>0</td>\n",
              "      <td>0</td>\n",
              "      <td>1</td>\n",
              "      <td>0</td>\n",
              "      <td>0</td>\n",
              "    </tr>\n",
              "    <tr>\n",
              "      <th>1</th>\n",
              "      <td>QZ44356</td>\n",
              "      <td>Arizona</td>\n",
              "      <td>6979.535903</td>\n",
              "      <td>No</td>\n",
              "      <td>Extended</td>\n",
              "      <td>Bachelor</td>\n",
              "      <td>1/31/11</td>\n",
              "      <td>Unemployed</td>\n",
              "      <td>F</td>\n",
              "      <td>0</td>\n",
              "      <td>...</td>\n",
              "      <td>0</td>\n",
              "      <td>1</td>\n",
              "      <td>1</td>\n",
              "      <td>0</td>\n",
              "      <td>0</td>\n",
              "      <td>0</td>\n",
              "      <td>0</td>\n",
              "      <td>0</td>\n",
              "      <td>1</td>\n",
              "      <td>0</td>\n",
              "    </tr>\n",
              "    <tr>\n",
              "      <th>2</th>\n",
              "      <td>AI49188</td>\n",
              "      <td>Nevada</td>\n",
              "      <td>12887.431650</td>\n",
              "      <td>No</td>\n",
              "      <td>Premium</td>\n",
              "      <td>Bachelor</td>\n",
              "      <td>2/19/11</td>\n",
              "      <td>Employed</td>\n",
              "      <td>F</td>\n",
              "      <td>48767</td>\n",
              "      <td>...</td>\n",
              "      <td>1</td>\n",
              "      <td>0</td>\n",
              "      <td>1</td>\n",
              "      <td>0</td>\n",
              "      <td>0</td>\n",
              "      <td>0</td>\n",
              "      <td>0</td>\n",
              "      <td>0</td>\n",
              "      <td>0</td>\n",
              "      <td>1</td>\n",
              "    </tr>\n",
              "    <tr>\n",
              "      <th>3</th>\n",
              "      <td>WW63253</td>\n",
              "      <td>California</td>\n",
              "      <td>7645.861827</td>\n",
              "      <td>No</td>\n",
              "      <td>Basic</td>\n",
              "      <td>Bachelor</td>\n",
              "      <td>1/20/11</td>\n",
              "      <td>Unemployed</td>\n",
              "      <td>M</td>\n",
              "      <td>0</td>\n",
              "      <td>...</td>\n",
              "      <td>1</td>\n",
              "      <td>0</td>\n",
              "      <td>1</td>\n",
              "      <td>0</td>\n",
              "      <td>0</td>\n",
              "      <td>0</td>\n",
              "      <td>0</td>\n",
              "      <td>1</td>\n",
              "      <td>0</td>\n",
              "      <td>0</td>\n",
              "    </tr>\n",
              "    <tr>\n",
              "      <th>4</th>\n",
              "      <td>HB64268</td>\n",
              "      <td>Washington</td>\n",
              "      <td>2813.692575</td>\n",
              "      <td>No</td>\n",
              "      <td>Basic</td>\n",
              "      <td>Bachelor</td>\n",
              "      <td>2/3/11</td>\n",
              "      <td>Employed</td>\n",
              "      <td>M</td>\n",
              "      <td>43836</td>\n",
              "      <td>...</td>\n",
              "      <td>0</td>\n",
              "      <td>1</td>\n",
              "      <td>1</td>\n",
              "      <td>0</td>\n",
              "      <td>0</td>\n",
              "      <td>0</td>\n",
              "      <td>0</td>\n",
              "      <td>1</td>\n",
              "      <td>0</td>\n",
              "      <td>0</td>\n",
              "    </tr>\n",
              "    <tr>\n",
              "      <th>...</th>\n",
              "      <td>...</td>\n",
              "      <td>...</td>\n",
              "      <td>...</td>\n",
              "      <td>...</td>\n",
              "      <td>...</td>\n",
              "      <td>...</td>\n",
              "      <td>...</td>\n",
              "      <td>...</td>\n",
              "      <td>...</td>\n",
              "      <td>...</td>\n",
              "      <td>...</td>\n",
              "      <td>...</td>\n",
              "      <td>...</td>\n",
              "      <td>...</td>\n",
              "      <td>...</td>\n",
              "      <td>...</td>\n",
              "      <td>...</td>\n",
              "      <td>...</td>\n",
              "      <td>...</td>\n",
              "      <td>...</td>\n",
              "      <td>...</td>\n",
              "    </tr>\n",
              "    <tr>\n",
              "      <th>9129</th>\n",
              "      <td>LA72316</td>\n",
              "      <td>California</td>\n",
              "      <td>23405.987980</td>\n",
              "      <td>No</td>\n",
              "      <td>Basic</td>\n",
              "      <td>Bachelor</td>\n",
              "      <td>2/10/11</td>\n",
              "      <td>Employed</td>\n",
              "      <td>M</td>\n",
              "      <td>71941</td>\n",
              "      <td>...</td>\n",
              "      <td>1</td>\n",
              "      <td>0</td>\n",
              "      <td>1</td>\n",
              "      <td>0</td>\n",
              "      <td>0</td>\n",
              "      <td>0</td>\n",
              "      <td>0</td>\n",
              "      <td>1</td>\n",
              "      <td>0</td>\n",
              "      <td>0</td>\n",
              "    </tr>\n",
              "    <tr>\n",
              "      <th>9130</th>\n",
              "      <td>PK87824</td>\n",
              "      <td>California</td>\n",
              "      <td>3096.511217</td>\n",
              "      <td>Yes</td>\n",
              "      <td>Extended</td>\n",
              "      <td>College</td>\n",
              "      <td>2/12/11</td>\n",
              "      <td>Employed</td>\n",
              "      <td>F</td>\n",
              "      <td>21604</td>\n",
              "      <td>...</td>\n",
              "      <td>0</td>\n",
              "      <td>0</td>\n",
              "      <td>0</td>\n",
              "      <td>1</td>\n",
              "      <td>0</td>\n",
              "      <td>0</td>\n",
              "      <td>0</td>\n",
              "      <td>0</td>\n",
              "      <td>1</td>\n",
              "      <td>0</td>\n",
              "    </tr>\n",
              "    <tr>\n",
              "      <th>9131</th>\n",
              "      <td>TD14365</td>\n",
              "      <td>California</td>\n",
              "      <td>8163.890428</td>\n",
              "      <td>No</td>\n",
              "      <td>Extended</td>\n",
              "      <td>Bachelor</td>\n",
              "      <td>2/6/11</td>\n",
              "      <td>Unemployed</td>\n",
              "      <td>M</td>\n",
              "      <td>0</td>\n",
              "      <td>...</td>\n",
              "      <td>0</td>\n",
              "      <td>1</td>\n",
              "      <td>1</td>\n",
              "      <td>0</td>\n",
              "      <td>0</td>\n",
              "      <td>0</td>\n",
              "      <td>0</td>\n",
              "      <td>0</td>\n",
              "      <td>1</td>\n",
              "      <td>0</td>\n",
              "    </tr>\n",
              "    <tr>\n",
              "      <th>9132</th>\n",
              "      <td>UP19263</td>\n",
              "      <td>California</td>\n",
              "      <td>7524.442436</td>\n",
              "      <td>No</td>\n",
              "      <td>Extended</td>\n",
              "      <td>College</td>\n",
              "      <td>2/3/11</td>\n",
              "      <td>Employed</td>\n",
              "      <td>M</td>\n",
              "      <td>21941</td>\n",
              "      <td>...</td>\n",
              "      <td>1</td>\n",
              "      <td>0</td>\n",
              "      <td>0</td>\n",
              "      <td>1</td>\n",
              "      <td>0</td>\n",
              "      <td>0</td>\n",
              "      <td>0</td>\n",
              "      <td>0</td>\n",
              "      <td>1</td>\n",
              "      <td>0</td>\n",
              "    </tr>\n",
              "    <tr>\n",
              "      <th>9133</th>\n",
              "      <td>Y167826</td>\n",
              "      <td>California</td>\n",
              "      <td>2611.836866</td>\n",
              "      <td>No</td>\n",
              "      <td>Extended</td>\n",
              "      <td>College</td>\n",
              "      <td>2/14/11</td>\n",
              "      <td>Unemployed</td>\n",
              "      <td>M</td>\n",
              "      <td>0</td>\n",
              "      <td>...</td>\n",
              "      <td>0</td>\n",
              "      <td>1</td>\n",
              "      <td>0</td>\n",
              "      <td>1</td>\n",
              "      <td>0</td>\n",
              "      <td>0</td>\n",
              "      <td>0</td>\n",
              "      <td>0</td>\n",
              "      <td>1</td>\n",
              "      <td>0</td>\n",
              "    </tr>\n",
              "  </tbody>\n",
              "</table>\n",
              "<p>9134 rows × 108 columns</p>\n",
              "</div>\n",
              "      <button class=\"colab-df-convert\" onclick=\"convertToInteractive('df-c5a099dc-3ca6-4b56-851b-d6d9f26d861f')\"\n",
              "              title=\"Convert this dataframe to an interactive table.\"\n",
              "              style=\"display:none;\">\n",
              "        \n",
              "  <svg xmlns=\"http://www.w3.org/2000/svg\" height=\"24px\"viewBox=\"0 0 24 24\"\n",
              "       width=\"24px\">\n",
              "    <path d=\"M0 0h24v24H0V0z\" fill=\"none\"/>\n",
              "    <path d=\"M18.56 5.44l.94 2.06.94-2.06 2.06-.94-2.06-.94-.94-2.06-.94 2.06-2.06.94zm-11 1L8.5 8.5l.94-2.06 2.06-.94-2.06-.94L8.5 2.5l-.94 2.06-2.06.94zm10 10l.94 2.06.94-2.06 2.06-.94-2.06-.94-.94-2.06-.94 2.06-2.06.94z\"/><path d=\"M17.41 7.96l-1.37-1.37c-.4-.4-.92-.59-1.43-.59-.52 0-1.04.2-1.43.59L10.3 9.45l-7.72 7.72c-.78.78-.78 2.05 0 2.83L4 21.41c.39.39.9.59 1.41.59.51 0 1.02-.2 1.41-.59l7.78-7.78 2.81-2.81c.8-.78.8-2.07 0-2.86zM5.41 20L4 18.59l7.72-7.72 1.47 1.35L5.41 20z\"/>\n",
              "  </svg>\n",
              "      </button>\n",
              "      \n",
              "  <style>\n",
              "    .colab-df-container {\n",
              "      display:flex;\n",
              "      flex-wrap:wrap;\n",
              "      gap: 12px;\n",
              "    }\n",
              "\n",
              "    .colab-df-convert {\n",
              "      background-color: #E8F0FE;\n",
              "      border: none;\n",
              "      border-radius: 50%;\n",
              "      cursor: pointer;\n",
              "      display: none;\n",
              "      fill: #1967D2;\n",
              "      height: 32px;\n",
              "      padding: 0 0 0 0;\n",
              "      width: 32px;\n",
              "    }\n",
              "\n",
              "    .colab-df-convert:hover {\n",
              "      background-color: #E2EBFA;\n",
              "      box-shadow: 0px 1px 2px rgba(60, 64, 67, 0.3), 0px 1px 3px 1px rgba(60, 64, 67, 0.15);\n",
              "      fill: #174EA6;\n",
              "    }\n",
              "\n",
              "    [theme=dark] .colab-df-convert {\n",
              "      background-color: #3B4455;\n",
              "      fill: #D2E3FC;\n",
              "    }\n",
              "\n",
              "    [theme=dark] .colab-df-convert:hover {\n",
              "      background-color: #434B5C;\n",
              "      box-shadow: 0px 1px 3px 1px rgba(0, 0, 0, 0.15);\n",
              "      filter: drop-shadow(0px 1px 2px rgba(0, 0, 0, 0.3));\n",
              "      fill: #FFFFFF;\n",
              "    }\n",
              "  </style>\n",
              "\n",
              "      <script>\n",
              "        const buttonEl =\n",
              "          document.querySelector('#df-c5a099dc-3ca6-4b56-851b-d6d9f26d861f button.colab-df-convert');\n",
              "        buttonEl.style.display =\n",
              "          google.colab.kernel.accessAllowed ? 'block' : 'none';\n",
              "\n",
              "        async function convertToInteractive(key) {\n",
              "          const element = document.querySelector('#df-c5a099dc-3ca6-4b56-851b-d6d9f26d861f');\n",
              "          const dataTable =\n",
              "            await google.colab.kernel.invokeFunction('convertToInteractive',\n",
              "                                                     [key], {});\n",
              "          if (!dataTable) return;\n",
              "\n",
              "          const docLinkHtml = 'Like what you see? Visit the ' +\n",
              "            '<a target=\"_blank\" href=https://colab.research.google.com/notebooks/data_table.ipynb>data table notebook</a>'\n",
              "            + ' to learn more about interactive tables.';\n",
              "          element.innerHTML = '';\n",
              "          dataTable['output_type'] = 'display_data';\n",
              "          await google.colab.output.renderOutput(dataTable, element);\n",
              "          const docLink = document.createElement('div');\n",
              "          docLink.innerHTML = docLinkHtml;\n",
              "          element.appendChild(docLink);\n",
              "        }\n",
              "      </script>\n",
              "    </div>\n",
              "  </div>\n",
              "  "
            ]
          },
          "metadata": {},
          "execution_count": 23
        }
      ]
    },
    {
      "cell_type": "markdown",
      "source": [
        "## - Encoding Gender"
      ],
      "metadata": {
        "id": "VetEyPrANaC3"
      }
    },
    {
      "cell_type": "code",
      "source": [
        "# 범주형 특성인 성별 또한 M/F => 0/1로 수치화\n",
        "df['Is.Female'] = df['Gender'].apply(lambda x: 1 if x == 'F' else 0)\n",
        "\n",
        "categorical_features.append('Is.Female')"
      ],
      "metadata": {
        "id": "d6gGyot1KseJ"
      },
      "execution_count": null,
      "outputs": []
    },
    {
      "cell_type": "markdown",
      "source": [
        "## - all features & response"
      ],
      "metadata": {
        "id": "J7mc0pOoNc9W"
      }
    },
    {
      "cell_type": "code",
      "source": [
        "# 모든 특성명을 저장해두기. (범주형 + 수치형)\n",
        "all_features = continuous_features + categorical_features\n",
        "response = 'Engaged'"
      ],
      "metadata": {
        "id": "BFIP1rXULPVG"
      },
      "execution_count": null,
      "outputs": []
    },
    {
      "cell_type": "code",
      "source": [
        "sample_df = df[all_features + [response]]\n",
        "sample_df.columns = [x.replace(' ', '.') for x in sample_df.columns] # replace space with dot(.)\n",
        "all_features = [x.replace(' ', '.') for x in all_features]"
      ],
      "metadata": {
        "id": "S0twa5-OLVkQ"
      },
      "execution_count": null,
      "outputs": []
    },
    {
      "cell_type": "code",
      "source": [
        "sample_df.head()"
      ],
      "metadata": {
        "colab": {
          "base_uri": "https://localhost:8080/",
          "height": 300
        },
        "id": "Ya-v5t-NLlaI",
        "outputId": "98dc530f-ea1b-4eb9-d90e-4fc355b659a3"
      },
      "execution_count": null,
      "outputs": [
        {
          "output_type": "execute_result",
          "data": {
            "text/plain": [
              "   Customer.Lifetime.Value  Income  Monthly.Premium.Auto  \\\n",
              "0              2763.519279   56274                    69   \n",
              "1              6979.535903       0                    94   \n",
              "2             12887.431650   48767                   108   \n",
              "3              7645.861827       0                   106   \n",
              "4              2813.692575   43836                    73   \n",
              "\n",
              "   Months.Since.Last.Claim  Months.Since.Policy.Inception  \\\n",
              "0                       32                              5   \n",
              "1                       13                             42   \n",
              "2                       18                             38   \n",
              "3                       18                             65   \n",
              "4                       12                             44   \n",
              "\n",
              "   Number.of.Open.Complaints  Number.of.Policies  Total.Claim.Amount  \\\n",
              "0                          0                   1          384.811147   \n",
              "1                          0                   8         1131.464935   \n",
              "2                          0                   2          566.472247   \n",
              "3                          0                   7          529.881344   \n",
              "4                          0                   1          138.130879   \n",
              "\n",
              "   Sales.Channel.Agent  Sales.Channel.Agent  ...  Education.Master  \\\n",
              "0                    1                    1  ...                 0   \n",
              "1                    1                    1  ...                 0   \n",
              "2                    1                    1  ...                 0   \n",
              "3                    0                    0  ...                 0   \n",
              "4                    1                    1  ...                 0   \n",
              "\n",
              "   Education.Master  Coverage.Basic  Coverage.Basic  Coverage.Extended  \\\n",
              "0                 0               1               1                  0   \n",
              "1                 0               0               0                  1   \n",
              "2                 0               0               0                  0   \n",
              "3                 0               1               1                  0   \n",
              "4                 0               1               1                  0   \n",
              "\n",
              "   Coverage.Extended  Coverage.Premium  Coverage.Premium  Is.Female  Engaged  \n",
              "0                  0                 0                 0          1        0  \n",
              "1                  1                 0                 0          1        0  \n",
              "2                  0                 1                 1          1        0  \n",
              "3                  0                 0                 0          0        0  \n",
              "4                  0                 0                 0          0        0  \n",
              "\n",
              "[5 rows x 92 columns]"
            ],
            "text/html": [
              "\n",
              "  <div id=\"df-4ecc6a44-0de8-44d0-89ea-e3c73ac11de9\">\n",
              "    <div class=\"colab-df-container\">\n",
              "      <div>\n",
              "<style scoped>\n",
              "    .dataframe tbody tr th:only-of-type {\n",
              "        vertical-align: middle;\n",
              "    }\n",
              "\n",
              "    .dataframe tbody tr th {\n",
              "        vertical-align: top;\n",
              "    }\n",
              "\n",
              "    .dataframe thead th {\n",
              "        text-align: right;\n",
              "    }\n",
              "</style>\n",
              "<table border=\"1\" class=\"dataframe\">\n",
              "  <thead>\n",
              "    <tr style=\"text-align: right;\">\n",
              "      <th></th>\n",
              "      <th>Customer.Lifetime.Value</th>\n",
              "      <th>Income</th>\n",
              "      <th>Monthly.Premium.Auto</th>\n",
              "      <th>Months.Since.Last.Claim</th>\n",
              "      <th>Months.Since.Policy.Inception</th>\n",
              "      <th>Number.of.Open.Complaints</th>\n",
              "      <th>Number.of.Policies</th>\n",
              "      <th>Total.Claim.Amount</th>\n",
              "      <th>Sales.Channel.Agent</th>\n",
              "      <th>Sales.Channel.Agent</th>\n",
              "      <th>...</th>\n",
              "      <th>Education.Master</th>\n",
              "      <th>Education.Master</th>\n",
              "      <th>Coverage.Basic</th>\n",
              "      <th>Coverage.Basic</th>\n",
              "      <th>Coverage.Extended</th>\n",
              "      <th>Coverage.Extended</th>\n",
              "      <th>Coverage.Premium</th>\n",
              "      <th>Coverage.Premium</th>\n",
              "      <th>Is.Female</th>\n",
              "      <th>Engaged</th>\n",
              "    </tr>\n",
              "  </thead>\n",
              "  <tbody>\n",
              "    <tr>\n",
              "      <th>0</th>\n",
              "      <td>2763.519279</td>\n",
              "      <td>56274</td>\n",
              "      <td>69</td>\n",
              "      <td>32</td>\n",
              "      <td>5</td>\n",
              "      <td>0</td>\n",
              "      <td>1</td>\n",
              "      <td>384.811147</td>\n",
              "      <td>1</td>\n",
              "      <td>1</td>\n",
              "      <td>...</td>\n",
              "      <td>0</td>\n",
              "      <td>0</td>\n",
              "      <td>1</td>\n",
              "      <td>1</td>\n",
              "      <td>0</td>\n",
              "      <td>0</td>\n",
              "      <td>0</td>\n",
              "      <td>0</td>\n",
              "      <td>1</td>\n",
              "      <td>0</td>\n",
              "    </tr>\n",
              "    <tr>\n",
              "      <th>1</th>\n",
              "      <td>6979.535903</td>\n",
              "      <td>0</td>\n",
              "      <td>94</td>\n",
              "      <td>13</td>\n",
              "      <td>42</td>\n",
              "      <td>0</td>\n",
              "      <td>8</td>\n",
              "      <td>1131.464935</td>\n",
              "      <td>1</td>\n",
              "      <td>1</td>\n",
              "      <td>...</td>\n",
              "      <td>0</td>\n",
              "      <td>0</td>\n",
              "      <td>0</td>\n",
              "      <td>0</td>\n",
              "      <td>1</td>\n",
              "      <td>1</td>\n",
              "      <td>0</td>\n",
              "      <td>0</td>\n",
              "      <td>1</td>\n",
              "      <td>0</td>\n",
              "    </tr>\n",
              "    <tr>\n",
              "      <th>2</th>\n",
              "      <td>12887.431650</td>\n",
              "      <td>48767</td>\n",
              "      <td>108</td>\n",
              "      <td>18</td>\n",
              "      <td>38</td>\n",
              "      <td>0</td>\n",
              "      <td>2</td>\n",
              "      <td>566.472247</td>\n",
              "      <td>1</td>\n",
              "      <td>1</td>\n",
              "      <td>...</td>\n",
              "      <td>0</td>\n",
              "      <td>0</td>\n",
              "      <td>0</td>\n",
              "      <td>0</td>\n",
              "      <td>0</td>\n",
              "      <td>0</td>\n",
              "      <td>1</td>\n",
              "      <td>1</td>\n",
              "      <td>1</td>\n",
              "      <td>0</td>\n",
              "    </tr>\n",
              "    <tr>\n",
              "      <th>3</th>\n",
              "      <td>7645.861827</td>\n",
              "      <td>0</td>\n",
              "      <td>106</td>\n",
              "      <td>18</td>\n",
              "      <td>65</td>\n",
              "      <td>0</td>\n",
              "      <td>7</td>\n",
              "      <td>529.881344</td>\n",
              "      <td>0</td>\n",
              "      <td>0</td>\n",
              "      <td>...</td>\n",
              "      <td>0</td>\n",
              "      <td>0</td>\n",
              "      <td>1</td>\n",
              "      <td>1</td>\n",
              "      <td>0</td>\n",
              "      <td>0</td>\n",
              "      <td>0</td>\n",
              "      <td>0</td>\n",
              "      <td>0</td>\n",
              "      <td>0</td>\n",
              "    </tr>\n",
              "    <tr>\n",
              "      <th>4</th>\n",
              "      <td>2813.692575</td>\n",
              "      <td>43836</td>\n",
              "      <td>73</td>\n",
              "      <td>12</td>\n",
              "      <td>44</td>\n",
              "      <td>0</td>\n",
              "      <td>1</td>\n",
              "      <td>138.130879</td>\n",
              "      <td>1</td>\n",
              "      <td>1</td>\n",
              "      <td>...</td>\n",
              "      <td>0</td>\n",
              "      <td>0</td>\n",
              "      <td>1</td>\n",
              "      <td>1</td>\n",
              "      <td>0</td>\n",
              "      <td>0</td>\n",
              "      <td>0</td>\n",
              "      <td>0</td>\n",
              "      <td>0</td>\n",
              "      <td>0</td>\n",
              "    </tr>\n",
              "  </tbody>\n",
              "</table>\n",
              "<p>5 rows × 92 columns</p>\n",
              "</div>\n",
              "      <button class=\"colab-df-convert\" onclick=\"convertToInteractive('df-4ecc6a44-0de8-44d0-89ea-e3c73ac11de9')\"\n",
              "              title=\"Convert this dataframe to an interactive table.\"\n",
              "              style=\"display:none;\">\n",
              "        \n",
              "  <svg xmlns=\"http://www.w3.org/2000/svg\" height=\"24px\"viewBox=\"0 0 24 24\"\n",
              "       width=\"24px\">\n",
              "    <path d=\"M0 0h24v24H0V0z\" fill=\"none\"/>\n",
              "    <path d=\"M18.56 5.44l.94 2.06.94-2.06 2.06-.94-2.06-.94-.94-2.06-.94 2.06-2.06.94zm-11 1L8.5 8.5l.94-2.06 2.06-.94-2.06-.94L8.5 2.5l-.94 2.06-2.06.94zm10 10l.94 2.06.94-2.06 2.06-.94-2.06-.94-.94-2.06-.94 2.06-2.06.94z\"/><path d=\"M17.41 7.96l-1.37-1.37c-.4-.4-.92-.59-1.43-.59-.52 0-1.04.2-1.43.59L10.3 9.45l-7.72 7.72c-.78.78-.78 2.05 0 2.83L4 21.41c.39.39.9.59 1.41.59.51 0 1.02-.2 1.41-.59l7.78-7.78 2.81-2.81c.8-.78.8-2.07 0-2.86zM5.41 20L4 18.59l7.72-7.72 1.47 1.35L5.41 20z\"/>\n",
              "  </svg>\n",
              "      </button>\n",
              "      \n",
              "  <style>\n",
              "    .colab-df-container {\n",
              "      display:flex;\n",
              "      flex-wrap:wrap;\n",
              "      gap: 12px;\n",
              "    }\n",
              "\n",
              "    .colab-df-convert {\n",
              "      background-color: #E8F0FE;\n",
              "      border: none;\n",
              "      border-radius: 50%;\n",
              "      cursor: pointer;\n",
              "      display: none;\n",
              "      fill: #1967D2;\n",
              "      height: 32px;\n",
              "      padding: 0 0 0 0;\n",
              "      width: 32px;\n",
              "    }\n",
              "\n",
              "    .colab-df-convert:hover {\n",
              "      background-color: #E2EBFA;\n",
              "      box-shadow: 0px 1px 2px rgba(60, 64, 67, 0.3), 0px 1px 3px 1px rgba(60, 64, 67, 0.15);\n",
              "      fill: #174EA6;\n",
              "    }\n",
              "\n",
              "    [theme=dark] .colab-df-convert {\n",
              "      background-color: #3B4455;\n",
              "      fill: #D2E3FC;\n",
              "    }\n",
              "\n",
              "    [theme=dark] .colab-df-convert:hover {\n",
              "      background-color: #434B5C;\n",
              "      box-shadow: 0px 1px 3px 1px rgba(0, 0, 0, 0.15);\n",
              "      filter: drop-shadow(0px 1px 2px rgba(0, 0, 0, 0.3));\n",
              "      fill: #FFFFFF;\n",
              "    }\n",
              "  </style>\n",
              "\n",
              "      <script>\n",
              "        const buttonEl =\n",
              "          document.querySelector('#df-4ecc6a44-0de8-44d0-89ea-e3c73ac11de9 button.colab-df-convert');\n",
              "        buttonEl.style.display =\n",
              "          google.colab.kernel.accessAllowed ? 'block' : 'none';\n",
              "\n",
              "        async function convertToInteractive(key) {\n",
              "          const element = document.querySelector('#df-4ecc6a44-0de8-44d0-89ea-e3c73ac11de9');\n",
              "          const dataTable =\n",
              "            await google.colab.kernel.invokeFunction('convertToInteractive',\n",
              "                                                     [key], {});\n",
              "          if (!dataTable) return;\n",
              "\n",
              "          const docLinkHtml = 'Like what you see? Visit the ' +\n",
              "            '<a target=\"_blank\" href=https://colab.research.google.com/notebooks/data_table.ipynb>data table notebook</a>'\n",
              "            + ' to learn more about interactive tables.';\n",
              "          element.innerHTML = '';\n",
              "          dataTable['output_type'] = 'display_data';\n",
              "          await google.colab.output.renderOutput(dataTable, element);\n",
              "          const docLink = document.createElement('div');\n",
              "          docLink.innerHTML = docLinkHtml;\n",
              "          element.appendChild(docLink);\n",
              "        }\n",
              "      </script>\n",
              "    </div>\n",
              "  </div>\n",
              "  "
            ]
          },
          "metadata": {},
          "execution_count": 27
        }
      ]
    },
    {
      "cell_type": "code",
      "source": [
        "sample_df.columns"
      ],
      "metadata": {
        "colab": {
          "base_uri": "https://localhost:8080/"
        },
        "id": "WzgSMTuILnOM",
        "outputId": "8cc96597-7c86-4db8-f5a1-20b78b9919be"
      },
      "execution_count": null,
      "outputs": [
        {
          "output_type": "execute_result",
          "data": {
            "text/plain": [
              "Index(['Customer.Lifetime.Value', 'Income', 'Monthly.Premium.Auto',\n",
              "       'Months.Since.Last.Claim', 'Months.Since.Policy.Inception',\n",
              "       'Number.of.Open.Complaints', 'Number.of.Policies', 'Total.Claim.Amount',\n",
              "       'Sales.Channel.Agent', 'Sales.Channel.Agent', 'Sales.Channel.Branch',\n",
              "       'Sales.Channel.Branch', 'Sales.Channel.Call.Center',\n",
              "       'Sales.Channel.Call.Center', 'Sales.Channel.Web', 'Sales.Channel.Web',\n",
              "       'Vehicle.Size.Large', 'Vehicle.Size.Large', 'Vehicle.Size.Medsize',\n",
              "       'Vehicle.Size.Medsize', 'Vehicle.Size.Small', 'Vehicle.Size.Small',\n",
              "       'Vehicle.Class.Four-Door.Car', 'Vehicle.Class.Four-Door.Car',\n",
              "       'Vehicle.Class.Luxury.Car', 'Vehicle.Class.Luxury.Car',\n",
              "       'Vehicle.Class.Luxury.SUV', 'Vehicle.Class.Luxury.SUV',\n",
              "       'Vehicle.Class.SUV', 'Vehicle.Class.SUV', 'Vehicle.Class.Sports.Car',\n",
              "       'Vehicle.Class.Sports.Car', 'Vehicle.Class.Two-Door.Car',\n",
              "       'Vehicle.Class.Two-Door.Car', 'Policy.Corporate.L1',\n",
              "       'Policy.Corporate.L1', 'Policy.Corporate.L2', 'Policy.Corporate.L2',\n",
              "       'Policy.Corporate.L3', 'Policy.Corporate.L3', 'Policy.Personal.L1',\n",
              "       'Policy.Personal.L1', 'Policy.Personal.L2', 'Policy.Personal.L2',\n",
              "       'Policy.Personal.L3', 'Policy.Personal.L3', 'Policy.Special.L1',\n",
              "       'Policy.Special.L1', 'Policy.Special.L2', 'Policy.Special.L2',\n",
              "       'Policy.Special.L3', 'Policy.Special.L3', 'Policy.Type.Corporate.Auto',\n",
              "       'Policy.Type.Corporate.Auto', 'Policy.Type.Personal.Auto',\n",
              "       'Policy.Type.Personal.Auto', 'Policy.Type.Special.Auto',\n",
              "       'Policy.Type.Special.Auto', 'EmploymentStatus.Disabled',\n",
              "       'EmploymentStatus.Disabled', 'EmploymentStatus.Employed',\n",
              "       'EmploymentStatus.Employed', 'EmploymentStatus.Medical.Leave',\n",
              "       'EmploymentStatus.Medical.Leave', 'EmploymentStatus.Retired',\n",
              "       'EmploymentStatus.Retired', 'EmploymentStatus.Unemployed',\n",
              "       'EmploymentStatus.Unemployed', 'Marital.Status.Divorced',\n",
              "       'Marital.Status.Divorced', 'Marital.Status.Married',\n",
              "       'Marital.Status.Married', 'Marital.Status.Single',\n",
              "       'Marital.Status.Single', 'Education.Bachelor', 'Education.Bachelor',\n",
              "       'Education.College', 'Education.College', 'Education.Doctor',\n",
              "       'Education.Doctor', 'Education.High.School.or.Below',\n",
              "       'Education.High.School.or.Below', 'Education.Master',\n",
              "       'Education.Master', 'Coverage.Basic', 'Coverage.Basic',\n",
              "       'Coverage.Extended', 'Coverage.Extended', 'Coverage.Premium',\n",
              "       'Coverage.Premium', 'Is.Female', 'Engaged'],\n",
              "      dtype='object')"
            ]
          },
          "metadata": {},
          "execution_count": 28
        }
      ]
    },
    {
      "cell_type": "code",
      "source": [
        "all_features"
      ],
      "metadata": {
        "colab": {
          "base_uri": "https://localhost:8080/"
        },
        "id": "h5elHObLLocK",
        "outputId": "2a64ca0b-9aa8-4cec-f6a0-6c1ab85d56e9"
      },
      "execution_count": null,
      "outputs": [
        {
          "output_type": "execute_result",
          "data": {
            "text/plain": [
              "['Customer.Lifetime.Value',\n",
              " 'Income',\n",
              " 'Monthly.Premium.Auto',\n",
              " 'Months.Since.Last.Claim',\n",
              " 'Months.Since.Policy.Inception',\n",
              " 'Number.of.Open.Complaints',\n",
              " 'Number.of.Policies',\n",
              " 'Total.Claim.Amount',\n",
              " 'Sales.Channel.Agent',\n",
              " 'Sales.Channel.Branch',\n",
              " 'Sales.Channel.Call.Center',\n",
              " 'Sales.Channel.Web',\n",
              " 'Vehicle.Size.Large',\n",
              " 'Vehicle.Size.Medsize',\n",
              " 'Vehicle.Size.Small',\n",
              " 'Vehicle.Class.Four-Door.Car',\n",
              " 'Vehicle.Class.Luxury.Car',\n",
              " 'Vehicle.Class.Luxury.SUV',\n",
              " 'Vehicle.Class.SUV',\n",
              " 'Vehicle.Class.Sports.Car',\n",
              " 'Vehicle.Class.Two-Door.Car',\n",
              " 'Policy.Corporate.L1',\n",
              " 'Policy.Corporate.L2',\n",
              " 'Policy.Corporate.L3',\n",
              " 'Policy.Personal.L1',\n",
              " 'Policy.Personal.L2',\n",
              " 'Policy.Personal.L3',\n",
              " 'Policy.Special.L1',\n",
              " 'Policy.Special.L2',\n",
              " 'Policy.Special.L3',\n",
              " 'Policy.Type.Corporate.Auto',\n",
              " 'Policy.Type.Personal.Auto',\n",
              " 'Policy.Type.Special.Auto',\n",
              " 'EmploymentStatus.Disabled',\n",
              " 'EmploymentStatus.Employed',\n",
              " 'EmploymentStatus.Medical.Leave',\n",
              " 'EmploymentStatus.Retired',\n",
              " 'EmploymentStatus.Unemployed',\n",
              " 'Marital.Status.Divorced',\n",
              " 'Marital.Status.Married',\n",
              " 'Marital.Status.Single',\n",
              " 'Education.Bachelor',\n",
              " 'Education.College',\n",
              " 'Education.Doctor',\n",
              " 'Education.High.School.or.Below',\n",
              " 'Education.Master',\n",
              " 'Coverage.Basic',\n",
              " 'Coverage.Extended',\n",
              " 'Coverage.Premium',\n",
              " 'Is.Female']"
            ]
          },
          "metadata": {},
          "execution_count": 18
        }
      ]
    },
    {
      "cell_type": "markdown",
      "source": [
        "# 3. Training & Testing"
      ],
      "metadata": {
        "id": "Cf-3cNj7Nky2"
      }
    },
    {
      "cell_type": "code",
      "source": [
        "from sklearn.model_selection import train_test_split"
      ],
      "metadata": {
        "id": "QbU-2Ql_LqTz"
      },
      "execution_count": null,
      "outputs": []
    },
    {
      "cell_type": "code",
      "source": [
        "x_train, x_test, y_train, y_test = train_test_split(sample_df[all_features], sample_df[response], test_size=0.3)"
      ],
      "metadata": {
        "id": "h7AhmVA6QnXO"
      },
      "execution_count": null,
      "outputs": []
    },
    {
      "cell_type": "markdown",
      "source": [
        "![스크린샷 2022-11-26 04.30.27.png](data:image/png;base64,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)"
      ],
      "metadata": {
        "id": "WVUfFHuXRIJ5"
      }
    },
    {
      "cell_type": "markdown",
      "source": [
        "[sklearn-train_test_split출처](https://blog.naver.com/PostView.naver?blogId=siniphia&logNo=221396370872)"
      ],
      "metadata": {
        "id": "JJJJkH2xR_9-"
      }
    },
    {
      "cell_type": "code",
      "source": [
        "sample_df.shape"
      ],
      "metadata": {
        "colab": {
          "base_uri": "https://localhost:8080/"
        },
        "id": "oyfpEPZYQvxF",
        "outputId": "23db13a7-bfc1-4ceb-d719-2dba3f0c96a7"
      },
      "execution_count": null,
      "outputs": [
        {
          "output_type": "execute_result",
          "data": {
            "text/plain": [
              "(9134, 92)"
            ]
          },
          "metadata": {},
          "execution_count": 57
        }
      ]
    },
    {
      "cell_type": "code",
      "source": [
        "x_train.shape"
      ],
      "metadata": {
        "colab": {
          "base_uri": "https://localhost:8080/"
        },
        "id": "zBKv4_fGQwui",
        "outputId": "fbe7043f-fc19-41ae-d988-210eb29f0190"
      },
      "execution_count": null,
      "outputs": [
        {
          "output_type": "execute_result",
          "data": {
            "text/plain": [
              "(6393, 91)"
            ]
          },
          "metadata": {},
          "execution_count": 58
        }
      ]
    },
    {
      "cell_type": "code",
      "source": [
        "y_train.shape"
      ],
      "metadata": {
        "colab": {
          "base_uri": "https://localhost:8080/"
        },
        "id": "OeosmK7iRquc",
        "outputId": "e41bd0d1-12ac-4936-9d34-0efdfdeb4998"
      },
      "execution_count": null,
      "outputs": [
        {
          "output_type": "execute_result",
          "data": {
            "text/plain": [
              "(6393,)"
            ]
          },
          "metadata": {},
          "execution_count": 59
        }
      ]
    },
    {
      "cell_type": "code",
      "source": [
        "x_test.shape"
      ],
      "metadata": {
        "colab": {
          "base_uri": "https://localhost:8080/"
        },
        "id": "EZAxED48RsK6",
        "outputId": "0d407c95-99be-4e2e-aea1-1454ccb7dcca"
      },
      "execution_count": null,
      "outputs": [
        {
          "output_type": "execute_result",
          "data": {
            "text/plain": [
              "(2741, 91)"
            ]
          },
          "metadata": {},
          "execution_count": 60
        }
      ]
    },
    {
      "cell_type": "code",
      "source": [
        "y_test.shape"
      ],
      "metadata": {
        "colab": {
          "base_uri": "https://localhost:8080/"
        },
        "id": "XTj231aDRtel",
        "outputId": "a9f0d666-3f73-4c00-e7c2-049c373183ce"
      },
      "execution_count": null,
      "outputs": [
        {
          "output_type": "execute_result",
          "data": {
            "text/plain": [
              "(2741,)"
            ]
          },
          "metadata": {},
          "execution_count": 61
        }
      ]
    },
    {
      "cell_type": "markdown",
      "source": [
        "## - 3.1. Building RandomForest Model"
      ],
      "metadata": {
        "id": "9VYDlFVKSIxN"
      }
    },
    {
      "cell_type": "code",
      "source": [
        "from sklearn.ensemble import RandomForestClassifier"
      ],
      "metadata": {
        "id": "b970TW18RvFP"
      },
      "execution_count": null,
      "outputs": []
    },
    {
      "cell_type": "code",
      "source": [
        "rf_model = RandomForestClassifier(\n",
        "    n_estimators=200,\n",
        "    max_depth=5\n",
        ")"
      ],
      "metadata": {
        "id": "BSU-uswRSP1-"
      },
      "execution_count": null,
      "outputs": []
    },
    {
      "cell_type": "markdown",
      "source": [
        "feature selection:\n",
        "https://hongl.tistory.com/129\n",
        "\n",
        "hyperparameters you can define in RandomForestClassifier\n",
        "- n_estimator:\n",
        "- max_depth\n",
        "- min_sample_split\n",
        "- max_features"
      ],
      "metadata": {
        "id": "dmrmaPVASVme"
      }
    },
    {
      "cell_type": "code",
      "source": [
        "rf_model.fit(X=x_train, y=y_train)"
      ],
      "metadata": {
        "colab": {
          "base_uri": "https://localhost:8080/"
        },
        "id": "_9f0ZELUSU1k",
        "outputId": "a85a0843-c132-409c-eab8-a0e4ac675cc3"
      },
      "execution_count": null,
      "outputs": [
        {
          "output_type": "execute_result",
          "data": {
            "text/plain": [
              "RandomForestClassifier(max_depth=5, n_estimators=200)"
            ]
          },
          "metadata": {},
          "execution_count": 64
        }
      ]
    },
    {
      "cell_type": "markdown",
      "source": [
        "## - Individual Trees"
      ],
      "metadata": {
        "id": "zR9vPHl9TCVi"
      }
    },
    {
      "cell_type": "code",
      "source": [
        "rf_model.estimators_"
      ],
      "metadata": {
        "colab": {
          "base_uri": "https://localhost:8080/"
        },
        "id": "UHc1uMtWTAPF",
        "outputId": "c605549e-8637-4c63-fd60-4d7991a083a1"
      },
      "execution_count": null,
      "outputs": [
        {
          "output_type": "execute_result",
          "data": {
            "text/plain": [
              "[DecisionTreeClassifier(max_depth=5, max_features='auto',\n",
              "                        random_state=1532627648),\n",
              " DecisionTreeClassifier(max_depth=5, max_features='auto',\n",
              "                        random_state=1964516141),\n",
              " DecisionTreeClassifier(max_depth=5, max_features='auto', random_state=631000320),\n",
              " DecisionTreeClassifier(max_depth=5, max_features='auto',\n",
              "                        random_state=1945024969),\n",
              " DecisionTreeClassifier(max_depth=5, max_features='auto',\n",
              "                        random_state=1757686980),\n",
              " DecisionTreeClassifier(max_depth=5, max_features='auto', random_state=478394640),\n",
              " DecisionTreeClassifier(max_depth=5, max_features='auto',\n",
              "                        random_state=1986577397),\n",
              " DecisionTreeClassifier(max_depth=5, max_features='auto', random_state=34822082),\n",
              " DecisionTreeClassifier(max_depth=5, max_features='auto', random_state=130085305),\n",
              " DecisionTreeClassifier(max_depth=5, max_features='auto', random_state=420840888),\n",
              " DecisionTreeClassifier(max_depth=5, max_features='auto',\n",
              "                        random_state=1132005558),\n",
              " DecisionTreeClassifier(max_depth=5, max_features='auto',\n",
              "                        random_state=1381048335),\n",
              " DecisionTreeClassifier(max_depth=5, max_features='auto', random_state=475236355),\n",
              " DecisionTreeClassifier(max_depth=5, max_features='auto',\n",
              "                        random_state=1187332076),\n",
              " DecisionTreeClassifier(max_depth=5, max_features='auto', random_state=434240007),\n",
              " DecisionTreeClassifier(max_depth=5, max_features='auto',\n",
              "                        random_state=1259542942),\n",
              " DecisionTreeClassifier(max_depth=5, max_features='auto',\n",
              "                        random_state=1593252841),\n",
              " DecisionTreeClassifier(max_depth=5, max_features='auto',\n",
              "                        random_state=2066547343),\n",
              " DecisionTreeClassifier(max_depth=5, max_features='auto', random_state=22708336),\n",
              " DecisionTreeClassifier(max_depth=5, max_features='auto', random_state=510093997),\n",
              " DecisionTreeClassifier(max_depth=5, max_features='auto',\n",
              "                        random_state=1668991934),\n",
              " DecisionTreeClassifier(max_depth=5, max_features='auto', random_state=3962269),\n",
              " DecisionTreeClassifier(max_depth=5, max_features='auto',\n",
              "                        random_state=2145890107),\n",
              " DecisionTreeClassifier(max_depth=5, max_features='auto',\n",
              "                        random_state=1531994506),\n",
              " DecisionTreeClassifier(max_depth=5, max_features='auto', random_state=494681559),\n",
              " DecisionTreeClassifier(max_depth=5, max_features='auto', random_state=103916235),\n",
              " DecisionTreeClassifier(max_depth=5, max_features='auto', random_state=587640574),\n",
              " DecisionTreeClassifier(max_depth=5, max_features='auto',\n",
              "                        random_state=1717881107),\n",
              " DecisionTreeClassifier(max_depth=5, max_features='auto',\n",
              "                        random_state=1244671166),\n",
              " DecisionTreeClassifier(max_depth=5, max_features='auto', random_state=364190040),\n",
              " DecisionTreeClassifier(max_depth=5, max_features='auto', random_state=424041903),\n",
              " DecisionTreeClassifier(max_depth=5, max_features='auto', random_state=287387785),\n",
              " DecisionTreeClassifier(max_depth=5, max_features='auto',\n",
              "                        random_state=1619178655),\n",
              " DecisionTreeClassifier(max_depth=5, max_features='auto',\n",
              "                        random_state=2136217067),\n",
              " DecisionTreeClassifier(max_depth=5, max_features='auto', random_state=148582593),\n",
              " DecisionTreeClassifier(max_depth=5, max_features='auto', random_state=395876479),\n",
              " DecisionTreeClassifier(max_depth=5, max_features='auto', random_state=5873869),\n",
              " DecisionTreeClassifier(max_depth=5, max_features='auto',\n",
              "                        random_state=1846497936),\n",
              " DecisionTreeClassifier(max_depth=5, max_features='auto',\n",
              "                        random_state=2112233321),\n",
              " DecisionTreeClassifier(max_depth=5, max_features='auto', random_state=248714736),\n",
              " DecisionTreeClassifier(max_depth=5, max_features='auto', random_state=128293611),\n",
              " DecisionTreeClassifier(max_depth=5, max_features='auto', random_state=595919714),\n",
              " DecisionTreeClassifier(max_depth=5, max_features='auto', random_state=754208322),\n",
              " DecisionTreeClassifier(max_depth=5, max_features='auto', random_state=206527021),\n",
              " DecisionTreeClassifier(max_depth=5, max_features='auto', random_state=856345039),\n",
              " DecisionTreeClassifier(max_depth=5, max_features='auto', random_state=525455152),\n",
              " DecisionTreeClassifier(max_depth=5, max_features='auto', random_state=549986721),\n",
              " DecisionTreeClassifier(max_depth=5, max_features='auto',\n",
              "                        random_state=1083376229),\n",
              " DecisionTreeClassifier(max_depth=5, max_features='auto', random_state=127547509),\n",
              " DecisionTreeClassifier(max_depth=5, max_features='auto',\n",
              "                        random_state=1656323617),\n",
              " DecisionTreeClassifier(max_depth=5, max_features='auto',\n",
              "                        random_state=1258381180),\n",
              " DecisionTreeClassifier(max_depth=5, max_features='auto', random_state=89412714),\n",
              " DecisionTreeClassifier(max_depth=5, max_features='auto',\n",
              "                        random_state=1918028757),\n",
              " DecisionTreeClassifier(max_depth=5, max_features='auto', random_state=535944028),\n",
              " DecisionTreeClassifier(max_depth=5, max_features='auto',\n",
              "                        random_state=1316667064),\n",
              " DecisionTreeClassifier(max_depth=5, max_features='auto',\n",
              "                        random_state=1925061367),\n",
              " DecisionTreeClassifier(max_depth=5, max_features='auto', random_state=940343958),\n",
              " DecisionTreeClassifier(max_depth=5, max_features='auto', random_state=633767221),\n",
              " DecisionTreeClassifier(max_depth=5, max_features='auto', random_state=876573950),\n",
              " DecisionTreeClassifier(max_depth=5, max_features='auto',\n",
              "                        random_state=1904696098),\n",
              " DecisionTreeClassifier(max_depth=5, max_features='auto', random_state=414338409),\n",
              " DecisionTreeClassifier(max_depth=5, max_features='auto',\n",
              "                        random_state=1597853109),\n",
              " DecisionTreeClassifier(max_depth=5, max_features='auto',\n",
              "                        random_state=1373236909),\n",
              " DecisionTreeClassifier(max_depth=5, max_features='auto',\n",
              "                        random_state=1903986037),\n",
              " DecisionTreeClassifier(max_depth=5, max_features='auto', random_state=798288476),\n",
              " DecisionTreeClassifier(max_depth=5, max_features='auto',\n",
              "                        random_state=1133442867),\n",
              " DecisionTreeClassifier(max_depth=5, max_features='auto', random_state=500437138),\n",
              " DecisionTreeClassifier(max_depth=5, max_features='auto',\n",
              "                        random_state=1179449031),\n",
              " DecisionTreeClassifier(max_depth=5, max_features='auto',\n",
              "                        random_state=1883926972),\n",
              " DecisionTreeClassifier(max_depth=5, max_features='auto', random_state=240881588),\n",
              " DecisionTreeClassifier(max_depth=5, max_features='auto', random_state=301508320),\n",
              " DecisionTreeClassifier(max_depth=5, max_features='auto',\n",
              "                        random_state=2146570499),\n",
              " DecisionTreeClassifier(max_depth=5, max_features='auto',\n",
              "                        random_state=1038496438),\n",
              " DecisionTreeClassifier(max_depth=5, max_features='auto',\n",
              "                        random_state=1569501540),\n",
              " DecisionTreeClassifier(max_depth=5, max_features='auto',\n",
              "                        random_state=1297039770),\n",
              " DecisionTreeClassifier(max_depth=5, max_features='auto', random_state=964773226),\n",
              " DecisionTreeClassifier(max_depth=5, max_features='auto', random_state=933839368),\n",
              " DecisionTreeClassifier(max_depth=5, max_features='auto',\n",
              "                        random_state=1990463535),\n",
              " DecisionTreeClassifier(max_depth=5, max_features='auto',\n",
              "                        random_state=1398949788),\n",
              " DecisionTreeClassifier(max_depth=5, max_features='auto', random_state=854328728),\n",
              " DecisionTreeClassifier(max_depth=5, max_features='auto', random_state=406900137),\n",
              " DecisionTreeClassifier(max_depth=5, max_features='auto',\n",
              "                        random_state=1866611595),\n",
              " DecisionTreeClassifier(max_depth=5, max_features='auto',\n",
              "                        random_state=1514525401),\n",
              " DecisionTreeClassifier(max_depth=5, max_features='auto',\n",
              "                        random_state=2134084214),\n",
              " DecisionTreeClassifier(max_depth=5, max_features='auto',\n",
              "                        random_state=1193322197),\n",
              " DecisionTreeClassifier(max_depth=5, max_features='auto', random_state=362302655),\n",
              " DecisionTreeClassifier(max_depth=5, max_features='auto',\n",
              "                        random_state=1840871599),\n",
              " DecisionTreeClassifier(max_depth=5, max_features='auto', random_state=603945901),\n",
              " DecisionTreeClassifier(max_depth=5, max_features='auto',\n",
              "                        random_state=2136819801),\n",
              " DecisionTreeClassifier(max_depth=5, max_features='auto',\n",
              "                        random_state=1874590783),\n",
              " DecisionTreeClassifier(max_depth=5, max_features='auto', random_state=16918372),\n",
              " DecisionTreeClassifier(max_depth=5, max_features='auto',\n",
              "                        random_state=1681382425),\n",
              " DecisionTreeClassifier(max_depth=5, max_features='auto',\n",
              "                        random_state=1284363548),\n",
              " DecisionTreeClassifier(max_depth=5, max_features='auto',\n",
              "                        random_state=1391986203),\n",
              " DecisionTreeClassifier(max_depth=5, max_features='auto',\n",
              "                        random_state=1384685121),\n",
              " DecisionTreeClassifier(max_depth=5, max_features='auto',\n",
              "                        random_state=1301289514),\n",
              " DecisionTreeClassifier(max_depth=5, max_features='auto',\n",
              "                        random_state=1201182151),\n",
              " DecisionTreeClassifier(max_depth=5, max_features='auto', random_state=982380728),\n",
              " DecisionTreeClassifier(max_depth=5, max_features='auto',\n",
              "                        random_state=1675301296),\n",
              " DecisionTreeClassifier(max_depth=5, max_features='auto', random_state=752297364),\n",
              " DecisionTreeClassifier(max_depth=5, max_features='auto', random_state=391572472),\n",
              " DecisionTreeClassifier(max_depth=5, max_features='auto',\n",
              "                        random_state=2002628969),\n",
              " DecisionTreeClassifier(max_depth=5, max_features='auto',\n",
              "                        random_state=1361466359),\n",
              " DecisionTreeClassifier(max_depth=5, max_features='auto',\n",
              "                        random_state=1065445042),\n",
              " DecisionTreeClassifier(max_depth=5, max_features='auto', random_state=34313026),\n",
              " DecisionTreeClassifier(max_depth=5, max_features='auto', random_state=326969084),\n",
              " DecisionTreeClassifier(max_depth=5, max_features='auto', random_state=856324595),\n",
              " DecisionTreeClassifier(max_depth=5, max_features='auto', random_state=509511232),\n",
              " DecisionTreeClassifier(max_depth=5, max_features='auto',\n",
              "                        random_state=1266815960),\n",
              " DecisionTreeClassifier(max_depth=5, max_features='auto', random_state=351347439),\n",
              " DecisionTreeClassifier(max_depth=5, max_features='auto',\n",
              "                        random_state=1842101986),\n",
              " DecisionTreeClassifier(max_depth=5, max_features='auto',\n",
              "                        random_state=1576671609),\n",
              " DecisionTreeClassifier(max_depth=5, max_features='auto',\n",
              "                        random_state=1884161879),\n",
              " DecisionTreeClassifier(max_depth=5, max_features='auto',\n",
              "                        random_state=1686863924),\n",
              " DecisionTreeClassifier(max_depth=5, max_features='auto',\n",
              "                        random_state=2054459464),\n",
              " DecisionTreeClassifier(max_depth=5, max_features='auto', random_state=832178749),\n",
              " DecisionTreeClassifier(max_depth=5, max_features='auto',\n",
              "                        random_state=1695684473),\n",
              " DecisionTreeClassifier(max_depth=5, max_features='auto',\n",
              "                        random_state=1435837148),\n",
              " DecisionTreeClassifier(max_depth=5, max_features='auto',\n",
              "                        random_state=1184457890),\n",
              " DecisionTreeClassifier(max_depth=5, max_features='auto',\n",
              "                        random_state=1831612783),\n",
              " DecisionTreeClassifier(max_depth=5, max_features='auto', random_state=251750713),\n",
              " DecisionTreeClassifier(max_depth=5, max_features='auto', random_state=634755969),\n",
              " DecisionTreeClassifier(max_depth=5, max_features='auto',\n",
              "                        random_state=1367915089),\n",
              " DecisionTreeClassifier(max_depth=5, max_features='auto',\n",
              "                        random_state=1296805185),\n",
              " DecisionTreeClassifier(max_depth=5, max_features='auto',\n",
              "                        random_state=1998511380),\n",
              " DecisionTreeClassifier(max_depth=5, max_features='auto',\n",
              "                        random_state=1755654896),\n",
              " DecisionTreeClassifier(max_depth=5, max_features='auto', random_state=676519229),\n",
              " DecisionTreeClassifier(max_depth=5, max_features='auto', random_state=336585191),\n",
              " DecisionTreeClassifier(max_depth=5, max_features='auto', random_state=92418578),\n",
              " DecisionTreeClassifier(max_depth=5, max_features='auto', random_state=427485550),\n",
              " DecisionTreeClassifier(max_depth=5, max_features='auto', random_state=374551641),\n",
              " DecisionTreeClassifier(max_depth=5, max_features='auto',\n",
              "                        random_state=1396279503),\n",
              " DecisionTreeClassifier(max_depth=5, max_features='auto',\n",
              "                        random_state=1147833597),\n",
              " DecisionTreeClassifier(max_depth=5, max_features='auto',\n",
              "                        random_state=1028698688),\n",
              " DecisionTreeClassifier(max_depth=5, max_features='auto', random_state=343895581),\n",
              " DecisionTreeClassifier(max_depth=5, max_features='auto',\n",
              "                        random_state=2023685222),\n",
              " DecisionTreeClassifier(max_depth=5, max_features='auto',\n",
              "                        random_state=1228230483),\n",
              " DecisionTreeClassifier(max_depth=5, max_features='auto', random_state=72107400),\n",
              " DecisionTreeClassifier(max_depth=5, max_features='auto',\n",
              "                        random_state=1626903048),\n",
              " DecisionTreeClassifier(max_depth=5, max_features='auto', random_state=863637649),\n",
              " DecisionTreeClassifier(max_depth=5, max_features='auto', random_state=247771731),\n",
              " DecisionTreeClassifier(max_depth=5, max_features='auto',\n",
              "                        random_state=1661629233),\n",
              " DecisionTreeClassifier(max_depth=5, max_features='auto', random_state=374494219),\n",
              " DecisionTreeClassifier(max_depth=5, max_features='auto', random_state=14612506),\n",
              " DecisionTreeClassifier(max_depth=5, max_features='auto',\n",
              "                        random_state=1630061390),\n",
              " DecisionTreeClassifier(max_depth=5, max_features='auto',\n",
              "                        random_state=1546245664),\n",
              " DecisionTreeClassifier(max_depth=5, max_features='auto',\n",
              "                        random_state=1994638864),\n",
              " DecisionTreeClassifier(max_depth=5, max_features='auto', random_state=617241330),\n",
              " DecisionTreeClassifier(max_depth=5, max_features='auto', random_state=660471713),\n",
              " DecisionTreeClassifier(max_depth=5, max_features='auto', random_state=502423162),\n",
              " DecisionTreeClassifier(max_depth=5, max_features='auto', random_state=304928190),\n",
              " DecisionTreeClassifier(max_depth=5, max_features='auto',\n",
              "                        random_state=1195322478),\n",
              " DecisionTreeClassifier(max_depth=5, max_features='auto', random_state=300252929),\n",
              " DecisionTreeClassifier(max_depth=5, max_features='auto', random_state=588362248),\n",
              " DecisionTreeClassifier(max_depth=5, max_features='auto',\n",
              "                        random_state=1645168961),\n",
              " DecisionTreeClassifier(max_depth=5, max_features='auto', random_state=562862068),\n",
              " DecisionTreeClassifier(max_depth=5, max_features='auto',\n",
              "                        random_state=2121896506),\n",
              " DecisionTreeClassifier(max_depth=5, max_features='auto',\n",
              "                        random_state=1536188721),\n",
              " DecisionTreeClassifier(max_depth=5, max_features='auto',\n",
              "                        random_state=1571538853),\n",
              " DecisionTreeClassifier(max_depth=5, max_features='auto',\n",
              "                        random_state=2145940418),\n",
              " DecisionTreeClassifier(max_depth=5, max_features='auto', random_state=134442472),\n",
              " DecisionTreeClassifier(max_depth=5, max_features='auto',\n",
              "                        random_state=1581138313),\n",
              " DecisionTreeClassifier(max_depth=5, max_features='auto',\n",
              "                        random_state=1977887395),\n",
              " DecisionTreeClassifier(max_depth=5, max_features='auto', random_state=22447389),\n",
              " DecisionTreeClassifier(max_depth=5, max_features='auto', random_state=698934240),\n",
              " DecisionTreeClassifier(max_depth=5, max_features='auto', random_state=171406437),\n",
              " DecisionTreeClassifier(max_depth=5, max_features='auto',\n",
              "                        random_state=1240346911),\n",
              " DecisionTreeClassifier(max_depth=5, max_features='auto',\n",
              "                        random_state=1034610514),\n",
              " DecisionTreeClassifier(max_depth=5, max_features='auto',\n",
              "                        random_state=1910340229),\n",
              " DecisionTreeClassifier(max_depth=5, max_features='auto', random_state=505529543),\n",
              " DecisionTreeClassifier(max_depth=5, max_features='auto', random_state=556896254),\n",
              " DecisionTreeClassifier(max_depth=5, max_features='auto',\n",
              "                        random_state=1268308826),\n",
              " DecisionTreeClassifier(max_depth=5, max_features='auto', random_state=844869528),\n",
              " DecisionTreeClassifier(max_depth=5, max_features='auto',\n",
              "                        random_state=1407812505),\n",
              " DecisionTreeClassifier(max_depth=5, max_features='auto', random_state=85013314),\n",
              " DecisionTreeClassifier(max_depth=5, max_features='auto',\n",
              "                        random_state=1850879459),\n",
              " DecisionTreeClassifier(max_depth=5, max_features='auto',\n",
              "                        random_state=2079382789),\n",
              " DecisionTreeClassifier(max_depth=5, max_features='auto',\n",
              "                        random_state=1511339464),\n",
              " DecisionTreeClassifier(max_depth=5, max_features='auto',\n",
              "                        random_state=1767068855),\n",
              " DecisionTreeClassifier(max_depth=5, max_features='auto',\n",
              "                        random_state=2031062627),\n",
              " DecisionTreeClassifier(max_depth=5, max_features='auto', random_state=602873482),\n",
              " DecisionTreeClassifier(max_depth=5, max_features='auto', random_state=911673975),\n",
              " DecisionTreeClassifier(max_depth=5, max_features='auto',\n",
              "                        random_state=1627087641),\n",
              " DecisionTreeClassifier(max_depth=5, max_features='auto',\n",
              "                        random_state=1273967713),\n",
              " DecisionTreeClassifier(max_depth=5, max_features='auto', random_state=920383697),\n",
              " DecisionTreeClassifier(max_depth=5, max_features='auto', random_state=625767374),\n",
              " DecisionTreeClassifier(max_depth=5, max_features='auto', random_state=177431110),\n",
              " DecisionTreeClassifier(max_depth=5, max_features='auto',\n",
              "                        random_state=2004139812),\n",
              " DecisionTreeClassifier(max_depth=5, max_features='auto', random_state=357865510),\n",
              " DecisionTreeClassifier(max_depth=5, max_features='auto',\n",
              "                        random_state=1893912696),\n",
              " DecisionTreeClassifier(max_depth=5, max_features='auto',\n",
              "                        random_state=1455991703),\n",
              " DecisionTreeClassifier(max_depth=5, max_features='auto', random_state=139132864),\n",
              " DecisionTreeClassifier(max_depth=5, max_features='auto', random_state=76892829),\n",
              " DecisionTreeClassifier(max_depth=5, max_features='auto',\n",
              "                        random_state=1821031140),\n",
              " DecisionTreeClassifier(max_depth=5, max_features='auto',\n",
              "                        random_state=1417177473),\n",
              " DecisionTreeClassifier(max_depth=5, max_features='auto',\n",
              "                        random_state=1674124559),\n",
              " DecisionTreeClassifier(max_depth=5, max_features='auto',\n",
              "                        random_state=1106806895),\n",
              " DecisionTreeClassifier(max_depth=5, max_features='auto', random_state=834578330),\n",
              " DecisionTreeClassifier(max_depth=5, max_features='auto', random_state=177098575),\n",
              " DecisionTreeClassifier(max_depth=5, max_features='auto',\n",
              "                        random_state=1684889678)]"
            ]
          },
          "metadata": {},
          "execution_count": 65
        }
      ]
    },
    {
      "cell_type": "code",
      "source": [
        "len(rf_model.estimators_)"
      ],
      "metadata": {
        "colab": {
          "base_uri": "https://localhost:8080/"
        },
        "id": "Cul0KDAGTFwy",
        "outputId": "1f93e058-b7c8-46c7-ddd2-ae0abaaaed47"
      },
      "execution_count": null,
      "outputs": [
        {
          "output_type": "execute_result",
          "data": {
            "text/plain": [
              "200"
            ]
          },
          "metadata": {},
          "execution_count": 66
        }
      ]
    },
    {
      "cell_type": "code",
      "source": [
        "rf_model.estimators_[150]"
      ],
      "metadata": {
        "colab": {
          "base_uri": "https://localhost:8080/"
        },
        "id": "AdYdSVBQTI_I",
        "outputId": "c47a10ab-a4e8-46a3-efde-9ca2a16f558b"
      },
      "execution_count": null,
      "outputs": [
        {
          "output_type": "execute_result",
          "data": {
            "text/plain": [
              "DecisionTreeClassifier(max_depth=5, max_features='auto', random_state=304928190)"
            ]
          },
          "metadata": {},
          "execution_count": 67
        }
      ]
    },
    {
      "cell_type": "code",
      "source": [
        "rf_model.estimators_[100].predict(x_test)[:10]"
      ],
      "metadata": {
        "colab": {
          "base_uri": "https://localhost:8080/"
        },
        "id": "QIZeHOgcTLz0",
        "outputId": "9cd9fefd-cbc2-4193-ca16-033d44205ac4"
      },
      "execution_count": null,
      "outputs": [
        {
          "output_type": "stream",
          "name": "stderr",
          "text": [
            "/usr/local/lib/python3.7/dist-packages/sklearn/base.py:444: UserWarning: X has feature names, but DecisionTreeClassifier was fitted without feature names\n",
            "  f\"X has feature names, but {self.__class__.__name__} was fitted without\"\n"
          ]
        },
        {
          "output_type": "execute_result",
          "data": {
            "text/plain": [
              "array([0., 0., 0., 0., 0., 0., 0., 0., 0., 0.])"
            ]
          },
          "metadata": {},
          "execution_count": 68
        }
      ]
    },
    {
      "cell_type": "code",
      "source": [
        "rf_model.estimators_[1].predict(x_test)[:10]"
      ],
      "metadata": {
        "colab": {
          "base_uri": "https://localhost:8080/"
        },
        "id": "_w8JFlmTTSaF",
        "outputId": "de3f0074-13bb-4420-dfdb-9e45ba3ec0c4"
      },
      "execution_count": null,
      "outputs": [
        {
          "output_type": "stream",
          "name": "stderr",
          "text": [
            "/usr/local/lib/python3.7/dist-packages/sklearn/base.py:444: UserWarning: X has feature names, but DecisionTreeClassifier was fitted without feature names\n",
            "  f\"X has feature names, but {self.__class__.__name__} was fitted without\"\n"
          ]
        },
        {
          "output_type": "execute_result",
          "data": {
            "text/plain": [
              "array([0., 0., 0., 0., 0., 0., 0., 0., 0., 0.])"
            ]
          },
          "metadata": {},
          "execution_count": 69
        }
      ]
    },
    {
      "cell_type": "code",
      "source": [
        "rf_model.estimators_[2].predict(x_test)[:10]"
      ],
      "metadata": {
        "colab": {
          "base_uri": "https://localhost:8080/"
        },
        "id": "VeyVDl5cTTud",
        "outputId": "8cf4bff6-b09b-4e64-a0c3-74de48d1b0cc"
      },
      "execution_count": null,
      "outputs": [
        {
          "output_type": "stream",
          "name": "stderr",
          "text": [
            "/usr/local/lib/python3.7/dist-packages/sklearn/base.py:444: UserWarning: X has feature names, but DecisionTreeClassifier was fitted without feature names\n",
            "  f\"X has feature names, but {self.__class__.__name__} was fitted without\"\n"
          ]
        },
        {
          "output_type": "execute_result",
          "data": {
            "text/plain": [
              "array([0., 0., 0., 0., 0., 0., 0., 0., 0., 0.])"
            ]
          },
          "metadata": {},
          "execution_count": 70
        }
      ]
    },
    {
      "cell_type": "code",
      "source": [
        "rf_model.estimators_[3].predict(x_test)[:10]"
      ],
      "metadata": {
        "colab": {
          "base_uri": "https://localhost:8080/"
        },
        "id": "R05lWfpqTU-r",
        "outputId": "15def19e-4918-40bf-e1ef-949d5b848d82"
      },
      "execution_count": null,
      "outputs": [
        {
          "output_type": "stream",
          "name": "stderr",
          "text": [
            "/usr/local/lib/python3.7/dist-packages/sklearn/base.py:444: UserWarning: X has feature names, but DecisionTreeClassifier was fitted without feature names\n",
            "  f\"X has feature names, but {self.__class__.__name__} was fitted without\"\n"
          ]
        },
        {
          "output_type": "execute_result",
          "data": {
            "text/plain": [
              "array([0., 0., 0., 0., 0., 0., 0., 0., 0., 0.])"
            ]
          },
          "metadata": {},
          "execution_count": 71
        }
      ]
    },
    {
      "cell_type": "code",
      "source": [
        "rf_model.estimators_[4].predict(x_test)[:10]"
      ],
      "metadata": {
        "colab": {
          "base_uri": "https://localhost:8080/"
        },
        "id": "aespMr92TV1e",
        "outputId": "ed0ac2e5-c15f-48cb-bef3-8756e4bbc669"
      },
      "execution_count": null,
      "outputs": [
        {
          "output_type": "stream",
          "name": "stderr",
          "text": [
            "/usr/local/lib/python3.7/dist-packages/sklearn/base.py:444: UserWarning: X has feature names, but DecisionTreeClassifier was fitted without feature names\n",
            "  f\"X has feature names, but {self.__class__.__name__} was fitted without\"\n"
          ]
        },
        {
          "output_type": "execute_result",
          "data": {
            "text/plain": [
              "array([0., 0., 0., 0., 0., 0., 0., 0., 0., 0.])"
            ]
          },
          "metadata": {},
          "execution_count": 72
        }
      ]
    },
    {
      "cell_type": "markdown",
      "source": [
        "## - Feature Importances"
      ],
      "metadata": {
        "id": "ZkoMOt8pTXY3"
      }
    },
    {
      "cell_type": "code",
      "source": [
        "rf_model.feature_importances_"
      ],
      "metadata": {
        "colab": {
          "base_uri": "https://localhost:8080/"
        },
        "id": "Q0xvS1H5TWw2",
        "outputId": "8181e87c-f464-4e62-9755-1843a4802d0a"
      },
      "execution_count": null,
      "outputs": [
        {
          "output_type": "execute_result",
          "data": {
            "text/plain": [
              "array([4.11444772e-02, 5.62210900e-02, 4.16862483e-02, 2.32038780e-02,\n",
              "       3.14756073e-02, 8.24915571e-03, 1.37214041e-02, 5.46730115e-02,\n",
              "       2.99172624e-02, 2.39514788e-02, 3.85448374e-03, 4.08314789e-03,\n",
              "       4.43371265e-03, 4.27462622e-03, 2.54952332e-03, 1.95925974e-03,\n",
              "       3.35611221e-03, 3.83183791e-03, 5.26404537e-03, 4.98671907e-03,\n",
              "       5.10580438e-03, 5.64119513e-03, 1.97763360e-03, 2.46684263e-03,\n",
              "       4.22892981e-04, 7.08242685e-04, 1.59325329e-03, 2.26875285e-03,\n",
              "       3.43995185e-03, 3.13122730e-03, 1.88182973e-03, 2.10721552e-03,\n",
              "       2.69782307e-03, 2.70320108e-03, 6.77663131e-04, 4.98377758e-04,\n",
              "       7.61844156e-04, 5.07998858e-04, 8.99546858e-04, 4.68422784e-04,\n",
              "       1.01259524e-03, 6.82750993e-04, 7.09575165e-04, 2.95766570e-04,\n",
              "       8.85989124e-04, 7.24259342e-04, 8.09446931e-04, 9.68161991e-04,\n",
              "       3.63893469e-04, 3.29452406e-04, 1.51072585e-03, 1.53079799e-03,\n",
              "       1.60753404e-04, 4.03804080e-04, 4.26355666e-04, 7.97709568e-04,\n",
              "       1.85717967e-03, 7.72776507e-04, 4.96792724e-03, 1.83515656e-03,\n",
              "       1.91045107e-02, 2.10080501e-02, 4.98682866e-03, 8.42080334e-03,\n",
              "       1.71625173e-01, 1.84441275e-01, 1.90942038e-02, 1.26702455e-02,\n",
              "       2.04651021e-02, 2.25404356e-02, 1.11170536e-02, 1.00286446e-02,\n",
              "       7.57968657e-03, 9.80704573e-03, 2.69931368e-03, 2.71189817e-03,\n",
              "       2.51937189e-03, 2.97387201e-03, 1.71832110e-03, 2.57684572e-03,\n",
              "       3.10434945e-03, 2.49166600e-03, 4.40238539e-03, 4.73864542e-03,\n",
              "       3.27719595e-03, 3.50957600e-03, 4.25217998e-03, 3.49256471e-03,\n",
              "       2.60079404e-03, 2.52238354e-03, 3.67770046e-03])"
            ]
          },
          "metadata": {},
          "execution_count": 73
        }
      ]
    },
    {
      "cell_type": "code",
      "source": [
        "feature_importance_df = pd.DataFrame(list(zip(rf_model.feature_importances_, all_features)))\n",
        "feature_importance_df.columns = ['feature.importance', 'feature']\n",
        "\n",
        "feature_importance_df.sort_values(by='feature.importance', ascending=False)"
      ],
      "metadata": {
        "colab": {
          "base_uri": "https://localhost:8080/",
          "height": 1000
        },
        "id": "Hl0cLumzTdeg",
        "outputId": "70f77bdc-3cb5-4585-e6fe-a630ce325651"
      },
      "execution_count": null,
      "outputs": [
        {
          "output_type": "execute_result",
          "data": {
            "text/plain": [
              "    feature.importance                         feature\n",
              "1             0.056221                          Income\n",
              "7             0.054673              Total.Claim.Amount\n",
              "2             0.041686            Monthly.Premium.Auto\n",
              "0             0.041144         Customer.Lifetime.Value\n",
              "4             0.031476   Months.Since.Policy.Inception\n",
              "8             0.029917             Sales.Channel.Agent\n",
              "9             0.023951            Sales.Channel.Branch\n",
              "3             0.023204         Months.Since.Last.Claim\n",
              "6             0.013721              Number.of.Policies\n",
              "5             0.008249       Number.of.Open.Complaints\n",
              "21            0.005641             Policy.Corporate.L1\n",
              "18            0.005264               Vehicle.Class.SUV\n",
              "20            0.005106      Vehicle.Class.Two-Door.Car\n",
              "19            0.004987        Vehicle.Class.Sports.Car\n",
              "12            0.004434              Vehicle.Size.Large\n",
              "13            0.004275            Vehicle.Size.Medsize\n",
              "11            0.004083               Sales.Channel.Web\n",
              "10            0.003854       Sales.Channel.Call.Center\n",
              "17            0.003832        Vehicle.Class.Luxury.SUV\n",
              "28            0.003440               Policy.Special.L2\n",
              "16            0.003356        Vehicle.Class.Luxury.Car\n",
              "29            0.003131               Policy.Special.L3\n",
              "33            0.002703       EmploymentStatus.Disabled\n",
              "32            0.002698        Policy.Type.Special.Auto\n",
              "14            0.002550              Vehicle.Size.Small\n",
              "23            0.002467             Policy.Corporate.L3\n",
              "27            0.002269               Policy.Special.L1\n",
              "31            0.002107       Policy.Type.Personal.Auto\n",
              "22            0.001978             Policy.Corporate.L2\n",
              "15            0.001959     Vehicle.Class.Four-Door.Car\n",
              "30            0.001882      Policy.Type.Corporate.Auto\n",
              "26            0.001593              Policy.Personal.L3\n",
              "40            0.001013           Marital.Status.Single\n",
              "47            0.000968               Coverage.Extended\n",
              "38            0.000900         Marital.Status.Divorced\n",
              "44            0.000886  Education.High.School.or.Below\n",
              "46            0.000809                  Coverage.Basic\n",
              "36            0.000762        EmploymentStatus.Retired\n",
              "45            0.000724                Education.Master\n",
              "42            0.000710               Education.College\n",
              "25            0.000708              Policy.Personal.L2\n",
              "41            0.000683              Education.Bachelor\n",
              "34            0.000678       EmploymentStatus.Employed\n",
              "37            0.000508     EmploymentStatus.Unemployed\n",
              "35            0.000498  EmploymentStatus.Medical.Leave\n",
              "39            0.000468          Marital.Status.Married\n",
              "24            0.000423              Policy.Personal.L1\n",
              "48            0.000364                Coverage.Premium\n",
              "49            0.000329                       Is.Female\n",
              "43            0.000296                Education.Doctor"
            ],
            "text/html": [
              "\n",
              "  <div id=\"df-0b200b04-9dab-4305-89f5-476c6d5a7b2d\">\n",
              "    <div class=\"colab-df-container\">\n",
              "      <div>\n",
              "<style scoped>\n",
              "    .dataframe tbody tr th:only-of-type {\n",
              "        vertical-align: middle;\n",
              "    }\n",
              "\n",
              "    .dataframe tbody tr th {\n",
              "        vertical-align: top;\n",
              "    }\n",
              "\n",
              "    .dataframe thead th {\n",
              "        text-align: right;\n",
              "    }\n",
              "</style>\n",
              "<table border=\"1\" class=\"dataframe\">\n",
              "  <thead>\n",
              "    <tr style=\"text-align: right;\">\n",
              "      <th></th>\n",
              "      <th>feature.importance</th>\n",
              "      <th>feature</th>\n",
              "    </tr>\n",
              "  </thead>\n",
              "  <tbody>\n",
              "    <tr>\n",
              "      <th>1</th>\n",
              "      <td>0.056221</td>\n",
              "      <td>Income</td>\n",
              "    </tr>\n",
              "    <tr>\n",
              "      <th>7</th>\n",
              "      <td>0.054673</td>\n",
              "      <td>Total.Claim.Amount</td>\n",
              "    </tr>\n",
              "    <tr>\n",
              "      <th>2</th>\n",
              "      <td>0.041686</td>\n",
              "      <td>Monthly.Premium.Auto</td>\n",
              "    </tr>\n",
              "    <tr>\n",
              "      <th>0</th>\n",
              "      <td>0.041144</td>\n",
              "      <td>Customer.Lifetime.Value</td>\n",
              "    </tr>\n",
              "    <tr>\n",
              "      <th>4</th>\n",
              "      <td>0.031476</td>\n",
              "      <td>Months.Since.Policy.Inception</td>\n",
              "    </tr>\n",
              "    <tr>\n",
              "      <th>8</th>\n",
              "      <td>0.029917</td>\n",
              "      <td>Sales.Channel.Agent</td>\n",
              "    </tr>\n",
              "    <tr>\n",
              "      <th>9</th>\n",
              "      <td>0.023951</td>\n",
              "      <td>Sales.Channel.Branch</td>\n",
              "    </tr>\n",
              "    <tr>\n",
              "      <th>3</th>\n",
              "      <td>0.023204</td>\n",
              "      <td>Months.Since.Last.Claim</td>\n",
              "    </tr>\n",
              "    <tr>\n",
              "      <th>6</th>\n",
              "      <td>0.013721</td>\n",
              "      <td>Number.of.Policies</td>\n",
              "    </tr>\n",
              "    <tr>\n",
              "      <th>5</th>\n",
              "      <td>0.008249</td>\n",
              "      <td>Number.of.Open.Complaints</td>\n",
              "    </tr>\n",
              "    <tr>\n",
              "      <th>21</th>\n",
              "      <td>0.005641</td>\n",
              "      <td>Policy.Corporate.L1</td>\n",
              "    </tr>\n",
              "    <tr>\n",
              "      <th>18</th>\n",
              "      <td>0.005264</td>\n",
              "      <td>Vehicle.Class.SUV</td>\n",
              "    </tr>\n",
              "    <tr>\n",
              "      <th>20</th>\n",
              "      <td>0.005106</td>\n",
              "      <td>Vehicle.Class.Two-Door.Car</td>\n",
              "    </tr>\n",
              "    <tr>\n",
              "      <th>19</th>\n",
              "      <td>0.004987</td>\n",
              "      <td>Vehicle.Class.Sports.Car</td>\n",
              "    </tr>\n",
              "    <tr>\n",
              "      <th>12</th>\n",
              "      <td>0.004434</td>\n",
              "      <td>Vehicle.Size.Large</td>\n",
              "    </tr>\n",
              "    <tr>\n",
              "      <th>13</th>\n",
              "      <td>0.004275</td>\n",
              "      <td>Vehicle.Size.Medsize</td>\n",
              "    </tr>\n",
              "    <tr>\n",
              "      <th>11</th>\n",
              "      <td>0.004083</td>\n",
              "      <td>Sales.Channel.Web</td>\n",
              "    </tr>\n",
              "    <tr>\n",
              "      <th>10</th>\n",
              "      <td>0.003854</td>\n",
              "      <td>Sales.Channel.Call.Center</td>\n",
              "    </tr>\n",
              "    <tr>\n",
              "      <th>17</th>\n",
              "      <td>0.003832</td>\n",
              "      <td>Vehicle.Class.Luxury.SUV</td>\n",
              "    </tr>\n",
              "    <tr>\n",
              "      <th>28</th>\n",
              "      <td>0.003440</td>\n",
              "      <td>Policy.Special.L2</td>\n",
              "    </tr>\n",
              "    <tr>\n",
              "      <th>16</th>\n",
              "      <td>0.003356</td>\n",
              "      <td>Vehicle.Class.Luxury.Car</td>\n",
              "    </tr>\n",
              "    <tr>\n",
              "      <th>29</th>\n",
              "      <td>0.003131</td>\n",
              "      <td>Policy.Special.L3</td>\n",
              "    </tr>\n",
              "    <tr>\n",
              "      <th>33</th>\n",
              "      <td>0.002703</td>\n",
              "      <td>EmploymentStatus.Disabled</td>\n",
              "    </tr>\n",
              "    <tr>\n",
              "      <th>32</th>\n",
              "      <td>0.002698</td>\n",
              "      <td>Policy.Type.Special.Auto</td>\n",
              "    </tr>\n",
              "    <tr>\n",
              "      <th>14</th>\n",
              "      <td>0.002550</td>\n",
              "      <td>Vehicle.Size.Small</td>\n",
              "    </tr>\n",
              "    <tr>\n",
              "      <th>23</th>\n",
              "      <td>0.002467</td>\n",
              "      <td>Policy.Corporate.L3</td>\n",
              "    </tr>\n",
              "    <tr>\n",
              "      <th>27</th>\n",
              "      <td>0.002269</td>\n",
              "      <td>Policy.Special.L1</td>\n",
              "    </tr>\n",
              "    <tr>\n",
              "      <th>31</th>\n",
              "      <td>0.002107</td>\n",
              "      <td>Policy.Type.Personal.Auto</td>\n",
              "    </tr>\n",
              "    <tr>\n",
              "      <th>22</th>\n",
              "      <td>0.001978</td>\n",
              "      <td>Policy.Corporate.L2</td>\n",
              "    </tr>\n",
              "    <tr>\n",
              "      <th>15</th>\n",
              "      <td>0.001959</td>\n",
              "      <td>Vehicle.Class.Four-Door.Car</td>\n",
              "    </tr>\n",
              "    <tr>\n",
              "      <th>30</th>\n",
              "      <td>0.001882</td>\n",
              "      <td>Policy.Type.Corporate.Auto</td>\n",
              "    </tr>\n",
              "    <tr>\n",
              "      <th>26</th>\n",
              "      <td>0.001593</td>\n",
              "      <td>Policy.Personal.L3</td>\n",
              "    </tr>\n",
              "    <tr>\n",
              "      <th>40</th>\n",
              "      <td>0.001013</td>\n",
              "      <td>Marital.Status.Single</td>\n",
              "    </tr>\n",
              "    <tr>\n",
              "      <th>47</th>\n",
              "      <td>0.000968</td>\n",
              "      <td>Coverage.Extended</td>\n",
              "    </tr>\n",
              "    <tr>\n",
              "      <th>38</th>\n",
              "      <td>0.000900</td>\n",
              "      <td>Marital.Status.Divorced</td>\n",
              "    </tr>\n",
              "    <tr>\n",
              "      <th>44</th>\n",
              "      <td>0.000886</td>\n",
              "      <td>Education.High.School.or.Below</td>\n",
              "    </tr>\n",
              "    <tr>\n",
              "      <th>46</th>\n",
              "      <td>0.000809</td>\n",
              "      <td>Coverage.Basic</td>\n",
              "    </tr>\n",
              "    <tr>\n",
              "      <th>36</th>\n",
              "      <td>0.000762</td>\n",
              "      <td>EmploymentStatus.Retired</td>\n",
              "    </tr>\n",
              "    <tr>\n",
              "      <th>45</th>\n",
              "      <td>0.000724</td>\n",
              "      <td>Education.Master</td>\n",
              "    </tr>\n",
              "    <tr>\n",
              "      <th>42</th>\n",
              "      <td>0.000710</td>\n",
              "      <td>Education.College</td>\n",
              "    </tr>\n",
              "    <tr>\n",
              "      <th>25</th>\n",
              "      <td>0.000708</td>\n",
              "      <td>Policy.Personal.L2</td>\n",
              "    </tr>\n",
              "    <tr>\n",
              "      <th>41</th>\n",
              "      <td>0.000683</td>\n",
              "      <td>Education.Bachelor</td>\n",
              "    </tr>\n",
              "    <tr>\n",
              "      <th>34</th>\n",
              "      <td>0.000678</td>\n",
              "      <td>EmploymentStatus.Employed</td>\n",
              "    </tr>\n",
              "    <tr>\n",
              "      <th>37</th>\n",
              "      <td>0.000508</td>\n",
              "      <td>EmploymentStatus.Unemployed</td>\n",
              "    </tr>\n",
              "    <tr>\n",
              "      <th>35</th>\n",
              "      <td>0.000498</td>\n",
              "      <td>EmploymentStatus.Medical.Leave</td>\n",
              "    </tr>\n",
              "    <tr>\n",
              "      <th>39</th>\n",
              "      <td>0.000468</td>\n",
              "      <td>Marital.Status.Married</td>\n",
              "    </tr>\n",
              "    <tr>\n",
              "      <th>24</th>\n",
              "      <td>0.000423</td>\n",
              "      <td>Policy.Personal.L1</td>\n",
              "    </tr>\n",
              "    <tr>\n",
              "      <th>48</th>\n",
              "      <td>0.000364</td>\n",
              "      <td>Coverage.Premium</td>\n",
              "    </tr>\n",
              "    <tr>\n",
              "      <th>49</th>\n",
              "      <td>0.000329</td>\n",
              "      <td>Is.Female</td>\n",
              "    </tr>\n",
              "    <tr>\n",
              "      <th>43</th>\n",
              "      <td>0.000296</td>\n",
              "      <td>Education.Doctor</td>\n",
              "    </tr>\n",
              "  </tbody>\n",
              "</table>\n",
              "</div>\n",
              "      <button class=\"colab-df-convert\" onclick=\"convertToInteractive('df-0b200b04-9dab-4305-89f5-476c6d5a7b2d')\"\n",
              "              title=\"Convert this dataframe to an interactive table.\"\n",
              "              style=\"display:none;\">\n",
              "        \n",
              "  <svg xmlns=\"http://www.w3.org/2000/svg\" height=\"24px\"viewBox=\"0 0 24 24\"\n",
              "       width=\"24px\">\n",
              "    <path d=\"M0 0h24v24H0V0z\" fill=\"none\"/>\n",
              "    <path d=\"M18.56 5.44l.94 2.06.94-2.06 2.06-.94-2.06-.94-.94-2.06-.94 2.06-2.06.94zm-11 1L8.5 8.5l.94-2.06 2.06-.94-2.06-.94L8.5 2.5l-.94 2.06-2.06.94zm10 10l.94 2.06.94-2.06 2.06-.94-2.06-.94-.94-2.06-.94 2.06-2.06.94z\"/><path d=\"M17.41 7.96l-1.37-1.37c-.4-.4-.92-.59-1.43-.59-.52 0-1.04.2-1.43.59L10.3 9.45l-7.72 7.72c-.78.78-.78 2.05 0 2.83L4 21.41c.39.39.9.59 1.41.59.51 0 1.02-.2 1.41-.59l7.78-7.78 2.81-2.81c.8-.78.8-2.07 0-2.86zM5.41 20L4 18.59l7.72-7.72 1.47 1.35L5.41 20z\"/>\n",
              "  </svg>\n",
              "      </button>\n",
              "      \n",
              "  <style>\n",
              "    .colab-df-container {\n",
              "      display:flex;\n",
              "      flex-wrap:wrap;\n",
              "      gap: 12px;\n",
              "    }\n",
              "\n",
              "    .colab-df-convert {\n",
              "      background-color: #E8F0FE;\n",
              "      border: none;\n",
              "      border-radius: 50%;\n",
              "      cursor: pointer;\n",
              "      display: none;\n",
              "      fill: #1967D2;\n",
              "      height: 32px;\n",
              "      padding: 0 0 0 0;\n",
              "      width: 32px;\n",
              "    }\n",
              "\n",
              "    .colab-df-convert:hover {\n",
              "      background-color: #E2EBFA;\n",
              "      box-shadow: 0px 1px 2px rgba(60, 64, 67, 0.3), 0px 1px 3px 1px rgba(60, 64, 67, 0.15);\n",
              "      fill: #174EA6;\n",
              "    }\n",
              "\n",
              "    [theme=dark] .colab-df-convert {\n",
              "      background-color: #3B4455;\n",
              "      fill: #D2E3FC;\n",
              "    }\n",
              "\n",
              "    [theme=dark] .colab-df-convert:hover {\n",
              "      background-color: #434B5C;\n",
              "      box-shadow: 0px 1px 3px 1px rgba(0, 0, 0, 0.15);\n",
              "      filter: drop-shadow(0px 1px 2px rgba(0, 0, 0, 0.3));\n",
              "      fill: #FFFFFF;\n",
              "    }\n",
              "  </style>\n",
              "\n",
              "      <script>\n",
              "        const buttonEl =\n",
              "          document.querySelector('#df-0b200b04-9dab-4305-89f5-476c6d5a7b2d button.colab-df-convert');\n",
              "        buttonEl.style.display =\n",
              "          google.colab.kernel.accessAllowed ? 'block' : 'none';\n",
              "\n",
              "        async function convertToInteractive(key) {\n",
              "          const element = document.querySelector('#df-0b200b04-9dab-4305-89f5-476c6d5a7b2d');\n",
              "          const dataTable =\n",
              "            await google.colab.kernel.invokeFunction('convertToInteractive',\n",
              "                                                     [key], {});\n",
              "          if (!dataTable) return;\n",
              "\n",
              "          const docLinkHtml = 'Like what you see? Visit the ' +\n",
              "            '<a target=\"_blank\" href=https://colab.research.google.com/notebooks/data_table.ipynb>data table notebook</a>'\n",
              "            + ' to learn more about interactive tables.';\n",
              "          element.innerHTML = '';\n",
              "          dataTable['output_type'] = 'display_data';\n",
              "          await google.colab.output.renderOutput(dataTable, element);\n",
              "          const docLink = document.createElement('div');\n",
              "          docLink.innerHTML = docLinkHtml;\n",
              "          element.appendChild(docLink);\n",
              "        }\n",
              "      </script>\n",
              "    </div>\n",
              "  </div>\n",
              "  "
            ]
          },
          "metadata": {},
          "execution_count": 74
        }
      ]
    },
    {
      "cell_type": "markdown",
      "source": [
        "# 3.2. Evaluating Models"
      ],
      "metadata": {
        "id": "jWjGurexT3lp"
      }
    },
    {
      "cell_type": "markdown",
      "source": [
        "## - Accuracy, Precision, and Recall"
      ],
      "metadata": {
        "id": "to9nX6FFT6fg"
      }
    },
    {
      "cell_type": "code",
      "source": [
        "from sklearn.metrics import accuracy_score, precision_score, recall_score"
      ],
      "metadata": {
        "id": "3A-SMj2HTvsP"
      },
      "execution_count": null,
      "outputs": []
    },
    {
      "cell_type": "code",
      "source": [
        "in_sample_preds = rf_model.predict(x_train)\n",
        "out_sample_preds = rf_model.predict(x_test)"
      ],
      "metadata": {
        "id": "S35DM_lnUAOz"
      },
      "execution_count": null,
      "outputs": []
    },
    {
      "cell_type": "code",
      "source": [
        "print('In-Sample Accuracy: %0.4f' % accuracy_score(y_train, in_sample_preds))\n",
        "print('Out-of-Sample Accuracy: %0.4f' % accuracy_score(y_test, out_sample_preds))"
      ],
      "metadata": {
        "colab": {
          "base_uri": "https://localhost:8080/"
        },
        "id": "YEj9KqyzUDyW",
        "outputId": "2219d181-1682-406e-f7cb-52472beec766"
      },
      "execution_count": null,
      "outputs": [
        {
          "output_type": "stream",
          "name": "stdout",
          "text": [
            "In-Sample Accuracy: 0.8763\n",
            "Out-of-Sample Accuracy: 0.8771\n"
          ]
        }
      ]
    },
    {
      "cell_type": "code",
      "source": [
        "print('In-Sample Precision: %0.4f' % precision_score(y_train, in_sample_preds))\n",
        "print('Out-of-Sample Precision: %0.4f' % precision_score(y_test, out_sample_preds))"
      ],
      "metadata": {
        "colab": {
          "base_uri": "https://localhost:8080/"
        },
        "id": "pz4WqjxlUZfV",
        "outputId": "a09d680e-0072-44b5-c379-0cc204f7903e"
      },
      "execution_count": null,
      "outputs": [
        {
          "output_type": "stream",
          "name": "stdout",
          "text": [
            "In-Sample Precision: 0.8963\n",
            "Out-of-Sample Precision: 0.8906\n"
          ]
        }
      ]
    },
    {
      "cell_type": "code",
      "source": [
        "print('In-Sample Recall: %0.4f' % recall_score(y_train, in_sample_preds))\n",
        "print('Out-of-Sample Recall: %0.4f' % recall_score(y_test, out_sample_preds))"
      ],
      "metadata": {
        "colab": {
          "base_uri": "https://localhost:8080/"
        },
        "id": "EmyNXgW8Ukvp",
        "outputId": "7c5dfd26-d517-40e0-a1ae-2befc35c5821"
      },
      "execution_count": null,
      "outputs": [
        {
          "output_type": "stream",
          "name": "stdout",
          "text": [
            "In-Sample Recall: 0.1596\n",
            "Out-of-Sample Recall: 0.1473\n"
          ]
        }
      ]
    },
    {
      "cell_type": "markdown",
      "source": [
        "## assignment\n",
        "\n",
        "accuracy, precision, recall이 train data set, test data set에 따라 달라지는데 그 이유가 무엇인지 설명하라. 특히 Accuracy는 큰 차이가 없는데,Precision에서는 3%의 차이를 보이고, Recall에서는 그보다 작은 1%의 차이를 보이는 이유를 설명하라."
      ],
      "metadata": {
        "id": "MzR0v5_EUsh_"
      }
    },
    {
      "cell_type": "markdown",
      "source": [
        "답: \n",
        "\n",
        "\n",
        "모델 학습 시 training set 과 test set이 필요하다. training set은 모델을 학습하는데 사용되며, test set은 해당 모델의 예상되는 성능을 측정하기 위해 사용된다. 여기서 validation set, 즉 검정 데이터 또한 필요하게 되는데, 이 또한 training set으로 만들어진 모델의 성능을 측정하기 위해 사용된다. 다만 validation set과 test set의 차이는, validation set에서는 여러 모델에 반복적으로 사용되었고, 그 중 운 좋게 성능이 뛰어나게 측정되거나, 운 나쁘게 성능이 안좋게 측정되어 선택되었을 가능성이 있기 때문에, 이러한 오차를 줄이기 위해 test set을 마지막으로 딱 한 번 모델의 예상되는 성능을 측정하기 위해 사용하는 것이다. 일반적으로 세 가지 set의 비율은 다음과 같다. \n",
        "\n",
        "(training set : validation set : test set = 60 : 20 : 20)\n",
        "\n",
        "이러한 이유로, train data set, test data set에 따라 다른 score가 나타날 수 있다. \n",
        "\n",
        "추가적으로, \n",
        "Accuracy는 전체 대비 정확하게 예측한 개수의 비율이기 때문에 test/training set에서 큰 차이를 보이지 않는다. 그러나, \n",
        "Precision은 Positive라고 예측한 비율 중 진짜 Positive의 비율을 나타내며, \n",
        "Recall은 실제 Positive 데이터 중 Positive라고 예측한 비율을 뜻하는데, 해당 Positive 데이터와 실제 True값의 비율들이 training 밎 test set에서 비교적 상이하기 때문에 재현율과 정밀도에서의 점수가 큰 차이를 보일 수 있다. 또한, precision과 recall은 Trade-Off의 관계를 가지기 때문에, 정밀도가 높다면 재현율은 낮아지고, 반대로 재현율이 높다면 정밀도가 낮아지게 된다. 이 때문에, Precision에서는 3%라는 큰 차이가 나타나는 반면 Recall에서는 상대적으로 적은 1%의 차이를 보이는 것이다. "
      ],
      "metadata": {
        "id": "iMjeshMdU-Fw"
      }
    },
    {
      "cell_type": "markdown",
      "source": [
        "## - ROC & AUC"
      ],
      "metadata": {
        "id": "pt5x3XBzfjV5"
      }
    },
    {
      "cell_type": "code",
      "source": [
        "from sklearn.metrics import roc_curve, auc"
      ],
      "metadata": {
        "id": "Z6kNOu21UqPj"
      },
      "execution_count": null,
      "outputs": []
    },
    {
      "cell_type": "code",
      "source": [
        "in_sample_preds = rf_model.predict_proba(x_train)[:,1]\n",
        "out_sample_preds = rf_model.predict_proba(x_test)[:,1]"
      ],
      "metadata": {
        "id": "8UgRYLxLfnXo"
      },
      "execution_count": null,
      "outputs": []
    },
    {
      "cell_type": "code",
      "source": [
        "in_sample_fpr, in_sample_tpr, in_sample_thresholds = roc_curve(y_train, in_sample_preds)\n",
        "out_sample_fpr, out_sample_tpr, out_sample_thresholds = roc_curve(y_test, out_sample_preds)"
      ],
      "metadata": {
        "id": "PyqX68WgfxMR"
      },
      "execution_count": null,
      "outputs": []
    },
    {
      "cell_type": "code",
      "source": [
        "in_sample_roc_auc = auc(in_sample_fpr, in_sample_tpr)\n",
        "out_sample_roc_auc = auc(out_sample_fpr, out_sample_tpr)\n",
        "\n",
        "print('In-Sample AUC: %0.4f' % in_sample_roc_auc)\n",
        "print('Out-Sample AUC: %0.4f' % out_sample_roc_auc)"
      ],
      "metadata": {
        "colab": {
          "base_uri": "https://localhost:8080/"
        },
        "id": "8tYCGmMcf_g0",
        "outputId": "ae7ce34d-00b0-4232-a43c-1406a7b47560"
      },
      "execution_count": null,
      "outputs": [
        {
          "output_type": "stream",
          "name": "stdout",
          "text": [
            "In-Sample AUC: 0.8534\n",
            "Out-Sample AUC: 0.8077\n"
          ]
        }
      ]
    },
    {
      "cell_type": "code",
      "source": [
        "plt.figure(\n",
        "    figsize=(10, 7)\n",
        ")\n",
        "\n",
        "plt.plot(\n",
        "    out_sample_fpr,\n",
        "    out_sample_tpr,\n",
        "    color='darkorange',\n",
        "    label='Out-Sample ROC curve (area = %0.4f)' % in_sample_roc_auc\n",
        ")\n",
        "\n",
        "plt.plot(\n",
        "    in_sample_fpr,\n",
        "    in_sample_tpr,\n",
        "    color='navy',\n",
        "    label='In-Sample ROC curve (area = %0.4f)' % out_sample_roc_auc\n",
        ")\n",
        "\n",
        "plt.plot(\n",
        "    [0, 1],\n",
        "    [0, 1], \n",
        "    color='gray',\n",
        "    lw=1,\n",
        "    linestyle='--'\n",
        ")\n",
        "\n",
        "plt.grid()\n",
        "plt.xlim(\n",
        "    [0.0, 1.0]\n",
        ")\n",
        "plt.ylim(\n",
        "    [0.0, 1.05]\n",
        ")\n",
        "plt.xlabel('False Positive Rate')\n",
        "plt.ylabel('True Positive Rate')\n",
        "plt.title('RandomForest Model ROC Curve')\n",
        "plt.legend(loc='lower right')\n",
        "\n",
        "plt.show()"
      ],
      "metadata": {
        "colab": {
          "base_uri": "https://localhost:8080/",
          "height": 458
        },
        "id": "XSogWKZ4gP6Q",
        "outputId": "5272ff61-42bb-45e1-bcbb-fec02d5417da"
      },
      "execution_count": null,
      "outputs": [
        {
          "output_type": "display_data",
          "data": {
            "text/plain": [
              "<Figure size 720x504 with 1 Axes>"
            ],
            "image/png": "[encoded data removed]"
          },
          "metadata": {
            "needs_background": "light"
          }
        }
      ]
    },
    {
      "cell_type": "code",
      "source": [],
      "metadata": {
        "id": "EhSwZRBohE9I"
      },
      "execution_count": null,
      "outputs": []
    }
  ]
}